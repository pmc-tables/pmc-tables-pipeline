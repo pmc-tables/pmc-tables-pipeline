{
 "cells": [
  {
   "cell_type": "markdown",
   "metadata": {},
   "source": [
    "# Summary"
   ]
  },
  {
   "cell_type": "markdown",
   "metadata": {},
   "source": [
    "# Imports"
   ]
  },
  {
   "cell_type": "code",
   "execution_count": 1,
   "metadata": {},
   "outputs": [
    {
     "name": "stderr",
     "output_type": "stream",
     "text": [
      "Setting the PYTHON_VERSION environment variable.\n",
      "Setting the SPARK_MASTER environment variable.\n",
      "Setting the DB_TYPE environment variable.\n",
      "Setting the DB_PORT environment variable.\n"
     ]
    },
    {
     "name": "stdout",
     "output_type": "stream",
     "text": [
      "2017-12-08 13:54:34.338850\n"
     ]
    }
   ],
   "source": [
    "%run _imports.ipynb"
   ]
  },
  {
   "cell_type": "code",
   "execution_count": 2,
   "metadata": {},
   "outputs": [],
   "source": [
    "NOTEBOOK_NAME = 'to_download'\n",
    "os.makedirs(NOTEBOOK_NAME, exist_ok=True)"
   ]
  },
  {
   "cell_type": "markdown",
   "metadata": {},
   "source": [
    "# Parameters"
   ]
  },
  {
   "cell_type": "code",
   "execution_count": 3,
   "metadata": {},
   "outputs": [
    {
     "data": {
      "text/plain": [
       "['pmc_type', 'pmc_id', 'source_url', 'archive_file_path', 'output_file_path']"
      ]
     },
     "execution_count": 3,
     "metadata": {},
     "output_type": "execute_result"
    }
   ],
   "source": [
    "COLUMNS = [\n",
    "    'pmc_type', 'pmc_id', 'source_url', 'archive_file_path', 'output_file_path'\n",
    "]\n",
    "COLUMNS"
   ]
  },
  {
   "cell_type": "markdown",
   "metadata": {},
   "source": [
    "# Functions"
   ]
  },
  {
   "cell_type": "code",
   "execution_count": 4,
   "metadata": {
    "collapsed": true
   },
   "outputs": [],
   "source": [
    "import hashlib"
   ]
  },
  {
   "cell_type": "code",
   "execution_count": 5,
   "metadata": {
    "collapsed": true
   },
   "outputs": [],
   "source": [
    "def get_pmc_dir(pmc_id):\n",
    "    dgst = hashlib.md5(pmc_id.encode('utf-8')).hexdigest()\n",
    "    return f'{dgst[0:2]}/{dgst[2:4]}/'"
   ]
  },
  {
   "cell_type": "markdown",
   "metadata": {},
   "source": [
    "# Load file lists"
   ]
  },
  {
   "cell_type": "markdown",
   "metadata": {},
   "source": [
    "## Manuscripts (NCBI)"
   ]
  },
  {
   "cell_type": "markdown",
   "metadata": {},
   "source": [
    "#### `ncbi_manuscript_df`"
   ]
  },
  {
   "cell_type": "code",
   "execution_count": 6,
   "metadata": {
    "collapsed": true
   },
   "outputs": [],
   "source": [
    "ncbi_manuscript_df = pd.read_csv('../downloads/ncbi/pmc/manuscript/filelist.csv')"
   ]
  },
  {
   "cell_type": "code",
   "execution_count": 7,
   "metadata": {},
   "outputs": [
    {
     "data": {
      "text/html": [
       "<div>\n",
       "<style scoped>\n",
       "    .dataframe tbody tr th:only-of-type {\n",
       "        vertical-align: middle;\n",
       "    }\n",
       "\n",
       "    .dataframe tbody tr th {\n",
       "        vertical-align: top;\n",
       "    }\n",
       "\n",
       "    .dataframe thead th {\n",
       "        text-align: right;\n",
       "    }\n",
       "</style>\n",
       "<table border=\"1\" class=\"dataframe\">\n",
       "  <thead>\n",
       "    <tr style=\"text-align: right;\">\n",
       "      <th></th>\n",
       "      <th>File</th>\n",
       "      <th>PMCID</th>\n",
       "      <th>PMID</th>\n",
       "      <th>MID</th>\n",
       "    </tr>\n",
       "  </thead>\n",
       "  <tbody>\n",
       "    <tr>\n",
       "      <th>0</th>\n",
       "      <td>PMC0021XXXXX/PMC2136438.xml</td>\n",
       "      <td>PMC2136438</td>\n",
       "      <td>19023455</td>\n",
       "      <td>NIHMS10936</td>\n",
       "    </tr>\n",
       "    <tr>\n",
       "      <th>1</th>\n",
       "      <td>PMC0021XXXXX/PMC2185066.xml</td>\n",
       "      <td>PMC2185066</td>\n",
       "      <td>18769527</td>\n",
       "      <td>NIHMS31656</td>\n",
       "    </tr>\n",
       "    <tr>\n",
       "      <th>2</th>\n",
       "      <td>PMC0022XXXXX/PMC2268633.xml</td>\n",
       "      <td>PMC2268633</td>\n",
       "      <td>17661176</td>\n",
       "      <td>NIHMS37031</td>\n",
       "    </tr>\n",
       "    <tr>\n",
       "      <th>3</th>\n",
       "      <td>PMC0022XXXXX/PMC2287164.xml</td>\n",
       "      <td>PMC2287164</td>\n",
       "      <td>18389087</td>\n",
       "      <td>NIHMS38164</td>\n",
       "    </tr>\n",
       "    <tr>\n",
       "      <th>4</th>\n",
       "      <td>PMC0022XXXXX/PMC2288569.xml</td>\n",
       "      <td>PMC2288569</td>\n",
       "      <td>18650957</td>\n",
       "      <td>NIHMS40219</td>\n",
       "    </tr>\n",
       "  </tbody>\n",
       "</table>\n",
       "</div>"
      ],
      "text/plain": [
       "                          File       PMCID      PMID         MID\n",
       "0  PMC0021XXXXX/PMC2136438.xml  PMC2136438  19023455  NIHMS10936\n",
       "1  PMC0021XXXXX/PMC2185066.xml  PMC2185066  18769527  NIHMS31656\n",
       "2  PMC0022XXXXX/PMC2268633.xml  PMC2268633  17661176  NIHMS37031\n",
       "3  PMC0022XXXXX/PMC2287164.xml  PMC2287164  18389087  NIHMS38164\n",
       "4  PMC0022XXXXX/PMC2288569.xml  PMC2288569  18650957  NIHMS40219"
      ]
     },
     "metadata": {},
     "output_type": "display_data"
    },
    {
     "name": "stdout",
     "output_type": "stream",
     "text": [
      "457231\n"
     ]
    }
   ],
   "source": [
    "display(ncbi_manuscript_df.head())\n",
    "print(len(ncbi_manuscript_df))"
   ]
  },
  {
   "cell_type": "code",
   "execution_count": 8,
   "metadata": {
    "collapsed": true
   },
   "outputs": [],
   "source": [
    "assert (ncbi_manuscript_df['PMCID'].str.len() == 10).all()"
   ]
  },
  {
   "cell_type": "code",
   "execution_count": 9,
   "metadata": {},
   "outputs": [],
   "source": [
    "ncbi_manuscript_df['pmc_type'] = 'ncbi_manuscript'\n",
    "ncbi_manuscript_df['pmc_id'] = ncbi_manuscript_df['PMCID']\n",
    "ncbi_manuscript_df['source_url'] = (\n",
    "    'ftp://ftp.ncbi.nlm.nih.gov/pub/pmc/manuscript/' + \n",
    "    ncbi_manuscript_df['File'].str[:6] + 'XXXXXX' + \n",
    "    '.xml.tar.gz')\n",
    "ncbi_manuscript_df['archive_file_path'] = 'manuscript/' + ncbi_manuscript_df['File']\n",
    "ncbi_manuscript_df['output_file_path'] = (\n",
    "    ncbi_manuscript_df['pmc_id'].apply(get_pmc_dir) + \n",
    "    ncbi_manuscript_df['pmc_id'] + \n",
    "    '.zip')"
   ]
  },
  {
   "cell_type": "code",
   "execution_count": 10,
   "metadata": {
    "run_control": {
     "marked": false
    }
   },
   "outputs": [
    {
     "data": {
      "text/html": [
       "<div>\n",
       "<style scoped>\n",
       "    .dataframe tbody tr th:only-of-type {\n",
       "        vertical-align: middle;\n",
       "    }\n",
       "\n",
       "    .dataframe tbody tr th {\n",
       "        vertical-align: top;\n",
       "    }\n",
       "\n",
       "    .dataframe thead th {\n",
       "        text-align: right;\n",
       "    }\n",
       "</style>\n",
       "<table border=\"1\" class=\"dataframe\">\n",
       "  <thead>\n",
       "    <tr style=\"text-align: right;\">\n",
       "      <th></th>\n",
       "      <th>pmc_type</th>\n",
       "      <th>pmc_id</th>\n",
       "      <th>source_url</th>\n",
       "      <th>archive_file_path</th>\n",
       "      <th>output_file_path</th>\n",
       "    </tr>\n",
       "  </thead>\n",
       "  <tbody>\n",
       "    <tr>\n",
       "      <th>0</th>\n",
       "      <td>ncbi_manuscript</td>\n",
       "      <td>PMC2136438</td>\n",
       "      <td>ftp://ftp.ncbi.nlm.nih.gov/pub/pmc/manuscript/PMC002XXXXXX.xml.tar.gz</td>\n",
       "      <td>manuscript/PMC0021XXXXX/PMC2136438.xml</td>\n",
       "      <td>ea/c2/PMC2136438.zip</td>\n",
       "    </tr>\n",
       "    <tr>\n",
       "      <th>1</th>\n",
       "      <td>ncbi_manuscript</td>\n",
       "      <td>PMC2185066</td>\n",
       "      <td>ftp://ftp.ncbi.nlm.nih.gov/pub/pmc/manuscript/PMC002XXXXXX.xml.tar.gz</td>\n",
       "      <td>manuscript/PMC0021XXXXX/PMC2185066.xml</td>\n",
       "      <td>7d/ed/PMC2185066.zip</td>\n",
       "    </tr>\n",
       "    <tr>\n",
       "      <th>2</th>\n",
       "      <td>ncbi_manuscript</td>\n",
       "      <td>PMC2268633</td>\n",
       "      <td>ftp://ftp.ncbi.nlm.nih.gov/pub/pmc/manuscript/PMC002XXXXXX.xml.tar.gz</td>\n",
       "      <td>manuscript/PMC0022XXXXX/PMC2268633.xml</td>\n",
       "      <td>9b/74/PMC2268633.zip</td>\n",
       "    </tr>\n",
       "    <tr>\n",
       "      <th>3</th>\n",
       "      <td>ncbi_manuscript</td>\n",
       "      <td>PMC2287164</td>\n",
       "      <td>ftp://ftp.ncbi.nlm.nih.gov/pub/pmc/manuscript/PMC002XXXXXX.xml.tar.gz</td>\n",
       "      <td>manuscript/PMC0022XXXXX/PMC2287164.xml</td>\n",
       "      <td>fe/dc/PMC2287164.zip</td>\n",
       "    </tr>\n",
       "    <tr>\n",
       "      <th>4</th>\n",
       "      <td>ncbi_manuscript</td>\n",
       "      <td>PMC2288569</td>\n",
       "      <td>ftp://ftp.ncbi.nlm.nih.gov/pub/pmc/manuscript/PMC002XXXXXX.xml.tar.gz</td>\n",
       "      <td>manuscript/PMC0022XXXXX/PMC2288569.xml</td>\n",
       "      <td>76/32/PMC2288569.zip</td>\n",
       "    </tr>\n",
       "  </tbody>\n",
       "</table>\n",
       "</div>"
      ],
      "text/plain": [
       "          pmc_type      pmc_id                                                             source_url                       archive_file_path      output_file_path\n",
       "0  ncbi_manuscript  PMC2136438  ftp://ftp.ncbi.nlm.nih.gov/pub/pmc/manuscript/PMC002XXXXXX.xml.tar.gz  manuscript/PMC0021XXXXX/PMC2136438.xml  ea/c2/PMC2136438.zip\n",
       "1  ncbi_manuscript  PMC2185066  ftp://ftp.ncbi.nlm.nih.gov/pub/pmc/manuscript/PMC002XXXXXX.xml.tar.gz  manuscript/PMC0021XXXXX/PMC2185066.xml  7d/ed/PMC2185066.zip\n",
       "2  ncbi_manuscript  PMC2268633  ftp://ftp.ncbi.nlm.nih.gov/pub/pmc/manuscript/PMC002XXXXXX.xml.tar.gz  manuscript/PMC0022XXXXX/PMC2268633.xml  9b/74/PMC2268633.zip\n",
       "3  ncbi_manuscript  PMC2287164  ftp://ftp.ncbi.nlm.nih.gov/pub/pmc/manuscript/PMC002XXXXXX.xml.tar.gz  manuscript/PMC0022XXXXX/PMC2287164.xml  fe/dc/PMC2287164.zip\n",
       "4  ncbi_manuscript  PMC2288569  ftp://ftp.ncbi.nlm.nih.gov/pub/pmc/manuscript/PMC002XXXXXX.xml.tar.gz  manuscript/PMC0022XXXXX/PMC2288569.xml  76/32/PMC2288569.zip"
      ]
     },
     "metadata": {},
     "output_type": "display_data"
    },
    {
     "name": "stdout",
     "output_type": "stream",
     "text": [
      "457231\n"
     ]
    }
   ],
   "source": [
    "ncbi_manuscript_df = ncbi_manuscript_df[COLUMNS].drop_duplicates()\n",
    "display(ncbi_manuscript_df.head())\n",
    "print(len(ncbi_manuscript_df))"
   ]
  },
  {
   "cell_type": "markdown",
   "metadata": {},
   "source": [
    "## OA Package (NCBI)"
   ]
  },
  {
   "cell_type": "markdown",
   "metadata": {},
   "source": [
    "#### `ncbi_oa_package_df`"
   ]
  },
  {
   "cell_type": "code",
   "execution_count": 11,
   "metadata": {},
   "outputs": [],
   "source": [
    "ncbi_oa_package_df = pd.read_csv('../downloads/ncbi/pmc/oa_file_list.csv').drop_duplicates()"
   ]
  },
  {
   "cell_type": "code",
   "execution_count": 12,
   "metadata": {},
   "outputs": [
    {
     "data": {
      "text/html": [
       "<div>\n",
       "<style scoped>\n",
       "    .dataframe tbody tr th:only-of-type {\n",
       "        vertical-align: middle;\n",
       "    }\n",
       "\n",
       "    .dataframe tbody tr th {\n",
       "        vertical-align: top;\n",
       "    }\n",
       "\n",
       "    .dataframe thead th {\n",
       "        text-align: right;\n",
       "    }\n",
       "</style>\n",
       "<table border=\"1\" class=\"dataframe\">\n",
       "  <thead>\n",
       "    <tr style=\"text-align: right;\">\n",
       "      <th></th>\n",
       "      <th>File</th>\n",
       "      <th>Article Citation</th>\n",
       "      <th>Accession ID</th>\n",
       "      <th>Last Updated (YYYY-MM-DD HH:MM:SS)</th>\n",
       "      <th>PMID</th>\n",
       "      <th>License</th>\n",
       "    </tr>\n",
       "  </thead>\n",
       "  <tbody>\n",
       "    <tr>\n",
       "      <th>0</th>\n",
       "      <td>oa_package/08/e0/PMC13900.tar.gz</td>\n",
       "      <td>Breast Cancer Res. 2001 Nov 2; 3(1):55-60</td>\n",
       "      <td>PMC13900</td>\n",
       "      <td>2017-04-26 12:15:50</td>\n",
       "      <td>11250746.0</td>\n",
       "      <td>NO-CC CODE</td>\n",
       "    </tr>\n",
       "    <tr>\n",
       "      <th>1</th>\n",
       "      <td>oa_package/b0/ac/PMC13901.tar.gz</td>\n",
       "      <td>Breast Cancer Res. 2001 Nov 9; 3(1):61-65</td>\n",
       "      <td>PMC13901</td>\n",
       "      <td>2016-01-20 10:58:46</td>\n",
       "      <td>11250747.0</td>\n",
       "      <td>NO-CC CODE</td>\n",
       "    </tr>\n",
       "    <tr>\n",
       "      <th>2</th>\n",
       "      <td>oa_package/f7/98/PMC13902.tar.gz</td>\n",
       "      <td>Breast Cancer Res. 2001 Nov 8; 3(1):66-75</td>\n",
       "      <td>PMC13902</td>\n",
       "      <td>2006-02-02 19:37:52</td>\n",
       "      <td>11250748.0</td>\n",
       "      <td>NO-CC CODE</td>\n",
       "    </tr>\n",
       "    <tr>\n",
       "      <th>3</th>\n",
       "      <td>oa_package/9c/7f/PMC13911.tar.gz</td>\n",
       "      <td>Breast Cancer Res. 2000 Nov 16; 2(1):59-63</td>\n",
       "      <td>PMC13911</td>\n",
       "      <td>2013-03-17 14:00:52</td>\n",
       "      <td>11056684.0</td>\n",
       "      <td>NO-CC CODE</td>\n",
       "    </tr>\n",
       "    <tr>\n",
       "      <th>4</th>\n",
       "      <td>oa_package/c6/fb/PMC13912.tar.gz</td>\n",
       "      <td>Breast Cancer Res. 2000 Dec 6; 2(1):64-72</td>\n",
       "      <td>PMC13912</td>\n",
       "      <td>2013-03-17 14:00:52</td>\n",
       "      <td>11400682.0</td>\n",
       "      <td>NO-CC CODE</td>\n",
       "    </tr>\n",
       "  </tbody>\n",
       "</table>\n",
       "</div>"
      ],
      "text/plain": [
       "                               File                            Article Citation Accession ID Last Updated (YYYY-MM-DD HH:MM:SS)        PMID     License\n",
       "0  oa_package/08/e0/PMC13900.tar.gz   Breast Cancer Res. 2001 Nov 2; 3(1):55-60     PMC13900                2017-04-26 12:15:50  11250746.0  NO-CC CODE\n",
       "1  oa_package/b0/ac/PMC13901.tar.gz   Breast Cancer Res. 2001 Nov 9; 3(1):61-65     PMC13901                2016-01-20 10:58:46  11250747.0  NO-CC CODE\n",
       "2  oa_package/f7/98/PMC13902.tar.gz   Breast Cancer Res. 2001 Nov 8; 3(1):66-75     PMC13902                2006-02-02 19:37:52  11250748.0  NO-CC CODE\n",
       "3  oa_package/9c/7f/PMC13911.tar.gz  Breast Cancer Res. 2000 Nov 16; 2(1):59-63     PMC13911                2013-03-17 14:00:52  11056684.0  NO-CC CODE\n",
       "4  oa_package/c6/fb/PMC13912.tar.gz   Breast Cancer Res. 2000 Dec 6; 2(1):64-72     PMC13912                2013-03-17 14:00:52  11400682.0  NO-CC CODE"
      ]
     },
     "metadata": {},
     "output_type": "display_data"
    },
    {
     "name": "stdout",
     "output_type": "stream",
     "text": [
      "1780586\n"
     ]
    }
   ],
   "source": [
    "display(ncbi_oa_package_df.head())\n",
    "print(len(ncbi_oa_package_df))"
   ]
  },
  {
   "cell_type": "code",
   "execution_count": 13,
   "metadata": {},
   "outputs": [],
   "source": [
    "ncbi_oa_package_df = ncbi_oa_package_df[ncbi_oa_package_df['File'].str.startswith('oa_package')]\n",
    "\n",
    "ncbi_oa_package_df['pmc_type'] = 'ncbi_oa_package'\n",
    "ncbi_oa_package_df['pmc_id'] = ncbi_oa_package_df['Accession ID']\n",
    "ncbi_oa_package_df['source_url'] = 'ftp://ftp.ncbi.nlm.nih.gov/pub/pmc/' + ncbi_oa_package_df['File']\n",
    "ncbi_oa_package_df['archive_file_path'] = 'manuscript/' + ncbi_oa_package_df['File']\n",
    "\n",
    "ncbi_oa_package_df = ncbi_oa_package_df.dropna(subset=['pmc_id'])\n",
    "ncbi_oa_package_df['output_file_path'] = (\n",
    "    ncbi_oa_package_df['pmc_id'].apply(get_pmc_dir) + \n",
    "    ncbi_oa_package_df['pmc_id'] + \n",
    "    '.zip')"
   ]
  },
  {
   "cell_type": "code",
   "execution_count": 14,
   "metadata": {
    "run_control": {
     "marked": false
    }
   },
   "outputs": [
    {
     "data": {
      "text/html": [
       "<div>\n",
       "<style scoped>\n",
       "    .dataframe tbody tr th:only-of-type {\n",
       "        vertical-align: middle;\n",
       "    }\n",
       "\n",
       "    .dataframe tbody tr th {\n",
       "        vertical-align: top;\n",
       "    }\n",
       "\n",
       "    .dataframe thead th {\n",
       "        text-align: right;\n",
       "    }\n",
       "</style>\n",
       "<table border=\"1\" class=\"dataframe\">\n",
       "  <thead>\n",
       "    <tr style=\"text-align: right;\">\n",
       "      <th></th>\n",
       "      <th>pmc_type</th>\n",
       "      <th>pmc_id</th>\n",
       "      <th>source_url</th>\n",
       "      <th>archive_file_path</th>\n",
       "      <th>output_file_path</th>\n",
       "    </tr>\n",
       "  </thead>\n",
       "  <tbody>\n",
       "    <tr>\n",
       "      <th>0</th>\n",
       "      <td>ncbi_oa_package</td>\n",
       "      <td>PMC13900</td>\n",
       "      <td>ftp://ftp.ncbi.nlm.nih.gov/pub/pmc/oa_package/08/e0/PMC13900.tar.gz</td>\n",
       "      <td>manuscript/oa_package/08/e0/PMC13900.tar.gz</td>\n",
       "      <td>b5/c0/PMC13900.zip</td>\n",
       "    </tr>\n",
       "    <tr>\n",
       "      <th>1</th>\n",
       "      <td>ncbi_oa_package</td>\n",
       "      <td>PMC13901</td>\n",
       "      <td>ftp://ftp.ncbi.nlm.nih.gov/pub/pmc/oa_package/b0/ac/PMC13901.tar.gz</td>\n",
       "      <td>manuscript/oa_package/b0/ac/PMC13901.tar.gz</td>\n",
       "      <td>39/28/PMC13901.zip</td>\n",
       "    </tr>\n",
       "    <tr>\n",
       "      <th>2</th>\n",
       "      <td>ncbi_oa_package</td>\n",
       "      <td>PMC13902</td>\n",
       "      <td>ftp://ftp.ncbi.nlm.nih.gov/pub/pmc/oa_package/f7/98/PMC13902.tar.gz</td>\n",
       "      <td>manuscript/oa_package/f7/98/PMC13902.tar.gz</td>\n",
       "      <td>04/bc/PMC13902.zip</td>\n",
       "    </tr>\n",
       "    <tr>\n",
       "      <th>3</th>\n",
       "      <td>ncbi_oa_package</td>\n",
       "      <td>PMC13911</td>\n",
       "      <td>ftp://ftp.ncbi.nlm.nih.gov/pub/pmc/oa_package/9c/7f/PMC13911.tar.gz</td>\n",
       "      <td>manuscript/oa_package/9c/7f/PMC13911.tar.gz</td>\n",
       "      <td>69/8a/PMC13911.zip</td>\n",
       "    </tr>\n",
       "    <tr>\n",
       "      <th>4</th>\n",
       "      <td>ncbi_oa_package</td>\n",
       "      <td>PMC13912</td>\n",
       "      <td>ftp://ftp.ncbi.nlm.nih.gov/pub/pmc/oa_package/c6/fb/PMC13912.tar.gz</td>\n",
       "      <td>manuscript/oa_package/c6/fb/PMC13912.tar.gz</td>\n",
       "      <td>ed/e5/PMC13912.zip</td>\n",
       "    </tr>\n",
       "  </tbody>\n",
       "</table>\n",
       "</div>"
      ],
      "text/plain": [
       "          pmc_type    pmc_id                                                           source_url                            archive_file_path    output_file_path\n",
       "0  ncbi_oa_package  PMC13900  ftp://ftp.ncbi.nlm.nih.gov/pub/pmc/oa_package/08/e0/PMC13900.tar.gz  manuscript/oa_package/08/e0/PMC13900.tar.gz  b5/c0/PMC13900.zip\n",
       "1  ncbi_oa_package  PMC13901  ftp://ftp.ncbi.nlm.nih.gov/pub/pmc/oa_package/b0/ac/PMC13901.tar.gz  manuscript/oa_package/b0/ac/PMC13901.tar.gz  39/28/PMC13901.zip\n",
       "2  ncbi_oa_package  PMC13902  ftp://ftp.ncbi.nlm.nih.gov/pub/pmc/oa_package/f7/98/PMC13902.tar.gz  manuscript/oa_package/f7/98/PMC13902.tar.gz  04/bc/PMC13902.zip\n",
       "3  ncbi_oa_package  PMC13911  ftp://ftp.ncbi.nlm.nih.gov/pub/pmc/oa_package/9c/7f/PMC13911.tar.gz  manuscript/oa_package/9c/7f/PMC13911.tar.gz  69/8a/PMC13911.zip\n",
       "4  ncbi_oa_package  PMC13912  ftp://ftp.ncbi.nlm.nih.gov/pub/pmc/oa_package/c6/fb/PMC13912.tar.gz  manuscript/oa_package/c6/fb/PMC13912.tar.gz  ed/e5/PMC13912.zip"
      ]
     },
     "metadata": {},
     "output_type": "display_data"
    },
    {
     "name": "stdout",
     "output_type": "stream",
     "text": [
      "1779122\n"
     ]
    }
   ],
   "source": [
    "ncbi_oa_package_df = ncbi_oa_package_df[COLUMNS].drop_duplicates()\n",
    "display(ncbi_oa_package_df.head())\n",
    "print(len(ncbi_oa_package_df))"
   ]
  },
  {
   "cell_type": "markdown",
   "metadata": {},
   "source": [
    "## PMC Suppl (EBI)"
   ]
  },
  {
   "cell_type": "markdown",
   "metadata": {},
   "source": [
    "#### `ebi_pmc_suppl_df`"
   ]
  },
  {
   "cell_type": "code",
   "execution_count": 15,
   "metadata": {},
   "outputs": [],
   "source": [
    "with open(f\"statistics/pmc_suppl_files.pickle\", 'rb') as fin:\n",
    "    ebi_pmc_suppl_files = pickle.load(fin)"
   ]
  },
  {
   "cell_type": "code",
   "execution_count": 16,
   "metadata": {
    "collapsed": true
   },
   "outputs": [],
   "source": [
    "ebi_pmc_suppl_df = pd.DataFrame(ebi_pmc_suppl_files, columns=['file'])"
   ]
  },
  {
   "cell_type": "code",
   "execution_count": 17,
   "metadata": {},
   "outputs": [
    {
     "data": {
      "text/html": [
       "<div>\n",
       "<style scoped>\n",
       "    .dataframe tbody tr th:only-of-type {\n",
       "        vertical-align: middle;\n",
       "    }\n",
       "\n",
       "    .dataframe tbody tr th {\n",
       "        vertical-align: top;\n",
       "    }\n",
       "\n",
       "    .dataframe thead th {\n",
       "        text-align: right;\n",
       "    }\n",
       "</style>\n",
       "<table border=\"1\" class=\"dataframe\">\n",
       "  <thead>\n",
       "    <tr style=\"text-align: right;\">\n",
       "      <th></th>\n",
       "      <th>file</th>\n",
       "    </tr>\n",
       "  </thead>\n",
       "  <tbody>\n",
       "    <tr>\n",
       "      <th>0</th>\n",
       "      <td>/pub/databases/pmc/suppl/NON-OA/PMC101900-PMC105899/PMC102254.zip</td>\n",
       "    </tr>\n",
       "    <tr>\n",
       "      <th>1</th>\n",
       "      <td>/pub/databases/pmc/suppl/NON-OA/PMC101900-PMC105899/PMC102269.zip</td>\n",
       "    </tr>\n",
       "    <tr>\n",
       "      <th>2</th>\n",
       "      <td>/pub/databases/pmc/suppl/NON-OA/PMC101900-PMC105899/PMC102275.zip</td>\n",
       "    </tr>\n",
       "    <tr>\n",
       "      <th>3</th>\n",
       "      <td>/pub/databases/pmc/suppl/NON-OA/PMC101900-PMC105899/PMC102277.zip</td>\n",
       "    </tr>\n",
       "    <tr>\n",
       "      <th>4</th>\n",
       "      <td>/pub/databases/pmc/suppl/NON-OA/PMC101900-PMC105899/PMC102329.zip</td>\n",
       "    </tr>\n",
       "  </tbody>\n",
       "</table>\n",
       "</div>"
      ],
      "text/plain": [
       "                                                                file\n",
       "0  /pub/databases/pmc/suppl/NON-OA/PMC101900-PMC105899/PMC102254.zip\n",
       "1  /pub/databases/pmc/suppl/NON-OA/PMC101900-PMC105899/PMC102269.zip\n",
       "2  /pub/databases/pmc/suppl/NON-OA/PMC101900-PMC105899/PMC102275.zip\n",
       "3  /pub/databases/pmc/suppl/NON-OA/PMC101900-PMC105899/PMC102277.zip\n",
       "4  /pub/databases/pmc/suppl/NON-OA/PMC101900-PMC105899/PMC102329.zip"
      ]
     },
     "metadata": {},
     "output_type": "display_data"
    },
    {
     "name": "stdout",
     "output_type": "stream",
     "text": [
      "1623854\n"
     ]
    }
   ],
   "source": [
    "display(ebi_pmc_suppl_df.head())\n",
    "print(len(ebi_pmc_suppl_df))"
   ]
  },
  {
   "cell_type": "code",
   "execution_count": 18,
   "metadata": {},
   "outputs": [],
   "source": [
    "ebi_pmc_suppl_df['pmc_type'] = 'ebi_suppl'\n",
    "\n",
    "assert all(f.endswith('.zip') for f in ebi_pmc_suppl_df['file'])\n",
    "ebi_pmc_suppl_df['pmc_id'] = ebi_pmc_suppl_df['file'].apply(op.basename).str[:-4]\n",
    "\n",
    "ebi_pmc_suppl_df['source_url'] = 'ftp://ftp.ebi.ac.uk/pub/databases/pmc/' + ebi_pmc_suppl_df['file'].str[19:]\n",
    "\n",
    "ebi_pmc_suppl_df['archive_file_path'] = ebi_pmc_suppl_df['file'].str[19:]\n",
    "\n",
    "ebi_pmc_suppl_df['output_file_path'] = (\n",
    "    ebi_pmc_suppl_df['pmc_id'].apply(get_pmc_dir) + \n",
    "    ebi_pmc_suppl_df['pmc_id'] + \n",
    "    '.zip')"
   ]
  },
  {
   "cell_type": "code",
   "execution_count": 19,
   "metadata": {},
   "outputs": [
    {
     "data": {
      "text/html": [
       "<div>\n",
       "<style scoped>\n",
       "    .dataframe tbody tr th:only-of-type {\n",
       "        vertical-align: middle;\n",
       "    }\n",
       "\n",
       "    .dataframe tbody tr th {\n",
       "        vertical-align: top;\n",
       "    }\n",
       "\n",
       "    .dataframe thead th {\n",
       "        text-align: right;\n",
       "    }\n",
       "</style>\n",
       "<table border=\"1\" class=\"dataframe\">\n",
       "  <thead>\n",
       "    <tr style=\"text-align: right;\">\n",
       "      <th></th>\n",
       "      <th>pmc_type</th>\n",
       "      <th>pmc_id</th>\n",
       "      <th>source_url</th>\n",
       "      <th>archive_file_path</th>\n",
       "      <th>output_file_path</th>\n",
       "    </tr>\n",
       "  </thead>\n",
       "  <tbody>\n",
       "    <tr>\n",
       "      <th>0</th>\n",
       "      <td>ebi_suppl</td>\n",
       "      <td>PMC102254</td>\n",
       "      <td>ftp://ftp.ebi.ac.uk/pub/databases/pmc/suppl/NON-OA/PMC101900-PMC105899/PMC102254.zip</td>\n",
       "      <td>suppl/NON-OA/PMC101900-PMC105899/PMC102254.zip</td>\n",
       "      <td>d9/4e/PMC102254.zip</td>\n",
       "    </tr>\n",
       "    <tr>\n",
       "      <th>1</th>\n",
       "      <td>ebi_suppl</td>\n",
       "      <td>PMC102269</td>\n",
       "      <td>ftp://ftp.ebi.ac.uk/pub/databases/pmc/suppl/NON-OA/PMC101900-PMC105899/PMC102269.zip</td>\n",
       "      <td>suppl/NON-OA/PMC101900-PMC105899/PMC102269.zip</td>\n",
       "      <td>4b/49/PMC102269.zip</td>\n",
       "    </tr>\n",
       "    <tr>\n",
       "      <th>2</th>\n",
       "      <td>ebi_suppl</td>\n",
       "      <td>PMC102275</td>\n",
       "      <td>ftp://ftp.ebi.ac.uk/pub/databases/pmc/suppl/NON-OA/PMC101900-PMC105899/PMC102275.zip</td>\n",
       "      <td>suppl/NON-OA/PMC101900-PMC105899/PMC102275.zip</td>\n",
       "      <td>83/5a/PMC102275.zip</td>\n",
       "    </tr>\n",
       "    <tr>\n",
       "      <th>3</th>\n",
       "      <td>ebi_suppl</td>\n",
       "      <td>PMC102277</td>\n",
       "      <td>ftp://ftp.ebi.ac.uk/pub/databases/pmc/suppl/NON-OA/PMC101900-PMC105899/PMC102277.zip</td>\n",
       "      <td>suppl/NON-OA/PMC101900-PMC105899/PMC102277.zip</td>\n",
       "      <td>fb/e9/PMC102277.zip</td>\n",
       "    </tr>\n",
       "    <tr>\n",
       "      <th>4</th>\n",
       "      <td>ebi_suppl</td>\n",
       "      <td>PMC102329</td>\n",
       "      <td>ftp://ftp.ebi.ac.uk/pub/databases/pmc/suppl/NON-OA/PMC101900-PMC105899/PMC102329.zip</td>\n",
       "      <td>suppl/NON-OA/PMC101900-PMC105899/PMC102329.zip</td>\n",
       "      <td>ac/01/PMC102329.zip</td>\n",
       "    </tr>\n",
       "  </tbody>\n",
       "</table>\n",
       "</div>"
      ],
      "text/plain": [
       "    pmc_type     pmc_id                                                                            source_url                               archive_file_path     output_file_path\n",
       "0  ebi_suppl  PMC102254  ftp://ftp.ebi.ac.uk/pub/databases/pmc/suppl/NON-OA/PMC101900-PMC105899/PMC102254.zip  suppl/NON-OA/PMC101900-PMC105899/PMC102254.zip  d9/4e/PMC102254.zip\n",
       "1  ebi_suppl  PMC102269  ftp://ftp.ebi.ac.uk/pub/databases/pmc/suppl/NON-OA/PMC101900-PMC105899/PMC102269.zip  suppl/NON-OA/PMC101900-PMC105899/PMC102269.zip  4b/49/PMC102269.zip\n",
       "2  ebi_suppl  PMC102275  ftp://ftp.ebi.ac.uk/pub/databases/pmc/suppl/NON-OA/PMC101900-PMC105899/PMC102275.zip  suppl/NON-OA/PMC101900-PMC105899/PMC102275.zip  83/5a/PMC102275.zip\n",
       "3  ebi_suppl  PMC102277  ftp://ftp.ebi.ac.uk/pub/databases/pmc/suppl/NON-OA/PMC101900-PMC105899/PMC102277.zip  suppl/NON-OA/PMC101900-PMC105899/PMC102277.zip  fb/e9/PMC102277.zip\n",
       "4  ebi_suppl  PMC102329  ftp://ftp.ebi.ac.uk/pub/databases/pmc/suppl/NON-OA/PMC101900-PMC105899/PMC102329.zip  suppl/NON-OA/PMC101900-PMC105899/PMC102329.zip  ac/01/PMC102329.zip"
      ]
     },
     "metadata": {},
     "output_type": "display_data"
    },
    {
     "name": "stdout",
     "output_type": "stream",
     "text": [
      "1623854\n"
     ]
    }
   ],
   "source": [
    "ebi_pmc_suppl_df = ebi_pmc_suppl_df[COLUMNS].drop_duplicates()\n",
    "display(ebi_pmc_suppl_df.head())\n",
    "print(len(ebi_pmc_suppl_df))"
   ]
  },
  {
   "cell_type": "markdown",
   "metadata": {},
   "source": [
    "# To download"
   ]
  },
  {
   "cell_type": "code",
   "execution_count": 20,
   "metadata": {},
   "outputs": [
    {
     "data": {
      "text/plain": [
       "457231"
      ]
     },
     "execution_count": 20,
     "metadata": {},
     "output_type": "execute_result"
    }
   ],
   "source": [
    "len(ncbi_manuscript_df)"
   ]
  },
  {
   "cell_type": "code",
   "execution_count": 21,
   "metadata": {},
   "outputs": [
    {
     "data": {
      "text/plain": [
       "1779122"
      ]
     },
     "execution_count": 21,
     "metadata": {},
     "output_type": "execute_result"
    }
   ],
   "source": [
    "len(ncbi_oa_package_df)"
   ]
  },
  {
   "cell_type": "code",
   "execution_count": 22,
   "metadata": {},
   "outputs": [
    {
     "data": {
      "text/plain": [
       "1623854"
      ]
     },
     "execution_count": 22,
     "metadata": {},
     "output_type": "execute_result"
    }
   ],
   "source": [
    "len(ebi_pmc_suppl_df)"
   ]
  },
  {
   "cell_type": "code",
   "execution_count": 23,
   "metadata": {
    "collapsed": true
   },
   "outputs": [],
   "source": [
    "to_download_df = pd.concat(\n",
    "    [ncbi_oa_package_df, ncbi_manuscript_df, ebi_pmc_suppl_df],\n",
    "    ignore_index=True\n",
    ")"
   ]
  },
  {
   "cell_type": "code",
   "execution_count": 24,
   "metadata": {},
   "outputs": [
    {
     "data": {
      "text/html": [
       "<div>\n",
       "<style scoped>\n",
       "    .dataframe tbody tr th:only-of-type {\n",
       "        vertical-align: middle;\n",
       "    }\n",
       "\n",
       "    .dataframe tbody tr th {\n",
       "        vertical-align: top;\n",
       "    }\n",
       "\n",
       "    .dataframe thead th {\n",
       "        text-align: right;\n",
       "    }\n",
       "</style>\n",
       "<table border=\"1\" class=\"dataframe\">\n",
       "  <thead>\n",
       "    <tr style=\"text-align: right;\">\n",
       "      <th></th>\n",
       "      <th>pmc_type</th>\n",
       "      <th>pmc_id</th>\n",
       "      <th>source_url</th>\n",
       "      <th>archive_file_path</th>\n",
       "      <th>output_file_path</th>\n",
       "    </tr>\n",
       "  </thead>\n",
       "  <tbody>\n",
       "    <tr>\n",
       "      <th>0</th>\n",
       "      <td>ncbi_oa_package</td>\n",
       "      <td>PMC13900</td>\n",
       "      <td>ftp://ftp.ncbi.nlm.nih.gov/pub/pmc/oa_package/08/e0/PMC13900.tar.gz</td>\n",
       "      <td>manuscript/oa_package/08/e0/PMC13900.tar.gz</td>\n",
       "      <td>b5/c0/PMC13900.zip</td>\n",
       "    </tr>\n",
       "    <tr>\n",
       "      <th>1</th>\n",
       "      <td>ncbi_oa_package</td>\n",
       "      <td>PMC13901</td>\n",
       "      <td>ftp://ftp.ncbi.nlm.nih.gov/pub/pmc/oa_package/b0/ac/PMC13901.tar.gz</td>\n",
       "      <td>manuscript/oa_package/b0/ac/PMC13901.tar.gz</td>\n",
       "      <td>39/28/PMC13901.zip</td>\n",
       "    </tr>\n",
       "    <tr>\n",
       "      <th>2</th>\n",
       "      <td>ncbi_oa_package</td>\n",
       "      <td>PMC13902</td>\n",
       "      <td>ftp://ftp.ncbi.nlm.nih.gov/pub/pmc/oa_package/f7/98/PMC13902.tar.gz</td>\n",
       "      <td>manuscript/oa_package/f7/98/PMC13902.tar.gz</td>\n",
       "      <td>04/bc/PMC13902.zip</td>\n",
       "    </tr>\n",
       "    <tr>\n",
       "      <th>3</th>\n",
       "      <td>ncbi_oa_package</td>\n",
       "      <td>PMC13911</td>\n",
       "      <td>ftp://ftp.ncbi.nlm.nih.gov/pub/pmc/oa_package/9c/7f/PMC13911.tar.gz</td>\n",
       "      <td>manuscript/oa_package/9c/7f/PMC13911.tar.gz</td>\n",
       "      <td>69/8a/PMC13911.zip</td>\n",
       "    </tr>\n",
       "    <tr>\n",
       "      <th>4</th>\n",
       "      <td>ncbi_oa_package</td>\n",
       "      <td>PMC13912</td>\n",
       "      <td>ftp://ftp.ncbi.nlm.nih.gov/pub/pmc/oa_package/c6/fb/PMC13912.tar.gz</td>\n",
       "      <td>manuscript/oa_package/c6/fb/PMC13912.tar.gz</td>\n",
       "      <td>ed/e5/PMC13912.zip</td>\n",
       "    </tr>\n",
       "  </tbody>\n",
       "</table>\n",
       "</div>"
      ],
      "text/plain": [
       "          pmc_type    pmc_id                                                           source_url                            archive_file_path    output_file_path\n",
       "0  ncbi_oa_package  PMC13900  ftp://ftp.ncbi.nlm.nih.gov/pub/pmc/oa_package/08/e0/PMC13900.tar.gz  manuscript/oa_package/08/e0/PMC13900.tar.gz  b5/c0/PMC13900.zip\n",
       "1  ncbi_oa_package  PMC13901  ftp://ftp.ncbi.nlm.nih.gov/pub/pmc/oa_package/b0/ac/PMC13901.tar.gz  manuscript/oa_package/b0/ac/PMC13901.tar.gz  39/28/PMC13901.zip\n",
       "2  ncbi_oa_package  PMC13902  ftp://ftp.ncbi.nlm.nih.gov/pub/pmc/oa_package/f7/98/PMC13902.tar.gz  manuscript/oa_package/f7/98/PMC13902.tar.gz  04/bc/PMC13902.zip\n",
       "3  ncbi_oa_package  PMC13911  ftp://ftp.ncbi.nlm.nih.gov/pub/pmc/oa_package/9c/7f/PMC13911.tar.gz  manuscript/oa_package/9c/7f/PMC13911.tar.gz  69/8a/PMC13911.zip\n",
       "4  ncbi_oa_package  PMC13912  ftp://ftp.ncbi.nlm.nih.gov/pub/pmc/oa_package/c6/fb/PMC13912.tar.gz  manuscript/oa_package/c6/fb/PMC13912.tar.gz  ed/e5/PMC13912.zip"
      ]
     },
     "metadata": {},
     "output_type": "display_data"
    },
    {
     "name": "stdout",
     "output_type": "stream",
     "text": [
      "3860207\n"
     ]
    }
   ],
   "source": [
    "display(to_download_df.head())\n",
    "print(len(to_download_df))"
   ]
  },
  {
   "cell_type": "code",
   "execution_count": 25,
   "metadata": {
    "collapsed": true
   },
   "outputs": [],
   "source": [
    "to_download_df = to_download_df.drop_duplicates(subset=['pmc_id'])"
   ]
  },
  {
   "cell_type": "code",
   "execution_count": 27,
   "metadata": {},
   "outputs": [
    {
     "name": "stdout",
     "output_type": "stream",
     "text": [
      "2396266\n"
     ]
    }
   ],
   "source": [
    "print(len(to_download_df))"
   ]
  },
  {
   "cell_type": "code",
   "execution_count": 29,
   "metadata": {
    "collapsed": true
   },
   "outputs": [],
   "source": [
    "to_download_df.to_csv(f'{NOTEBOOK_NAME}/to_download.csv.gz', index=False, compression='gzip')"
   ]
  },
  {
   "cell_type": "code",
   "execution_count": null,
   "metadata": {
    "collapsed": true
   },
   "outputs": [],
   "source": []
  }
 ],
 "metadata": {
  "kernelspec": {
   "display_name": "Python 3",
   "language": "python",
   "name": "python3"
  },
  "language_info": {
   "codemirror_mode": {
    "name": "ipython",
    "version": 3
   },
   "file_extension": ".py",
   "mimetype": "text/x-python",
   "name": "python",
   "nbconvert_exporter": "python",
   "pygments_lexer": "ipython3",
   "version": "3.6.3"
  },
  "toc": {
   "nav_menu": {},
   "number_sections": false,
   "sideBar": false,
   "skip_h1_title": false,
   "toc_cell": false,
   "toc_position": {
    "height": "416px",
    "left": "1736.61px",
    "right": "20px",
    "top": "106.354px",
    "width": "308px"
   },
   "toc_section_display": "block",
   "toc_window_display": true
  }
 },
 "nbformat": 4,
 "nbformat_minor": 2
}
