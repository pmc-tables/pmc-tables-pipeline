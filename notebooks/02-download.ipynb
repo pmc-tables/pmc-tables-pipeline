{
 "cells": [
  {
   "cell_type": "markdown",
   "metadata": {},
   "source": [
    "# Summary\n",
    "\n",
    "## To do\n",
    "\n",
    "- Make sure that the download script works for standalone XML files."
   ]
  },
  {
   "cell_type": "markdown",
   "metadata": {},
   "source": [
    "# Imports"
   ]
  },
  {
   "cell_type": "code",
   "execution_count": 1,
   "metadata": {},
   "outputs": [
    {
     "name": "stderr",
     "output_type": "stream",
     "text": [
      "Setting the PYTHON_VERSION environment variable.\n",
      "Setting the SPARK_MASTER environment variable.\n",
      "Setting the DB_TYPE environment variable.\n",
      "Setting the DB_PORT environment variable.\n"
     ]
    },
    {
     "name": "stdout",
     "output_type": "stream",
     "text": [
      "2017-12-15 13:04:16.920675\n"
     ]
    }
   ],
   "source": [
    "%run _imports.ipynb"
   ]
  },
  {
   "cell_type": "code",
   "execution_count": 2,
   "metadata": {
    "collapsed": true
   },
   "outputs": [],
   "source": [
    "import hashlib"
   ]
  },
  {
   "cell_type": "code",
   "execution_count": 3,
   "metadata": {},
   "outputs": [
    {
     "data": {
      "text/plain": [
       "<module 'pmc_tables' from '/home/kimlab1/strokach/working/pmc_tables/pmc_tables/__init__.py'>"
      ]
     },
     "execution_count": 3,
     "metadata": {},
     "output_type": "execute_result"
    }
   ],
   "source": [
    "import pmc_tables\n",
    "\n",
    "importlib.reload(pmc_tables)"
   ]
  },
  {
   "cell_type": "code",
   "execution_count": 4,
   "metadata": {
    "collapsed": true
   },
   "outputs": [],
   "source": [
    "NOTEBOOK_NAME = 'download'\n",
    "os.makedirs(NOTEBOOK_NAME, exist_ok=True)"
   ]
  },
  {
   "cell_type": "markdown",
   "metadata": {},
   "source": [
    "# Parameters"
   ]
  },
  {
   "cell_type": "code",
   "execution_count": 5,
   "metadata": {},
   "outputs": [
    {
     "data": {
      "text/plain": [
       "'/kimlab2/database_data/datapkg/pmc-tables/downloads/ncbi/pmc'"
      ]
     },
     "execution_count": 5,
     "metadata": {},
     "output_type": "execute_result"
    }
   ],
   "source": [
    "SOURCE_DIR = op.abspath('../downloads/ncbi/pmc/')\n",
    "SOURCE_DIR"
   ]
  },
  {
   "cell_type": "code",
   "execution_count": 6,
   "metadata": {},
   "outputs": [
    {
     "data": {
      "text/plain": [
       "'/kimlab2/database_data/datapkg/pmc-tables/notebooks/download/pmc_archives'"
      ]
     },
     "execution_count": 6,
     "metadata": {},
     "output_type": "execute_result"
    }
   ],
   "source": [
    "OUTPUT_DIR = op.abspath(f'{NOTEBOOK_NAME}/pmc_archives')\n",
    "OUTPUT_DIR"
   ]
  },
  {
   "cell_type": "markdown",
   "metadata": {},
   "source": [
    "# Download"
   ]
  },
  {
   "cell_type": "markdown",
   "metadata": {
    "run_control": {
     "marked": false
    }
   },
   "source": [
    "## Load `to_download`"
   ]
  },
  {
   "cell_type": "code",
   "execution_count": 7,
   "metadata": {
    "collapsed": true,
    "run_control": {
     "marked": false
    }
   },
   "outputs": [],
   "source": [
    "to_download = pd.read_csv('to_download/to_download.csv.gz')"
   ]
  },
  {
   "cell_type": "code",
   "execution_count": 8,
   "metadata": {
    "run_control": {
     "marked": false
    }
   },
   "outputs": [
    {
     "data": {
      "text/html": [
       "<div>\n",
       "<style scoped>\n",
       "    .dataframe tbody tr th:only-of-type {\n",
       "        vertical-align: middle;\n",
       "    }\n",
       "\n",
       "    .dataframe tbody tr th {\n",
       "        vertical-align: top;\n",
       "    }\n",
       "\n",
       "    .dataframe thead th {\n",
       "        text-align: right;\n",
       "    }\n",
       "</style>\n",
       "<table border=\"1\" class=\"dataframe\">\n",
       "  <thead>\n",
       "    <tr style=\"text-align: right;\">\n",
       "      <th></th>\n",
       "      <th>pmc_type</th>\n",
       "      <th>pmc_id</th>\n",
       "      <th>source_url</th>\n",
       "      <th>archive_file_path</th>\n",
       "      <th>output_file_path</th>\n",
       "    </tr>\n",
       "  </thead>\n",
       "  <tbody>\n",
       "    <tr>\n",
       "      <th>0</th>\n",
       "      <td>ncbi_oa_package</td>\n",
       "      <td>PMC13900</td>\n",
       "      <td>ftp://ftp.ncbi.nlm.nih.gov/pub/pmc/oa_package/08/e0/PMC13900.tar.gz</td>\n",
       "      <td>oa_package/08/e0/PMC13900.tar.gz</td>\n",
       "      <td>b5/c0/PMC13900.zip</td>\n",
       "    </tr>\n",
       "    <tr>\n",
       "      <th>1</th>\n",
       "      <td>ncbi_oa_package</td>\n",
       "      <td>PMC13901</td>\n",
       "      <td>ftp://ftp.ncbi.nlm.nih.gov/pub/pmc/oa_package/b0/ac/PMC13901.tar.gz</td>\n",
       "      <td>oa_package/b0/ac/PMC13901.tar.gz</td>\n",
       "      <td>39/28/PMC13901.zip</td>\n",
       "    </tr>\n",
       "    <tr>\n",
       "      <th>2</th>\n",
       "      <td>ncbi_oa_package</td>\n",
       "      <td>PMC13902</td>\n",
       "      <td>ftp://ftp.ncbi.nlm.nih.gov/pub/pmc/oa_package/f7/98/PMC13902.tar.gz</td>\n",
       "      <td>oa_package/f7/98/PMC13902.tar.gz</td>\n",
       "      <td>04/bc/PMC13902.zip</td>\n",
       "    </tr>\n",
       "    <tr>\n",
       "      <th>3</th>\n",
       "      <td>ncbi_oa_package</td>\n",
       "      <td>PMC13911</td>\n",
       "      <td>ftp://ftp.ncbi.nlm.nih.gov/pub/pmc/oa_package/9c/7f/PMC13911.tar.gz</td>\n",
       "      <td>oa_package/9c/7f/PMC13911.tar.gz</td>\n",
       "      <td>69/8a/PMC13911.zip</td>\n",
       "    </tr>\n",
       "    <tr>\n",
       "      <th>4</th>\n",
       "      <td>ncbi_oa_package</td>\n",
       "      <td>PMC13912</td>\n",
       "      <td>ftp://ftp.ncbi.nlm.nih.gov/pub/pmc/oa_package/c6/fb/PMC13912.tar.gz</td>\n",
       "      <td>oa_package/c6/fb/PMC13912.tar.gz</td>\n",
       "      <td>ed/e5/PMC13912.zip</td>\n",
       "    </tr>\n",
       "  </tbody>\n",
       "</table>\n",
       "</div>"
      ],
      "text/plain": [
       "          pmc_type    pmc_id                                                           source_url                 archive_file_path    output_file_path\n",
       "0  ncbi_oa_package  PMC13900  ftp://ftp.ncbi.nlm.nih.gov/pub/pmc/oa_package/08/e0/PMC13900.tar.gz  oa_package/08/e0/PMC13900.tar.gz  b5/c0/PMC13900.zip\n",
       "1  ncbi_oa_package  PMC13901  ftp://ftp.ncbi.nlm.nih.gov/pub/pmc/oa_package/b0/ac/PMC13901.tar.gz  oa_package/b0/ac/PMC13901.tar.gz  39/28/PMC13901.zip\n",
       "2  ncbi_oa_package  PMC13902  ftp://ftp.ncbi.nlm.nih.gov/pub/pmc/oa_package/f7/98/PMC13902.tar.gz  oa_package/f7/98/PMC13902.tar.gz  04/bc/PMC13902.zip\n",
       "3  ncbi_oa_package  PMC13911  ftp://ftp.ncbi.nlm.nih.gov/pub/pmc/oa_package/9c/7f/PMC13911.tar.gz  oa_package/9c/7f/PMC13911.tar.gz  69/8a/PMC13911.zip\n",
       "4  ncbi_oa_package  PMC13912  ftp://ftp.ncbi.nlm.nih.gov/pub/pmc/oa_package/c6/fb/PMC13912.tar.gz  oa_package/c6/fb/PMC13912.tar.gz  ed/e5/PMC13912.zip"
      ]
     },
     "metadata": {},
     "output_type": "display_data"
    },
    {
     "name": "stdout",
     "output_type": "stream",
     "text": [
      "2396266\n"
     ]
    }
   ],
   "source": [
    "display(to_download.head())\n",
    "print(len(to_download))"
   ]
  },
  {
   "cell_type": "markdown",
   "metadata": {},
   "source": [
    "## Test run"
   ]
  },
  {
   "cell_type": "code",
   "execution_count": 9,
   "metadata": {
    "collapsed": true
   },
   "outputs": [],
   "source": [
    "pmc_id = 'PMC1125901'\n",
    "source_url = 'ftp://ftp.ncbi.nlm.nih.gov/pub/pmc/oa_package/00/00/PMC1790863.tar.gz'\n",
    "archive_file = f'{SOURCE_DIR}/oa_package/00/00/PMC1790863.tar.gz'\n",
    "output_file = f'{OUTPUT_DIR}/00/00/PMC1790863.zip'"
   ]
  },
  {
   "cell_type": "code",
   "execution_count": 10,
   "metadata": {
    "run_control": {
     "marked": false
    }
   },
   "outputs": [
    {
     "data": {
      "text/plain": [
       "{'all_files': ['PMC1790863/pone.0000217.g002.gif',\n",
       "  'PMC1790863/pone.0000217.e013.jpg',\n",
       "  'PMC1790863/pone.0000217.e022.jpg',\n",
       "  'PMC1790863/pone.0000217.g001.jpg',\n",
       "  'PMC1790863/pone.0000217.e008.jpg',\n",
       "  'PMC1790863/pone.0000217.e006.jpg',\n",
       "  'PMC1790863/pone.0000217.g002.jpg',\n",
       "  'PMC1790863/pone.0000217.g003.jpg',\n",
       "  'PMC1790863/pone.0000217.e017.jpg',\n",
       "  'PMC1790863/pone.0000217.e005.jpg',\n",
       "  'PMC1790863/pone.0000217.e002.jpg',\n",
       "  'PMC1790863/pone.0000217.e020.jpg',\n",
       "  'PMC1790863/pone.0000217.e004.jpg',\n",
       "  'PMC1790863/pone.0000217.e014.jpg',\n",
       "  'PMC1790863/pone.0000217.e018.jpg',\n",
       "  'PMC1790863/pone.0000217.nxml',\n",
       "  'PMC1790863/pone.0000217.e003.jpg',\n",
       "  'PMC1790863/pone.0000217.e015.jpg',\n",
       "  'PMC1790863/pone.0000217.e016.jpg',\n",
       "  'PMC1790863/pone.0000217.g001.gif',\n",
       "  'PMC1790863/pone.0000217.e010.jpg',\n",
       "  'PMC1790863/pone.0000217.e012.jpg',\n",
       "  'PMC1790863/pone.0000217.e011.jpg',\n",
       "  'PMC1790863/pone.0000217.e007.jpg',\n",
       "  'PMC1790863/pone.0000217.e024.jpg',\n",
       "  'PMC1790863/pone.0000217.g003.gif',\n",
       "  'PMC1790863/pone.0000217.e001.jpg',\n",
       "  'PMC1790863/pone.0000217.e023.jpg',\n",
       "  'PMC1790863/pone.0000217.e019.jpg',\n",
       "  'PMC1790863/pone.0000217.pdf',\n",
       "  'PMC1790863/pone.0000217.e009.jpg',\n",
       "  'PMC1790863/pone.0000217.e021.jpg'],\n",
       " 'archive_file': '/kimlab2/database_data/datapkg/pmc-tables/downloads/ncbi/pmc/oa_package/00/00/PMC1790863.tar.gz',\n",
       " 'created_on': '2017-12-15T13:04:28.110362',\n",
       " 'kept_files': ['PMC1790863/pone.0000217.nxml'],\n",
       " 'pmc_id': 'PMC1125901'}"
      ]
     },
     "execution_count": 10,
     "metadata": {},
     "output_type": "execute_result"
    }
   ],
   "source": [
    "pmc_tables.get_pmc_archive(archive_file, output_file, pmc_id=pmc_id)"
   ]
  },
  {
   "cell_type": "code",
   "execution_count": 11,
   "metadata": {},
   "outputs": [
    {
     "data": {
      "text/plain": [
       "{'all_files': ['tmp7ieu3acq.tar.gz',\n",
       "  'PMC1790863/pone.0000217.g002.gif',\n",
       "  'PMC1790863/pone.0000217.e013.jpg',\n",
       "  'PMC1790863/pone.0000217.e022.jpg',\n",
       "  'PMC1790863/pone.0000217.g001.jpg',\n",
       "  'PMC1790863/pone.0000217.e008.jpg',\n",
       "  'PMC1790863/pone.0000217.e006.jpg',\n",
       "  'PMC1790863/pone.0000217.g002.jpg',\n",
       "  'PMC1790863/pone.0000217.g003.jpg',\n",
       "  'PMC1790863/pone.0000217.e017.jpg',\n",
       "  'PMC1790863/pone.0000217.e005.jpg',\n",
       "  'PMC1790863/pone.0000217.e002.jpg',\n",
       "  'PMC1790863/pone.0000217.e020.jpg',\n",
       "  'PMC1790863/pone.0000217.e004.jpg',\n",
       "  'PMC1790863/pone.0000217.e014.jpg',\n",
       "  'PMC1790863/pone.0000217.e018.jpg',\n",
       "  'PMC1790863/pone.0000217.nxml',\n",
       "  'PMC1790863/pone.0000217.e003.jpg',\n",
       "  'PMC1790863/pone.0000217.e015.jpg',\n",
       "  'PMC1790863/pone.0000217.e016.jpg',\n",
       "  'PMC1790863/pone.0000217.g001.gif',\n",
       "  'PMC1790863/pone.0000217.e010.jpg',\n",
       "  'PMC1790863/pone.0000217.e012.jpg',\n",
       "  'PMC1790863/pone.0000217.e011.jpg',\n",
       "  'PMC1790863/pone.0000217.e007.jpg',\n",
       "  'PMC1790863/pone.0000217.e024.jpg',\n",
       "  'PMC1790863/pone.0000217.g003.gif',\n",
       "  'PMC1790863/pone.0000217.e001.jpg',\n",
       "  'PMC1790863/pone.0000217.e023.jpg',\n",
       "  'PMC1790863/pone.0000217.e019.jpg',\n",
       "  'PMC1790863/pone.0000217.pdf',\n",
       "  'PMC1790863/pone.0000217.e009.jpg',\n",
       "  'PMC1790863/pone.0000217.e021.jpg'],\n",
       " 'archive_file': 'ftp://ftp.ncbi.nlm.nih.gov/pub/pmc/oa_package/00/00/PMC1790863.tar.gz',\n",
       " 'created_on': '2017-12-15T13:04:28.975271',\n",
       " 'kept_files': ['PMC1790863/pone.0000217.nxml'],\n",
       " 'pmc_id': 'PMC1125901'}"
      ]
     },
     "execution_count": 11,
     "metadata": {},
     "output_type": "execute_result"
    }
   ],
   "source": [
    "pmc_tables.get_pmc_archive(source_url, output_file, pmc_id=pmc_id)"
   ]
  },
  {
   "cell_type": "code",
   "execution_count": 12,
   "metadata": {},
   "outputs": [
    {
     "data": {
      "text/plain": [
       "{'all_files': ['PMC2136438.xml'],\n",
       " 'archive_file': '/kimlab2/database_data/datapkg/pmc-tables/downloads/ncbi/pmc/manuscript/PMC0021XXXXX/PMC2136438.xml',\n",
       " 'created_on': '2017-12-15T13:04:29.054222',\n",
       " 'kept_files': ['PMC2136438.xml'],\n",
       " 'pmc_id': 'PMC2136438'}"
      ]
     },
     "execution_count": 12,
     "metadata": {},
     "output_type": "execute_result"
    }
   ],
   "source": [
    "pmc_tables.get_pmc_archive(\n",
    "    f'{SOURCE_DIR}/manuscript/PMC0021XXXXX/PMC2136438.xml',\n",
    "    f'{OUTPUT_DIR}/ea/c2/PMC2136438.zip',\n",
    "    pmc_id='PMC2136438')"
   ]
  },
  {
   "cell_type": "markdown",
   "metadata": {
    "collapsed": true
   },
   "source": [
    "## Find finished"
   ]
  },
  {
   "cell_type": "code",
   "execution_count": 13,
   "metadata": {
    "collapsed": true
   },
   "outputs": [],
   "source": [
    "source_files = (\n",
    "    glob.glob(SOURCE_DIR + \"/oa_package/**/*.tar.gz\", recursive=True) + \n",
    "    glob.glob(SOURCE_DIR + \"/manuscript/**/*.xml\", recursive=True) + \n",
    "    glob.glob(SOURCE_DIR + \"/suppl/**/*.zip\", recursive=True)\n",
    ")"
   ]
  },
  {
   "cell_type": "code",
   "execution_count": 14,
   "metadata": {
    "collapsed": true
   },
   "outputs": [],
   "source": [
    "source_files = set(source_files)"
   ]
  },
  {
   "cell_type": "code",
   "execution_count": 15,
   "metadata": {
    "collapsed": true
   },
   "outputs": [],
   "source": [
    "to_download['is_downloaded'] = \\\n",
    "    to_download['output_file_path'].apply(lambda s: op.isfile(op.join(OUTPUT_DIR, s)))"
   ]
  },
  {
   "cell_type": "code",
   "execution_count": 16,
   "metadata": {},
   "outputs": [
    {
     "data": {
      "text/plain": [
       "2396261    1d/fc/PPR7031.zip\n",
       "2396262    ba/a3/PPR7032.zip\n",
       "2396263    63/6a/PPR7033.zip\n",
       "2396264    4c/3e/PPR7034.zip\n",
       "2396265    71/42/PPR7035.zip\n",
       "Name: output_file_path, dtype: object"
      ]
     },
     "execution_count": 16,
     "metadata": {},
     "output_type": "execute_result"
    }
   ],
   "source": [
    "to_download['output_file_path'].tail()"
   ]
  },
  {
   "cell_type": "code",
   "execution_count": 17,
   "metadata": {},
   "outputs": [
    {
     "data": {
      "text/plain": [
       "'/kimlab2/database_data/datapkg/pmc-tables/notebooks/download/pmc_archives'"
      ]
     },
     "execution_count": 17,
     "metadata": {},
     "output_type": "execute_result"
    }
   ],
   "source": [
    "OUTPUT_DIR"
   ]
  },
  {
   "cell_type": "code",
   "execution_count": 18,
   "metadata": {},
   "outputs": [
    {
     "name": "stdout",
     "output_type": "stream",
     "text": [
      "Downloaded:            2,396,222\n",
      "Missing:                      44\n",
      "Total:                 2,396,266\n"
     ]
    }
   ],
   "source": [
    "num_downloaded = to_download['is_downloaded'].sum()\n",
    "num_missing = (~to_download['is_downloaded']).sum()\n",
    "assert (num_downloaded + num_missing) == len(to_download)\n",
    "\n",
    "print(f\"Downloaded: {num_downloaded:20,d}\")\n",
    "print(f\"Missing:    {num_missing:20,d}\")\n",
    "print(f\"Total:      {len(to_download):20,d}\")"
   ]
  },
  {
   "cell_type": "markdown",
   "metadata": {},
   "source": [
    "## Download missing"
   ]
  },
  {
   "cell_type": "code",
   "execution_count": 19,
   "metadata": {
    "collapsed": true
   },
   "outputs": [],
   "source": [
    "def worker(row):\n",
    "    try:\n",
    "        result = pmc_tables.get_pmc_archive(\n",
    "            row['source_url'],\n",
    "            op.join(OUTPUT_DIR, row['output_file_path']),\n",
    "            pmc_type=row['pmc_type'],\n",
    "            pmc_id=row['pmc_id'],\n",
    "            source_url=row['source_url']\n",
    "        )\n",
    "    except Exception as e:\n",
    "        result = {'error': str(e)}\n",
    "    return result"
   ]
  },
  {
   "cell_type": "markdown",
   "metadata": {},
   "source": [
    "### Serial version"
   ]
  },
  {
   "cell_type": "code",
   "execution_count": 20,
   "metadata": {},
   "outputs": [
    {
     "data": {
      "application/vnd.jupyter.widget-view+json": {
       "model_id": "dc0e0eb0e9ab402bb1369e5bb6f66a2d",
       "version_major": 2,
       "version_minor": 0
      },
      "text/html": [
       "<p>Failed to display Jupyter Widget of type <code>HBox</code>.</p>\n",
       "<p>\n",
       "  If you're reading this message in the Jupyter Notebook or JupyterLab Notebook, it may mean\n",
       "  that the widgets JavaScript is still loading. If this message persists, it\n",
       "  likely means that the widgets JavaScript library is either not installed or\n",
       "  not enabled. See the <a href=\"https://ipywidgets.readthedocs.io/en/stable/user_install.html\">Jupyter\n",
       "  Widgets Documentation</a> for setup instructions.\n",
       "</p>\n",
       "<p>\n",
       "  If you're reading this message in another frontend (for example, a static\n",
       "  rendering on GitHub or <a href=\"https://nbviewer.jupyter.org/\">NBViewer</a>),\n",
       "  it may mean that your frontend doesn't currently support widgets.\n",
       "</p>\n"
      ],
      "text/plain": [
       "HBox(children=(IntProgress(value=0, max=44), HTML(value='')))"
      ]
     },
     "metadata": {},
     "output_type": "display_data"
    },
    {
     "name": "stdout",
     "output_type": "stream",
     "text": [
      "{'error': '<urlopen error ftp error: URLError(\"ftp error: error_perm(\\'550 PMC2762337.tar.gz: No such file or directory\\',)\",)>'}\n",
      "{'error': '<urlopen error ftp error: URLError(\"ftp error: error_perm(\\'550 PMC2762375.tar.gz: No such file or directory\\',)\",)>'}\n",
      "{'error': '<urlopen error ftp error: URLError(\"ftp error: error_perm(\\'550 PMC2762755.tar.gz: No such file or directory\\',)\",)>'}\n",
      "{'error': '<urlopen error ftp error: URLError(\"ftp error: error_perm(\\'550 PMC2762756.tar.gz: No such file or directory\\',)\",)>'}\n",
      "{'error': '<urlopen error ftp error: URLError(\"ftp error: error_perm(\\'550 PMC2762779.tar.gz: No such file or directory\\',)\",)>'}\n",
      "{'error': '<urlopen error ftp error: URLError(\"ftp error: error_perm(\\'550 PMC2762810.tar.gz: No such file or directory\\',)\",)>'}\n",
      "{'error': '<urlopen error ftp error: URLError(\"ftp error: error_perm(\\'550 PMC2762811.tar.gz: No such file or directory\\',)\",)>'}\n",
      "{'error': '<urlopen error ftp error: URLError(\"ftp error: error_perm(\\'550 PMC2770576.tar.gz: No such file or directory\\',)\",)>'}\n",
      "{'error': '<urlopen error ftp error: URLError(\"ftp error: error_perm(\\'550 PMC2775164.tar.gz: No such file or directory\\',)\",)>'}\n",
      "{'error': '<urlopen error ftp error: URLError(\"ftp error: error_perm(\\'550 PMC2781303.tar.gz: No such file or directory\\',)\",)>'}\n",
      "{'error': '<urlopen error ftp error: URLError(\"ftp error: error_perm(\\'550 PMC2808401.tar.gz: No such file or directory\\',)\",)>'}\n",
      "{'error': '<urlopen error ftp error: URLError(\"ftp error: error_perm(\\'550 PMC3148710.tar.gz: No such file or directory\\',)\",)>'}\n",
      "{'error': '<urlopen error ftp error: URLError(\"ftp error: error_perm(\\'550 Genetics_2012_Oct_192(2)_651-669.tar.gz: No such file or directory\\',)\",)>'}\n",
      "{'error': '<urlopen error ftp error: URLError(\"ftp error: error_perm(\\'550 Springerplus_2013_Jan_3_2(1)_1.tar.gz: No such file or directory\\',)\",)>'}\n",
      "{'error': '<urlopen error ftp error: URLError(\"ftp error: error_perm(\\'550 PMC3859494.tar.gz: No such file or directory\\',)\",)>'}\n",
      "{'error': '<urlopen error ftp error: URLError(\"ftp error: error_perm(\\'550 J_Physiol_2014_Jan_15_592(Pt_2)_269-280.tar.gz: No such file or directory\\',)\",)>'}\n",
      "{'error': '<urlopen error ftp error: URLError(\"ftp error: error_perm(\\'550 Cardiol_Ther_2015_Jun_13_4(1)_1-3.tar.gz: No such file or directory\\',)\",)>'}\n",
      "{'error': '<urlopen error ftp error: URLError(\"ftp error: error_perm(\\'550 Cardiol_Ther_2015_Jun_27_4(1)_5-23.tar.gz: No such file or directory\\',)\",)>'}\n",
      "{'error': '<urlopen error ftp error: URLError(\"ftp error: error_perm(\\'550 F1000Res_2015_Oct_1_3_205.tar.gz: No such file or directory\\',)\",)>'}\n",
      "{'error': '<urlopen error ftp error: URLError(\"ftp error: error_perm(\\'550 BMJ_2013_Jan_8_345_e8441.tar.gz: No such file or directory\\',)\",)>'}\n",
      "{'error': '<urlopen error ftp error: URLError(\"ftp error: error_perm(\\'550 J_Gynecol_Oncol_2016_May_11_27(3)_e32.tar.gz: No such file or directory\\',)\",)>'}\n",
      "{'error': '[Errno 28] No space left on device'}\n",
      "{'error': '<urlopen error ftp error: URLError(\"ftp error: error_perm(\\'550 PMC5055811.tar.gz: No such file or directory\\',)\",)>'}\n",
      "{'error': '<urlopen error ftp error: URLError(\"ftp error: error_perm(\\'550 PMC5097046.tar.gz: No such file or directory\\',)\",)>'}\n",
      "{'error': '<urlopen error ftp error: URLError(\"ftp error: error_perm(\\'550 PMC5121029.tar.gz: No such file or directory\\',)\",)>'}\n",
      "{'error': '[Errno 28] No space left on device'}\n",
      "{'error': '<urlopen error ftp error: URLError(\"ftp error: error_perm(\\'550 PMC5158302.tar.gz: No such file or directory\\',)\",)>'}\n",
      "{'error': '<urlopen error ftp error: URLError(\"ftp error: error_perm(\\'550 PMC5190298.tar.gz: No such file or directory\\',)\",)>'}\n",
      "{'error': '<urlopen error ftp error: URLError(\"ftp error: error_perm(\\'550 PMC5272821.tar.gz: No such file or directory\\',)\",)>'}\n",
      "{'error': '<urlopen error ftp error: URLError(\"ftp error: error_perm(\\'550 PMC5377887.tar.gz: No such file or directory\\',)\",)>'}\n",
      "{'error': '<urlopen error ftp error: URLError(\"ftp error: error_perm(\\'550 PMC5391048.tar.gz: No such file or directory\\',)\",)>'}\n",
      "{'error': '<urlopen error ftp error: URLError(\"ftp error: error_perm(\\'550 PMC5440418.tar.gz: No such file or directory\\',)\",)>'}\n",
      "{'error': '<urlopen error ftp error: URLError(\"ftp error: error_perm(\\'550 PMC5484654.tar.gz: No such file or directory\\',)\",)>'}\n",
      "{'error': '<urlopen error ftp error: URLError(\"ftp error: error_perm(\\'550 PMC5493602.tar.gz: No such file or directory\\',)\",)>'}\n",
      "{'error': '<urlopen error ftp error: URLError(\"ftp error: error_perm(\\'550 PMC5515723.tar.gz: No such file or directory\\',)\",)>'}\n",
      "{'error': '<urlopen error ftp error: URLError(\"ftp error: error_perm(\\'550 PMC5517390.tar.gz: No such file or directory\\',)\",)>'}\n",
      "{'error': '<urlopen error ftp error: URLError(\"ftp error: error_perm(\\'550 PMC5569400.tar.gz: No such file or directory\\',)\",)>'}\n",
      "{'error': '<urlopen error ftp error: URLError(\"ftp error: error_perm(\\'550 PMC5577348.tar.gz: No such file or directory\\',)\",)>'}\n",
      "{'error': '<urlopen error ftp error: URLError(\"ftp error: error_perm(\\'550 PMC5581797.tar.gz: No such file or directory\\',)\",)>'}\n",
      "{'error': '<urlopen error ftp error: URLError(\"ftp error: error_perm(\\'550 PMC5639823.tar.gz: No such file or directory\\',)\",)>'}\n",
      "{'error': '<urlopen error ftp error: URLError(\"ftp error: error_perm(\\'550 PMC5639824.tar.gz: No such file or directory\\',)\",)>'}\n",
      "{'error': '<urlopen error ftp error: URLError(\"ftp error: error_perm(\\'550 PMC5640558.tar.gz: No such file or directory\\',)\",)>'}\n",
      "{'error': '<urlopen error ftp error: URLError(\"ftp error: error_perm(\\'550 PMC5651536.tar.gz: No such file or directory\\',)\",)>'}\n",
      "{'error': '<urlopen error ftp error: URLError(\"ftp error: error_perm(\\'550 PMC5653681.tar.gz: No such file or directory\\',)\",)>'}\n",
      "\n"
     ]
    }
   ],
   "source": [
    "for row in tqdm.tqdm_notebook(\n",
    "        to_download[~to_download['is_downloaded']].itertuples(), \n",
    "        total=(~to_download['is_downloaded']).sum()):\n",
    "    result = worker(row._asdict())\n",
    "    print(result)"
   ]
  },
  {
   "cell_type": "markdown",
   "metadata": {},
   "source": [
    "### Parallel version"
   ]
  },
  {
   "cell_type": "code",
   "execution_count": 21,
   "metadata": {
    "collapsed": true,
    "run_control": {
     "marked": false
    },
    "scrolled": false
   },
   "outputs": [],
   "source": [
    "# N_PROCS = 64\n",
    "\n",
    "# with concurrent.futures.ProcessPoolExecutor(N_PROCS) as pool:\n",
    "#     rows = [\n",
    "#         row._asdict()\n",
    "#         for row in to_download[~to_download['is_downloaded']].itertuples()\n",
    "#     ]\n",
    "#     futures = list(pool.map(worker, rows, chunksize=1_000))"
   ]
  },
  {
   "cell_type": "markdown",
   "metadata": {},
   "source": [
    "## Save status"
   ]
  },
  {
   "cell_type": "code",
   "execution_count": 22,
   "metadata": {
    "collapsed": true
   },
   "outputs": [],
   "source": [
    "downloaded = to_download[to_download['is_downloaded']]"
   ]
  },
  {
   "cell_type": "code",
   "execution_count": 23,
   "metadata": {},
   "outputs": [
    {
     "name": "stdout",
     "output_type": "stream",
     "text": [
      "Downloaded 2396222 out of 2396266 files...\n"
     ]
    }
   ],
   "source": [
    "print(f\"Downloaded {len(downloaded)} out of {len(to_download)} files...\")"
   ]
  },
  {
   "cell_type": "code",
   "execution_count": 26,
   "metadata": {
    "collapsed": true
   },
   "outputs": [],
   "source": [
    "downloaded.to_csv(f\"{NOTEBOOK_NAME}/downloaded.csv.gz\", index=False, compression='gzip')"
   ]
  },
  {
   "cell_type": "code",
   "execution_count": null,
   "metadata": {
    "collapsed": true
   },
   "outputs": [],
   "source": []
  }
 ],
 "metadata": {
  "kernelspec": {
   "display_name": "Python 3",
   "language": "python",
   "name": "python3"
  },
  "language_info": {
   "codemirror_mode": {
    "name": "ipython",
    "version": 3
   },
   "file_extension": ".py",
   "mimetype": "text/x-python",
   "name": "python",
   "nbconvert_exporter": "python",
   "pygments_lexer": "ipython3",
   "version": "3.6.3"
  },
  "toc": {
   "nav_menu": {},
   "number_sections": false,
   "sideBar": false,
   "skip_h1_title": false,
   "toc_cell": false,
   "toc_position": {
    "height": "307px",
    "left": "1651.58px",
    "right": "20px",
    "top": "106.354px",
    "width": "244px"
   },
   "toc_section_display": "block",
   "toc_window_display": true
  }
 },
 "nbformat": 4,
 "nbformat_minor": 2
}
