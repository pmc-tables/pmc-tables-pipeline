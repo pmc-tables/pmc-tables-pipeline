{
 "cells": [
  {
   "cell_type": "markdown",
   "metadata": {},
   "source": [
    "# Summary\n",
    "\n",
    "----"
   ]
  },
  {
   "cell_type": "markdown",
   "metadata": {},
   "source": [
    "# Imports"
   ]
  },
  {
   "cell_type": "code",
   "execution_count": 4,
   "metadata": {},
   "outputs": [
    {
     "name": "stderr",
     "output_type": "stream",
     "text": [
      "Setting the PYTHON_VERSION environment variable.\n",
      "Setting the SPARK_MASTER environment variable.\n",
      "Setting the DB_TYPE environment variable.\n",
      "Setting the DB_PORT environment variable.\n"
     ]
    },
    {
     "name": "stdout",
     "output_type": "stream",
     "text": [
      "2017-12-20 20:11:59.659432\n"
     ]
    }
   ],
   "source": [
    "%run _imports.ipynb"
   ]
  },
  {
   "cell_type": "code",
   "execution_count": 5,
   "metadata": {
    "collapsed": true
   },
   "outputs": [],
   "source": [
    "NOTEBOOK_NAME = 'project_report'\n",
    "os.makedirs(NOTEBOOK_NAME, exist_ok=True)"
   ]
  },
  {
   "cell_type": "markdown",
   "metadata": {},
   "source": [
    "# Parameters"
   ]
  },
  {
   "cell_type": "code",
   "execution_count": 6,
   "metadata": {},
   "outputs": [
    {
     "data": {
      "text/plain": [
       "PosixPath('/kimlab2/database_data/datapkg/pmc-tables/notebooks/archive_to_hdf5/pmc_archives_1')"
      ]
     },
     "execution_count": 6,
     "metadata": {},
     "output_type": "execute_result"
    }
   ],
   "source": [
    "ARCHIVE_HDF5_DIR = Path('archive_to_hdf5/pmc_archives_1/').absolute()\n",
    "ARCHIVE_HDF5_DIR"
   ]
  },
  {
   "cell_type": "code",
   "execution_count": 7,
   "metadata": {},
   "outputs": [
    {
     "data": {
      "text/plain": [
       "[PosixPath('/kimlab2/database_data/datapkg/pmc-tables/notebooks/archive_to_hdf5/pmc_archives_1/0b.h5'),\n",
       " PosixPath('/kimlab2/database_data/datapkg/pmc-tables/notebooks/archive_to_hdf5/pmc_archives_1/f5.h5'),\n",
       " PosixPath('/kimlab2/database_data/datapkg/pmc-tables/notebooks/archive_to_hdf5/pmc_archives_1/11.h5')]"
      ]
     },
     "execution_count": 7,
     "metadata": {},
     "output_type": "execute_result"
    }
   ],
   "source": [
    "hdf5_archives = list(ARCHIVE_HDF5_DIR.glob('*.h5'))\n",
    "hdf5_archives[:3]"
   ]
  },
  {
   "cell_type": "markdown",
   "metadata": {},
   "source": [
    "# Run jobs"
   ]
  },
  {
   "cell_type": "markdown",
   "metadata": {},
   "source": [
    "## Job parameters"
   ]
  },
  {
   "cell_type": "code",
   "execution_count": 308,
   "metadata": {
    "collapsed": true
   },
   "outputs": [],
   "source": [
    "JOB_ID = 'job_1'\n",
    "DATA_ID = 'table_statistics_1'"
   ]
  },
  {
   "cell_type": "code",
   "execution_count": 309,
   "metadata": {},
   "outputs": [
    {
     "name": "stdout",
     "output_type": "stream",
     "text": [
      "~/datapkg/pmc-tables/notebooks/project_report/job_1\n",
      "~/datapkg/pmc-tables/notebooks/project_report/table_statistics_1\n"
     ]
    }
   ],
   "source": [
    "JOB_DIR = f\"~/datapkg/{os.environ['DB_SCHEMA']}/notebooks/{NOTEBOOK_NAME}/{JOB_ID}\"\n",
    "DATA_DIR = f\"~/datapkg/{os.environ['DB_SCHEMA']}/notebooks/{NOTEBOOK_NAME}/{DATA_ID}\"\n",
    "\n",
    "os.makedirs(op.expanduser(JOB_DIR), exist_ok=True)\n",
    "os.makedirs(op.expanduser(DATA_DIR), exist_ok=True)\n",
    "print(JOB_DIR, DATA_DIR, sep='\\n')"
   ]
  },
  {
   "cell_type": "code",
   "execution_count": 310,
   "metadata": {
    "collapsed": true
   },
   "outputs": [],
   "source": [
    "ENV = {\n",
    "    'PATH': '/home/kimlab1/strokach/anaconda/bin:/usr/local/bin:/usr/bin:/bin',\n",
    "    'OMP_NUM_THREADS': '1',\n",
    "    'OPENMM_CPU_THREADS': '1',\n",
    "}"
   ]
  },
  {
   "cell_type": "markdown",
   "metadata": {},
   "source": [
    "## Script file"
   ]
  },
  {
   "cell_type": "code",
   "execution_count": 336,
   "metadata": {},
   "outputs": [
    {
     "name": "stdout",
     "output_type": "stream",
     "text": [
      "Overwriting /home/kimlab1/strokach/datapkg/pmc-tables/notebooks/project_report/table_statistics_1.py\n"
     ]
    }
   ],
   "source": [
    "%%file {DATA_DIR}.py\n",
    "import time\n",
    "import os.path as op\n",
    "import json\n",
    "import pickle\n",
    "import warnings\n",
    "import logging\n",
    "from pathlib import Path\n",
    "\n",
    "import tables\n",
    "import pandas as pd\n",
    "\n",
    "import pmc_tables\n",
    "\n",
    "warnings.filterwarnings(\"ignore\", category=tables.NaturalNameWarning)\n",
    "logger = logging.getLogger(__name__)\n",
    "\n",
    "\n",
    "def count_tables_per_node(pmc_node, store):\n",
    "    pmc_table_stats = []\n",
    "    for file_node in pmc_node._f_iter_nodes():\n",
    "        for table_node in file_node._f_iter_nodes():\n",
    "#             logger.error(f\"Processing table node {table_node}\")\n",
    "            try:\n",
    "                child = table_node._f_get_child('table')\n",
    "            except tables.NoSuchNodeError:\n",
    "                logger.error(f\"No such node: {table_node._v_name}/table\")\n",
    "                continue\n",
    "\n",
    "            try:\n",
    "                df = pd.read_hdf(store, key=table_node._v_pathname)\n",
    "                pmc_table_stats.append((table_node._v_pathname, ) + df.shape)\n",
    "            except Exception as e:\n",
    "                logger.error(f\"Exception occured when processing table node: {type(e)}: {e}\")\n",
    "                pass\n",
    "    return pmc_table_stats    \n",
    "\n",
    "\n",
    "def count_tables_per_file(hdf5_file):\n",
    "    table_stats = []\n",
    "    with pd.HDFStore(hdf5_file, 'r') as store:\n",
    "        for pmc_node in store.root._f_iter_nodes():\n",
    "\n",
    "            try:\n",
    "                node_name = pmc_node._v_name\n",
    "            except Exception as e:\n",
    "                logger.error(f\"Exception occured when processing file `{hdf5_file}`: {type(e)}: {e}\")\n",
    "                continue\n",
    "\n",
    "            try:\n",
    "                pmc_table_stats = count_tables_per_node(pmc_node, store)\n",
    "            except Exception as e:\n",
    "                logger.error(f\"Exception occured when processing file `{hdf5_file}`: {type(e)}: {e}\")\n",
    "                table_stats += (node_name, ) + (None, ) * 3 + (str(type(e)), str(e))\n",
    "                continue\n",
    "            else:\n",
    "                if pmc_table_stats:\n",
    "                    for pcm_table_stat in pmc_table_stats:\n",
    "                        table_stats.append((node_name, ) + pcm_table_stat + (None, None))\n",
    "                else:\n",
    "                    table_stats.append((node_name, ) + (None, ) * 5)\n",
    "    \n",
    "    return table_stats\n",
    "\n",
    "\n",
    "def worker(hdf5_file, output_dir):\n",
    "    output_file = output_dir.joinpath(hdf5_file.stem).with_suffix('.csv')\n",
    "    if output_file.is_file():\n",
    "        return {'output_file': output_file.as_posix()}\n",
    "\n",
    "    table_stats = count_tables_per_file(hdf5_file)\n",
    "\n",
    "    columns = ['pmc_id', 'table_name', 'num_rows', 'num_columns', 'error_type', 'error_message']\n",
    "    table_stats_df = pd.DataFrame(table_stats, columns=columns)\n",
    "    table_stats_df.to_csv(output_file, index=False)\n",
    "\n",
    "\n",
    "if __name__ == '__main__':\n",
    "    import argparse\n",
    "    parser = argparse.ArgumentParser()\n",
    "    parser.add_argument('-i', '--input-file')\n",
    "    parser.add_argument('-o', '--output-dir')\n",
    "    args = parser.parse_args()\n",
    "\n",
    "    logging.basicConfig(format='[%(name)s] %(message)s', level=logging.DEBUG)\n",
    "\n",
    "    hdf5_file = Path(args.input_file).absolute()\n",
    "    output_dir = Path(args.output_dir).absolute()\n",
    "\n",
    "    results = worker(hdf5_file, output_dir)"
   ]
  },
  {
   "cell_type": "markdown",
   "metadata": {},
   "source": [
    "## System commands"
   ]
  },
  {
   "cell_type": "code",
   "execution_count": 359,
   "metadata": {},
   "outputs": [
    {
     "data": {
      "text/plain": [
       "[PosixPath('/kimlab2/database_data/datapkg/pmc-tables/notebooks/archive_to_hdf5/pmc_archives_1/0b.h5'),\n",
       " PosixPath('/kimlab2/database_data/datapkg/pmc-tables/notebooks/archive_to_hdf5/pmc_archives_1/f5.h5'),\n",
       " PosixPath('/kimlab2/database_data/datapkg/pmc-tables/notebooks/archive_to_hdf5/pmc_archives_1/11.h5')]"
      ]
     },
     "execution_count": 359,
     "metadata": {},
     "output_type": "execute_result"
    }
   ],
   "source": [
    "hdf5_files = list(ARCHIVE_HDF5_DIR.glob('*.h5'))\n",
    "hdf5_files[:3]"
   ]
  },
  {
   "cell_type": "code",
   "execution_count": 360,
   "metadata": {
    "collapsed": true
   },
   "outputs": [],
   "source": [
    "assert len(hdf5_files) == 256"
   ]
  },
  {
   "cell_type": "code",
   "execution_count": 361,
   "metadata": {},
   "outputs": [],
   "source": [
    "system_commands = []\n",
    "\n",
    "for input_file in ARCHIVE_HDF5_DIR.glob('*.h5'):\n",
    "    if input_file.parts[1] != 'home':\n",
    "        input_file = Path('/home').joinpath(*input_file.parts[1:])\n",
    "    output_dir = Path(DATA_DIR).expanduser()\n",
    "    if output_dir.parts[1] != 'home':\n",
    "        output_dir = Path('/home').joinpath(*output_dir.parts[1:])\n",
    "    system_command = f'python \"../{DATA_ID}.py\" -i \"{input_file}\" -o \"{output_dir}\"'\n",
    "    system_commands.append(system_command)\n",
    "    \n",
    "system_commands = pd.DataFrame(system_commands, columns=['system_command'])"
   ]
  },
  {
   "cell_type": "code",
   "execution_count": 362,
   "metadata": {},
   "outputs": [
    {
     "data": {
      "text/plain": [
       "256"
      ]
     },
     "execution_count": 362,
     "metadata": {},
     "output_type": "execute_result"
    }
   ],
   "source": [
    "len(system_commands)"
   ]
  },
  {
   "cell_type": "code",
   "execution_count": 363,
   "metadata": {},
   "outputs": [
    {
     "name": "stdout",
     "output_type": "stream",
     "text": [
      "python ../table_statistics_1.py -i /home/kimlab2/database_data/datapkg/pmc-tables/notebooks/archive_to_hdf5/pmc_archives_1/0b.h5 -o /home/kimlab1/strokach/datapkg/pmc-tables/notebooks/project_report/table_statistics_1\r\n"
     ]
    }
   ],
   "source": [
    "!(cd {DATA_DIR}; echo {system_commands.iat[0, 0]})"
   ]
  },
  {
   "cell_type": "code",
   "execution_count": 364,
   "metadata": {},
   "outputs": [],
   "source": [
    "# !(cd {DATA_DIR}; {system_commands.iat[0, 0]})"
   ]
  },
  {
   "cell_type": "markdown",
   "metadata": {},
   "source": [
    "## Submit"
   ]
  },
  {
   "cell_type": "code",
   "execution_count": 365,
   "metadata": {},
   "outputs": [
    {
     "data": {
      "text/plain": [
       "<module 'jobsubmitter' from '/home/kimlab1/strokach/working/jobsubmitter/jobsubmitter/__init__.py'>"
      ]
     },
     "execution_count": 365,
     "metadata": {},
     "output_type": "execute_result"
    }
   ],
   "source": [
    "import jobsubmitter\n",
    "\n",
    "importlib.reload(jobsubmitter)"
   ]
  },
  {
   "cell_type": "code",
   "execution_count": 366,
   "metadata": {},
   "outputs": [
    {
     "data": {
      "text/plain": [
       "<jobsubmitter.jobsubmitter.JobSubmitter at 0x7f169f2d7630>"
      ]
     },
     "execution_count": 366,
     "metadata": {},
     "output_type": "execute_result"
    }
   ],
   "source": [
    "js = jobsubmitter.JobSubmitter('beagle', JOB_DIR, DATA_DIR, ENV)\n",
    "js"
   ]
  },
  {
   "cell_type": "code",
   "execution_count": 367,
   "metadata": {},
   "outputs": [
    {
     "data": {
      "text/plain": [
       "JobOpts(job_name='job_1', queue='medium', nproc=1, walltime='24:00:00', mem='6G', pmem=None, vmem=None, pvmem=None, email='noname@example.com', email_opts='a', qsub_shell='/bin/bash', qsub_script_args=None)"
      ]
     },
     "execution_count": 367,
     "metadata": {},
     "output_type": "execute_result"
    }
   ],
   "source": [
    "jo = jobsubmitter.JobOpts(JOB_ID, nproc=1, queue='medium', walltime='24:00:00', mem='6G')\n",
    "jo"
   ]
  },
  {
   "cell_type": "code",
   "execution_count": 368,
   "metadata": {
    "collapsed": true
   },
   "outputs": [],
   "source": [
    "logging.getLogger().setLevel(logging.INFO)"
   ]
  },
  {
   "cell_type": "code",
   "execution_count": 369,
   "metadata": {},
   "outputs": [
    {
     "data": {
      "text/plain": [
       "256"
      ]
     },
     "execution_count": 369,
     "metadata": {},
     "output_type": "execute_result"
    }
   ],
   "source": [
    "len(system_commands)"
   ]
  },
  {
   "cell_type": "code",
   "execution_count": 370,
   "metadata": {},
   "outputs": [],
   "source": [
    "# futures = js.submit(system_commands, jo, deplay=0.02)"
   ]
  },
  {
   "cell_type": "markdown",
   "metadata": {},
   "source": [
    "**Results:**"
   ]
  },
  {
   "cell_type": "code",
   "execution_count": 403,
   "metadata": {},
   "outputs": [
    {
     "data": {
      "application/vnd.jupyter.widget-view+json": {
       "model_id": "23942160d11a43549a36505cb4b6586a",
       "version_major": 2,
       "version_minor": 0
      },
      "text/html": [
       "<p>Failed to display Jupyter Widget of type <code>HBox</code>.</p>\n",
       "<p>\n",
       "  If you're reading this message in the Jupyter Notebook or JupyterLab Notebook, it may mean\n",
       "  that the widgets JavaScript is still loading. If this message persists, it\n",
       "  likely means that the widgets JavaScript library is either not installed or\n",
       "  not enabled. See the <a href=\"https://ipywidgets.readthedocs.io/en/stable/user_install.html\">Jupyter\n",
       "  Widgets Documentation</a> for setup instructions.\n",
       "</p>\n",
       "<p>\n",
       "  If you're reading this message in another frontend (for example, a static\n",
       "  rendering on GitHub or <a href=\"https://nbviewer.jupyter.org/\">NBViewer</a>),\n",
       "  it may mean that your frontend doesn't currently support widgets.\n",
       "</p>\n"
      ],
      "text/plain": [
       "HBox(children=(IntProgress(value=0, max=256), HTML(value='')))"
      ]
     },
     "metadata": {},
     "output_type": "display_data"
    },
    {
     "name": "stdout",
     "output_type": "stream",
     "text": [
      "\n"
     ]
    }
   ],
   "source": [
    "results = js.job_status(system_commands)"
   ]
  },
  {
   "cell_type": "code",
   "execution_count": 404,
   "metadata": {},
   "outputs": [
    {
     "name": "stdout",
     "output_type": "stream",
     "text": [
      "256\n"
     ]
    }
   ],
   "source": [
    "done = results[results['status'] == 'done']\n",
    "print(len(done))"
   ]
  },
  {
   "cell_type": "code",
   "execution_count": 405,
   "metadata": {},
   "outputs": [
    {
     "name": "stdout",
     "output_type": "stream",
     "text": [
      "0\n"
     ]
    }
   ],
   "source": [
    "failed = results[(results['status'] != 'done')]\n",
    "print(len(failed))"
   ]
  },
  {
   "cell_type": "markdown",
   "metadata": {},
   "source": [
    "**Do this in a loop until done...**"
   ]
  },
  {
   "cell_type": "code",
   "execution_count": 409,
   "metadata": {},
   "outputs": [],
   "source": [
    "# futures = js.submit(remaining, jo, deplay=0.02)"
   ]
  },
  {
   "cell_type": "code",
   "execution_count": 410,
   "metadata": {},
   "outputs": [
    {
     "data": {
      "application/vnd.jupyter.widget-view+json": {
       "model_id": "9f2e6c798e474b81bad6df1de40a8f29",
       "version_major": 2,
       "version_minor": 0
      },
      "text/html": [
       "<p>Failed to display Jupyter Widget of type <code>HBox</code>.</p>\n",
       "<p>\n",
       "  If you're reading this message in the Jupyter Notebook or JupyterLab Notebook, it may mean\n",
       "  that the widgets JavaScript is still loading. If this message persists, it\n",
       "  likely means that the widgets JavaScript library is either not installed or\n",
       "  not enabled. See the <a href=\"https://ipywidgets.readthedocs.io/en/stable/user_install.html\">Jupyter\n",
       "  Widgets Documentation</a> for setup instructions.\n",
       "</p>\n",
       "<p>\n",
       "  If you're reading this message in another frontend (for example, a static\n",
       "  rendering on GitHub or <a href=\"https://nbviewer.jupyter.org/\">NBViewer</a>),\n",
       "  it may mean that your frontend doesn't currently support widgets.\n",
       "</p>\n"
      ],
      "text/plain": [
       "HBox(children=(IntProgress(value=0, max=256), HTML(value='')))"
      ]
     },
     "metadata": {},
     "output_type": "display_data"
    },
    {
     "name": "stdout",
     "output_type": "stream",
     "text": [
      "\n"
     ]
    }
   ],
   "source": [
    "results2 = js.job_status(system_commands)"
   ]
  },
  {
   "cell_type": "code",
   "execution_count": 411,
   "metadata": {},
   "outputs": [
    {
     "name": "stdout",
     "output_type": "stream",
     "text": [
      "0\n"
     ]
    }
   ],
   "source": [
    "failed = results2[results2['status'] != 'done']\n",
    "print(len(failed))"
   ]
  },
  {
   "cell_type": "markdown",
   "metadata": {},
   "source": [
    "### Collect results"
   ]
  },
  {
   "cell_type": "code",
   "execution_count": 412,
   "metadata": {},
   "outputs": [
    {
     "name": "stdout",
     "output_type": "stream",
     "text": [
      "[PosixPath('/home/kimlab1/strokach/datapkg/pmc-tables/notebooks/project_report/table_statistics_1/48.csv'), PosixPath('/home/kimlab1/strokach/datapkg/pmc-tables/notebooks/project_report/table_statistics_1/f0.csv'), PosixPath('/home/kimlab1/strokach/datapkg/pmc-tables/notebooks/project_report/table_statistics_1/6f.csv')]\n"
     ]
    }
   ],
   "source": [
    "result_files = list(Path(DATA_DIR).expanduser().glob('*.csv'))\n",
    "print(result_files[:3])\n",
    "assert len(result_files) == len(hdf5_files), (len(result_files), len(hdf5_files))"
   ]
  },
  {
   "cell_type": "code",
   "execution_count": 413,
   "metadata": {},
   "outputs": [],
   "source": [
    "table_stats = []\n",
    "\n",
    "for result_file in result_files:\n",
    "    df = pd.read_csv(result_file)\n",
    "    table_stats.append(df)\n",
    "    \n",
    "table_stats_df = pd.concat(table_stats, ignore_index=True)"
   ]
  },
  {
   "cell_type": "code",
   "execution_count": 456,
   "metadata": {
    "collapsed": true
   },
   "outputs": [],
   "source": [
    "table_stats_df.dropna(subset=['table_name']).to_csv(f'{NOTEBOOK_NAME}/table_stats.csv', index=False)"
   ]
  },
  {
   "cell_type": "code",
   "execution_count": 414,
   "metadata": {},
   "outputs": [
    {
     "data": {
      "text/html": [
       "<div>\n",
       "<style scoped>\n",
       "    .dataframe tbody tr th:only-of-type {\n",
       "        vertical-align: middle;\n",
       "    }\n",
       "\n",
       "    .dataframe tbody tr th {\n",
       "        vertical-align: top;\n",
       "    }\n",
       "\n",
       "    .dataframe thead th {\n",
       "        text-align: right;\n",
       "    }\n",
       "</style>\n",
       "<table border=\"1\" class=\"dataframe\">\n",
       "  <thead>\n",
       "    <tr style=\"text-align: right;\">\n",
       "      <th></th>\n",
       "      <th>pmc_id</th>\n",
       "      <th>table_name</th>\n",
       "      <th>num_rows</th>\n",
       "      <th>num_columns</th>\n",
       "      <th>error_type</th>\n",
       "      <th>error_message</th>\n",
       "    </tr>\n",
       "  </thead>\n",
       "  <tbody>\n",
       "    <tr>\n",
       "      <th>0</th>\n",
       "      <td>PMC1033694</td>\n",
       "      <td>NaN</td>\n",
       "      <td>NaN</td>\n",
       "      <td>NaN</td>\n",
       "      <td>NaN</td>\n",
       "      <td>NaN</td>\n",
       "    </tr>\n",
       "    <tr>\n",
       "      <th>1</th>\n",
       "      <td>PMC1034939</td>\n",
       "      <td>NaN</td>\n",
       "      <td>NaN</td>\n",
       "      <td>NaN</td>\n",
       "      <td>NaN</td>\n",
       "      <td>NaN</td>\n",
       "    </tr>\n",
       "    <tr>\n",
       "      <th>2</th>\n",
       "      <td>PMC1035877</td>\n",
       "      <td>NaN</td>\n",
       "      <td>NaN</td>\n",
       "      <td>NaN</td>\n",
       "      <td>NaN</td>\n",
       "      <td>NaN</td>\n",
       "    </tr>\n",
       "    <tr>\n",
       "      <th>3</th>\n",
       "      <td>PMC1035885</td>\n",
       "      <td>NaN</td>\n",
       "      <td>NaN</td>\n",
       "      <td>NaN</td>\n",
       "      <td>NaN</td>\n",
       "      <td>NaN</td>\n",
       "    </tr>\n",
       "    <tr>\n",
       "      <th>4</th>\n",
       "      <td>PMC1035934</td>\n",
       "      <td>NaN</td>\n",
       "      <td>NaN</td>\n",
       "      <td>NaN</td>\n",
       "      <td>NaN</td>\n",
       "      <td>NaN</td>\n",
       "    </tr>\n",
       "  </tbody>\n",
       "</table>\n",
       "</div>"
      ],
      "text/plain": [
       "       pmc_id table_name  num_rows  num_columns  error_type  error_message\n",
       "0  PMC1033694        NaN       NaN          NaN         NaN            NaN\n",
       "1  PMC1034939        NaN       NaN          NaN         NaN            NaN\n",
       "2  PMC1035877        NaN       NaN          NaN         NaN            NaN\n",
       "3  PMC1035885        NaN       NaN          NaN         NaN            NaN\n",
       "4  PMC1035934        NaN       NaN          NaN         NaN            NaN"
      ]
     },
     "metadata": {},
     "output_type": "display_data"
    },
    {
     "name": "stdout",
     "output_type": "stream",
     "text": [
      "3926259\n"
     ]
    }
   ],
   "source": [
    "display(table_stats_df.head())\n",
    "print(len(table_stats_df))"
   ]
  },
  {
   "cell_type": "code",
   "execution_count": 417,
   "metadata": {
    "collapsed": true
   },
   "outputs": [],
   "source": [
    "def get_table_parser(table_name):\n",
    "    if pd.isnull(table_name):\n",
    "        return None\n",
    "    file_name = table_name.split('/')[-2]\n",
    "    if file_name.endswith('.nxml') or file_name.endswith('.xml'):\n",
    "        return 'xml'\n",
    "    elif file_name.endswith('.xls') or file_name.endswith('.xlsx'):\n",
    "        return 'excel'\n",
    "    elif (file_name.endswith('.csv') or file_name.endswith('.csv.gz') or \n",
    "          file_name.endswith('.tsv') or file_name.endswith('.tsv.gz')):\n",
    "        return 'text'\n",
    "    else:\n",
    "        raise Exception(f\"Unknown file {table_name}.\")"
   ]
  },
  {
   "cell_type": "code",
   "execution_count": 418,
   "metadata": {},
   "outputs": [],
   "source": [
    "table_stats_df['table_parser'] = table_stats_df['table_name'].apply(get_table_parser)"
   ]
  },
  {
   "cell_type": "code",
   "execution_count": 421,
   "metadata": {},
   "outputs": [
    {
     "data": {
      "text/plain": [
       "Counter({None: 1535628, 'xml': 2383704, 'text': 6927})"
      ]
     },
     "execution_count": 421,
     "metadata": {},
     "output_type": "execute_result"
    }
   ],
   "source": [
    "Counter(table_stats_df['table_parser'])"
   ]
  },
  {
   "cell_type": "code",
   "execution_count": 422,
   "metadata": {},
   "outputs": [
    {
     "data": {
      "text/html": [
       "<div>\n",
       "<style scoped>\n",
       "    .dataframe tbody tr th:only-of-type {\n",
       "        vertical-align: middle;\n",
       "    }\n",
       "\n",
       "    .dataframe tbody tr th {\n",
       "        vertical-align: top;\n",
       "    }\n",
       "\n",
       "    .dataframe thead th {\n",
       "        text-align: right;\n",
       "    }\n",
       "</style>\n",
       "<table border=\"1\" class=\"dataframe\">\n",
       "  <thead>\n",
       "    <tr style=\"text-align: right;\">\n",
       "      <th></th>\n",
       "      <th>pmc_id</th>\n",
       "      <th>table_name</th>\n",
       "      <th>num_rows</th>\n",
       "      <th>num_columns</th>\n",
       "      <th>error_type</th>\n",
       "      <th>error_message</th>\n",
       "      <th>table_parser</th>\n",
       "    </tr>\n",
       "  </thead>\n",
       "  <tbody>\n",
       "    <tr>\n",
       "      <th>0</th>\n",
       "      <td>PMC1033694</td>\n",
       "      <td>NaN</td>\n",
       "      <td>NaN</td>\n",
       "      <td>NaN</td>\n",
       "      <td>NaN</td>\n",
       "      <td>NaN</td>\n",
       "      <td>None</td>\n",
       "    </tr>\n",
       "    <tr>\n",
       "      <th>1</th>\n",
       "      <td>PMC1034939</td>\n",
       "      <td>NaN</td>\n",
       "      <td>NaN</td>\n",
       "      <td>NaN</td>\n",
       "      <td>NaN</td>\n",
       "      <td>NaN</td>\n",
       "      <td>None</td>\n",
       "    </tr>\n",
       "    <tr>\n",
       "      <th>2</th>\n",
       "      <td>PMC1035877</td>\n",
       "      <td>NaN</td>\n",
       "      <td>NaN</td>\n",
       "      <td>NaN</td>\n",
       "      <td>NaN</td>\n",
       "      <td>NaN</td>\n",
       "      <td>None</td>\n",
       "    </tr>\n",
       "    <tr>\n",
       "      <th>3</th>\n",
       "      <td>PMC1035885</td>\n",
       "      <td>NaN</td>\n",
       "      <td>NaN</td>\n",
       "      <td>NaN</td>\n",
       "      <td>NaN</td>\n",
       "      <td>NaN</td>\n",
       "      <td>None</td>\n",
       "    </tr>\n",
       "    <tr>\n",
       "      <th>4</th>\n",
       "      <td>PMC1035934</td>\n",
       "      <td>NaN</td>\n",
       "      <td>NaN</td>\n",
       "      <td>NaN</td>\n",
       "      <td>NaN</td>\n",
       "      <td>NaN</td>\n",
       "      <td>None</td>\n",
       "    </tr>\n",
       "  </tbody>\n",
       "</table>\n",
       "</div>"
      ],
      "text/plain": [
       "       pmc_id table_name  num_rows  num_columns  error_type  error_message table_parser\n",
       "0  PMC1033694        NaN       NaN          NaN         NaN            NaN         None\n",
       "1  PMC1034939        NaN       NaN          NaN         NaN            NaN         None\n",
       "2  PMC1035877        NaN       NaN          NaN         NaN            NaN         None\n",
       "3  PMC1035885        NaN       NaN          NaN         NaN            NaN         None\n",
       "4  PMC1035934        NaN       NaN          NaN         NaN            NaN         None"
      ]
     },
     "execution_count": 422,
     "metadata": {},
     "output_type": "execute_result"
    }
   ],
   "source": [
    "table_stats_df.head()"
   ]
  },
  {
   "cell_type": "code",
   "execution_count": 424,
   "metadata": {},
   "outputs": [
    {
     "data": {
      "text/plain": [
       "0.6081913958807266"
      ]
     },
     "execution_count": 424,
     "metadata": {},
     "output_type": "execute_result"
    }
   ],
   "source": [
    "2383704 / (1535628 + 2383704)"
   ]
  },
  {
   "cell_type": "markdown",
   "metadata": {},
   "source": [
    "### Make plots"
   ]
  },
  {
   "cell_type": "code",
   "execution_count": null,
   "metadata": {
    "collapsed": true
   },
   "outputs": [],
   "source": [
    "fg, axes = plt.sub"
   ]
  },
  {
   "cell_type": "code",
   "execution_count": 457,
   "metadata": {},
   "outputs": [
    {
     "data": {
      "text/html": [
       "<div>\n",
       "<style scoped>\n",
       "    .dataframe tbody tr th:only-of-type {\n",
       "        vertical-align: middle;\n",
       "    }\n",
       "\n",
       "    .dataframe tbody tr th {\n",
       "        vertical-align: top;\n",
       "    }\n",
       "\n",
       "    .dataframe thead th {\n",
       "        text-align: right;\n",
       "    }\n",
       "</style>\n",
       "<table border=\"1\" class=\"dataframe\">\n",
       "  <thead>\n",
       "    <tr style=\"text-align: right;\">\n",
       "      <th></th>\n",
       "      <th>pmc_id</th>\n",
       "      <th>table_name</th>\n",
       "      <th>num_rows</th>\n",
       "      <th>num_columns</th>\n",
       "      <th>error_type</th>\n",
       "      <th>error_message</th>\n",
       "      <th>table_parser</th>\n",
       "    </tr>\n",
       "  </thead>\n",
       "  <tbody>\n",
       "    <tr>\n",
       "      <th>3178</th>\n",
       "      <td>PMC3103576</td>\n",
       "      <td>/PMC3103576/pone.0020488.s002.csv/sheet_0</td>\n",
       "      <td>42.0</td>\n",
       "      <td>11.0</td>\n",
       "      <td>NaN</td>\n",
       "      <td>NaN</td>\n",
       "      <td>text</td>\n",
       "    </tr>\n",
       "    <tr>\n",
       "      <th>3179</th>\n",
       "      <td>PMC3103576</td>\n",
       "      <td>/PMC3103576/pone.0020488.s003.csv/sheet_0</td>\n",
       "      <td>35.0</td>\n",
       "      <td>11.0</td>\n",
       "      <td>NaN</td>\n",
       "      <td>NaN</td>\n",
       "      <td>text</td>\n",
       "    </tr>\n",
       "    <tr>\n",
       "      <th>5579</th>\n",
       "      <td>PMC3599933</td>\n",
       "      <td>/PMC3599933/1471-2288-13-1-S2.csv/sheet_0</td>\n",
       "      <td>51130.0</td>\n",
       "      <td>16.0</td>\n",
       "      <td>NaN</td>\n",
       "      <td>NaN</td>\n",
       "      <td>text</td>\n",
       "    </tr>\n",
       "    <tr>\n",
       "      <th>5644</th>\n",
       "      <td>PMC3617018</td>\n",
       "      <td>/PMC3617018/pcbi.1003017.s013.csv/sheet_0</td>\n",
       "      <td>16820.0</td>\n",
       "      <td>43.0</td>\n",
       "      <td>NaN</td>\n",
       "      <td>NaN</td>\n",
       "      <td>text</td>\n",
       "    </tr>\n",
       "    <tr>\n",
       "      <th>6455</th>\n",
       "      <td>PMC3799824</td>\n",
       "      <td>/PMC3799824/pone.0076539.s008.csv/sheet_0</td>\n",
       "      <td>2470.0</td>\n",
       "      <td>2.0</td>\n",
       "      <td>NaN</td>\n",
       "      <td>NaN</td>\n",
       "      <td>text</td>\n",
       "    </tr>\n",
       "  </tbody>\n",
       "</table>\n",
       "</div>"
      ],
      "text/plain": [
       "          pmc_id                                 table_name  num_rows  num_columns  error_type  error_message table_parser\n",
       "3178  PMC3103576  /PMC3103576/pone.0020488.s002.csv/sheet_0      42.0         11.0         NaN            NaN         text\n",
       "3179  PMC3103576  /PMC3103576/pone.0020488.s003.csv/sheet_0      35.0         11.0         NaN            NaN         text\n",
       "5579  PMC3599933  /PMC3599933/1471-2288-13-1-S2.csv/sheet_0   51130.0         16.0         NaN            NaN         text\n",
       "5644  PMC3617018  /PMC3617018/pcbi.1003017.s013.csv/sheet_0   16820.0         43.0         NaN            NaN         text\n",
       "6455  PMC3799824  /PMC3799824/pone.0076539.s008.csv/sheet_0    2470.0          2.0         NaN            NaN         text"
      ]
     },
     "execution_count": 457,
     "metadata": {},
     "output_type": "execute_result"
    }
   ],
   "source": [
    "df.head()"
   ]
  },
  {
   "cell_type": "code",
   "execution_count": 461,
   "metadata": {},
   "outputs": [
    {
     "data": {
      "text/plain": [
       "2396216"
      ]
     },
     "execution_count": 461,
     "metadata": {},
     "output_type": "execute_result"
    }
   ],
   "source": [
    "len(set(table_stats_df['pmc_id']))"
   ]
  },
  {
   "cell_type": "code",
   "execution_count": 462,
   "metadata": {},
   "outputs": [
    {
     "data": {
      "text/plain": [
       "860589"
      ]
     },
     "execution_count": 462,
     "metadata": {},
     "output_type": "execute_result"
    }
   ],
   "source": [
    "len(set(table_stats_df[table_stats_df['table_name'].notnull()]['pmc_id']))"
   ]
  },
  {
   "cell_type": "code",
   "execution_count": 463,
   "metadata": {},
   "outputs": [
    {
     "data": {
      "text/plain": [
       "0.35914500195307936"
      ]
     },
     "execution_count": 463,
     "metadata": {},
     "output_type": "execute_result"
    }
   ],
   "source": [
    "860589 / 2396216"
   ]
  },
  {
   "cell_type": "code",
   "execution_count": 551,
   "metadata": {},
   "outputs": [
    {
     "data": {
      "text/plain": [
       "100"
      ]
     },
     "execution_count": 551,
     "metadata": {},
     "output_type": "execute_result"
    }
   ],
   "source": [
    "64 + 36"
   ]
  },
  {
   "cell_type": "code",
   "execution_count": null,
   "metadata": {
    "collapsed": true
   },
   "outputs": [],
   "source": []
  },
  {
   "cell_type": "code",
   "execution_count": 518,
   "metadata": {
    "collapsed": true
   },
   "outputs": [],
   "source": [
    "table_stats_matches = pd.read_csv('query_mutation_tables/table_stats_matches.csv')"
   ]
  },
  {
   "cell_type": "code",
   "execution_count": null,
   "metadata": {
    "collapsed": true
   },
   "outputs": [],
   "source": []
  },
  {
   "cell_type": "code",
   "execution_count": null,
   "metadata": {
    "collapsed": true
   },
   "outputs": [],
   "source": []
  },
  {
   "cell_type": "code",
   "execution_count": 458,
   "metadata": {
    "collapsed": true
   },
   "outputs": [],
   "source": [
    "grps = table_stats_df.groupby('pmc_id')['table_name'].count()"
   ]
  },
  {
   "cell_type": "code",
   "execution_count": 546,
   "metadata": {},
   "outputs": [
    {
     "data": {
      "image/png": "[encoded data removed]",
      "text/plain": [
       "<matplotlib.figure.Figure at 0x7f155e376588>"
      ]
     },
     "metadata": {},
     "output_type": "display_data"
    }
   ],
   "source": [
    "fg, axes = plt.subplots(figsize=(8, 6))\n",
    "\n",
    "plt.hist(grps.values, range=(0, 10), bins=20)\n",
    "plt.xticks([0.25 + x for x in range(0, 10, 2)], range(0, 10, 2))\n",
    "\n",
    "plt.xlabel(\"Number of tables per article\")\n",
    "plt.ylabel(\"Number of articles\")\n",
    "\n",
    "plt.savefig(f'{NOTEBOOK_NAME}/tables_per_article.pdf', bbox_index='tight')\n",
    "plt.savefig(f'{NOTEBOOK_NAME}/tables_per_article.png', dpi=300, bbox_index='tight')"
   ]
  },
  {
   "cell_type": "code",
   "execution_count": 547,
   "metadata": {},
   "outputs": [
    {
     "data": {
      "image/png": "[encoded data removed]",
      "text/plain": [
       "<matplotlib.figure.Figure at 0x7f151d327ba8>"
      ]
     },
     "metadata": {},
     "output_type": "display_data"
    }
   ],
   "source": [
    "fg, axs = plt.subplots(1, 2, figsize=(16, 6))\n",
    "\n",
    "df = table_stats_df[['num_rows', 'num_columns']].dropna()\n",
    "\n",
    "plt.axes(axs[0])\n",
    "plt.hist(df['num_rows'], range=(0, 40), bins=40, alpha=0.8)\n",
    "plt.xlabel(\"Number of rows\")\n",
    "plt.ylabel(\"Number of tables\")\n",
    "\n",
    "plt.axes(axs[1])\n",
    "plt.hist(df['num_columns'], range=(0, 40), bins=40, alpha=0.8, facecolor='green')\n",
    "plt.xlabel(\"Number of columns\")\n",
    "\n",
    "# plt.suptitle(f\"All tables (n = {len(df):2,})\", y=1)\n",
    "# plt.tight_layout()\n",
    "\n",
    "plt.savefig(f'{NOTEBOOK_NAME}/all_tables_stats.pdf', bbox_index='tight')\n",
    "plt.savefig(f'{NOTEBOOK_NAME}/all_tables_stats.png', dpi=300, bbox_index='tight')"
   ]
  },
  {
   "cell_type": "code",
   "execution_count": 548,
   "metadata": {},
   "outputs": [
    {
     "data": {
      "image/png": "[encoded data removed]",
      "text/plain": [
       "<matplotlib.figure.Figure at 0x7f155ec3a6a0>"
      ]
     },
     "metadata": {},
     "output_type": "display_data"
    }
   ],
   "source": [
    "fg, axs = plt.subplots(1, 2, figsize=(16, 6))\n",
    "\n",
    "df = table_stats_df[table_stats_df['table_parser'] == 'text'][['num_rows', 'num_columns']].dropna()\n",
    "\n",
    "plt.axes(axs[0])\n",
    "plt.hist(df['num_rows'], range=(0, 600), bins=40, alpha=0.8)\n",
    "plt.xlabel(\"Number of rows\")\n",
    "plt.ylabel(\"Number of tables\")\n",
    "\n",
    "plt.axes(axs[1])\n",
    "plt.hist(df['num_columns'], range=(0, 40), bins=40, alpha=0.8, facecolor='green')\n",
    "plt.xlabel(\"Number of columns\")\n",
    "\n",
    "# plt.suptitle(f\"Tables extracted from CSV files (n = {len(df):2,})\", y=1)\n",
    "\n",
    "plt.savefig(f'{NOTEBOOK_NAME}/csv_tables_stats.pdf', bbox_index='tight')\n",
    "plt.savefig(f'{NOTEBOOK_NAME}/csv_tables_stats.png', dpi=300, bbox_index='tight')"
   ]
  },
  {
   "cell_type": "code",
   "execution_count": 549,
   "metadata": {},
   "outputs": [
    {
     "data": {
      "image/png": "[encoded data removed]",
      "text/plain": [
       "<matplotlib.figure.Figure at 0x7f155e6de9e8>"
      ]
     },
     "metadata": {},
     "output_type": "display_data"
    }
   ],
   "source": [
    "fg, axs = plt.subplots(1, 2, figsize=(16, 6))\n",
    "\n",
    "df = table_stats_matches\n",
    "\n",
    "plt.axes(axs[0])\n",
    "plt.hist(df['num_rows'], range=(0, 40), bins=40, alpha=0.8)\n",
    "plt.xlabel(\"Number of rows\")\n",
    "plt.ylabel(\"Number of tables\")\n",
    "\n",
    "plt.axes(axs[1])\n",
    "plt.hist(df['num_columns'], range=(0, 40), bins=40, alpha=0.8, facecolor='green')\n",
    "plt.xlabel(\"Number of columns\")\n",
    "\n",
    "# plt.suptitle(f\"Tables describing gene mutations (n = {len(df):2,})\", y=1)\n",
    "\n",
    "plt.savefig(f'{NOTEBOOK_NAME}/mutation_table_stats.pdf', bbox_index='tight')\n",
    "plt.savefig(f'{NOTEBOOK_NAME}/mutation_table_stats.png', dpi=300, bbox_index='tight')"
   ]
  },
  {
   "cell_type": "code",
   "execution_count": null,
   "metadata": {
    "collapsed": true
   },
   "outputs": [],
   "source": []
  },
  {
   "cell_type": "code",
   "execution_count": null,
   "metadata": {
    "collapsed": true
   },
   "outputs": [],
   "source": []
  },
  {
   "cell_type": "code",
   "execution_count": null,
   "metadata": {
    "collapsed": true
   },
   "outputs": [],
   "source": []
  },
  {
   "cell_type": "code",
   "execution_count": 452,
   "metadata": {},
   "outputs": [
    {
     "data": {
      "text/plain": [
       "Text(0.5,1,'All tables (n = 2,390,631)')"
      ]
     },
     "execution_count": 452,
     "metadata": {},
     "output_type": "execute_result"
    },
    {
     "data": {
      "image/png": "[encoded data removed]",
      "text/plain": [
       "<matplotlib.figure.Figure at 0x7f153c16ac18>"
      ]
     },
     "metadata": {},
     "output_type": "display_data"
    }
   ],
   "source": [
    "df = table_stats_df['num_rows'].dropna()\n",
    "\n",
    "plt.hist(df, range=(0, 40), bins=40, alpha=0.8)\n",
    "\n",
    "plt.xlabel(\"Number of rows\")\n",
    "plt.ylabel(\"Number of tables\")\n",
    "plt.title(f\"All tables (n = {len(df):2,})\")"
   ]
  },
  {
   "cell_type": "code",
   "execution_count": 454,
   "metadata": {},
   "outputs": [
    {
     "data": {
      "text/plain": [
       "Text(0.5,1,'Tables from CSV / TSV files (n = 6,927)')"
      ]
     },
     "execution_count": 454,
     "metadata": {},
     "output_type": "execute_result"
    },
    {
     "data": {
      "image/png": "[encoded data removed]",
      "text/plain": [
       "<matplotlib.figure.Figure at 0x7f157c314198>"
      ]
     },
     "metadata": {},
     "output_type": "display_data"
    }
   ],
   "source": [
    "df = table_stats_df[table_stats_df['table_parser'] == 'text']\n",
    "\n",
    "plt.hist(df['num_rows'].dropna(), range=(0, 1000), bins=40, alpha=0.8)\n",
    "\n",
    "plt.xlabel(\"Number of rows\")\n",
    "plt.ylabel(\"Number of tables\")\n",
    "plt.title(f\"Tables from CSV / TSV files (n = {len(df):2,})\")"
   ]
  },
  {
   "cell_type": "code",
   "execution_count": null,
   "metadata": {
    "collapsed": true
   },
   "outputs": [],
   "source": []
  },
  {
   "cell_type": "code",
   "execution_count": 425,
   "metadata": {},
   "outputs": [
    {
     "data": {
      "text/plain": [
       "22512954.0"
      ]
     },
     "execution_count": 425,
     "metadata": {},
     "output_type": "execute_result"
    }
   ],
   "source": [
    "table_stats_df['num_rows'].max()"
   ]
  },
  {
   "cell_type": "code",
   "execution_count": 428,
   "metadata": {},
   "outputs": [
    {
     "data": {
      "text/plain": [
       "Text(0,0.5,'Number of tables')"
      ]
     },
     "execution_count": 428,
     "metadata": {},
     "output_type": "execute_result"
    },
    {
     "data": {
      "image/png": "[encoded data removed]",
      "text/plain": [
       "<matplotlib.figure.Figure at 0x7f169f456400>"
      ]
     },
     "metadata": {},
     "output_type": "display_data"
    }
   ],
   "source": [
    "plt.hist(table_stats_df['num_columns'].dropna(), range=(0, 40), bins=40, alpha=0.8, facecolor='green')\n",
    "\n",
    "plt.xlabel(\"Number of columns\")\n",
    "plt.ylabel(\"Number of tables\")"
   ]
  },
  {
   "cell_type": "code",
   "execution_count": 434,
   "metadata": {},
   "outputs": [
    {
     "data": {
      "text/plain": [
       "Text(0,0.5,'Number of tables')"
      ]
     },
     "execution_count": 434,
     "metadata": {},
     "output_type": "execute_result"
    },
    {
     "data": {
      "image/png": "[encoded data removed]",
      "text/plain": [
       "<matplotlib.figure.Figure at 0x7f169f4db5f8>"
      ]
     },
     "metadata": {},
     "output_type": "display_data"
    }
   ],
   "source": [
    "df = table_stats_df[table_stats_df['table_parser'] == 'text']\n",
    "\n",
    "plt.hist(df['num_columns'].dropna(), range=(0, 40), bins=40, alpha=0.8, facecolor='green')\n",
    "\n",
    "plt.xlabel(\"Number of columns\")\n",
    "plt.ylabel(\"Number of tables\")"
   ]
  },
  {
   "cell_type": "code",
   "execution_count": null,
   "metadata": {
    "collapsed": true
   },
   "outputs": [],
   "source": []
  },
  {
   "cell_type": "code",
   "execution_count": null,
   "metadata": {
    "collapsed": true
   },
   "outputs": [],
   "source": []
  },
  {
   "cell_type": "code",
   "execution_count": 427,
   "metadata": {},
   "outputs": [
    {
     "data": {
      "text/plain": [
       "4701.0"
      ]
     },
     "execution_count": 427,
     "metadata": {},
     "output_type": "execute_result"
    }
   ],
   "source": [
    "table_stats_df['num_columns'].max()"
   ]
  },
  {
   "cell_type": "code",
   "execution_count": 91,
   "metadata": {},
   "outputs": [
    {
     "data": {
      "text/plain": [
       "<matplotlib.axes._subplots.AxesSubplot at 0x7fef8ca10198>"
      ]
     },
     "execution_count": 91,
     "metadata": {},
     "output_type": "execute_result"
    },
    {
     "data": {
      "image/png": "[encoded data removed]",
      "text/plain": [
       "<matplotlib.figure.Figure at 0x7fef8ca55da0>"
      ]
     },
     "metadata": {},
     "output_type": "display_data"
    }
   ],
   "source": [
    "sns.kdeplot(table_stats_df['num_columns'].dropna(), clip=(0, 20))"
   ]
  }
 ],
 "metadata": {
  "kernelspec": {
   "display_name": "Python 3",
   "language": "python",
   "name": "python3"
  },
  "language_info": {
   "codemirror_mode": {
    "name": "ipython",
    "version": 3
   },
   "file_extension": ".py",
   "mimetype": "text/x-python",
   "name": "python",
   "nbconvert_exporter": "python",
   "pygments_lexer": "ipython3",
   "version": "3.6.3"
  },
  "toc": {
   "nav_menu": {},
   "number_sections": false,
   "sideBar": false,
   "skip_h1_title": false,
   "toc_cell": false,
   "toc_position": {
    "height": "238px",
    "left": "1663.66px",
    "right": "20px",
    "top": "106.354px",
    "width": "282px"
   },
   "toc_section_display": "block",
   "toc_window_display": true
  }
 },
 "nbformat": 4,
 "nbformat_minor": 2
}
