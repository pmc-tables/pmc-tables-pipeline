{
 "cells": [
  {
   "cell_type": "markdown",
   "metadata": {
    "run_control": {
     "marked": false
    }
   },
   "source": [
    "# Summary\n",
    "\n",
    "Download PubMed (MedLine) XML files from the NCBI website.\n",
    "\n",
    "(using the browser plugin leads to pretty good speeds?!)\n",
    "\n",
    "> **Note:**\n",
    ">\n",
    "> At the moment, saving to Apache Parquet files leads to a crash at some point."
   ]
  },
  {
   "cell_type": "markdown",
   "metadata": {},
   "source": [
    "# Imports"
   ]
  },
  {
   "cell_type": "code",
   "execution_count": 1,
   "metadata": {},
   "outputs": [
    {
     "name": "stderr",
     "output_type": "stream",
     "text": [
      "Setting the PYTHON_VERSION environment variable.\n",
      "Setting the SPARK_MASTER environment variable.\n",
      "Setting the DB_TYPE environment variable.\n",
      "Setting the DB_PORT environment variable.\n"
     ]
    },
    {
     "name": "stdout",
     "output_type": "stream",
     "text": [
      "2017-12-20 12:10:12.554131\n"
     ]
    }
   ],
   "source": [
    "%run _imports.ipynb"
   ]
  },
  {
   "cell_type": "code",
   "execution_count": 2,
   "metadata": {
    "collapsed": true
   },
   "outputs": [],
   "source": [
    "import pmc_tables"
   ]
  },
  {
   "cell_type": "code",
   "execution_count": 3,
   "metadata": {
    "collapsed": true,
    "scrolled": true
   },
   "outputs": [],
   "source": [
    "NOTEBOOK_NAME = 'load_pubmed_xml_files'\n",
    "os.makedirs(NOTEBOOK_NAME, exist_ok=True)"
   ]
  },
  {
   "cell_type": "code",
   "execution_count": 4,
   "metadata": {},
   "outputs": [
    {
     "data": {
      "text/plain": [
       "['README.txt',\n",
       " 'medline17n0001.xml.gz',\n",
       " 'medline17n0001.xml.gz.md5',\n",
       " 'medline17n0002.xml.gz',\n",
       " 'medline17n0002.xml.gz.md5',\n",
       " 'medline17n0003.xml.gz',\n",
       " 'medline17n0003.xml.gz.md5',\n",
       " 'medline17n0004.xml.gz',\n",
       " 'medline17n0004.xml.gz.md5',\n",
       " 'medline17n0005.xml.gz']"
      ]
     },
     "execution_count": 4,
     "metadata": {},
     "output_type": "execute_result"
    }
   ],
   "source": [
    "sorted(os.listdir('../downloads/ncbi/pubmed/baseline/'))[:10]"
   ]
  },
  {
   "cell_type": "markdown",
   "metadata": {
    "heading_collapsed": true
   },
   "source": [
    "# Demo"
   ]
  },
  {
   "cell_type": "code",
   "execution_count": 5,
   "metadata": {
    "collapsed": true,
    "hidden": true
   },
   "outputs": [],
   "source": [
    "# html_table\n",
    "\n",
    "html_table = \"\"\"\\\n",
    "<table frame=\"box\" rules=\"groups\">\n",
    "  <thead>\n",
    "    <tr>\n",
    "      <th align=\"left\" valign=\"top\" rowspan=\"1\" colspan=\"1\">Variable</th>\n",
    "      <th align=\"center\" valign=\"top\" rowspan=\"1\" colspan=\"1\">Enrolled in study (n = 1319)</th>\n",
    "      <th align=\"center\" valign=\"top\" rowspan=\"1\" colspan=\"1\">Did not Enroll (n = 461)</th>\n",
    "      <th align=\"center\" valign=\"top\" rowspan=\"1\" colspan=\"1\">Test Statistic</th>\n",
    "      <th align=\"center\" valign=\"top\" rowspan=\"1\" colspan=\"1\">p-value</th>\n",
    "    </tr>\n",
    "  </thead>\n",
    "  <tbody>\n",
    "    <tr>\n",
    "      <td align=\"left\" valign=\"top\" rowspan=\"1\" colspan=\"1\">Treatment Assignment</td>\n",
    "      <td align=\"center\" valign=\"top\" rowspan=\"1\" colspan=\"1\"/>\n",
    "      <td align=\"center\" valign=\"top\" rowspan=\"1\" colspan=\"1\"/>\n",
    "      <td align=\"center\" valign=\"top\" rowspan=\"1\" colspan=\"1\"/>\n",
    "      <td align=\"center\" valign=\"top\" rowspan=\"1\" colspan=\"1\"/>\n",
    "    </tr>\n",
    "    <tr>\n",
    "      <td align=\"left\" valign=\"top\" rowspan=\"1\" colspan=\"1\">    Circumcision</td>\n",
    "      <td align=\"center\" valign=\"top\" rowspan=\"1\" colspan=\"1\">622 (47)</td>\n",
    "      <td align=\"center\" valign=\"top\" rowspan=\"1\" colspan=\"1\">266 (58)</td>\n",
    "      <td align=\"center\" valign=\"top\" rowspan=\"1\" colspan=\"1\">15.2</td>\n",
    "      <td align=\"center\" valign=\"top\" rowspan=\"1\" colspan=\"1\">&lt; 0.001</td>\n",
    "    </tr>\n",
    "    <tr>\n",
    "      <td align=\"left\" valign=\"top\" rowspan=\"1\" colspan=\"1\">    Control</td>\n",
    "      <td align=\"center\" valign=\"top\" rowspan=\"1\" colspan=\"1\">697 (53)</td>\n",
    "      <td align=\"center\" valign=\"top\" rowspan=\"1\" colspan=\"1\">195 (42)</td>\n",
    "      <td align=\"center\" valign=\"top\" rowspan=\"1\" colspan=\"1\"/>\n",
    "      <td align=\"center\" valign=\"top\" rowspan=\"1\" colspan=\"1\"/>\n",
    "    </tr>\n",
    "    <tr>\n",
    "      <td align=\"left\" valign=\"top\" rowspan=\"1\" colspan=\"1\">Age</td>\n",
    "      <td align=\"center\" valign=\"top\" rowspan=\"1\" colspan=\"1\"/>\n",
    "      <td align=\"center\" valign=\"top\" rowspan=\"1\" colspan=\"1\"/>\n",
    "      <td align=\"center\" valign=\"top\" rowspan=\"1\" colspan=\"1\"/>\n",
    "      <td align=\"center\" valign=\"top\" rowspan=\"1\" colspan=\"1\"/>\n",
    "    </tr>\n",
    "    <tr>\n",
    "      <td align=\"left\" valign=\"top\" rowspan=\"1\" colspan=\"1\">    18-20</td>\n",
    "      <td align=\"center\" valign=\"top\" rowspan=\"1\" colspan=\"1\">600 (46)</td>\n",
    "      <td align=\"center\" valign=\"top\" rowspan=\"1\" colspan=\"1\">185 (41)</td>\n",
    "      <td align=\"center\" valign=\"top\" rowspan=\"1\" colspan=\"1\">3.6</td>\n",
    "      <td align=\"center\" valign=\"top\" rowspan=\"1\" colspan=\"1\">0.03</td>\n",
    "    </tr>\n",
    "    <tr>\n",
    "      <td align=\"left\" valign=\"top\" rowspan=\"1\" colspan=\"1\">    21-24</td>\n",
    "      <td align=\"center\" valign=\"top\" rowspan=\"1\" colspan=\"1\">700 (54)</td>\n",
    "      <td align=\"center\" valign=\"top\" rowspan=\"1\" colspan=\"1\">266 (59)</td>\n",
    "      <td align=\"center\" valign=\"top\" rowspan=\"1\" colspan=\"1\"/>\n",
    "      <td align=\"center\" valign=\"top\" rowspan=\"1\" colspan=\"1\"/>\n",
    "    </tr>\n",
    "    <tr>\n",
    "      <td align=\"left\" valign=\"top\" rowspan=\"1\" colspan=\"1\">Education</td>\n",
    "      <td align=\"center\" valign=\"top\" rowspan=\"1\" colspan=\"1\"/>\n",
    "      <td align=\"center\" valign=\"top\" rowspan=\"1\" colspan=\"1\"/>\n",
    "      <td align=\"center\" valign=\"top\" rowspan=\"1\" colspan=\"1\"/>\n",
    "      <td align=\"center\" valign=\"top\" rowspan=\"1\" colspan=\"1\"/>\n",
    "    </tr>\n",
    "    <tr>\n",
    "      <td align=\"left\" valign=\"top\" rowspan=\"1\" colspan=\"1\">    Primary (0-8)</td>\n",
    "      <td align=\"center\" valign=\"top\" rowspan=\"1\" colspan=\"1\">455 (34)</td>\n",
    "      <td align=\"center\" valign=\"top\" rowspan=\"1\" colspan=\"1\">191 (41)</td>\n",
    "      <td align=\"center\" valign=\"top\" rowspan=\"1\" colspan=\"1\">7.2</td>\n",
    "      <td align=\"center\" valign=\"top\" rowspan=\"1\" colspan=\"1\">0.03</td>\n",
    "    </tr>\n",
    "    <tr>\n",
    "      <td align=\"left\" valign=\"top\" rowspan=\"1\" colspan=\"1\">    Secondary (9-12)</td>\n",
    "      <td align=\"center\" valign=\"top\" rowspan=\"1\" colspan=\"1\">761 (58)</td>\n",
    "      <td align=\"center\" valign=\"top\" rowspan=\"1\" colspan=\"1\">236 (51)</td>\n",
    "      <td align=\"center\" valign=\"top\" rowspan=\"1\" colspan=\"1\"/>\n",
    "      <td align=\"center\" valign=\"top\" rowspan=\"1\" colspan=\"1\"/>\n",
    "    </tr>\n",
    "    <tr>\n",
    "      <td align=\"left\" valign=\"top\" rowspan=\"1\" colspan=\"1\">    Post-Secondary (13 or more)</td>\n",
    "      <td align=\"center\" valign=\"top\" rowspan=\"1\" colspan=\"1\">103 (8)</td>\n",
    "      <td align=\"center\" valign=\"top\" rowspan=\"1\" colspan=\"1\">34 (7)</td>\n",
    "      <td align=\"center\" valign=\"top\" rowspan=\"1\" colspan=\"1\"/>\n",
    "      <td align=\"center\" valign=\"top\" rowspan=\"1\" colspan=\"1\"/>\n",
    "    </tr>\n",
    "    <tr>\n",
    "      <td align=\"left\" valign=\"top\" rowspan=\"1\" colspan=\"1\">Employment Status</td>\n",
    "      <td align=\"center\" valign=\"top\" rowspan=\"1\" colspan=\"1\"/>\n",
    "      <td align=\"center\" valign=\"top\" rowspan=\"1\" colspan=\"1\"/>\n",
    "      <td align=\"center\" valign=\"top\" rowspan=\"1\" colspan=\"1\"/>\n",
    "      <td align=\"center\" valign=\"top\" rowspan=\"1\" colspan=\"1\"/>\n",
    "    </tr>\n",
    "    <tr>\n",
    "      <td align=\"left\" valign=\"top\" rowspan=\"1\" colspan=\"1\">    Employed</td>\n",
    "      <td align=\"center\" valign=\"top\" rowspan=\"1\" colspan=\"1\">94 (7)</td>\n",
    "      <td align=\"center\" valign=\"top\" rowspan=\"1\" colspan=\"1\">43 (9)</td>\n",
    "      <td align=\"center\" valign=\"top\" rowspan=\"1\" colspan=\"1\">8.4</td>\n",
    "      <td align=\"center\" valign=\"top\" rowspan=\"1\" colspan=\"1\">0.02</td>\n",
    "    </tr>\n",
    "    <tr>\n",
    "      <td align=\"left\" valign=\"top\" rowspan=\"1\" colspan=\"1\">    Self-Employed</td>\n",
    "      <td align=\"center\" valign=\"top\" rowspan=\"1\" colspan=\"1\">338 (26)</td>\n",
    "      <td align=\"center\" valign=\"top\" rowspan=\"1\" colspan=\"1\">142 (31)</td>\n",
    "      <td align=\"center\" valign=\"top\" rowspan=\"1\" colspan=\"1\"/>\n",
    "      <td align=\"center\" valign=\"top\" rowspan=\"1\" colspan=\"1\"/>\n",
    "    </tr>\n",
    "    <tr>\n",
    "      <td align=\"left\" valign=\"top\" rowspan=\"1\" colspan=\"1\">    Unemployed</td>\n",
    "      <td align=\"center\" valign=\"top\" rowspan=\"1\" colspan=\"1\">887 (67)</td>\n",
    "      <td align=\"center\" valign=\"top\" rowspan=\"1\" colspan=\"1\">276 (60)</td>\n",
    "      <td align=\"center\" valign=\"top\" rowspan=\"1\" colspan=\"1\"/>\n",
    "      <td align=\"center\" valign=\"top\" rowspan=\"1\" colspan=\"1\"/>\n",
    "    </tr>\n",
    "    <tr>\n",
    "      <td align=\"left\" valign=\"top\" rowspan=\"1\" colspan=\"1\">Occupation</td>\n",
    "      <td align=\"center\" valign=\"top\" rowspan=\"1\" colspan=\"1\"/>\n",
    "      <td align=\"center\" valign=\"top\" rowspan=\"1\" colspan=\"1\"/>\n",
    "      <td align=\"center\" valign=\"top\" rowspan=\"1\" colspan=\"1\"/>\n",
    "      <td align=\"center\" valign=\"top\" rowspan=\"1\" colspan=\"1\"/>\n",
    "    </tr>\n",
    "    <tr>\n",
    "      <td align=\"left\" valign=\"top\" rowspan=\"1\" colspan=\"1\">    Farm laborer/Fisherman</td>\n",
    "      <td align=\"center\" valign=\"top\" rowspan=\"1\" colspan=\"1\">119 (9)</td>\n",
    "      <td align=\"center\" valign=\"top\" rowspan=\"1\" colspan=\"1\">33 (7)</td>\n",
    "      <td align=\"center\" valign=\"top\" rowspan=\"1\" colspan=\"1\">11.2</td>\n",
    "      <td align=\"center\" valign=\"top\" rowspan=\"1\" colspan=\"1\">0.05</td>\n",
    "    </tr>\n",
    "    <tr>\n",
    "      <td align=\"left\" valign=\"top\" rowspan=\"1\" colspan=\"1\">    Professional/Managerial</td>\n",
    "      <td align=\"center\" valign=\"top\" rowspan=\"1\" colspan=\"1\">9 (&lt;1)</td>\n",
    "      <td align=\"center\" valign=\"top\" rowspan=\"1\" colspan=\"1\">10 (2)</td>\n",
    "      <td align=\"center\" valign=\"top\" rowspan=\"1\" colspan=\"1\"/>\n",
    "      <td align=\"center\" valign=\"top\" rowspan=\"1\" colspan=\"1\"/>\n",
    "    </tr>\n",
    "    <tr>\n",
    "      <td align=\"left\" valign=\"top\" rowspan=\"1\" colspan=\"1\">    Semi-skilled worker</td>\n",
    "      <td align=\"center\" valign=\"top\" rowspan=\"1\" colspan=\"1\">78 (6)</td>\n",
    "      <td align=\"center\" valign=\"top\" rowspan=\"1\" colspan=\"1\">33 (7)</td>\n",
    "      <td align=\"center\" valign=\"top\" rowspan=\"1\" colspan=\"1\"/>\n",
    "      <td align=\"center\" valign=\"top\" rowspan=\"1\" colspan=\"1\"/>\n",
    "    </tr>\n",
    "    <tr>\n",
    "      <td align=\"left\" valign=\"top\" rowspan=\"1\" colspan=\"1\">    Skilled Worker</td>\n",
    "      <td align=\"center\" valign=\"top\" rowspan=\"1\" colspan=\"1\">92 (7)</td>\n",
    "      <td align=\"center\" valign=\"top\" rowspan=\"1\" colspan=\"1\">40 (9)</td>\n",
    "      <td align=\"center\" valign=\"top\" rowspan=\"1\" colspan=\"1\"/>\n",
    "      <td align=\"center\" valign=\"top\" rowspan=\"1\" colspan=\"1\"/>\n",
    "    </tr>\n",
    "    <tr>\n",
    "      <td align=\"left\" valign=\"top\" rowspan=\"1\" colspan=\"1\">    Student</td>\n",
    "      <td align=\"center\" valign=\"top\" rowspan=\"1\" colspan=\"1\">293 (22)</td>\n",
    "      <td align=\"center\" valign=\"top\" rowspan=\"1\" colspan=\"1\">94 (20)</td>\n",
    "      <td align=\"center\" valign=\"top\" rowspan=\"1\" colspan=\"1\"/>\n",
    "      <td align=\"center\" valign=\"top\" rowspan=\"1\" colspan=\"1\"/>\n",
    "    </tr>\n",
    "    <tr>\n",
    "      <td align=\"left\" valign=\"top\" rowspan=\"1\" colspan=\"1\">    Unskilled Worker</td>\n",
    "      <td align=\"center\" valign=\"top\" rowspan=\"1\" colspan=\"1\">728 (55)</td>\n",
    "      <td align=\"center\" valign=\"top\" rowspan=\"1\" colspan=\"1\">251 (54)</td>\n",
    "      <td align=\"center\" valign=\"top\" rowspan=\"1\" colspan=\"1\"/>\n",
    "      <td align=\"center\" valign=\"top\" rowspan=\"1\" colspan=\"1\"/>\n",
    "    </tr>\n",
    "    <tr>\n",
    "      <td align=\"left\" valign=\"top\" rowspan=\"1\" colspan=\"1\">Income</td>\n",
    "      <td align=\"center\" valign=\"top\" rowspan=\"1\" colspan=\"1\"/>\n",
    "      <td align=\"center\" valign=\"top\" rowspan=\"1\" colspan=\"1\"/>\n",
    "      <td align=\"center\" valign=\"top\" rowspan=\"1\" colspan=\"1\"/>\n",
    "      <td align=\"center\" valign=\"top\" rowspan=\"1\" colspan=\"1\"/>\n",
    "    </tr>\n",
    "    <tr>\n",
    "      <td align=\"left\" valign=\"top\" rowspan=\"1\" colspan=\"1\">    2000 ksh/month or less</td>\n",
    "      <td align=\"center\" valign=\"top\" rowspan=\"1\" colspan=\"1\">702 (53)</td>\n",
    "      <td align=\"center\" valign=\"top\" rowspan=\"1\" colspan=\"1\">230 (50)</td>\n",
    "      <td align=\"center\" valign=\"top\" rowspan=\"1\" colspan=\"1\">1.3</td>\n",
    "      <td align=\"center\" valign=\"top\" rowspan=\"1\" colspan=\"1\">0.25</td>\n",
    "    </tr>\n",
    "    <tr>\n",
    "      <td align=\"left\" valign=\"top\" rowspan=\"1\" colspan=\"1\">    More than 2000 ksh/month</td>\n",
    "      <td align=\"center\" valign=\"top\" rowspan=\"1\" colspan=\"1\">616 (46)</td>\n",
    "      <td align=\"center\" valign=\"top\" rowspan=\"1\" colspan=\"1\">231 (50)</td>\n",
    "      <td align=\"center\" valign=\"top\" rowspan=\"1\" colspan=\"1\"/>\n",
    "      <td align=\"center\" valign=\"top\" rowspan=\"1\" colspan=\"1\"/>\n",
    "    </tr>\n",
    "    <tr>\n",
    "      <td align=\"left\" valign=\"top\" rowspan=\"1\" colspan=\"1\">Marital Status</td>\n",
    "      <td align=\"center\" valign=\"top\" rowspan=\"1\" colspan=\"1\"/>\n",
    "      <td align=\"center\" valign=\"top\" rowspan=\"1\" colspan=\"1\"/>\n",
    "      <td align=\"center\" valign=\"top\" rowspan=\"1\" colspan=\"1\"/>\n",
    "      <td align=\"center\" valign=\"top\" rowspan=\"1\" colspan=\"1\"/>\n",
    "    </tr>\n",
    "    <tr>\n",
    "      <td align=\"left\" valign=\"top\" rowspan=\"1\" colspan=\"1\">    Married</td>\n",
    "      <td align=\"center\" valign=\"top\" rowspan=\"1\" colspan=\"1\">72 (5)</td>\n",
    "      <td align=\"center\" valign=\"top\" rowspan=\"1\" colspan=\"1\">30 (7)</td>\n",
    "      <td align=\"center\" valign=\"top\" rowspan=\"1\" colspan=\"1\">0.68</td>\n",
    "      <td align=\"center\" valign=\"top\" rowspan=\"1\" colspan=\"1\">0.40</td>\n",
    "    </tr>\n",
    "    <tr>\n",
    "      <td align=\"left\" valign=\"top\" rowspan=\"1\" colspan=\"1\">    Single</td>\n",
    "      <td align=\"center\" valign=\"top\" rowspan=\"1\" colspan=\"1\">1246 (95)</td>\n",
    "      <td align=\"center\" valign=\"top\" rowspan=\"1\" colspan=\"1\">431 (93)</td>\n",
    "      <td align=\"center\" valign=\"top\" rowspan=\"1\" colspan=\"1\"/>\n",
    "      <td align=\"center\" valign=\"top\" rowspan=\"1\" colspan=\"1\"/>\n",
    "    </tr>\n",
    "    <tr>\n",
    "      <td align=\"left\" valign=\"top\" rowspan=\"1\" colspan=\"1\">Lifetime Sex Partners<xref ref-type=\"table-fn\" rid=\"TFN1\">*</xref></td>\n",
    "      <td align=\"center\" valign=\"top\" rowspan=\"1\" colspan=\"1\">Median</td>\n",
    "      <td align=\"center\" valign=\"top\" rowspan=\"1\" colspan=\"1\">Median</td>\n",
    "      <td align=\"center\" valign=\"top\" rowspan=\"1\" colspan=\"1\"/>\n",
    "      <td align=\"center\" valign=\"top\" rowspan=\"1\" colspan=\"1\"/>\n",
    "    </tr>\n",
    "    <tr>\n",
    "      <td align=\"left\" valign=\"top\" rowspan=\"1\" colspan=\"1\"/>\n",
    "      <td align=\"center\" valign=\"top\" rowspan=\"1\" colspan=\"1\">4.0</td>\n",
    "      <td align=\"center\" valign=\"top\" rowspan=\"1\" colspan=\"1\">4.0</td>\n",
    "      <td align=\"center\" valign=\"top\" rowspan=\"1\" colspan=\"1\">0.01</td>\n",
    "      <td align=\"center\" valign=\"top\" rowspan=\"1\" colspan=\"1\">0.95</td>\n",
    "    </tr>\n",
    "    <tr>\n",
    "      <td align=\"left\" valign=\"top\" rowspan=\"1\" colspan=\"1\"/>\n",
    "      <td align=\"center\" valign=\"top\" rowspan=\"1\" colspan=\"1\">IQR 1-7</td>\n",
    "      <td align=\"center\" valign=\"top\" rowspan=\"1\" colspan=\"1\">IQR: 1-7</td>\n",
    "      <td align=\"center\" valign=\"top\" rowspan=\"1\" colspan=\"1\"/>\n",
    "      <td align=\"center\" valign=\"top\" rowspan=\"1\" colspan=\"1\"/>\n",
    "    </tr>\n",
    "    <tr>\n",
    "      <td align=\"left\" valign=\"top\" rowspan=\"1\" colspan=\"1\">Number of Sex Partners last 6 months</td>\n",
    "      <td align=\"center\" valign=\"top\" rowspan=\"1\" colspan=\"1\"/>\n",
    "      <td align=\"center\" valign=\"top\" rowspan=\"1\" colspan=\"1\"/>\n",
    "      <td align=\"center\" valign=\"top\" rowspan=\"1\" colspan=\"1\"/>\n",
    "      <td align=\"center\" valign=\"top\" rowspan=\"1\" colspan=\"1\"/>\n",
    "    </tr>\n",
    "    <tr>\n",
    "      <td align=\"left\" valign=\"top\" rowspan=\"1\" colspan=\"1\">    None</td>\n",
    "      <td align=\"center\" valign=\"top\" rowspan=\"1\" colspan=\"1\">141 (11)</td>\n",
    "      <td align=\"center\" valign=\"top\" rowspan=\"1\" colspan=\"1\">53 (11)</td>\n",
    "      <td align=\"center\" valign=\"top\" rowspan=\"1\" colspan=\"1\">0.53</td>\n",
    "      <td align=\"center\" valign=\"top\" rowspan=\"1\" colspan=\"1\">0.77</td>\n",
    "    </tr>\n",
    "    <tr>\n",
    "      <td align=\"left\" valign=\"top\" rowspan=\"1\" colspan=\"1\">    One</td>\n",
    "      <td align=\"center\" valign=\"top\" rowspan=\"1\" colspan=\"1\">577 (44)</td>\n",
    "      <td align=\"center\" valign=\"top\" rowspan=\"1\" colspan=\"1\">207 (45)</td>\n",
    "      <td align=\"center\" valign=\"top\" rowspan=\"1\" colspan=\"1\"/>\n",
    "      <td align=\"center\" valign=\"top\" rowspan=\"1\" colspan=\"1\"/>\n",
    "    </tr>\n",
    "    <tr>\n",
    "      <td align=\"left\" valign=\"top\" rowspan=\"1\" colspan=\"1\">    More than one</td>\n",
    "      <td align=\"center\" valign=\"top\" rowspan=\"1\" colspan=\"1\">598 (45)</td>\n",
    "      <td align=\"center\" valign=\"top\" rowspan=\"1\" colspan=\"1\">201 (44)</td>\n",
    "      <td align=\"center\" valign=\"top\" rowspan=\"1\" colspan=\"1\"/>\n",
    "      <td align=\"center\" valign=\"top\" rowspan=\"1\" colspan=\"1\"/>\n",
    "    </tr>\n",
    "    <tr>\n",
    "      <td align=\"left\" valign=\"top\" rowspan=\"1\" colspan=\"1\">Diagnosed with a STI at baseline</td>\n",
    "      <td align=\"center\" valign=\"top\" rowspan=\"1\" colspan=\"1\"/>\n",
    "      <td align=\"center\" valign=\"top\" rowspan=\"1\" colspan=\"1\"/>\n",
    "      <td align=\"center\" valign=\"top\" rowspan=\"1\" colspan=\"1\"/>\n",
    "      <td align=\"center\" valign=\"top\" rowspan=\"1\" colspan=\"1\"/>\n",
    "    </tr>\n",
    "    <tr>\n",
    "      <td align=\"left\" valign=\"top\" rowspan=\"1\" colspan=\"1\">    Yes</td>\n",
    "      <td align=\"center\" valign=\"top\" rowspan=\"1\" colspan=\"1\">114 (9)</td>\n",
    "      <td align=\"center\" valign=\"top\" rowspan=\"1\" colspan=\"1\">37 (8)</td>\n",
    "      <td align=\"center\" valign=\"top\" rowspan=\"1\" colspan=\"1\">0.17</td>\n",
    "      <td align=\"center\" valign=\"top\" rowspan=\"1\" colspan=\"1\">0.68</td>\n",
    "    </tr>\n",
    "    <tr>\n",
    "      <td align=\"left\" valign=\"top\" rowspan=\"1\" colspan=\"1\">    No</td>\n",
    "      <td align=\"center\" valign=\"top\" rowspan=\"1\" colspan=\"1\">1205 (91)</td>\n",
    "      <td align=\"center\" valign=\"top\" rowspan=\"1\" colspan=\"1\">424 (92)</td>\n",
    "      <td align=\"center\" valign=\"top\" rowspan=\"1\" colspan=\"1\"/>\n",
    "      <td align=\"center\" valign=\"top\" rowspan=\"1\" colspan=\"1\"/>\n",
    "    </tr>\n",
    "  </tbody>\n",
    "</table>\n",
    "\"\"\""
   ]
  },
  {
   "cell_type": "markdown",
   "metadata": {},
   "source": [
    "# Get growth statistics"
   ]
  },
  {
   "cell_type": "code",
   "execution_count": 5,
   "metadata": {
    "collapsed": true
   },
   "outputs": [],
   "source": [
    "pubmed_xml_files = (\n",
    "    sorted(glob.glob('../downloads/ncbi/pubmed/baseline/*.xml.gz')) + \n",
    "    sorted(glob.glob('../downloads/ncbi/pubmed/updatefiles/*.xml.gz'))\n",
    ")"
   ]
  },
  {
   "cell_type": "code",
   "execution_count": 6,
   "metadata": {},
   "outputs": [
    {
     "data": {
      "text/plain": [
       "1398"
      ]
     },
     "execution_count": 6,
     "metadata": {},
     "output_type": "execute_result"
    }
   ],
   "source": [
    "len(pubmed_xml_files)"
   ]
  },
  {
   "cell_type": "code",
   "execution_count": 7,
   "metadata": {
    "collapsed": true
   },
   "outputs": [],
   "source": [
    "def worker(filename):\n",
    "    data = pmc_tables.extern.parse_pubmed_xml_file(filename)\n",
    "    df = pd.DataFrame(data)\n",
    "    df_kept = df[['pmid', 'year_published', 'pmc']]\n",
    "    return df_kept"
   ]
  },
  {
   "cell_type": "markdown",
   "metadata": {},
   "source": [
    "## Calculate first half"
   ]
  },
  {
   "cell_type": "code",
   "execution_count": 9,
   "metadata": {
    "collapsed": true
   },
   "outputs": [],
   "source": [
    "with concurrent.futures.ProcessPoolExecutor(32) as p:\n",
    "    results = list(p.map(worker, pubmed_xml_files[:700]))"
   ]
  },
  {
   "cell_type": "code",
   "execution_count": 10,
   "metadata": {
    "collapsed": true
   },
   "outputs": [],
   "source": [
    "results1 = results"
   ]
  },
  {
   "cell_type": "code",
   "execution_count": 12,
   "metadata": {
    "collapsed": true
   },
   "outputs": [],
   "source": [
    "results1_df = pd.concat(results1, ignore_index=True)"
   ]
  },
  {
   "cell_type": "code",
   "execution_count": 13,
   "metadata": {
    "collapsed": true
   },
   "outputs": [],
   "source": [
    "# results1_df.to_parquet(f'{NOTEBOOK_NAME}/results1.parquet')"
   ]
  },
  {
   "cell_type": "markdown",
   "metadata": {},
   "source": [
    "## Calculate second half"
   ]
  },
  {
   "cell_type": "code",
   "execution_count": null,
   "metadata": {
    "collapsed": true
   },
   "outputs": [],
   "source": [
    "with concurrent.futures.ProcessPoolExecutor(32) as p:\n",
    "    results = list(p.map(worker, pubmed_xml_files[700:]))"
   ]
  },
  {
   "cell_type": "code",
   "execution_count": null,
   "metadata": {
    "collapsed": true
   },
   "outputs": [],
   "source": [
    "results2 = results"
   ]
  },
  {
   "cell_type": "code",
   "execution_count": null,
   "metadata": {
    "collapsed": true
   },
   "outputs": [],
   "source": [
    "results2_df = pd.concat(results2, ignore_index=True)"
   ]
  },
  {
   "cell_type": "code",
   "execution_count": null,
   "metadata": {
    "collapsed": true
   },
   "outputs": [],
   "source": [
    "# results2_df.to_parquet(f'{NOTEBOOK_NAME}/results2.parquet')"
   ]
  },
  {
   "cell_type": "markdown",
   "metadata": {},
   "source": [
    "## Merge results"
   ]
  },
  {
   "cell_type": "code",
   "execution_count": 27,
   "metadata": {
    "collapsed": true
   },
   "outputs": [],
   "source": [
    "results1_df = pd.read_parquet(f'{NOTEBOOK_NAME}/results1.parquet')"
   ]
  },
  {
   "cell_type": "code",
   "execution_count": 28,
   "metadata": {
    "collapsed": true
   },
   "outputs": [],
   "source": [
    "results2_df = pd.read_parquet(f'{NOTEBOOK_NAME}/results2.parquet')"
   ]
  },
  {
   "cell_type": "code",
   "execution_count": 29,
   "metadata": {
    "collapsed": true,
    "run_control": {
     "marked": false
    }
   },
   "outputs": [],
   "source": [
    "results_df = pd.concat([results1_df, results2_df], ignore_index=True)"
   ]
  },
  {
   "cell_type": "code",
   "execution_count": 30,
   "metadata": {
    "collapsed": true
   },
   "outputs": [],
   "source": [
    "results_df.to_parquet(f'{NOTEBOOK_NAME}/results_all.parquet')"
   ]
  },
  {
   "cell_type": "markdown",
   "metadata": {},
   "source": [
    "## Clean data"
   ]
  },
  {
   "cell_type": "code",
   "execution_count": 32,
   "metadata": {
    "collapsed": true
   },
   "outputs": [],
   "source": [
    "df = pd.read_parquet(f'{NOTEBOOK_NAME}/results_all.parquet')"
   ]
  },
  {
   "cell_type": "code",
   "execution_count": 34,
   "metadata": {},
   "outputs": [
    {
     "data": {
      "text/html": [
       "<div>\n",
       "<style scoped>\n",
       "    .dataframe tbody tr th:only-of-type {\n",
       "        vertical-align: middle;\n",
       "    }\n",
       "\n",
       "    .dataframe tbody tr th {\n",
       "        vertical-align: top;\n",
       "    }\n",
       "\n",
       "    .dataframe thead th {\n",
       "        text-align: right;\n",
       "    }\n",
       "</style>\n",
       "<table border=\"1\" class=\"dataframe\">\n",
       "  <thead>\n",
       "    <tr style=\"text-align: right;\">\n",
       "      <th></th>\n",
       "      <th>pmid</th>\n",
       "      <th>year_published</th>\n",
       "      <th>pmc</th>\n",
       "    </tr>\n",
       "  </thead>\n",
       "  <tbody>\n",
       "    <tr>\n",
       "      <th>0</th>\n",
       "      <td>1.0</td>\n",
       "      <td>1975.0</td>\n",
       "      <td>None</td>\n",
       "    </tr>\n",
       "    <tr>\n",
       "      <th>1</th>\n",
       "      <td>2.0</td>\n",
       "      <td>1975.0</td>\n",
       "      <td>None</td>\n",
       "    </tr>\n",
       "    <tr>\n",
       "      <th>2</th>\n",
       "      <td>4.0</td>\n",
       "      <td>1975.0</td>\n",
       "      <td>None</td>\n",
       "    </tr>\n",
       "    <tr>\n",
       "      <th>3</th>\n",
       "      <td>5.0</td>\n",
       "      <td>1975.0</td>\n",
       "      <td>None</td>\n",
       "    </tr>\n",
       "    <tr>\n",
       "      <th>4</th>\n",
       "      <td>3.0</td>\n",
       "      <td>1975.0</td>\n",
       "      <td>None</td>\n",
       "    </tr>\n",
       "  </tbody>\n",
       "</table>\n",
       "</div>"
      ],
      "text/plain": [
       "   pmid  year_published   pmc\n",
       "0   1.0          1975.0  None\n",
       "1   2.0          1975.0  None\n",
       "2   4.0          1975.0  None\n",
       "3   5.0          1975.0  None\n",
       "4   3.0          1975.0  None"
      ]
     },
     "metadata": {},
     "output_type": "display_data"
    },
    {
     "name": "stdout",
     "output_type": "stream",
     "text": [
      "35255341\n"
     ]
    }
   ],
   "source": [
    "display(df.head())\n",
    "print(len(df))"
   ]
  },
  {
   "cell_type": "code",
   "execution_count": 35,
   "metadata": {},
   "outputs": [
    {
     "name": "stdout",
     "output_type": "stream",
     "text": [
      "35255071\n"
     ]
    }
   ],
   "source": [
    "df = df.dropna(subset=['pmid'])\n",
    "print(len(df))"
   ]
  },
  {
   "cell_type": "code",
   "execution_count": 36,
   "metadata": {},
   "outputs": [
    {
     "name": "stdout",
     "output_type": "stream",
     "text": [
      "27961268\n"
     ]
    }
   ],
   "source": [
    "df = df.drop_duplicates(subset=['pmid'])\n",
    "print(len(df))"
   ]
  },
  {
   "cell_type": "code",
   "execution_count": 37,
   "metadata": {},
   "outputs": [
    {
     "name": "stdout",
     "output_type": "stream",
     "text": [
      "25928344\n"
     ]
    }
   ],
   "source": [
    "df = df.dropna(subset=['year_published'])\n",
    "print(len(df))"
   ]
  },
  {
   "cell_type": "code",
   "execution_count": null,
   "metadata": {
    "collapsed": true
   },
   "outputs": [],
   "source": [
    "table = pa.Table.from_pandas(df)"
   ]
  },
  {
   "cell_type": "code",
   "execution_count": 41,
   "metadata": {
    "collapsed": true
   },
   "outputs": [],
   "source": [
    "pq.write_table(table, f'{NOTEBOOK_NAME}/results_all_cleaned.parquet')"
   ]
  },
  {
   "cell_type": "markdown",
   "metadata": {},
   "source": [
    "# Make plots"
   ]
  },
  {
   "cell_type": "markdown",
   "metadata": {},
   "source": [
    "## Load data"
   ]
  },
  {
   "cell_type": "code",
   "execution_count": 8,
   "metadata": {
    "collapsed": true
   },
   "outputs": [],
   "source": [
    "df = pq.read_table(f'{NOTEBOOK_NAME}/results_all_cleaned.parquet').to_pandas()"
   ]
  },
  {
   "cell_type": "code",
   "execution_count": 9,
   "metadata": {},
   "outputs": [
    {
     "data": {
      "text/html": [
       "<div>\n",
       "<style scoped>\n",
       "    .dataframe tbody tr th:only-of-type {\n",
       "        vertical-align: middle;\n",
       "    }\n",
       "\n",
       "    .dataframe tbody tr th {\n",
       "        vertical-align: top;\n",
       "    }\n",
       "\n",
       "    .dataframe thead th {\n",
       "        text-align: right;\n",
       "    }\n",
       "</style>\n",
       "<table border=\"1\" class=\"dataframe\">\n",
       "  <thead>\n",
       "    <tr style=\"text-align: right;\">\n",
       "      <th></th>\n",
       "      <th>pmid</th>\n",
       "      <th>year_published</th>\n",
       "      <th>pmc</th>\n",
       "    </tr>\n",
       "  </thead>\n",
       "  <tbody>\n",
       "    <tr>\n",
       "      <th>0</th>\n",
       "      <td>1.0</td>\n",
       "      <td>1975.0</td>\n",
       "      <td>None</td>\n",
       "    </tr>\n",
       "    <tr>\n",
       "      <th>1</th>\n",
       "      <td>2.0</td>\n",
       "      <td>1975.0</td>\n",
       "      <td>None</td>\n",
       "    </tr>\n",
       "    <tr>\n",
       "      <th>2</th>\n",
       "      <td>4.0</td>\n",
       "      <td>1975.0</td>\n",
       "      <td>None</td>\n",
       "    </tr>\n",
       "    <tr>\n",
       "      <th>3</th>\n",
       "      <td>5.0</td>\n",
       "      <td>1975.0</td>\n",
       "      <td>None</td>\n",
       "    </tr>\n",
       "    <tr>\n",
       "      <th>4</th>\n",
       "      <td>3.0</td>\n",
       "      <td>1975.0</td>\n",
       "      <td>None</td>\n",
       "    </tr>\n",
       "  </tbody>\n",
       "</table>\n",
       "</div>"
      ],
      "text/plain": [
       "   pmid  year_published   pmc\n",
       "0   1.0          1975.0  None\n",
       "1   2.0          1975.0  None\n",
       "2   4.0          1975.0  None\n",
       "3   5.0          1975.0  None\n",
       "4   3.0          1975.0  None"
      ]
     },
     "metadata": {},
     "output_type": "display_data"
    },
    {
     "name": "stdout",
     "output_type": "stream",
     "text": [
      "25928344\n"
     ]
    }
   ],
   "source": [
    "display(df.head())\n",
    "print(len(df))"
   ]
  },
  {
   "cell_type": "markdown",
   "metadata": {},
   "source": [
    "## PMC open access ids"
   ]
  },
  {
   "cell_type": "code",
   "execution_count": 29,
   "metadata": {},
   "outputs": [],
   "source": [
    "pmc_open_access_pickle = Path(f'{NOTEBOOK_NAME}/pmc_open_access_ids.pickle')\n",
    "\n",
    "if pmc_open_access_pickle.is_file():\n",
    "    with pmc_open_access_pickle.open('rb') as fin:\n",
    "        pmc_open_access_ids = pickle.load(fin)\n",
    "else:\n",
    "    pmc_open_access_archives = list(Path('download/pmc_archives/').glob('*/*/*.zip'))\n",
    "    pmc_open_access_ids = {p.stem for p in pmc_open_access_archives}\n",
    "    with pmc_open_access_pickle.open('wb') as fout:\n",
    "        pmc_open_access_ids = pickle.dump(pmc_open_access_ids, fout, pickle.HIGHEST_PROTOCOL)"
   ]
  },
  {
   "cell_type": "code",
   "execution_count": 32,
   "metadata": {},
   "outputs": [
    {
     "name": "stdout",
     "output_type": "stream",
     "text": [
      "PMC4061807\n",
      "2396222\n"
     ]
    }
   ],
   "source": [
    "print(next(iter(pmc_open_access_ids)))\n",
    "print(len(pmc_open_access_ids))"
   ]
  },
  {
   "cell_type": "markdown",
   "metadata": {},
   "source": [
    "## Group by year"
   ]
  },
  {
   "cell_type": "code",
   "execution_count": 33,
   "metadata": {
    "collapsed": true
   },
   "outputs": [],
   "source": [
    "grps = df.groupby('year_published')"
   ]
  },
  {
   "cell_type": "code",
   "execution_count": 35,
   "metadata": {},
   "outputs": [
    {
     "data": {
      "application/vnd.jupyter.widget-view+json": {
       "model_id": "2597bb12a1da401080c2f954873ccdf6",
       "version_major": 2,
       "version_minor": 0
      },
      "text/html": [
       "<p>Failed to display Jupyter Widget of type <code>HBox</code>.</p>\n",
       "<p>\n",
       "  If you're reading this message in the Jupyter Notebook or JupyterLab Notebook, it may mean\n",
       "  that the widgets JavaScript is still loading. If this message persists, it\n",
       "  likely means that the widgets JavaScript library is either not installed or\n",
       "  not enabled. See the <a href=\"https://ipywidgets.readthedocs.io/en/stable/user_install.html\">Jupyter\n",
       "  Widgets Documentation</a> for setup instructions.\n",
       "</p>\n",
       "<p>\n",
       "  If you're reading this message in another frontend (for example, a static\n",
       "  rendering on GitHub or <a href=\"https://nbviewer.jupyter.org/\">NBViewer</a>),\n",
       "  it may mean that your frontend doesn't currently support widgets.\n",
       "</p>\n"
      ],
      "text/plain": [
       "HBox(children=(IntProgress(value=0, max=215), HTML(value='')))"
      ]
     },
     "metadata": {},
     "output_type": "display_data"
    },
    {
     "name": "stdout",
     "output_type": "stream",
     "text": [
      "\n"
     ]
    }
   ],
   "source": [
    "stats = []\n",
    "\n",
    "for year, grp in tqdm.tqdm_notebook(grps, total=len(grps)):\n",
    "    grp_with_pmc = grp[grp['pmc'].notnull()]\n",
    "    grp_with_pmc_oa = grp_with_pmc[grp_with_pmc['pmc'].isin(pmc_open_access_ids)]\n",
    "    stats.append((year, len(grp), len(grp_with_pmc), len(grp_with_pmc_oa)))"
   ]
  },
  {
   "cell_type": "markdown",
   "metadata": {
    "collapsed": true
   },
   "source": [
    "## Draw"
   ]
  },
  {
   "cell_type": "code",
   "execution_count": 41,
   "metadata": {},
   "outputs": [],
   "source": [
    "stats_df = pd.DataFrame(stats, columns=['year', 'num_pubmed', 'num_pmc', 'num_pmc_oa'])\n",
    "stats_df['year'] = stats_df['year'].astype(int)\n",
    "stats_df = stats_df.sort_values('year')"
   ]
  },
  {
   "cell_type": "code",
   "execution_count": 42,
   "metadata": {},
   "outputs": [
    {
     "data": {
      "text/html": [
       "<div>\n",
       "<style scoped>\n",
       "    .dataframe tbody tr th:only-of-type {\n",
       "        vertical-align: middle;\n",
       "    }\n",
       "\n",
       "    .dataframe tbody tr th {\n",
       "        vertical-align: top;\n",
       "    }\n",
       "\n",
       "    .dataframe thead th {\n",
       "        text-align: right;\n",
       "    }\n",
       "</style>\n",
       "<table border=\"1\" class=\"dataframe\">\n",
       "  <thead>\n",
       "    <tr style=\"text-align: right;\">\n",
       "      <th></th>\n",
       "      <th>year</th>\n",
       "      <th>num_pubmed</th>\n",
       "      <th>num_pmc</th>\n",
       "      <th>num_pmc_oa</th>\n",
       "    </tr>\n",
       "  </thead>\n",
       "  <tbody>\n",
       "    <tr>\n",
       "      <th>0</th>\n",
       "      <td>1781</td>\n",
       "      <td>69</td>\n",
       "      <td>0</td>\n",
       "      <td>0</td>\n",
       "    </tr>\n",
       "    <tr>\n",
       "      <th>1</th>\n",
       "      <td>1785</td>\n",
       "      <td>43</td>\n",
       "      <td>0</td>\n",
       "      <td>0</td>\n",
       "    </tr>\n",
       "    <tr>\n",
       "      <th>2</th>\n",
       "      <td>1786</td>\n",
       "      <td>60</td>\n",
       "      <td>0</td>\n",
       "      <td>0</td>\n",
       "    </tr>\n",
       "    <tr>\n",
       "      <th>3</th>\n",
       "      <td>1787</td>\n",
       "      <td>43</td>\n",
       "      <td>0</td>\n",
       "      <td>0</td>\n",
       "    </tr>\n",
       "    <tr>\n",
       "      <th>4</th>\n",
       "      <td>1788</td>\n",
       "      <td>33</td>\n",
       "      <td>0</td>\n",
       "      <td>0</td>\n",
       "    </tr>\n",
       "  </tbody>\n",
       "</table>\n",
       "</div>"
      ],
      "text/plain": [
       "   year  num_pubmed  num_pmc  num_pmc_oa\n",
       "0  1781          69        0           0\n",
       "1  1785          43        0           0\n",
       "2  1786          60        0           0\n",
       "3  1787          43        0           0\n",
       "4  1788          33        0           0"
      ]
     },
     "execution_count": 42,
     "metadata": {},
     "output_type": "execute_result"
    }
   ],
   "source": [
    "stats_df.head()"
   ]
  },
  {
   "cell_type": "code",
   "execution_count": 67,
   "metadata": {
    "run_control": {
     "marked": false
    }
   },
   "outputs": [
    {
     "name": "stdout",
     "output_type": "stream",
     "text": [
      "25,928,344\n"
     ]
    }
   ],
   "source": [
    "print('{:,d}'.format(stats_df['num_pubmed'].sum()))"
   ]
  },
  {
   "cell_type": "code",
   "execution_count": 68,
   "metadata": {},
   "outputs": [
    {
     "name": "stdout",
     "output_type": "stream",
     "text": [
      "3,747,657\n"
     ]
    }
   ],
   "source": [
    "print('{:,d}'.format(stats_df['num_pmc'].sum()))"
   ]
  },
  {
   "cell_type": "code",
   "execution_count": 69,
   "metadata": {},
   "outputs": [
    {
     "data": {
      "text/plain": [
       "0.14453900333935712"
      ]
     },
     "execution_count": 69,
     "metadata": {},
     "output_type": "execute_result"
    }
   ],
   "source": [
    "3747657 /25928344"
   ]
  },
  {
   "cell_type": "code",
   "execution_count": 64,
   "metadata": {},
   "outputs": [
    {
     "data": {
      "image/png": "[encoded data removed]",
      "text/plain": [
       "<matplotlib.figure.Figure at 0x7fb3bd449978>"
      ]
     },
     "metadata": {},
     "output_type": "display_data"
    }
   ],
   "source": [
    "fg, axes = plt.subplots(figsize=(14, 8))\n",
    "\n",
    "# Ignore 2018 because very few papers are available then\n",
    "df = stats_df[stats_df['year'] < 2018]\n",
    "\n",
    "plt.semilogy(df['year'], df['num_pubmed'], label='PubMed')\n",
    "plt.semilogy(df['year'], df['num_pmc'], label='PubMed Central')\n",
    "plt.semilogy(df['year'], df['num_pmc_oa'], label='PubMed Central - Open Access')\n",
    "\n",
    "plt.legend()\n",
    "plt.xlabel(\"Year\")\n",
    "plt.ylabel(\"Number of articles\")\n",
    "\n",
    "plt.savefig(f\"{NOTEBOOK_NAME}/number_of_articles_published_vs_year.pdf\", bbox_inches='tight')\n",
    "plt.savefig(f\"{NOTEBOOK_NAME}/number_of_articles_published_vs_year.png\", dpi=300, bbox_inches='tight')"
   ]
  },
  {
   "cell_type": "markdown",
   "metadata": {
    "collapsed": true
   },
   "source": [
    "# Set up"
   ]
  },
  {
   "cell_type": "code",
   "execution_count": null,
   "metadata": {
    "collapsed": true
   },
   "outputs": [],
   "source": [
    "def df_to_table(df, integer_columns=None, integer_dtypes=None):\n",
    "    \"\"\"\n",
    "    \"\"\"\n",
    "    extra_columns = {}\n",
    "    for column, dtype in zip(integer_columns, integer_dtypes):\n",
    "        extra_columns[column] = {\n",
    "            'dtype': dtype,\n",
    "            'idx': list(df.columns).index(column),\n",
    "            'data': df[column]\n",
    "        }\n",
    "\n",
    "    table = pa.Table.from_pandas(\n",
    "        df[[c for c in df.columns if c not in integer_columns]],\n",
    "        preserve_index=False)\n",
    "    \n",
    "    for column_name, column_attrib in sorted(extra_columns.items(), key=lambda c: c[1]['idx']):\n",
    "        array = pa.Array.from_pandas(\n",
    "            column_attrib['data'], column_attrib['data'].isnull(), column_attrib['dtype'])\n",
    "        column = pa.Column.from_array(column_name, array)\n",
    "        table = table.add_column(column_attrib['idx'], column)\n",
    "        \n",
    "    return table"
   ]
  },
  {
   "cell_type": "markdown",
   "metadata": {},
   "source": [
    "# Process XML files"
   ]
  },
  {
   "cell_type": "code",
   "execution_count": null,
   "metadata": {},
   "outputs": [
    {
     "data": {
      "application/vnd.jupyter.widget-view+json": {
       "model_id": "1614281c3d6742e4b71606b114a41d77",
       "version_major": 2,
       "version_minor": 0
      },
      "text/html": [
       "<p>Failed to display Jupyter Widget of type <code>HBox</code>.</p>\n",
       "<p>\n",
       "  If you're reading this message in the Jupyter Notebook or JupyterLab Notebook, it may mean\n",
       "  that the widgets JavaScript is still loading. If this message persists, it\n",
       "  likely means that the widgets JavaScript library is either not installed or\n",
       "  not enabled. See the <a href=\"https://ipywidgets.readthedocs.io/en/stable/user_install.html\">Jupyter\n",
       "  Widgets Documentation</a> for setup instructions.\n",
       "</p>\n",
       "<p>\n",
       "  If you're reading this message in another frontend (for example, a static\n",
       "  rendering on GitHub or <a href=\"https://nbviewer.jupyter.org/\">NBViewer</a>),\n",
       "  it may mean that your frontend doesn't currently support widgets.\n",
       "</p>\n"
      ],
      "text/plain": [
       "HBox(children=(IntProgress(value=0, max=1398), HTML(value='')))"
      ]
     },
     "metadata": {},
     "output_type": "display_data"
    }
   ],
   "source": [
    "files_to_import = (\n",
    "    sorted(glob.glob('../downloads/ncbi/pubmed/baseline/*.xml.gz')) + \n",
    "    sorted(glob.glob('../downloads/ncbi/pubmed/updatefiles/*.xml.gz'))\n",
    ")\n",
    "    \n",
    "\n",
    "for i, filename in enumerate(tqdm.tqdm_notebook(files_to_import, total=len(files_to_import))):\n",
    "    basename = op.basename(filename)[:-7]\n",
    "    # print(filename, flush=True)\n",
    "    \n",
    "    data = pmc_tables.extern.parse_pubmed_xml_file(filename)\n",
    "\n",
    "    df = pd.DataFrame(data)\n",
    "    df['basename'] = basename\n",
    "    \n",
    "    table = df_to_table(df, ['year_published'], [pa.int16()])\n",
    "    # print(table.schema)\n",
    "\n",
    "    if i == 0:\n",
    "        writer = pq.ParquetWriter(f'{NOTEBOOK_NAME}/pubmed.parquet', table.schema, flavor='spark')\n",
    "      \n",
    "    writer.write_table(table)\n",
    "    \n",
    "writer.close()"
   ]
  },
  {
   "cell_type": "code",
   "execution_count": null,
   "metadata": {
    "collapsed": true
   },
   "outputs": [],
   "source": [
    "!ls {NOTEBOOK_NAME} -lSh"
   ]
  },
  {
   "cell_type": "code",
   "execution_count": null,
   "metadata": {
    "collapsed": true
   },
   "outputs": [],
   "source": []
  }
 ],
 "metadata": {
  "kernelspec": {
   "display_name": "Python 3",
   "language": "python",
   "name": "python3"
  },
  "language_info": {
   "codemirror_mode": {
    "name": "ipython",
    "version": 3
   },
   "file_extension": ".py",
   "mimetype": "text/x-python",
   "name": "python",
   "nbconvert_exporter": "python",
   "pygments_lexer": "ipython3",
   "version": "3.6.3"
  },
  "toc": {
   "nav_menu": {},
   "number_sections": false,
   "sideBar": false,
   "skip_h1_title": false,
   "toc_cell": false,
   "toc_position": {
    "height": "401px",
    "left": "1808.58px",
    "right": "20px",
    "top": "106.962px",
    "width": "192px"
   },
   "toc_section_display": "block",
   "toc_window_display": true
  }
 },
 "nbformat": 4,
 "nbformat_minor": 2
}
