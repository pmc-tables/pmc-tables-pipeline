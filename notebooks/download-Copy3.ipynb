{
 "cells": [
  {
   "cell_type": "markdown",
   "metadata": {},
   "source": [
    "# Summary"
   ]
  },
  {
   "cell_type": "markdown",
   "metadata": {},
   "source": [
    "# Imports"
   ]
  },
  {
   "cell_type": "code",
   "execution_count": 1,
   "metadata": {},
   "outputs": [
    {
     "name": "stderr",
     "output_type": "stream",
     "text": [
      "Setting the PYTHON_VERSION environment variable.\n",
      "Setting the SPARK_MASTER environment variable.\n",
      "Setting the DB_TYPE environment variable.\n",
      "Setting the DB_PORT environment variable.\n"
     ]
    },
    {
     "name": "stdout",
     "output_type": "stream",
     "text": [
      "2017-12-03 21:12:24.894844\n"
     ]
    }
   ],
   "source": [
    "%run _imports.ipynb"
   ]
  },
  {
   "cell_type": "code",
   "execution_count": 2,
   "metadata": {
    "collapsed": true
   },
   "outputs": [],
   "source": [
    "NOTEBOOK_NAME = 'download'\n",
    "os.makedirs(NOTEBOOK_NAME, exist_ok=True)"
   ]
  },
  {
   "cell_type": "markdown",
   "metadata": {},
   "source": [
    "# Download"
   ]
  },
  {
   "cell_type": "markdown",
   "metadata": {},
   "source": [
    "## OA package"
   ]
  },
  {
   "cell_type": "code",
   "execution_count": 8,
   "metadata": {},
   "outputs": [
    {
     "data": {
      "text/plain": [
       "('download/oa_file_list.csv', <email.message.Message at 0x2b3c01d932b0>)"
      ]
     },
     "execution_count": 8,
     "metadata": {},
     "output_type": "execute_result"
    }
   ],
   "source": [
    "urllib.request.urlretrieve(\n",
    "    'ftp://ftp.ncbi.nlm.nih.gov/pub/pmc/oa_file_list.csv',\n",
    "    f'{NOTEBOOK_NAME}/oa_file_list.csv'\n",
    ")"
   ]
  },
  {
   "cell_type": "code",
   "execution_count": 9,
   "metadata": {
    "collapsed": true
   },
   "outputs": [],
   "source": [
    "oa_file_list = pd.read_csv(f'{NOTEBOOK_NAME}/oa_file_list.csv')"
   ]
  },
  {
   "cell_type": "code",
   "execution_count": 10,
   "metadata": {
    "scrolled": true
   },
   "outputs": [
    {
     "data": {
      "text/html": [
       "<div>\n",
       "<style>\n",
       "    .dataframe thead tr:only-child th {\n",
       "        text-align: right;\n",
       "    }\n",
       "\n",
       "    .dataframe thead th {\n",
       "        text-align: left;\n",
       "    }\n",
       "\n",
       "    .dataframe tbody tr th {\n",
       "        vertical-align: top;\n",
       "    }\n",
       "</style>\n",
       "<table border=\"1\" class=\"dataframe\">\n",
       "  <thead>\n",
       "    <tr style=\"text-align: right;\">\n",
       "      <th></th>\n",
       "      <th>File</th>\n",
       "      <th>Article Citation</th>\n",
       "      <th>Accession ID</th>\n",
       "      <th>Last Updated (YYYY-MM-DD HH:MM:SS)</th>\n",
       "      <th>PMID</th>\n",
       "      <th>License</th>\n",
       "    </tr>\n",
       "  </thead>\n",
       "  <tbody>\n",
       "    <tr>\n",
       "      <th>0</th>\n",
       "      <td>oa_package/08/e0/PMC13900.tar.gz</td>\n",
       "      <td>Breast Cancer Res. 2001 Nov 2; 3(1):55-60</td>\n",
       "      <td>PMC13900</td>\n",
       "      <td>2017-04-26 12:15:50</td>\n",
       "      <td>11250746.0</td>\n",
       "      <td>NO-CC CODE</td>\n",
       "    </tr>\n",
       "    <tr>\n",
       "      <th>1</th>\n",
       "      <td>oa_package/b0/ac/PMC13901.tar.gz</td>\n",
       "      <td>Breast Cancer Res. 2001 Nov 9; 3(1):61-65</td>\n",
       "      <td>PMC13901</td>\n",
       "      <td>2016-01-20 10:58:46</td>\n",
       "      <td>11250747.0</td>\n",
       "      <td>NO-CC CODE</td>\n",
       "    </tr>\n",
       "    <tr>\n",
       "      <th>2</th>\n",
       "      <td>oa_package/f7/98/PMC13902.tar.gz</td>\n",
       "      <td>Breast Cancer Res. 2001 Nov 8; 3(1):66-75</td>\n",
       "      <td>PMC13902</td>\n",
       "      <td>2006-02-02 19:37:52</td>\n",
       "      <td>11250748.0</td>\n",
       "      <td>NO-CC CODE</td>\n",
       "    </tr>\n",
       "    <tr>\n",
       "      <th>3</th>\n",
       "      <td>oa_package/9c/7f/PMC13911.tar.gz</td>\n",
       "      <td>Breast Cancer Res. 2000 Nov 16; 2(1):59-63</td>\n",
       "      <td>PMC13911</td>\n",
       "      <td>2013-03-17 14:00:52</td>\n",
       "      <td>11056684.0</td>\n",
       "      <td>NO-CC CODE</td>\n",
       "    </tr>\n",
       "    <tr>\n",
       "      <th>4</th>\n",
       "      <td>oa_package/c6/fb/PMC13912.tar.gz</td>\n",
       "      <td>Breast Cancer Res. 2000 Dec 6; 2(1):64-72</td>\n",
       "      <td>PMC13912</td>\n",
       "      <td>2013-03-17 14:00:52</td>\n",
       "      <td>11400682.0</td>\n",
       "      <td>NO-CC CODE</td>\n",
       "    </tr>\n",
       "  </tbody>\n",
       "</table>\n",
       "</div>"
      ],
      "text/plain": [
       "                               File                            Article Citation Accession ID Last Updated (YYYY-MM-DD HH:MM:SS)        PMID     License\n",
       "0  oa_package/08/e0/PMC13900.tar.gz   Breast Cancer Res. 2001 Nov 2; 3(1):55-60     PMC13900                2017-04-26 12:15:50  11250746.0  NO-CC CODE\n",
       "1  oa_package/b0/ac/PMC13901.tar.gz   Breast Cancer Res. 2001 Nov 9; 3(1):61-65     PMC13901                2016-01-20 10:58:46  11250747.0  NO-CC CODE\n",
       "2  oa_package/f7/98/PMC13902.tar.gz   Breast Cancer Res. 2001 Nov 8; 3(1):66-75     PMC13902                2006-02-02 19:37:52  11250748.0  NO-CC CODE\n",
       "3  oa_package/9c/7f/PMC13911.tar.gz  Breast Cancer Res. 2000 Nov 16; 2(1):59-63     PMC13911                2013-03-17 14:00:52  11056684.0  NO-CC CODE\n",
       "4  oa_package/c6/fb/PMC13912.tar.gz   Breast Cancer Res. 2000 Dec 6; 2(1):64-72     PMC13912                2013-03-17 14:00:52  11400682.0  NO-CC CODE"
      ]
     },
     "execution_count": 10,
     "metadata": {},
     "output_type": "execute_result"
    }
   ],
   "source": [
    "oa_file_list.head()"
   ]
  },
  {
   "cell_type": "code",
   "execution_count": 11,
   "metadata": {
    "collapsed": true
   },
   "outputs": [],
   "source": [
    "oa_package_df = oa_file_list[['File', 'Accession ID']].drop_duplicates()\n",
    "oa_package_df.columns = ['file_path', 'pmc_id']"
   ]
  },
  {
   "cell_type": "code",
   "execution_count": 12,
   "metadata": {},
   "outputs": [
    {
     "data": {
      "text/html": [
       "<div>\n",
       "<style>\n",
       "    .dataframe thead tr:only-child th {\n",
       "        text-align: right;\n",
       "    }\n",
       "\n",
       "    .dataframe thead th {\n",
       "        text-align: left;\n",
       "    }\n",
       "\n",
       "    .dataframe tbody tr th {\n",
       "        vertical-align: top;\n",
       "    }\n",
       "</style>\n",
       "<table border=\"1\" class=\"dataframe\">\n",
       "  <thead>\n",
       "    <tr style=\"text-align: right;\">\n",
       "      <th></th>\n",
       "      <th>file_path</th>\n",
       "      <th>pmc_id</th>\n",
       "    </tr>\n",
       "  </thead>\n",
       "  <tbody>\n",
       "    <tr>\n",
       "      <th>0</th>\n",
       "      <td>oa_package/08/e0/PMC13900.tar.gz</td>\n",
       "      <td>PMC13900</td>\n",
       "    </tr>\n",
       "    <tr>\n",
       "      <th>1</th>\n",
       "      <td>oa_package/b0/ac/PMC13901.tar.gz</td>\n",
       "      <td>PMC13901</td>\n",
       "    </tr>\n",
       "    <tr>\n",
       "      <th>2</th>\n",
       "      <td>oa_package/f7/98/PMC13902.tar.gz</td>\n",
       "      <td>PMC13902</td>\n",
       "    </tr>\n",
       "    <tr>\n",
       "      <th>3</th>\n",
       "      <td>oa_package/9c/7f/PMC13911.tar.gz</td>\n",
       "      <td>PMC13911</td>\n",
       "    </tr>\n",
       "    <tr>\n",
       "      <th>4</th>\n",
       "      <td>oa_package/c6/fb/PMC13912.tar.gz</td>\n",
       "      <td>PMC13912</td>\n",
       "    </tr>\n",
       "  </tbody>\n",
       "</table>\n",
       "</div>"
      ],
      "text/plain": [
       "                          file_path    pmc_id\n",
       "0  oa_package/08/e0/PMC13900.tar.gz  PMC13900\n",
       "1  oa_package/b0/ac/PMC13901.tar.gz  PMC13901\n",
       "2  oa_package/f7/98/PMC13902.tar.gz  PMC13902\n",
       "3  oa_package/9c/7f/PMC13911.tar.gz  PMC13911\n",
       "4  oa_package/c6/fb/PMC13912.tar.gz  PMC13912"
      ]
     },
     "execution_count": 12,
     "metadata": {},
     "output_type": "execute_result"
    }
   ],
   "source": [
    "oa_package_df.head()"
   ]
  },
  {
   "cell_type": "markdown",
   "metadata": {},
   "source": [
    "## Functions"
   ]
  },
  {
   "cell_type": "code",
   "execution_count": 3,
   "metadata": {
    "collapsed": true
   },
   "outputs": [],
   "source": [
    "ARCHIVE_DIR = f\"{NOTEBOOK_NAME}/pmc_3\"\n",
    "os.makedirs(ARCHIVE_DIR, exist_ok=True)"
   ]
  },
  {
   "cell_type": "code",
   "execution_count": 4,
   "metadata": {
    "collapsed": true
   },
   "outputs": [],
   "source": [
    "EXTENSIONS_TO_KEEP = ['.nxml', '.xml', '.csv', '.csv.gz', '.tsv', '.tsv.gz', '.xls', '.xlsx']"
   ]
  },
  {
   "cell_type": "code",
   "execution_count": 5,
   "metadata": {
    "collapsed": true
   },
   "outputs": [],
   "source": [
    "import datetime\n",
    "import tarfile\n",
    "from typing import List\n",
    "import zipfile\n",
    "\n",
    "import dateutil.parser\n",
    "\n",
    "\n",
    "def extract_tar_file(filename, output_dir) -> List[str]:\n",
    "    with tarfile.open(filename, 'r:gz') as tar_file:\n",
    "        members = [\n",
    "            m\n",
    "            for m in tar_file.getmembers()\n",
    "            if any(m.name.endswith(suffix) for suffix in EXTENSIONS_TO_KEEP)\n",
    "        ]\n",
    "        tar_file.extractall(path=output_dir, members=members)\n",
    "    return [m.name for m in members]\n",
    "    \n",
    "    \n",
    "def extract_zip_file(filename, output_dir) -> List[str]:\n",
    "    with zipfile.ZipFile(filename) as zip_file:\n",
    "        members = [\n",
    "            m\n",
    "            for m in zip_file.namelist()\n",
    "            if any(m.endswith(suffix) for suffix in EXTENSIONS_TO_KEEP)\n",
    "        ]\n",
    "        zip_file.extractall(path=output_dir, members=members)\n",
    "    return members    \n",
    "\n",
    "\n",
    "def download(pmc_id, source_url, output_dir, overwrite=False):\n",
    "    info = {\n",
    "        'pmc_id': pmc_id,\n",
    "        'source_url': source_url,\n",
    "        'output_dir': output_dir,\n",
    "    }\n",
    "\n",
    "    output_dir = op.join(ARCHIVE_DIR, output_dir)\n",
    "    \n",
    "    if output_dir.strip('/').endswith(pmc_id):\n",
    "        info_file = op.join(output_dir, 'info.json')\n",
    "    else:\n",
    "        info_file = op.join(output_dir, pmc_id, 'info.json')\n",
    "    \n",
    "    info['info_file'] = op.relpath(info_file, ARCHIVE_DIR)\n",
    "\n",
    "    if not overwrite and op.isfile(info_file):\n",
    "        info.update({'error': \"Info file already exists!\"})\n",
    "        return info\n",
    "\n",
    "    with tempfile.NamedTemporaryFile() as tmp_file:\n",
    "        urllib.request.urlretrieve(source_url, tmp_file.name)\n",
    "        if source_url.endswith('.tar.gz'):\n",
    "            extracted_files = extract_tar_file(tmp_file.name, output_dir)\n",
    "        elif source_url.endswith('.zip'):\n",
    "            extracted_files = extract_zip_file(tmp_file.name, output_dir)\n",
    "        else:\n",
    "            raise Exception(f\"Unsupported archive {source_url}!\")\n",
    "        \n",
    "        info.update({\n",
    "            'source_url': source_url,\n",
    "            'created_on': datetime.datetime.now().isoformat(),\n",
    "            'extracted_files': extracted_files,\n",
    "        })\n",
    "        os.makedirs(op.dirname(info_file), exist_ok=True)\n",
    "        with open(info_file, 'wt') as fout:\n",
    "            json.dump(info, fout)\n",
    "    \n",
    "    return info"
   ]
  },
  {
   "cell_type": "code",
   "execution_count": 6,
   "metadata": {},
   "outputs": [
    {
     "data": {
      "text/plain": [
       "{'created_on': '2017-12-03T21:12:28.080391',\n",
       " 'extracted_files': ['PMC1790863/pone.0000217.nxml'],\n",
       " 'info_file': 'oa_package/00/00/PMC1790863/info.json',\n",
       " 'output_dir': 'oa_package/00/00/',\n",
       " 'pmc_id': 'PMC1790863',\n",
       " 'source_url': 'ftp://ftp.ncbi.nlm.nih.gov/pub/pmc/oa_package/00/00/PMC1790863.tar.gz'}"
      ]
     },
     "execution_count": 6,
     "metadata": {},
     "output_type": "execute_result"
    }
   ],
   "source": [
    "pmc_id = 'PMC1790863'\n",
    "source_url = 'ftp://ftp.ncbi.nlm.nih.gov/pub/pmc/oa_package/00/00/PMC1790863.tar.gz'\n",
    "output_dir = 'oa_package/00/00/'\n",
    "\n",
    "download(pmc_id, source_url, output_dir, True)"
   ]
  },
  {
   "cell_type": "code",
   "execution_count": 7,
   "metadata": {},
   "outputs": [
    {
     "data": {
      "text/plain": [
       "{'created_on': '2017-12-03T21:12:29.382429',\n",
       " 'extracted_files': [],\n",
       " 'info_file': 'suppl/NON-OA/PMC1125900-PMC1129899/PMC1125901/info.json',\n",
       " 'output_dir': 'suppl/NON-OA/PMC1125900-PMC1129899/PMC1125901',\n",
       " 'pmc_id': 'PMC1125901',\n",
       " 'source_url': 'ftp://ftp.ebi.ac.uk/pub/databases/pmc/suppl/NON-OA/PMC1125900-PMC1129899/PMC1125901.zip'}"
      ]
     },
     "execution_count": 7,
     "metadata": {},
     "output_type": "execute_result"
    }
   ],
   "source": [
    "pmc_id = 'PMC1125901'\n",
    "source_url = 'ftp://ftp.ebi.ac.uk/pub/databases/pmc/suppl/NON-OA/PMC1125900-PMC1129899/PMC1125901.zip'\n",
    "output_dir = 'suppl/NON-OA/PMC1125900-PMC1129899/PMC1125901'\n",
    "\n",
    "download(pmc_id, source_url, output_dir, True)"
   ]
  },
  {
   "cell_type": "markdown",
   "metadata": {},
   "source": [
    "## Downlaod files"
   ]
  },
  {
   "cell_type": "code",
   "execution_count": 8,
   "metadata": {},
   "outputs": [
    {
     "data": {
      "text/plain": [
       "'download/pmc_3'"
      ]
     },
     "execution_count": 8,
     "metadata": {},
     "output_type": "execute_result"
    }
   ],
   "source": [
    "ARCHIVE_DIR"
   ]
  },
  {
   "cell_type": "code",
   "execution_count": 9,
   "metadata": {
    "collapsed": true
   },
   "outputs": [],
   "source": [
    "to_download = pd.read_csv('pmc_statistics/to_download.csv')"
   ]
  },
  {
   "cell_type": "code",
   "execution_count": 10,
   "metadata": {},
   "outputs": [
    {
     "data": {
      "text/html": [
       "<div>\n",
       "<style>\n",
       "    .dataframe thead tr:only-child th {\n",
       "        text-align: right;\n",
       "    }\n",
       "\n",
       "    .dataframe thead th {\n",
       "        text-align: left;\n",
       "    }\n",
       "\n",
       "    .dataframe tbody tr th {\n",
       "        vertical-align: top;\n",
       "    }\n",
       "</style>\n",
       "<table border=\"1\" class=\"dataframe\">\n",
       "  <thead>\n",
       "    <tr style=\"text-align: right;\">\n",
       "      <th></th>\n",
       "      <th>pmc_id</th>\n",
       "      <th>source_url</th>\n",
       "      <th>output_dir</th>\n",
       "    </tr>\n",
       "  </thead>\n",
       "  <tbody>\n",
       "    <tr>\n",
       "      <th>0</th>\n",
       "      <td>PMC13900</td>\n",
       "      <td>ftp://ftp.ncbi.nlm.nih.gov/pub/pmc/oa_package/08/e0/PMC13900.tar.gz</td>\n",
       "      <td>oa_package/08/e0/</td>\n",
       "    </tr>\n",
       "    <tr>\n",
       "      <th>1</th>\n",
       "      <td>PMC13901</td>\n",
       "      <td>ftp://ftp.ncbi.nlm.nih.gov/pub/pmc/oa_package/b0/ac/PMC13901.tar.gz</td>\n",
       "      <td>oa_package/b0/ac/</td>\n",
       "    </tr>\n",
       "    <tr>\n",
       "      <th>2</th>\n",
       "      <td>PMC13902</td>\n",
       "      <td>ftp://ftp.ncbi.nlm.nih.gov/pub/pmc/oa_package/f7/98/PMC13902.tar.gz</td>\n",
       "      <td>oa_package/f7/98/</td>\n",
       "    </tr>\n",
       "    <tr>\n",
       "      <th>3</th>\n",
       "      <td>PMC13911</td>\n",
       "      <td>ftp://ftp.ncbi.nlm.nih.gov/pub/pmc/oa_package/9c/7f/PMC13911.tar.gz</td>\n",
       "      <td>oa_package/9c/7f/</td>\n",
       "    </tr>\n",
       "    <tr>\n",
       "      <th>4</th>\n",
       "      <td>PMC13912</td>\n",
       "      <td>ftp://ftp.ncbi.nlm.nih.gov/pub/pmc/oa_package/c6/fb/PMC13912.tar.gz</td>\n",
       "      <td>oa_package/c6/fb/</td>\n",
       "    </tr>\n",
       "  </tbody>\n",
       "</table>\n",
       "</div>"
      ],
      "text/plain": [
       "     pmc_id                                                           source_url         output_dir\n",
       "0  PMC13900  ftp://ftp.ncbi.nlm.nih.gov/pub/pmc/oa_package/08/e0/PMC13900.tar.gz  oa_package/08/e0/\n",
       "1  PMC13901  ftp://ftp.ncbi.nlm.nih.gov/pub/pmc/oa_package/b0/ac/PMC13901.tar.gz  oa_package/b0/ac/\n",
       "2  PMC13902  ftp://ftp.ncbi.nlm.nih.gov/pub/pmc/oa_package/f7/98/PMC13902.tar.gz  oa_package/f7/98/\n",
       "3  PMC13911  ftp://ftp.ncbi.nlm.nih.gov/pub/pmc/oa_package/9c/7f/PMC13911.tar.gz  oa_package/9c/7f/\n",
       "4  PMC13912  ftp://ftp.ncbi.nlm.nih.gov/pub/pmc/oa_package/c6/fb/PMC13912.tar.gz  oa_package/c6/fb/"
      ]
     },
     "execution_count": 10,
     "metadata": {},
     "output_type": "execute_result"
    }
   ],
   "source": [
    "to_download.head()"
   ]
  },
  {
   "cell_type": "code",
   "execution_count": 11,
   "metadata": {},
   "outputs": [
    {
     "data": {
      "text/html": [
       "<div>\n",
       "<style>\n",
       "    .dataframe thead tr:only-child th {\n",
       "        text-align: right;\n",
       "    }\n",
       "\n",
       "    .dataframe thead th {\n",
       "        text-align: left;\n",
       "    }\n",
       "\n",
       "    .dataframe tbody tr th {\n",
       "        vertical-align: top;\n",
       "    }\n",
       "</style>\n",
       "<table border=\"1\" class=\"dataframe\">\n",
       "  <thead>\n",
       "    <tr style=\"text-align: right;\">\n",
       "      <th></th>\n",
       "      <th>pmc_id</th>\n",
       "      <th>source_url</th>\n",
       "      <th>output_dir</th>\n",
       "    </tr>\n",
       "  </thead>\n",
       "  <tbody>\n",
       "    <tr>\n",
       "      <th>2083565</th>\n",
       "      <td>PPR7031</td>\n",
       "      <td>ftp://ftp.ebi.ac.uk/pub/databases/pmc/suppl/OA/preprint/PPR7031.zip</td>\n",
       "      <td>suppl/OA/preprint/PPR7031</td>\n",
       "    </tr>\n",
       "    <tr>\n",
       "      <th>2083566</th>\n",
       "      <td>PPR7032</td>\n",
       "      <td>ftp://ftp.ebi.ac.uk/pub/databases/pmc/suppl/OA/preprint/PPR7032.zip</td>\n",
       "      <td>suppl/OA/preprint/PPR7032</td>\n",
       "    </tr>\n",
       "    <tr>\n",
       "      <th>2083567</th>\n",
       "      <td>PPR7033</td>\n",
       "      <td>ftp://ftp.ebi.ac.uk/pub/databases/pmc/suppl/OA/preprint/PPR7033.zip</td>\n",
       "      <td>suppl/OA/preprint/PPR7033</td>\n",
       "    </tr>\n",
       "    <tr>\n",
       "      <th>2083568</th>\n",
       "      <td>PPR7034</td>\n",
       "      <td>ftp://ftp.ebi.ac.uk/pub/databases/pmc/suppl/OA/preprint/PPR7034.zip</td>\n",
       "      <td>suppl/OA/preprint/PPR7034</td>\n",
       "    </tr>\n",
       "    <tr>\n",
       "      <th>2083569</th>\n",
       "      <td>PPR7035</td>\n",
       "      <td>ftp://ftp.ebi.ac.uk/pub/databases/pmc/suppl/OA/preprint/PPR7035.zip</td>\n",
       "      <td>suppl/OA/preprint/PPR7035</td>\n",
       "    </tr>\n",
       "  </tbody>\n",
       "</table>\n",
       "</div>"
      ],
      "text/plain": [
       "          pmc_id                                                           source_url                 output_dir\n",
       "2083565  PPR7031  ftp://ftp.ebi.ac.uk/pub/databases/pmc/suppl/OA/preprint/PPR7031.zip  suppl/OA/preprint/PPR7031\n",
       "2083566  PPR7032  ftp://ftp.ebi.ac.uk/pub/databases/pmc/suppl/OA/preprint/PPR7032.zip  suppl/OA/preprint/PPR7032\n",
       "2083567  PPR7033  ftp://ftp.ebi.ac.uk/pub/databases/pmc/suppl/OA/preprint/PPR7033.zip  suppl/OA/preprint/PPR7033\n",
       "2083568  PPR7034  ftp://ftp.ebi.ac.uk/pub/databases/pmc/suppl/OA/preprint/PPR7034.zip  suppl/OA/preprint/PPR7034\n",
       "2083569  PPR7035  ftp://ftp.ebi.ac.uk/pub/databases/pmc/suppl/OA/preprint/PPR7035.zip  suppl/OA/preprint/PPR7035"
      ]
     },
     "execution_count": 11,
     "metadata": {},
     "output_type": "execute_result"
    }
   ],
   "source": [
    "to_download.tail()"
   ]
  },
  {
   "cell_type": "code",
   "execution_count": 12,
   "metadata": {
    "collapsed": true
   },
   "outputs": [],
   "source": [
    "# info_list = []\n",
    "\n",
    "# for row in tqdm.tqdm_notebook(to_download.itertuples(), total=len(to_download)):\n",
    "#     info = download(row.pmc_id, row.source_url, row.output_dir, overwrite=False)\n",
    "#     info_list.append(info)"
   ]
  },
  {
   "cell_type": "code",
   "execution_count": 13,
   "metadata": {
    "collapsed": true
   },
   "outputs": [],
   "source": [
    "chunk_size = 50_000\n",
    "finished_chunks = []"
   ]
  },
  {
   "cell_type": "code",
   "execution_count": 14,
   "metadata": {},
   "outputs": [
    {
     "data": {
      "text/plain": [
       "41"
      ]
     },
     "execution_count": 14,
     "metadata": {},
     "output_type": "execute_result"
    }
   ],
   "source": [
    "len(to_download) // chunk_size"
   ]
  },
  {
   "cell_type": "code",
   "execution_count": null,
   "metadata": {
    "scrolled": true
   },
   "outputs": [
    {
     "data": {
      "application/vnd.jupyter.widget-view+json": {
       "model_id": "38eae60011e3435d89351fff78d389fd",
       "version_major": 2,
       "version_minor": 0
      },
      "text/plain": [
       "A Jupyter Widget"
      ]
     },
     "metadata": {},
     "output_type": "display_data"
    }
   ],
   "source": [
    "finished_futures = []\n",
    "for i in range(20, 30):\n",
    "    chunk_offset = chunk_size * i\n",
    "    if i in finished_chunks:\n",
    "        continue\n",
    "    with concurrent.futures.ThreadPoolExecutor(8) as pool:\n",
    "        futures = [\n",
    "            pool.submit(download, row.pmc_id, row.source_url, row.output_dir, overwrite=False) \n",
    "            for row in itertools.islice(to_download.itertuples(), chunk_offset, chunk_offset + chunk_size)\n",
    "        ]\n",
    "        for future in tqdm.tqdm_notebook(\n",
    "                concurrent.futures.as_completed(futures), \n",
    "                total=len(futures),\n",
    "                desc=f\"Chunk {i}\"):\n",
    "            finished_futures.append(futures)"
   ]
  },
  {
   "cell_type": "code",
   "execution_count": 22,
   "metadata": {},
   "outputs": [
    {
     "name": "stdout",
     "output_type": "stream",
     "text": [
      "1\n",
      "2\n",
      "3\n"
     ]
    }
   ],
   "source": [
    "def foo():\n",
    "    yield 1\n",
    "    yield 2\n",
    "    yield 3\n",
    "    \n",
    "    \n",
    "for x in foo():\n",
    "    print(x)"
   ]
  },
  {
   "cell_type": "code",
   "execution_count": null,
   "metadata": {
    "collapsed": true
   },
   "outputs": [],
   "source": []
  },
  {
   "cell_type": "code",
   "execution_count": null,
   "metadata": {
    "collapsed": true
   },
   "outputs": [],
   "source": []
  },
  {
   "cell_type": "code",
   "execution_count": null,
   "metadata": {
    "collapsed": true
   },
   "outputs": [],
   "source": []
  },
  {
   "cell_type": "code",
   "execution_count": 28,
   "metadata": {},
   "outputs": [
    {
     "name": "stdout",
     "output_type": "stream",
     "text": [
      "Error for 55358: <urlopen error ftp error: error_temp('425 PASV: Address already in use',)>!\n",
      "Future 60408 is not done!\n"
     ]
    }
   ],
   "source": [
    "results = []\n",
    "\n",
    "for i, future in enumerate(futures_all):\n",
    "    if not future.done():\n",
    "        print(f\"Future {i} is not done!\")\n",
    "        break\n",
    "    try:\n",
    "        results.append(future.result())\n",
    "    except urllib.request.URLError as e:\n",
    "        print(f\"Error for {i}: {e}!\")"
   ]
  },
  {
   "cell_type": "code",
   "execution_count": 29,
   "metadata": {
    "collapsed": true
   },
   "outputs": [],
   "source": [
    "result_df = pd.DataFrame(results)"
   ]
  },
  {
   "cell_type": "code",
   "execution_count": 30,
   "metadata": {},
   "outputs": [
    {
     "data": {
      "text/html": [
       "<div>\n",
       "<style>\n",
       "    .dataframe thead tr:only-child th {\n",
       "        text-align: right;\n",
       "    }\n",
       "\n",
       "    .dataframe thead th {\n",
       "        text-align: left;\n",
       "    }\n",
       "\n",
       "    .dataframe tbody tr th {\n",
       "        vertical-align: top;\n",
       "    }\n",
       "</style>\n",
       "<table border=\"1\" class=\"dataframe\">\n",
       "  <thead>\n",
       "    <tr style=\"text-align: right;\">\n",
       "      <th></th>\n",
       "      <th>created_on</th>\n",
       "      <th>error</th>\n",
       "      <th>extracted_files</th>\n",
       "      <th>output_dir</th>\n",
       "      <th>pmc_id</th>\n",
       "      <th>source_url</th>\n",
       "    </tr>\n",
       "  </thead>\n",
       "  <tbody>\n",
       "    <tr>\n",
       "      <th>0</th>\n",
       "      <td>NaN</td>\n",
       "      <td>Info file already exists!</td>\n",
       "      <td>NaN</td>\n",
       "      <td>oa_package/08/e0/</td>\n",
       "      <td>PMC13900</td>\n",
       "      <td>ftp://ftp.ncbi.nlm.nih.gov/pub/pmc/oa_package/08/e0/PMC13900.tar.gz</td>\n",
       "    </tr>\n",
       "    <tr>\n",
       "      <th>1</th>\n",
       "      <td>NaN</td>\n",
       "      <td>Info file already exists!</td>\n",
       "      <td>NaN</td>\n",
       "      <td>oa_package/b0/ac/</td>\n",
       "      <td>PMC13901</td>\n",
       "      <td>ftp://ftp.ncbi.nlm.nih.gov/pub/pmc/oa_package/b0/ac/PMC13901.tar.gz</td>\n",
       "    </tr>\n",
       "    <tr>\n",
       "      <th>2</th>\n",
       "      <td>NaN</td>\n",
       "      <td>Info file already exists!</td>\n",
       "      <td>NaN</td>\n",
       "      <td>oa_package/f7/98/</td>\n",
       "      <td>PMC13902</td>\n",
       "      <td>ftp://ftp.ncbi.nlm.nih.gov/pub/pmc/oa_package/f7/98/PMC13902.tar.gz</td>\n",
       "    </tr>\n",
       "    <tr>\n",
       "      <th>3</th>\n",
       "      <td>NaN</td>\n",
       "      <td>Info file already exists!</td>\n",
       "      <td>NaN</td>\n",
       "      <td>oa_package/9c/7f/</td>\n",
       "      <td>PMC13911</td>\n",
       "      <td>ftp://ftp.ncbi.nlm.nih.gov/pub/pmc/oa_package/9c/7f/PMC13911.tar.gz</td>\n",
       "    </tr>\n",
       "    <tr>\n",
       "      <th>4</th>\n",
       "      <td>NaN</td>\n",
       "      <td>Info file already exists!</td>\n",
       "      <td>NaN</td>\n",
       "      <td>oa_package/c6/fb/</td>\n",
       "      <td>PMC13912</td>\n",
       "      <td>ftp://ftp.ncbi.nlm.nih.gov/pub/pmc/oa_package/c6/fb/PMC13912.tar.gz</td>\n",
       "    </tr>\n",
       "  </tbody>\n",
       "</table>\n",
       "</div>"
      ],
      "text/plain": [
       "  created_on                      error extracted_files         output_dir    pmc_id                                                           source_url\n",
       "0        NaN  Info file already exists!             NaN  oa_package/08/e0/  PMC13900  ftp://ftp.ncbi.nlm.nih.gov/pub/pmc/oa_package/08/e0/PMC13900.tar.gz\n",
       "1        NaN  Info file already exists!             NaN  oa_package/b0/ac/  PMC13901  ftp://ftp.ncbi.nlm.nih.gov/pub/pmc/oa_package/b0/ac/PMC13901.tar.gz\n",
       "2        NaN  Info file already exists!             NaN  oa_package/f7/98/  PMC13902  ftp://ftp.ncbi.nlm.nih.gov/pub/pmc/oa_package/f7/98/PMC13902.tar.gz\n",
       "3        NaN  Info file already exists!             NaN  oa_package/9c/7f/  PMC13911  ftp://ftp.ncbi.nlm.nih.gov/pub/pmc/oa_package/9c/7f/PMC13911.tar.gz\n",
       "4        NaN  Info file already exists!             NaN  oa_package/c6/fb/  PMC13912  ftp://ftp.ncbi.nlm.nih.gov/pub/pmc/oa_package/c6/fb/PMC13912.tar.gz"
      ]
     },
     "execution_count": 30,
     "metadata": {},
     "output_type": "execute_result"
    }
   ],
   "source": [
    "result_df.head()"
   ]
  },
  {
   "cell_type": "code",
   "execution_count": null,
   "metadata": {
    "collapsed": true
   },
   "outputs": [],
   "source": []
  },
  {
   "cell_type": "code",
   "execution_count": null,
   "metadata": {
    "collapsed": true
   },
   "outputs": [],
   "source": []
  },
  {
   "cell_type": "code",
   "execution_count": null,
   "metadata": {
    "collapsed": true
   },
   "outputs": [],
   "source": []
  },
  {
   "cell_type": "code",
   "execution_count": null,
   "metadata": {
    "collapsed": true
   },
   "outputs": [],
   "source": []
  },
  {
   "cell_type": "code",
   "execution_count": null,
   "metadata": {
    "collapsed": true
   },
   "outputs": [],
   "source": []
  },
  {
   "cell_type": "code",
   "execution_count": null,
   "metadata": {
    "collapsed": true
   },
   "outputs": [],
   "source": []
  },
  {
   "cell_type": "code",
   "execution_count": 15,
   "metadata": {
    "collapsed": true
   },
   "outputs": [],
   "source": [
    "def download_file(file_path):\n",
    "    pmc_id = op.basename(file_path).partition('.')[0]\n",
    "    pmc_id_hash = hashlib.md5(pmc_id.encode('utf-8')).hexdigest()\n",
    "    output_path = op.join(ARCHIVE_DIR, pmc_id_hash[0:2], pmc_id_hash[2:4])\n",
    "\n",
    "    with tempfile.NamedTemporaryFile() as tmp_file:\n",
    "        urllib.request.urlretrieve(f'ftp://ftp.ncbi.nlm.nih.gov/pub/pmc/{file_path}', tmp_file.name)\n",
    "        with tarfile.open(tmp_file.name, 'r:gz') as tar_file:\n",
    "            members = [\n",
    "                m\n",
    "                for m in tar_file.getmembers()\n",
    "                if any(m.name.endswith(suffix) for suffix in EXTENSIONS_TO_KEEP)\n",
    "            ]\n",
    "            tar_file.extractall(path=output_path, members=members)"
   ]
  },
  {
   "cell_type": "code",
   "execution_count": 16,
   "metadata": {},
   "outputs": [
    {
     "ename": "NameError",
     "evalue": "name 'file_path' is not defined",
     "output_type": "error",
     "traceback": [
      "\u001b[0;31m---------------------------------------------------------------------------\u001b[0m",
      "\u001b[0;31mNameError\u001b[0m                                 Traceback (most recent call last)",
      "\u001b[0;32m<ipython-input-16-3553012b5ab9>\u001b[0m in \u001b[0;36m<module>\u001b[0;34m()\u001b[0m\n\u001b[0;32m----> 1\u001b[0;31m \u001b[0mdownload_file\u001b[0m\u001b[0;34m(\u001b[0m\u001b[0mfile_path\u001b[0m\u001b[0;34m)\u001b[0m\u001b[0;34m\u001b[0m\u001b[0m\n\u001b[0m",
      "\u001b[0;31mNameError\u001b[0m: name 'file_path' is not defined"
     ]
    }
   ],
   "source": [
    "download_file(file_path)"
   ]
  },
  {
   "cell_type": "code",
   "execution_count": null,
   "metadata": {
    "collapsed": true
   },
   "outputs": [],
   "source": [
    "with concurrent.futures.ProcessPoolExecutor(64) as pool:\n",
    "    futures = pool.map(download_file, oa_package_df['file_path'].values)"
   ]
  },
  {
   "cell_type": "code",
   "execution_count": null,
   "metadata": {
    "collapsed": true
   },
   "outputs": [],
   "source": []
  },
  {
   "cell_type": "code",
   "execution_count": null,
   "metadata": {
    "collapsed": true
   },
   "outputs": [],
   "source": []
  },
  {
   "cell_type": "code",
   "execution_count": null,
   "metadata": {
    "collapsed": true
   },
   "outputs": [],
   "source": []
  },
  {
   "cell_type": "code",
   "execution_count": 89,
   "metadata": {},
   "outputs": [
    {
     "data": {
      "text/plain": [
       "{'download_oa_package/oa_package_0/b5/c0/PMC13900'}"
      ]
     },
     "execution_count": 89,
     "metadata": {},
     "output_type": "execute_result"
    }
   ],
   "source": [
    "{output_dir}"
   ]
  },
  {
   "cell_type": "code",
   "execution_count": 90,
   "metadata": {},
   "outputs": [
    {
     "name": "stdout",
     "output_type": "stream",
     "text": [
      "BCR-3-1-055.nxml  PMC13900\r\n"
     ]
    }
   ],
   "source": [
    "!ls {output_dir}"
   ]
  },
  {
   "cell_type": "code",
   "execution_count": 73,
   "metadata": {},
   "outputs": [
    {
     "data": {
      "text/plain": [
       "'ff6cf0a66226e4f916d5991840d1d99f'"
      ]
     },
     "execution_count": 73,
     "metadata": {},
     "output_type": "execute_result"
    }
   ],
   "source": [
    "md5 = hashlib.md5('PMC2'.encode('utf-8'))\n",
    "md5.hexdigest()"
   ]
  },
  {
   "cell_type": "code",
   "execution_count": 38,
   "metadata": {},
   "outputs": [
    {
     "name": "stdout",
     "output_type": "stream",
     "text": [
      "[<TarInfo 'PMC13900' at 0x2ae234d4f1d8>, <TarInfo 'PMC13900/BCR-3-1-055.nxml' at 0x2ae234d4f048>, <TarInfo 'PMC13900/BCR-3-1-055.pdf' at 0x2ae23775a368>]\n",
      "['PMC13900', 'PMC13900/BCR-3-1-055.nxml', 'PMC13900/BCR-3-1-055.pdf']\n",
      "?rwxrwxr-x pmc/pmcdev          0 2017-01-01 14:16:21 PMC13900/ \n",
      "?rw-rw-r-- pmc/pmcdev      52460 2017-01-01 14:16:21 PMC13900/BCR-3-1-055.nxml \n",
      "?rw-rw-r-- pmc/pmcdev     106618 2017-01-01 14:16:21 PMC13900/BCR-3-1-055.pdf \n",
      "None\n"
     ]
    }
   ],
   "source": [
    "    print(tar_file.getmembers())\n",
    "    print(tar_file.getnames())\n",
    "    print(tar_file.list())\n",
    "        "
   ]
  },
  {
   "cell_type": "code",
   "execution_count": 39,
   "metadata": {
    "collapsed": true
   },
   "outputs": [],
   "source": [
    "member = tar_file.getmembers()[1]"
   ]
  },
  {
   "cell_type": "code",
   "execution_count": 40,
   "metadata": {},
   "outputs": [
    {
     "data": {
      "text/plain": [
       "'PMC13900/BCR-3-1-055.nxml'"
      ]
     },
     "execution_count": 40,
     "metadata": {},
     "output_type": "execute_result"
    }
   ],
   "source": [
    "member.path"
   ]
  },
  {
   "cell_type": "code",
   "execution_count": 41,
   "metadata": {
    "collapsed": true
   },
   "outputs": [],
   "source": [
    "tar_file.extractall(path=f\"{NOTEBOOK_NAME}/delete\", members=[member])"
   ]
  },
  {
   "cell_type": "code",
   "execution_count": 43,
   "metadata": {},
   "outputs": [
    {
     "name": "stdout",
     "output_type": "stream",
     "text": [
      "total 9\r\n",
      "drwxrwsr-x 2 strokach def-pmkim  4096 Dec  2 23:35 .\r\n",
      "drwxrwsr-x 3 strokach def-pmkim  4096 Dec  2 23:35 ..\r\n",
      "-rw-rw-r-- 1 strokach def-pmkim 52460 Jan  1  2017 BCR-3-1-055.nxml\r\n"
     ]
    }
   ],
   "source": [
    "!ls -al {NOTEBOOK_NAME}/delete/PMC13900"
   ]
  },
  {
   "cell_type": "code",
   "execution_count": 35,
   "metadata": {},
   "outputs": [
    {
     "data": {
      "text/plain": [
       "'PMC13900'"
      ]
     },
     "execution_count": 35,
     "metadata": {},
     "output_type": "execute_result"
    }
   ],
   "source": [
    "member.name"
   ]
  },
  {
   "cell_type": "code",
   "execution_count": 36,
   "metadata": {},
   "outputs": [
    {
     "ename": "SyntaxError",
     "evalue": "invalid syntax (<ipython-input-36-e5ed5e978f0c>, line 1)",
     "output_type": "error",
     "traceback": [
      "\u001b[0;36m  File \u001b[0;32m\"<ipython-input-36-e5ed5e978f0c>\"\u001b[0;36m, line \u001b[0;32m1\u001b[0m\n\u001b[0;31m    member.\u001b[0m\n\u001b[0m           ^\u001b[0m\n\u001b[0;31mSyntaxError\u001b[0m\u001b[0;31m:\u001b[0m invalid syntax\n"
     ]
    }
   ],
   "source": [
    "member."
   ]
  },
  {
   "cell_type": "code",
   "execution_count": null,
   "metadata": {
    "collapsed": true
   },
   "outputs": [],
   "source": []
  }
 ],
 "metadata": {
  "kernelspec": {
   "display_name": "Python 3",
   "language": "python",
   "name": "python3"
  },
  "language_info": {
   "codemirror_mode": {
    "name": "ipython",
    "version": 3
   },
   "file_extension": ".py",
   "mimetype": "text/x-python",
   "name": "python",
   "nbconvert_exporter": "python",
   "pygments_lexer": "ipython3",
   "version": "3.6.3"
  }
 },
 "nbformat": 4,
 "nbformat_minor": 2
}
