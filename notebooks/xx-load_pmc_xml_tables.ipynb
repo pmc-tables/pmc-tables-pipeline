{
 "cells": [
  {
   "cell_type": "markdown",
   "metadata": {},
   "source": [
    "# Summary\n",
    "\n",
    "---"
   ]
  },
  {
   "cell_type": "markdown",
   "metadata": {},
   "source": [
    "# Imports"
   ]
  },
  {
   "cell_type": "code",
   "execution_count": 1,
   "metadata": {},
   "outputs": [
    {
     "name": "stderr",
     "output_type": "stream",
     "text": [
      "Setting the PYTHON_VERSION environment variable.\n",
      "Setting the SPARK_MASTER environment variable.\n",
      "Setting the DB_TYPE environment variable.\n",
      "Setting the DB_PORT environment variable.\n"
     ]
    },
    {
     "name": "stdout",
     "output_type": "stream",
     "text": [
      "2017-12-15 12:06:28.528187\n"
     ]
    }
   ],
   "source": [
    "%run _imports.ipynb"
   ]
  },
  {
   "cell_type": "code",
   "execution_count": 65,
   "metadata": {},
   "outputs": [
    {
     "data": {
      "text/plain": [
       "<module 'pmc_tables' from '/home/kimlab1/strokach/working/pmc_tables/pmc_tables/__init__.py'>"
      ]
     },
     "execution_count": 65,
     "metadata": {},
     "output_type": "execute_result"
    }
   ],
   "source": [
    "import pmc_tables\n",
    "importlib.reload(pmc_tables)"
   ]
  },
  {
   "cell_type": "code",
   "execution_count": 3,
   "metadata": {
    "collapsed": true
   },
   "outputs": [],
   "source": [
    "NOTEBOOK_NAME = 'load_pmc_xml_tables'\n",
    "os.makedirs(NOTEBOOK_NAME, exist_ok=True)"
   ]
  },
  {
   "cell_type": "markdown",
   "metadata": {},
   "source": [
    "# Parameters"
   ]
  },
  {
   "cell_type": "code",
   "execution_count": 4,
   "metadata": {},
   "outputs": [],
   "source": [
    "MANUSCRIPT_DATA_DIR = Path('../downloads/ncbi/pmc/manuscript/').absolute()"
   ]
  },
  {
   "cell_type": "markdown",
   "metadata": {},
   "source": [
    "# Load test data"
   ]
  },
  {
   "cell_type": "markdown",
   "metadata": {},
   "source": [
    "## Manuscripts"
   ]
  },
  {
   "cell_type": "code",
   "execution_count": 5,
   "metadata": {},
   "outputs": [
    {
     "name": "stdout",
     "output_type": "stream",
     "text": [
      "filelist.csv\t\t PMC0033XXXXX\t\t  PMC0046XXXXX\r\n",
      "PMC0021XXXXX\t\t PMC0034XXXXX\t\t  PMC0047XXXXX\r\n",
      "PMC0022XXXXX\t\t PMC0035XXXXX\t\t  PMC0048XXXXX\r\n",
      "PMC0023XXXXX\t\t PMC0036XXXXX\t\t  PMC0049XXXXX\r\n",
      "PMC0024XXXXX\t\t PMC0037XXXXX\t\t  PMC004XXXXXX.xml.tar.gz\r\n",
      "PMC0025XXXXX\t\t PMC0038XXXXX\t\t  PMC0050XXXXX\r\n",
      "PMC0026XXXXX\t\t PMC0039XXXXX\t\t  PMC0051XXXXX\r\n",
      "PMC0027XXXXX\t\t PMC003XXXXXX.xml.tar.gz  PMC0052XXXXX\r\n",
      "PMC0028XXXXX\t\t PMC0040XXXXX\t\t  PMC0053XXXXX\r\n",
      "PMC0029XXXXX\t\t PMC0041XXXXX\t\t  PMC0054XXXXX\r\n",
      "PMC002XXXXXX.xml.tar.gz  PMC0042XXXXX\t\t  PMC0055XXXXX\r\n",
      "PMC0030XXXXX\t\t PMC0043XXXXX\t\t  PMC0056XXXXX\r\n",
      "PMC0031XXXXX\t\t PMC0044XXXXX\t\t  PMC005XXXXXX.xml.tar.gz\r\n",
      "PMC0032XXXXX\t\t PMC0045XXXXX\r\n"
     ]
    }
   ],
   "source": [
    "!ls {MANUSCRIPT_DATA_DIR}"
   ]
  },
  {
   "cell_type": "code",
   "execution_count": 6,
   "metadata": {
    "collapsed": true
   },
   "outputs": [],
   "source": [
    "manuscript_files = pd.read_csv('../downloads/ncbi/pmc/manuscript/filelist.csv')"
   ]
  },
  {
   "cell_type": "code",
   "execution_count": 7,
   "metadata": {},
   "outputs": [
    {
     "data": {
      "text/html": [
       "<div>\n",
       "<style scoped>\n",
       "    .dataframe tbody tr th:only-of-type {\n",
       "        vertical-align: middle;\n",
       "    }\n",
       "\n",
       "    .dataframe tbody tr th {\n",
       "        vertical-align: top;\n",
       "    }\n",
       "\n",
       "    .dataframe thead th {\n",
       "        text-align: right;\n",
       "    }\n",
       "</style>\n",
       "<table border=\"1\" class=\"dataframe\">\n",
       "  <thead>\n",
       "    <tr style=\"text-align: right;\">\n",
       "      <th></th>\n",
       "      <th>File</th>\n",
       "      <th>PMCID</th>\n",
       "      <th>PMID</th>\n",
       "      <th>MID</th>\n",
       "    </tr>\n",
       "  </thead>\n",
       "  <tbody>\n",
       "    <tr>\n",
       "      <th>0</th>\n",
       "      <td>PMC0021XXXXX/PMC2136438.xml</td>\n",
       "      <td>PMC2136438</td>\n",
       "      <td>19023455</td>\n",
       "      <td>NIHMS10936</td>\n",
       "    </tr>\n",
       "    <tr>\n",
       "      <th>1</th>\n",
       "      <td>PMC0021XXXXX/PMC2185066.xml</td>\n",
       "      <td>PMC2185066</td>\n",
       "      <td>18769527</td>\n",
       "      <td>NIHMS31656</td>\n",
       "    </tr>\n",
       "    <tr>\n",
       "      <th>2</th>\n",
       "      <td>PMC0022XXXXX/PMC2268633.xml</td>\n",
       "      <td>PMC2268633</td>\n",
       "      <td>17661176</td>\n",
       "      <td>NIHMS37031</td>\n",
       "    </tr>\n",
       "    <tr>\n",
       "      <th>3</th>\n",
       "      <td>PMC0022XXXXX/PMC2287164.xml</td>\n",
       "      <td>PMC2287164</td>\n",
       "      <td>18389087</td>\n",
       "      <td>NIHMS38164</td>\n",
       "    </tr>\n",
       "    <tr>\n",
       "      <th>4</th>\n",
       "      <td>PMC0022XXXXX/PMC2288569.xml</td>\n",
       "      <td>PMC2288569</td>\n",
       "      <td>18650957</td>\n",
       "      <td>NIHMS40219</td>\n",
       "    </tr>\n",
       "  </tbody>\n",
       "</table>\n",
       "</div>"
      ],
      "text/plain": [
       "                          File       PMCID      PMID         MID\n",
       "0  PMC0021XXXXX/PMC2136438.xml  PMC2136438  19023455  NIHMS10936\n",
       "1  PMC0021XXXXX/PMC2185066.xml  PMC2185066  18769527  NIHMS31656\n",
       "2  PMC0022XXXXX/PMC2268633.xml  PMC2268633  17661176  NIHMS37031\n",
       "3  PMC0022XXXXX/PMC2287164.xml  PMC2287164  18389087  NIHMS38164\n",
       "4  PMC0022XXXXX/PMC2288569.xml  PMC2288569  18650957  NIHMS40219"
      ]
     },
     "execution_count": 7,
     "metadata": {},
     "output_type": "execute_result"
    }
   ],
   "source": [
    "manuscript_files.head()"
   ]
  },
  {
   "cell_type": "markdown",
   "metadata": {
    "collapsed": true
   },
   "source": [
    "# Process"
   ]
  },
  {
   "cell_type": "markdown",
   "metadata": {},
   "source": [
    "## Test 1"
   ]
  },
  {
   "cell_type": "code",
   "execution_count": 71,
   "metadata": {
    "collapsed": true
   },
   "outputs": [],
   "source": [
    "manuscript_file = MANUSCRIPT_DATA_DIR.joinpath('PMC0021XXXXX/PMC2136438.xml')"
   ]
  },
  {
   "cell_type": "code",
   "execution_count": 72,
   "metadata": {},
   "outputs": [],
   "source": [
    "manuscript_data = pmc_tables.extract_tables_from_xml(manuscript_file)"
   ]
  },
  {
   "cell_type": "code",
   "execution_count": 73,
   "metadata": {},
   "outputs": [
    {
     "data": {
      "text/plain": [
       "dict_keys(['/PMC2136438.xml/T1-0', '/PMC2136438.xml/T2-0', '/PMC2136438.xml/T3-0', '/PMC2136438.xml/T4-0', '/PMC2136438.xml/T5-0', '/PMC2136438.xml/T6-0', '/PMC2136438.xml/T7-0'])"
      ]
     },
     "execution_count": 73,
     "metadata": {},
     "output_type": "execute_result"
    }
   ],
   "source": [
    "data.keys()"
   ]
  },
  {
   "cell_type": "code",
   "execution_count": 74,
   "metadata": {},
   "outputs": [
    {
     "data": {
      "text/plain": [
       "{'caption': 'Average p-value for the tests conducted over the sets of target and non-target edges. The average, minimum and maximum values calculated over 25 simulated rate maps are reported. The last column reports the ratio of average p-values for non-target versus target edges.',\n",
       " 'footer': '',\n",
       " 'id_': 'T7',\n",
       " 'label': 'Table 7',\n",
       " 'table': 'c-rNeTW`}a6vyBB6jqRUqxCh8wKNhS9(Wj<fG^-CUTTpgmE$t@?Qw>HuB)n|b1Jo3AKLWD`N@~R&&4jIU3QM#27Big*=qES8#59%of{Wf8-~q#%&J%9@289_XPa%yWD8FXkIjhfeA_Rw&fUh0)I&F}ZTia+eYpSq%(LnyxW?CU2<1Gk4p3^>M;Ep@VvEDF>YEL%i^Mgp8-b|LL;p4ca62RXF!V9lF+Rs6OF){*)a`daT$n-nni$u<2P5oHDB`R~vb$(gi=7=&#^umF9I>*^Q7cR42i|-(h<r!PZj;p4k?Wyx9r=`c+x!pha8HgD@NvVezSw&bY<%2sfKFC)CItsGxKdz-(g+M=;A5e1hG7Me!DeC)0#`#H@76x}Itl*0eZWwX$>Fol;EbXWa0X>yhA7|+ljmS1<^0r2x*7a94n6rEeCzub!56?+kR$k$Lc@Jyq2P*E2)n}M46Gz+POYS`(MCT;Uz0bl4a=`eAJcnvRgRl=m0Z;HQ_lYxmsM&f)z$Q!TF)m7LKuNhw_q63DG(ePoS_i<VK`iVB0sVGFtf)Ol0I?;4|0s=2x%-lWJpfI3|dI|o|OU~^!25sj{?C{Q3+4pHA2A7l}0E;5Q08f(R{|lrKOJo!6(rIu13u@0s|oxHv9~VDn6t6%Sa!kM5ta6YFGwmXoLz#QG`m&NO<+aFDZRI>--VhV>5~1u@R1Jlt!qQ5DrwS&<NEdblZuUei<H{DRUO`lN>HTfp7*+wLv%ymf(b8UmmyTPU-0lQZh`}w0{i004W;v-~'}"
      ]
     },
     "execution_count": 74,
     "metadata": {},
     "output_type": "execute_result"
    }
   ],
   "source": [
    "data['/PMC2136438.xml/T7-0']"
   ]
  },
  {
   "cell_type": "code",
   "execution_count": null,
   "metadata": {
    "collapsed": true
   },
   "outputs": [],
   "source": []
  },
  {
   "cell_type": "code",
   "execution_count": 70,
   "metadata": {},
   "outputs": [
    {
     "data": {
      "text/html": [
       "<table frame=\"hsides\" rules=\"groups\">\n",
       "          <thead>\n",
       "            <tr>\n",
       "              <th align=\"left\" colspan=\"1\" rowspan=\"2\">Predictor</th>\n",
       "              <th align=\"center\" colspan=\"3\" rowspan=\"1\">Target edges</th>\n",
       "              <th align=\"center\" colspan=\"3\" rowspan=\"1\">Non-target edges</th>\n",
       "              <th align=\"center\" colspan=\"1\" rowspan=\"2\">Contrast</th>\n",
       "            </tr>\n",
       "            <tr>\n",
       "              <th align=\"left\" colspan=\"1\" rowspan=\"1\">Aver.</th>\n",
       "              <th align=\"center\" colspan=\"1\" rowspan=\"1\">Min.</th>\n",
       "              <th align=\"center\" colspan=\"1\" rowspan=\"1\">Max.</th>\n",
       "              <th align=\"center\" colspan=\"1\" rowspan=\"1\">Aver.</th>\n",
       "              <th align=\"center\" colspan=\"1\" rowspan=\"1\">Min.</th>\n",
       "              <th align=\"center\" colspan=\"1\" rowspan=\"1\">Max.</th>\n",
       "            </tr>\n",
       "          </thead>\n",
       "          <tbody>\n",
       "            <tr>\n",
       "              <td align=\"left\" colspan=\"1\" rowspan=\"1\" />\n",
       "              <td align=\"center\" colspan=\"6\" rowspan=\"1\">Neutral Model I</td>\n",
       "              <td align=\"center\" colspan=\"1\" rowspan=\"1\" />\n",
       "            </tr>\n",
       "            <tr>\n",
       "              <td align=\"left\" colspan=\"1\" rowspan=\"1\">Raw rates</td>\n",
       "              <td align=\"center\" colspan=\"1\" rowspan=\"1\">0.432</td>\n",
       "              <td align=\"center\" colspan=\"1\" rowspan=\"1\">0.255</td>\n",
       "              <td align=\"center\" colspan=\"1\" rowspan=\"1\">0.575</td>\n",
       "              <td align=\"center\" colspan=\"1\" rowspan=\"1\">0.599</td>\n",
       "              <td align=\"center\" colspan=\"1\" rowspan=\"1\">0.209</td>\n",
       "              <td align=\"center\" colspan=\"1\" rowspan=\"1\">0.918</td>\n",
       "              <td align=\"center\" colspan=\"1\" rowspan=\"1\">1.38</td>\n",
       "            </tr>\n",
       "            <tr>\n",
       "              <td align=\"left\" colspan=\"1\" rowspan=\"1\">Empirical Bayes</td>\n",
       "              <td align=\"center\" colspan=\"1\" rowspan=\"1\">0.496</td>\n",
       "              <td align=\"center\" colspan=\"1\" rowspan=\"1\">0.216</td>\n",
       "              <td align=\"center\" colspan=\"1\" rowspan=\"1\">0.883</td>\n",
       "              <td align=\"center\" colspan=\"1\" rowspan=\"1\">0.801</td>\n",
       "              <td align=\"center\" colspan=\"1\" rowspan=\"1\">0.381</td>\n",
       "              <td align=\"center\" colspan=\"1\" rowspan=\"1\">0.966</td>\n",
       "              <td align=\"center\" colspan=\"1\" rowspan=\"1\">1.62</td>\n",
       "            </tr>\n",
       "            <tr>\n",
       "              <td align=\"left\" colspan=\"1\" rowspan=\"1\">Poisson kriging</td>\n",
       "              <td align=\"center\" colspan=\"1\" rowspan=\"1\">0.573</td>\n",
       "              <td align=\"center\" colspan=\"1\" rowspan=\"1\">0.275</td>\n",
       "              <td align=\"center\" colspan=\"1\" rowspan=\"1\">0.872</td>\n",
       "              <td align=\"center\" colspan=\"1\" rowspan=\"1\">0.856</td>\n",
       "              <td align=\"center\" colspan=\"1\" rowspan=\"1\">0.516</td>\n",
       "              <td align=\"center\" colspan=\"1\" rowspan=\"1\">0.961</td>\n",
       "              <td align=\"center\" colspan=\"1\" rowspan=\"1\">1.49</td>\n",
       "            </tr>\n",
       "            <tr>\n",
       "              <td align=\"left\" colspan=\"1\" rowspan=\"1\">Statistic &#916;<italic><sup>s</sup></italic><sub>&#945;&#946;</sub></td>\n",
       "              <td align=\"center\" colspan=\"1\" rowspan=\"1\">0.596</td>\n",
       "              <td align=\"center\" colspan=\"1\" rowspan=\"1\">0.312</td>\n",
       "              <td align=\"center\" colspan=\"1\" rowspan=\"1\">0.858</td>\n",
       "              <td align=\"center\" colspan=\"1\" rowspan=\"1\">0.808</td>\n",
       "              <td align=\"center\" colspan=\"1\" rowspan=\"1\">0.558</td>\n",
       "              <td align=\"center\" colspan=\"1\" rowspan=\"1\">0.921</td>\n",
       "              <td align=\"center\" colspan=\"1\" rowspan=\"1\">1.36</td>\n",
       "            </tr>\n",
       "            <tr>\n",
       "              <td align=\"left\" colspan=\"1\" rowspan=\"1\" />\n",
       "              <td align=\"center\" colspan=\"6\" rowspan=\"1\">Neutral Model II</td>\n",
       "              <td align=\"center\" colspan=\"1\" rowspan=\"1\" />\n",
       "            </tr>\n",
       "            <tr>\n",
       "              <td align=\"left\" colspan=\"1\" rowspan=\"1\">Raw rates</td>\n",
       "              <td align=\"center\" colspan=\"1\" rowspan=\"1\">0.251</td>\n",
       "              <td align=\"center\" colspan=\"1\" rowspan=\"1\">0.106</td>\n",
       "              <td align=\"center\" colspan=\"1\" rowspan=\"1\">0.433</td>\n",
       "              <td align=\"center\" colspan=\"1\" rowspan=\"1\">0.420</td>\n",
       "              <td align=\"center\" colspan=\"1\" rowspan=\"1\">0.084</td>\n",
       "              <td align=\"center\" colspan=\"1\" rowspan=\"1\">0.843</td>\n",
       "              <td align=\"center\" colspan=\"1\" rowspan=\"1\">1.67</td>\n",
       "            </tr>\n",
       "            <tr>\n",
       "              <td align=\"left\" colspan=\"1\" rowspan=\"1\">Empirical Bayes</td>\n",
       "              <td align=\"center\" colspan=\"1\" rowspan=\"1\">0.308</td>\n",
       "              <td align=\"center\" colspan=\"1\" rowspan=\"1\">0.049</td>\n",
       "              <td align=\"center\" colspan=\"1\" rowspan=\"1\">0.756</td>\n",
       "              <td align=\"center\" colspan=\"1\" rowspan=\"1\">0.657</td>\n",
       "              <td align=\"center\" colspan=\"1\" rowspan=\"1\">0.206</td>\n",
       "              <td align=\"center\" colspan=\"1\" rowspan=\"1\">0.920</td>\n",
       "              <td align=\"center\" colspan=\"1\" rowspan=\"1\">2.13</td>\n",
       "            </tr>\n",
       "            <tr>\n",
       "              <td align=\"left\" colspan=\"1\" rowspan=\"1\">Poisson kriging</td>\n",
       "              <td align=\"center\" colspan=\"1\" rowspan=\"1\">0.351</td>\n",
       "              <td align=\"center\" colspan=\"1\" rowspan=\"1\">0.088</td>\n",
       "              <td align=\"center\" colspan=\"1\" rowspan=\"1\">0.727</td>\n",
       "              <td align=\"center\" colspan=\"1\" rowspan=\"1\">0.723</td>\n",
       "              <td align=\"center\" colspan=\"1\" rowspan=\"1\">0.292</td>\n",
       "              <td align=\"center\" colspan=\"1\" rowspan=\"1\">0.883</td>\n",
       "              <td align=\"center\" colspan=\"1\" rowspan=\"1\">2.06</td>\n",
       "            </tr>\n",
       "            <tr>\n",
       "              <td align=\"left\" colspan=\"1\" rowspan=\"1\">Statistic &#916;<italic><sup>s</sup></italic><sub>&#945;&#946;</sub></td>\n",
       "              <td align=\"center\" colspan=\"1\" rowspan=\"1\">0.544</td>\n",
       "              <td align=\"center\" colspan=\"1\" rowspan=\"1\">0.273</td>\n",
       "              <td align=\"center\" colspan=\"1\" rowspan=\"1\">0.813</td>\n",
       "              <td align=\"center\" colspan=\"1\" rowspan=\"1\">0.772</td>\n",
       "              <td align=\"center\" colspan=\"1\" rowspan=\"1\">0.505</td>\n",
       "              <td align=\"center\" colspan=\"1\" rowspan=\"1\">0.894</td>\n",
       "              <td align=\"center\" colspan=\"1\" rowspan=\"1\">1.42</td>\n",
       "            </tr>\n",
       "            <tr>\n",
       "              <td align=\"left\" colspan=\"1\" rowspan=\"1\" />\n",
       "              <td align=\"center\" colspan=\"6\" rowspan=\"1\">Neutral Model III</td>\n",
       "              <td align=\"center\" colspan=\"1\" rowspan=\"1\" />\n",
       "            </tr>\n",
       "            <tr>\n",
       "              <td align=\"left\" colspan=\"1\" rowspan=\"1\">Poisson kriging</td>\n",
       "              <td align=\"center\" colspan=\"1\" rowspan=\"1\">0.141</td>\n",
       "              <td align=\"center\" colspan=\"1\" rowspan=\"1\">0.001</td>\n",
       "              <td align=\"center\" colspan=\"1\" rowspan=\"1\">0.578</td>\n",
       "              <td align=\"center\" colspan=\"1\" rowspan=\"1\">0.532</td>\n",
       "              <td align=\"center\" colspan=\"1\" rowspan=\"1\">0.037</td>\n",
       "              <td align=\"center\" colspan=\"1\" rowspan=\"1\">0.855</td>\n",
       "              <td align=\"center\" colspan=\"1\" rowspan=\"1\">3.76</td>\n",
       "            </tr>\n",
       "            <tr>\n",
       "              <td align=\"left\" colspan=\"1\" rowspan=\"1\">Statistic &#916;<italic><sup>s</sup></italic><sub>&#945;&#946;</sub></td>\n",
       "              <td align=\"center\" colspan=\"1\" rowspan=\"1\">0.159</td>\n",
       "              <td align=\"center\" colspan=\"1\" rowspan=\"1\">0.001</td>\n",
       "              <td align=\"center\" colspan=\"1\" rowspan=\"1\">0.428</td>\n",
       "              <td align=\"center\" colspan=\"1\" rowspan=\"1\">0.399</td>\n",
       "              <td align=\"center\" colspan=\"1\" rowspan=\"1\">0.079</td>\n",
       "              <td align=\"center\" colspan=\"1\" rowspan=\"1\">0.494</td>\n",
       "              <td align=\"center\" colspan=\"1\" rowspan=\"1\">2.51</td>\n",
       "            </tr>\n",
       "          </tbody>\n",
       "        </table>\n",
       "      "
      ],
      "text/plain": [
       "<IPython.core.display.HTML object>"
      ]
     },
     "metadata": {},
     "output_type": "display_data"
    }
   ],
   "source": [
    "table_bytes = pmc_tables.decompress_from_b85(data['/PMC2136438.xml/T7-0']['table'])\n",
    "display(HTML(table_bytes.decode('ascii')))"
   ]
  },
  {
   "cell_type": "code",
   "execution_count": null,
   "metadata": {
    "collapsed": true
   },
   "outputs": [],
   "source": []
  },
  {
   "cell_type": "code",
   "execution_count": 10,
   "metadata": {
    "collapsed": true
   },
   "outputs": [],
   "source": [
    "import pmc_tables"
   ]
  },
  {
   "cell_type": "code",
   "execution_count": 11,
   "metadata": {},
   "outputs": [],
   "source": [
    "# with pd.HDFStore(f'{NOTEBOOK_NAME}/pmc-tables-1.h5', 'w') as store:\n",
    "\n",
    "#     for i, row in enumerate(manuscript_files.itertuples()):\n",
    "#         print('\\n' + f\"{row.File}\")\n",
    "\n",
    "#         results = {}\n",
    "#         xml_file = MANUSCRIPT_DATA_DIR.joinpath(row.File)\n",
    "\n",
    "#         count += 1\n",
    "#         if count > 1_000:\n",
    "#             break"
   ]
  },
  {
   "cell_type": "markdown",
   "metadata": {
    "collapsed": true
   },
   "source": [
    "## Example `xml-wrap`"
   ]
  },
  {
   "cell_type": "code",
   "execution_count": 8,
   "metadata": {
    "collapsed": true
   },
   "outputs": [],
   "source": [
    "tree = ET.parse(MANUSCRIPT_DATA_DIR.joinpath('PMC0021XXXXX/PMC2136438.xml'))"
   ]
  },
  {
   "cell_type": "code",
   "execution_count": 9,
   "metadata": {
    "collapsed": true
   },
   "outputs": [],
   "source": [
    "root = tree.getroot()"
   ]
  },
  {
   "cell_type": "markdown",
   "metadata": {},
   "source": [
    "```xml\n",
    "<table-wrap id=\"T1\" position=\"float\">\n",
    "<label>Table 1</label>\n",
    "<caption>\n",
    "  <p>Mean (SD) Neuropsychological Test Performance for the Three Age Groups in Experiment 1</p>\n",
    "</caption>\n",
    "<table frame=\"void\" rules=\"none\">\n",
    "  <thead>\n",
    "    <tr>\n",
    "      <th align=\"left\" valign=\"middle\" rowspan=\"1\" colspan=\"1\"/>\n",
    "      <th align=\"center\" valign=\"middle\" rowspan=\"1\" colspan=\"1\">Young Adults</th>\n",
    "      <th align=\"center\" valign=\"middle\" rowspan=\"1\" colspan=\"1\">Older-Young Adults</th>\n",
    "      <th align=\"right\" valign=\"middle\" rowspan=\"1\" colspan=\"1\">Older Adults</th>\n",
    "    </tr>\n",
    "  </thead>\n",
    "  <tbody>\n",
    "    <tr>\n",
    "      <td align=\"left\" valign=\"middle\" rowspan=\"1\" colspan=\"1\">Test (Maximum Score)</td>\n",
    "      <td align=\"center\" valign=\"middle\" rowspan=\"1\" colspan=\"1\"/>\n",
    "      <td align=\"center\" valign=\"middle\" rowspan=\"1\" colspan=\"1\"/>\n",
    "      <td align=\"right\" valign=\"middle\" rowspan=\"1\" colspan=\"1\"/>\n",
    "    </tr>\n",
    "    <tr>\n",
    "    ...\n",
    "    </tr>\n",
    "  </tbody>\n",
    "</table>\n",
    "<table-wrap-foot>\n",
    "  <p><italic>Note</italic>. CVLT = California Verbal Learning Test</p>\n",
    "  <fn id=\"TFN1\">\n",
    "    <label>*</label>\n",
    "    <p id=\"P61\">= significant group differences</p>\n",
    "  </fn>\n",
    "  <fn id=\"TFN2\">\n",
    "    <label>†</label>\n",
    "    <p id=\"P62\">= significant group differences</p>\n",
    "  </fn>\n",
    "</table-wrap-foot>\n",
    "</table-wrap>\n",
    "```"
   ]
  }
 ],
 "metadata": {
  "kernelspec": {
   "display_name": "Python 3",
   "language": "python",
   "name": "python3"
  },
  "language_info": {
   "codemirror_mode": {
    "name": "ipython",
    "version": 3
   },
   "file_extension": ".py",
   "mimetype": "text/x-python",
   "name": "python",
   "nbconvert_exporter": "python",
   "pygments_lexer": "ipython3",
   "version": "3.6.3"
  },
  "toc": {
   "nav_menu": {},
   "number_sections": false,
   "sideBar": false,
   "skip_h1_title": false,
   "toc_cell": false,
   "toc_position": {
    "height": "232px",
    "left": "1645.33px",
    "right": "20px",
    "top": "106.354px",
    "width": "269px"
   },
   "toc_section_display": "block",
   "toc_window_display": true
  }
 },
 "nbformat": 4,
 "nbformat_minor": 2
}
