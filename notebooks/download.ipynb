{
 "cells": [
  {
   "cell_type": "markdown",
   "metadata": {},
   "source": [
    "# Summary\n",
    "\n",
    "> **Notes:**\n",
    ">\n",
    "> - Compress the files back after extracting relevant information!!!\n",
    "> - Use [`shutil.make_archive`](https://docs.python.org/3/library/shutil.html#shutil.make_archive) to compress files as you download them!"
   ]
  },
  {
   "cell_type": "markdown",
   "metadata": {},
   "source": [
    "# Imports"
   ]
  },
  {
   "cell_type": "code",
   "execution_count": 1,
   "metadata": {},
   "outputs": [
    {
     "name": "stderr",
     "output_type": "stream",
     "text": [
      "Setting the PYTHON_VERSION environment variable.\n",
      "Setting the SPARK_MASTER environment variable.\n",
      "Setting the DB_TYPE environment variable.\n",
      "Setting the DB_PORT environment variable.\n"
     ]
    },
    {
     "name": "stdout",
     "output_type": "stream",
     "text": [
      "2017-12-06 10:00:58.119047\n"
     ]
    }
   ],
   "source": [
    "%run _imports.ipynb"
   ]
  },
  {
   "cell_type": "code",
   "execution_count": 2,
   "metadata": {
    "collapsed": true
   },
   "outputs": [],
   "source": [
    "NOTEBOOK_NAME = 'download'\n",
    "os.makedirs(NOTEBOOK_NAME, exist_ok=True)"
   ]
  },
  {
   "cell_type": "markdown",
   "metadata": {},
   "source": [
    "# Download"
   ]
  },
  {
   "cell_type": "markdown",
   "metadata": {},
   "source": [
    "## OA package"
   ]
  },
  {
   "cell_type": "code",
   "execution_count": 3,
   "metadata": {},
   "outputs": [
    {
     "data": {
      "text/plain": [
       "('download/oa_file_list.csv', <email.message.Message at 0x2b0190e68f98>)"
      ]
     },
     "execution_count": 3,
     "metadata": {},
     "output_type": "execute_result"
    }
   ],
   "source": [
    "urllib.request.urlretrieve(\n",
    "    'ftp://ftp.ncbi.nlm.nih.gov/pub/pmc/oa_file_list.csv',\n",
    "    f'{NOTEBOOK_NAME}/oa_file_list.csv'\n",
    ")"
   ]
  },
  {
   "cell_type": "code",
   "execution_count": 4,
   "metadata": {
    "collapsed": true
   },
   "outputs": [],
   "source": [
    "oa_file_list = pd.read_csv(f'{NOTEBOOK_NAME}/oa_file_list.csv')"
   ]
  },
  {
   "cell_type": "code",
   "execution_count": 5,
   "metadata": {
    "scrolled": true
   },
   "outputs": [
    {
     "data": {
      "text/html": [
       "<div>\n",
       "<style>\n",
       "    .dataframe thead tr:only-child th {\n",
       "        text-align: right;\n",
       "    }\n",
       "\n",
       "    .dataframe thead th {\n",
       "        text-align: left;\n",
       "    }\n",
       "\n",
       "    .dataframe tbody tr th {\n",
       "        vertical-align: top;\n",
       "    }\n",
       "</style>\n",
       "<table border=\"1\" class=\"dataframe\">\n",
       "  <thead>\n",
       "    <tr style=\"text-align: right;\">\n",
       "      <th></th>\n",
       "      <th>File</th>\n",
       "      <th>Article Citation</th>\n",
       "      <th>Accession ID</th>\n",
       "      <th>Last Updated (YYYY-MM-DD HH:MM:SS)</th>\n",
       "      <th>PMID</th>\n",
       "      <th>License</th>\n",
       "    </tr>\n",
       "  </thead>\n",
       "  <tbody>\n",
       "    <tr>\n",
       "      <th>0</th>\n",
       "      <td>oa_package/08/e0/PMC13900.tar.gz</td>\n",
       "      <td>Breast Cancer Res. 2001 Nov 2; 3(1):55-60</td>\n",
       "      <td>PMC13900</td>\n",
       "      <td>2017-04-26 12:15:50</td>\n",
       "      <td>11250746.0</td>\n",
       "      <td>NO-CC CODE</td>\n",
       "    </tr>\n",
       "    <tr>\n",
       "      <th>1</th>\n",
       "      <td>oa_package/b0/ac/PMC13901.tar.gz</td>\n",
       "      <td>Breast Cancer Res. 2001 Nov 9; 3(1):61-65</td>\n",
       "      <td>PMC13901</td>\n",
       "      <td>2016-01-20 10:58:46</td>\n",
       "      <td>11250747.0</td>\n",
       "      <td>NO-CC CODE</td>\n",
       "    </tr>\n",
       "    <tr>\n",
       "      <th>2</th>\n",
       "      <td>oa_package/f7/98/PMC13902.tar.gz</td>\n",
       "      <td>Breast Cancer Res. 2001 Nov 8; 3(1):66-75</td>\n",
       "      <td>PMC13902</td>\n",
       "      <td>2006-02-02 19:37:52</td>\n",
       "      <td>11250748.0</td>\n",
       "      <td>NO-CC CODE</td>\n",
       "    </tr>\n",
       "    <tr>\n",
       "      <th>3</th>\n",
       "      <td>oa_package/9c/7f/PMC13911.tar.gz</td>\n",
       "      <td>Breast Cancer Res. 2000 Nov 16; 2(1):59-63</td>\n",
       "      <td>PMC13911</td>\n",
       "      <td>2013-03-17 14:00:52</td>\n",
       "      <td>11056684.0</td>\n",
       "      <td>NO-CC CODE</td>\n",
       "    </tr>\n",
       "    <tr>\n",
       "      <th>4</th>\n",
       "      <td>oa_package/c6/fb/PMC13912.tar.gz</td>\n",
       "      <td>Breast Cancer Res. 2000 Dec 6; 2(1):64-72</td>\n",
       "      <td>PMC13912</td>\n",
       "      <td>2013-03-17 14:00:52</td>\n",
       "      <td>11400682.0</td>\n",
       "      <td>NO-CC CODE</td>\n",
       "    </tr>\n",
       "  </tbody>\n",
       "</table>\n",
       "</div>"
      ],
      "text/plain": [
       "                               File                            Article Citation Accession ID Last Updated (YYYY-MM-DD HH:MM:SS)        PMID     License\n",
       "0  oa_package/08/e0/PMC13900.tar.gz   Breast Cancer Res. 2001 Nov 2; 3(1):55-60     PMC13900                2017-04-26 12:15:50  11250746.0  NO-CC CODE\n",
       "1  oa_package/b0/ac/PMC13901.tar.gz   Breast Cancer Res. 2001 Nov 9; 3(1):61-65     PMC13901                2016-01-20 10:58:46  11250747.0  NO-CC CODE\n",
       "2  oa_package/f7/98/PMC13902.tar.gz   Breast Cancer Res. 2001 Nov 8; 3(1):66-75     PMC13902                2006-02-02 19:37:52  11250748.0  NO-CC CODE\n",
       "3  oa_package/9c/7f/PMC13911.tar.gz  Breast Cancer Res. 2000 Nov 16; 2(1):59-63     PMC13911                2013-03-17 14:00:52  11056684.0  NO-CC CODE\n",
       "4  oa_package/c6/fb/PMC13912.tar.gz   Breast Cancer Res. 2000 Dec 6; 2(1):64-72     PMC13912                2013-03-17 14:00:52  11400682.0  NO-CC CODE"
      ]
     },
     "execution_count": 5,
     "metadata": {},
     "output_type": "execute_result"
    }
   ],
   "source": [
    "oa_file_list.head()"
   ]
  },
  {
   "cell_type": "code",
   "execution_count": 6,
   "metadata": {
    "collapsed": true
   },
   "outputs": [],
   "source": [
    "oa_package_df = oa_file_list[['File', 'Accession ID']].drop_duplicates()\n",
    "oa_package_df.columns = ['file_path', 'pmc_id']"
   ]
  },
  {
   "cell_type": "code",
   "execution_count": 7,
   "metadata": {},
   "outputs": [
    {
     "data": {
      "text/html": [
       "<div>\n",
       "<style>\n",
       "    .dataframe thead tr:only-child th {\n",
       "        text-align: right;\n",
       "    }\n",
       "\n",
       "    .dataframe thead th {\n",
       "        text-align: left;\n",
       "    }\n",
       "\n",
       "    .dataframe tbody tr th {\n",
       "        vertical-align: top;\n",
       "    }\n",
       "</style>\n",
       "<table border=\"1\" class=\"dataframe\">\n",
       "  <thead>\n",
       "    <tr style=\"text-align: right;\">\n",
       "      <th></th>\n",
       "      <th>file_path</th>\n",
       "      <th>pmc_id</th>\n",
       "    </tr>\n",
       "  </thead>\n",
       "  <tbody>\n",
       "    <tr>\n",
       "      <th>0</th>\n",
       "      <td>oa_package/08/e0/PMC13900.tar.gz</td>\n",
       "      <td>PMC13900</td>\n",
       "    </tr>\n",
       "    <tr>\n",
       "      <th>1</th>\n",
       "      <td>oa_package/b0/ac/PMC13901.tar.gz</td>\n",
       "      <td>PMC13901</td>\n",
       "    </tr>\n",
       "    <tr>\n",
       "      <th>2</th>\n",
       "      <td>oa_package/f7/98/PMC13902.tar.gz</td>\n",
       "      <td>PMC13902</td>\n",
       "    </tr>\n",
       "    <tr>\n",
       "      <th>3</th>\n",
       "      <td>oa_package/9c/7f/PMC13911.tar.gz</td>\n",
       "      <td>PMC13911</td>\n",
       "    </tr>\n",
       "    <tr>\n",
       "      <th>4</th>\n",
       "      <td>oa_package/c6/fb/PMC13912.tar.gz</td>\n",
       "      <td>PMC13912</td>\n",
       "    </tr>\n",
       "  </tbody>\n",
       "</table>\n",
       "</div>"
      ],
      "text/plain": [
       "                          file_path    pmc_id\n",
       "0  oa_package/08/e0/PMC13900.tar.gz  PMC13900\n",
       "1  oa_package/b0/ac/PMC13901.tar.gz  PMC13901\n",
       "2  oa_package/f7/98/PMC13902.tar.gz  PMC13902\n",
       "3  oa_package/9c/7f/PMC13911.tar.gz  PMC13911\n",
       "4  oa_package/c6/fb/PMC13912.tar.gz  PMC13912"
      ]
     },
     "execution_count": 7,
     "metadata": {},
     "output_type": "execute_result"
    }
   ],
   "source": [
    "oa_package_df.head()"
   ]
  },
  {
   "cell_type": "markdown",
   "metadata": {},
   "source": [
    "## Functions"
   ]
  },
  {
   "cell_type": "code",
   "execution_count": 8,
   "metadata": {
    "collapsed": true
   },
   "outputs": [],
   "source": [
    "ARCHIVE_DIR = f\"{NOTEBOOK_NAME}/pmc_3\"\n",
    "os.makedirs(ARCHIVE_DIR, exist_ok=True)"
   ]
  },
  {
   "cell_type": "code",
   "execution_count": 9,
   "metadata": {
    "collapsed": true
   },
   "outputs": [],
   "source": [
    "EXTENSIONS_TO_KEEP = ['.nxml', '.xml', '.csv', '.csv.gz', '.tsv', '.tsv.gz', '.xls', '.xlsx']"
   ]
  },
  {
   "cell_type": "code",
   "execution_count": 23,
   "metadata": {},
   "outputs": [
    {
     "ename": "SyntaxError",
     "evalue": "invalid syntax (<ipython-input-23-9d77247aa768>, line 61)",
     "output_type": "error",
     "traceback": [
      "\u001b[0;36m  File \u001b[0;32m\"<ipython-input-23-9d77247aa768>\"\u001b[0;36m, line \u001b[0;32m61\u001b[0m\n\u001b[0;31m    with tempfile.NamedTemporaryFile(dir='/dev/shm') as tmp_file,             tempfile.:\u001b[0m\n\u001b[0m                                                                                       ^\u001b[0m\n\u001b[0;31mSyntaxError\u001b[0m\u001b[0;31m:\u001b[0m invalid syntax\n"
     ]
    }
   ],
   "source": [
    "import datetime\n",
    "import tarfile\n",
    "from typing import List\n",
    "import zipfile\n",
    "\n",
    "import dateutil.parser\n",
    "\n",
    "\n",
    "def extract_tar_file(filename, output_dir) -> List[str]:\n",
    "    with tarfile.open(filename, 'r:gz') as tar_file:\n",
    "        members = [\n",
    "            m\n",
    "            for m in tar_file.getmembers()\n",
    "            if any(m.name.endswith(suffix) for suffix in EXTENSIONS_TO_KEEP)\n",
    "        ]\n",
    "        tar_file.extractall(path=output_dir, members=members)\n",
    "    return [m.name for m in members]\n",
    "    \n",
    "    \n",
    "def extract_zip_file(filename, output_dir) -> List[str]:\n",
    "    with zipfile.ZipFile(filename) as zip_file:\n",
    "        members = [\n",
    "            m\n",
    "            for m in zip_file.namelist()\n",
    "            if any(m.endswith(suffix) for suffix in EXTENSIONS_TO_KEEP)\n",
    "        ]\n",
    "        zip_file.extractall(path=output_dir, members=members)\n",
    "    return members    \n",
    "\n",
    "\n",
    "def download(pmc_id, source_url, output_dir, overwrite=False):\n",
    "    import socket\n",
    "    socket.setdefaulttimeout(60)\n",
    "\n",
    "    info = {\n",
    "        'pmc_id': pmc_id,\n",
    "        'source_url': source_url,\n",
    "        'output_dir': output_dir,\n",
    "    }\n",
    "\n",
    "    output_dir = op.join(ARCHIVE_DIR, output_dir)\n",
    "    \n",
    "    if output_dir.strip('/').endswith(pmc_id):\n",
    "        info_file = op.join(output_dir, 'info.json')\n",
    "    else:\n",
    "        info_file = op.join(output_dir, pmc_id, 'info.json')\n",
    "    \n",
    "    info['info_file'] = op.relpath(info_file, ARCHIVE_DIR)\n",
    "\n",
    "    if not overwrite and op.isfile(info_file):\n",
    "        info.update({'error': \"Info file already exists!\"})\n",
    "        return info\n",
    "\n",
    "    with tempfile.NamedTemporaryFile(dir='/dev/shm') as tmp_file, \\\n",
    "            tempfile.:\n",
    "        urllib.request.urlretrieve(source_url, tmp_file.name)\n",
    "        if source_url.endswith('.tar.gz'):\n",
    "            extracted_files = extract_tar_file(tmp_file.name, output_dir)\n",
    "        elif source_url.endswith('.zip'):\n",
    "            extracted_files = extract_zip_file(tmp_file.name, output_dir)\n",
    "        else:\n",
    "            raise Exception(f\"Unsupported archive {source_url}!\")\n",
    "        \n",
    "        info.update({\n",
    "            'source_url': source_url,\n",
    "            'created_on': datetime.datetime.now().isoformat(),\n",
    "            'extracted_files': extracted_files,\n",
    "        })\n",
    "        os.makedirs(op.dirname(info_file), exist_ok=True)\n",
    "        with open(info_file, 'wt') as fout:\n",
    "            json.dump(info, fout)\n",
    "    \n",
    "    return info"
   ]
  },
  {
   "cell_type": "code",
   "execution_count": 11,
   "metadata": {},
   "outputs": [
    {
     "data": {
      "text/plain": [
       "{'created_on': '2017-12-06T10:01:11.360791',\n",
       " 'extracted_files': [],\n",
       " 'info_file': 'suppl/NON-OA/PMC1125900-PMC1129899/PMC1125901/info.json',\n",
       " 'output_dir': 'suppl/NON-OA/PMC1125900-PMC1129899/PMC1125901',\n",
       " 'pmc_id': 'PMC1125901',\n",
       " 'source_url': 'ftp://ftp.ebi.ac.uk/pub/databases/pmc/suppl/NON-OA/PMC1125900-PMC1129899/PMC1125901.zip'}"
      ]
     },
     "execution_count": 11,
     "metadata": {},
     "output_type": "execute_result"
    }
   ],
   "source": [
    "pmc_id = 'PMC1125901'\n",
    "source_url = 'ftp://ftp.ebi.ac.uk/pub/databases/pmc/suppl/NON-OA/PMC1125900-PMC1129899/PMC1125901.zip'\n",
    "output_dir = 'suppl/NON-OA/PMC1125900-PMC1129899/PMC1125901'\n",
    "\n",
    "download(pmc_id, source_url, output_dir, True)"
   ]
  },
  {
   "cell_type": "markdown",
   "metadata": {},
   "source": [
    "## Downlaod files"
   ]
  },
  {
   "cell_type": "code",
   "execution_count": 12,
   "metadata": {},
   "outputs": [
    {
     "data": {
      "text/plain": [
       "'download/pmc_3'"
      ]
     },
     "execution_count": 12,
     "metadata": {},
     "output_type": "execute_result"
    }
   ],
   "source": [
    "ARCHIVE_DIR"
   ]
  },
  {
   "cell_type": "code",
   "execution_count": 13,
   "metadata": {
    "collapsed": true
   },
   "outputs": [],
   "source": [
    "to_download = pd.read_csv('pmc_statistics/to_download.csv')"
   ]
  },
  {
   "cell_type": "code",
   "execution_count": 14,
   "metadata": {},
   "outputs": [
    {
     "data": {
      "text/html": [
       "<div>\n",
       "<style>\n",
       "    .dataframe thead tr:only-child th {\n",
       "        text-align: right;\n",
       "    }\n",
       "\n",
       "    .dataframe thead th {\n",
       "        text-align: left;\n",
       "    }\n",
       "\n",
       "    .dataframe tbody tr th {\n",
       "        vertical-align: top;\n",
       "    }\n",
       "</style>\n",
       "<table border=\"1\" class=\"dataframe\">\n",
       "  <thead>\n",
       "    <tr style=\"text-align: right;\">\n",
       "      <th></th>\n",
       "      <th>pmc_id</th>\n",
       "      <th>source_url</th>\n",
       "      <th>output_dir</th>\n",
       "    </tr>\n",
       "  </thead>\n",
       "  <tbody>\n",
       "    <tr>\n",
       "      <th>0</th>\n",
       "      <td>PMC13900</td>\n",
       "      <td>ftp://ftp.ncbi.nlm.nih.gov/pub/pmc/oa_package/08/e0/PMC13900.tar.gz</td>\n",
       "      <td>oa_package/08/e0/</td>\n",
       "    </tr>\n",
       "    <tr>\n",
       "      <th>1</th>\n",
       "      <td>PMC13901</td>\n",
       "      <td>ftp://ftp.ncbi.nlm.nih.gov/pub/pmc/oa_package/b0/ac/PMC13901.tar.gz</td>\n",
       "      <td>oa_package/b0/ac/</td>\n",
       "    </tr>\n",
       "    <tr>\n",
       "      <th>2</th>\n",
       "      <td>PMC13902</td>\n",
       "      <td>ftp://ftp.ncbi.nlm.nih.gov/pub/pmc/oa_package/f7/98/PMC13902.tar.gz</td>\n",
       "      <td>oa_package/f7/98/</td>\n",
       "    </tr>\n",
       "    <tr>\n",
       "      <th>3</th>\n",
       "      <td>PMC13911</td>\n",
       "      <td>ftp://ftp.ncbi.nlm.nih.gov/pub/pmc/oa_package/9c/7f/PMC13911.tar.gz</td>\n",
       "      <td>oa_package/9c/7f/</td>\n",
       "    </tr>\n",
       "    <tr>\n",
       "      <th>4</th>\n",
       "      <td>PMC13912</td>\n",
       "      <td>ftp://ftp.ncbi.nlm.nih.gov/pub/pmc/oa_package/c6/fb/PMC13912.tar.gz</td>\n",
       "      <td>oa_package/c6/fb/</td>\n",
       "    </tr>\n",
       "  </tbody>\n",
       "</table>\n",
       "</div>"
      ],
      "text/plain": [
       "     pmc_id                                                           source_url         output_dir\n",
       "0  PMC13900  ftp://ftp.ncbi.nlm.nih.gov/pub/pmc/oa_package/08/e0/PMC13900.tar.gz  oa_package/08/e0/\n",
       "1  PMC13901  ftp://ftp.ncbi.nlm.nih.gov/pub/pmc/oa_package/b0/ac/PMC13901.tar.gz  oa_package/b0/ac/\n",
       "2  PMC13902  ftp://ftp.ncbi.nlm.nih.gov/pub/pmc/oa_package/f7/98/PMC13902.tar.gz  oa_package/f7/98/\n",
       "3  PMC13911  ftp://ftp.ncbi.nlm.nih.gov/pub/pmc/oa_package/9c/7f/PMC13911.tar.gz  oa_package/9c/7f/\n",
       "4  PMC13912  ftp://ftp.ncbi.nlm.nih.gov/pub/pmc/oa_package/c6/fb/PMC13912.tar.gz  oa_package/c6/fb/"
      ]
     },
     "execution_count": 14,
     "metadata": {},
     "output_type": "execute_result"
    }
   ],
   "source": [
    "to_download.head()"
   ]
  },
  {
   "cell_type": "code",
   "execution_count": 15,
   "metadata": {},
   "outputs": [
    {
     "data": {
      "text/html": [
       "<div>\n",
       "<style>\n",
       "    .dataframe thead tr:only-child th {\n",
       "        text-align: right;\n",
       "    }\n",
       "\n",
       "    .dataframe thead th {\n",
       "        text-align: left;\n",
       "    }\n",
       "\n",
       "    .dataframe tbody tr th {\n",
       "        vertical-align: top;\n",
       "    }\n",
       "</style>\n",
       "<table border=\"1\" class=\"dataframe\">\n",
       "  <thead>\n",
       "    <tr style=\"text-align: right;\">\n",
       "      <th></th>\n",
       "      <th>pmc_id</th>\n",
       "      <th>source_url</th>\n",
       "      <th>output_dir</th>\n",
       "    </tr>\n",
       "  </thead>\n",
       "  <tbody>\n",
       "    <tr>\n",
       "      <th>2083565</th>\n",
       "      <td>PPR7031</td>\n",
       "      <td>ftp://ftp.ebi.ac.uk/pub/databases/pmc/suppl/OA/preprint/PPR7031.zip</td>\n",
       "      <td>suppl/OA/preprint/PPR7031</td>\n",
       "    </tr>\n",
       "    <tr>\n",
       "      <th>2083566</th>\n",
       "      <td>PPR7032</td>\n",
       "      <td>ftp://ftp.ebi.ac.uk/pub/databases/pmc/suppl/OA/preprint/PPR7032.zip</td>\n",
       "      <td>suppl/OA/preprint/PPR7032</td>\n",
       "    </tr>\n",
       "    <tr>\n",
       "      <th>2083567</th>\n",
       "      <td>PPR7033</td>\n",
       "      <td>ftp://ftp.ebi.ac.uk/pub/databases/pmc/suppl/OA/preprint/PPR7033.zip</td>\n",
       "      <td>suppl/OA/preprint/PPR7033</td>\n",
       "    </tr>\n",
       "    <tr>\n",
       "      <th>2083568</th>\n",
       "      <td>PPR7034</td>\n",
       "      <td>ftp://ftp.ebi.ac.uk/pub/databases/pmc/suppl/OA/preprint/PPR7034.zip</td>\n",
       "      <td>suppl/OA/preprint/PPR7034</td>\n",
       "    </tr>\n",
       "    <tr>\n",
       "      <th>2083569</th>\n",
       "      <td>PPR7035</td>\n",
       "      <td>ftp://ftp.ebi.ac.uk/pub/databases/pmc/suppl/OA/preprint/PPR7035.zip</td>\n",
       "      <td>suppl/OA/preprint/PPR7035</td>\n",
       "    </tr>\n",
       "  </tbody>\n",
       "</table>\n",
       "</div>"
      ],
      "text/plain": [
       "          pmc_id                                                           source_url                 output_dir\n",
       "2083565  PPR7031  ftp://ftp.ebi.ac.uk/pub/databases/pmc/suppl/OA/preprint/PPR7031.zip  suppl/OA/preprint/PPR7031\n",
       "2083566  PPR7032  ftp://ftp.ebi.ac.uk/pub/databases/pmc/suppl/OA/preprint/PPR7032.zip  suppl/OA/preprint/PPR7032\n",
       "2083567  PPR7033  ftp://ftp.ebi.ac.uk/pub/databases/pmc/suppl/OA/preprint/PPR7033.zip  suppl/OA/preprint/PPR7033\n",
       "2083568  PPR7034  ftp://ftp.ebi.ac.uk/pub/databases/pmc/suppl/OA/preprint/PPR7034.zip  suppl/OA/preprint/PPR7034\n",
       "2083569  PPR7035  ftp://ftp.ebi.ac.uk/pub/databases/pmc/suppl/OA/preprint/PPR7035.zip  suppl/OA/preprint/PPR7035"
      ]
     },
     "execution_count": 15,
     "metadata": {},
     "output_type": "execute_result"
    }
   ],
   "source": [
    "to_download.tail()"
   ]
  },
  {
   "cell_type": "code",
   "execution_count": 16,
   "metadata": {
    "collapsed": true
   },
   "outputs": [],
   "source": [
    "# info_list = []\n",
    "\n",
    "# for row in tqdm.tqdm_notebook(to_download.itertuples(), total=len(to_download)):\n",
    "#     info = download(row.pmc_id, row.source_url, row.output_dir, overwrite=False)\n",
    "#     info_list.append(info)"
   ]
  },
  {
   "cell_type": "code",
   "execution_count": 17,
   "metadata": {
    "collapsed": true
   },
   "outputs": [],
   "source": [
    "chunk_size = 50_000\n",
    "finished_chunks = []"
   ]
  },
  {
   "cell_type": "code",
   "execution_count": 18,
   "metadata": {},
   "outputs": [
    {
     "data": {
      "text/plain": [
       "41"
      ]
     },
     "execution_count": 18,
     "metadata": {},
     "output_type": "execute_result"
    }
   ],
   "source": [
    "len(to_download) // chunk_size"
   ]
  },
  {
   "cell_type": "code",
   "execution_count": 19,
   "metadata": {
    "scrolled": true
   },
   "outputs": [
    {
     "data": {
      "application/vnd.jupyter.widget-view+json": {
       "model_id": "de5878fc7b3847369067842581eea9de",
       "version_major": 2,
       "version_minor": 0
      },
      "text/plain": [
       "A Jupyter Widget"
      ]
     },
     "metadata": {},
     "output_type": "display_data"
    },
    {
     "name": "stdout",
     "output_type": "stream",
     "text": [
      "\n"
     ]
    }
   ],
   "source": [
    "finished_futures = []\n",
    "for i in range(9, 10):\n",
    "    chunk_offset = chunk_size * i\n",
    "    if i in finished_chunks:\n",
    "        continue\n",
    "    with concurrent.futures.ThreadPoolExecutor(8) as pool:\n",
    "        futures = [\n",
    "            pool.submit(download, row.pmc_id, row.source_url, row.output_dir, overwrite=False) \n",
    "            for row in itertools.islice(to_download.itertuples(), chunk_offset, chunk_offset + chunk_size)\n",
    "        ]\n",
    "        for future in tqdm.tqdm_notebook(\n",
    "                concurrent.futures.as_completed(futures), \n",
    "                total=len(futures),\n",
    "                desc=f\"Chunk {i}\"):\n",
    "            finished_futures.append(future)"
   ]
  },
  {
   "cell_type": "code",
   "execution_count": 20,
   "metadata": {
    "collapsed": true
   },
   "outputs": [],
   "source": [
    "# 2819"
   ]
  },
  {
   "cell_type": "code",
   "execution_count": 21,
   "metadata": {
    "collapsed": true
   },
   "outputs": [],
   "source": [
    "# results = []\n",
    "# for i in range(4, 10):\n",
    "#     chunk_offset = chunk_size * i\n",
    "#     if i in finished_chunks:\n",
    "#         continue\n",
    "#     for row in tqdm.tqdm_notebook(\n",
    "#             itertools.islice(to_download.itertuples(), chunk_offset, chunk_offset + chunk_size),\n",
    "#             total=chunk_size,\n",
    "#             desc=f\"Chunk {i}\"):\n",
    "#         try:\n",
    "#             result = download(row.pmc_id, row.source_url, row.output_dir, overwrite=False)\n",
    "#         except Exception as e:\n",
    "#             result = row._asdict()\n",
    "#             result['error'] = str(e)\n",
    "#         results.append(result)"
   ]
  },
  {
   "cell_type": "code",
   "execution_count": 22,
   "metadata": {
    "collapsed": true
   },
   "outputs": [],
   "source": [
    "# 2025"
   ]
  },
  {
   "cell_type": "code",
   "execution_count": null,
   "metadata": {
    "collapsed": true
   },
   "outputs": [],
   "source": []
  }
 ],
 "metadata": {
  "kernelspec": {
   "display_name": "Python 3",
   "language": "python",
   "name": "python3"
  },
  "language_info": {
   "codemirror_mode": {
    "name": "ipython",
    "version": 3
   },
   "file_extension": ".py",
   "mimetype": "text/x-python",
   "name": "python",
   "nbconvert_exporter": "python",
   "pygments_lexer": "ipython3",
   "version": "3.6.3"
  }
 },
 "nbformat": 4,
 "nbformat_minor": 2
}
