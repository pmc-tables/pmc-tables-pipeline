{
 "cells": [
  {
   "cell_type": "code",
   "execution_count": 11,
   "metadata": {},
   "outputs": [],
   "source": [
    "%matplotlib inline"
   ]
  },
  {
   "cell_type": "code",
   "execution_count": 12,
   "metadata": {},
   "outputs": [
    {
     "name": "stdout",
     "output_type": "stream",
     "text": [
      "The autoreload extension is already loaded. To reload it, use:\n",
      "  %reload_ext autoreload\n"
     ]
    }
   ],
   "source": [
    "%load_ext autoreload\n",
    "%autoreload 2"
   ]
  },
  {
   "cell_type": "code",
   "execution_count": 1,
   "metadata": {},
   "outputs": [],
   "source": [
    "# Standard library\n",
    "import concurrent.futures\n",
    "import csv\n",
    "import datetime\n",
    "import functools\n",
    "import glob\n",
    "import gzip\n",
    "import importlib\n",
    "import itertools\n",
    "import json\n",
    "import logging\n",
    "import multiprocessing as mp\n",
    "import os\n",
    "import os.path as op\n",
    "import pathlib\n",
    "import pickle\n",
    "import re\n",
    "import shlex\n",
    "import shutil\n",
    "import string\n",
    "import subprocess\n",
    "import sys\n",
    "import tempfile\n",
    "import time\n",
    "import urllib\n",
    "from collections import Counter, defaultdict, OrderedDict, namedtuple\n",
    "from pathlib import Path\n",
    "from pprint import pprint\n",
    "from textwrap import dedent\n",
    "\n",
    "import matplotlib as mpl\n",
    "import matplotlib.pyplot as plt\n",
    "import numpy as np\n",
    "import pandas as pd\n",
    "import pyarrow as pa\n",
    "import pyarrow.parquet as pq\n",
    "import scipy as sp\n",
    "import seaborn as sns\n",
    "import sqlalchemy as sa\n",
    "import tqdm\n",
    "import wurlitzer\n",
    "import yaml\n",
    "\n",
    "from IPython.display import display, HTML, Math"
   ]
  },
  {
   "cell_type": "code",
   "execution_count": 14,
   "metadata": {
    "run_control": {
     "marked": false
    }
   },
   "outputs": [],
   "source": [
    "import kmbio.PDB\n",
    "\n",
    "import kmtools\n",
    "import kmtools.df_tools\n",
    "import kmtools.sequence_tools\n",
    "import kmtools.structure_tools\n",
    "\n",
    "import elaspic\n",
    "import elaspic.elaspic_predictor\n",
    "import elaspic.structure_tools\n",
    "\n",
    "import jobsubmitter\n",
    "\n",
    "import odbo\n",
    "\n",
    "print2 = kmtools.df_tools.print2"
   ]
  },
  {
   "cell_type": "code",
   "execution_count": 15,
   "metadata": {},
   "outputs": [],
   "source": [
    "# Create logger\n",
    "logger = logging.getLogger()\n",
    "logger.setLevel(logging.INFO)\n",
    "\n",
    "# Create STDERR handler\n",
    "handler = logging.StreamHandler(sys.stderr)\n",
    "handler.setLevel(logging.DEBUG)\n",
    "\n",
    "# Create formatter and add it to the handler\n",
    "formatter = logging.Formatter('%(message)s')\n",
    "handler.setFormatter(formatter)\n",
    "\n",
    "# Set STDERR handler as the only handler \n",
    "logger.handlers = [handler]"
   ]
  },
  {
   "cell_type": "code",
   "execution_count": 16,
   "metadata": {},
   "outputs": [],
   "source": [
    "class LoggingContext(object):\n",
    "    def __init__(self, logger, level=None, handler=None, close=True):\n",
    "        self.logger = logger\n",
    "        self.level = level\n",
    "        self.handler = handler\n",
    "        self.close = close\n",
    "\n",
    "    def __enter__(self):\n",
    "        if self.level is not None:\n",
    "            self.old_level = self.logger.level\n",
    "            self.logger.setLevel(self.level)\n",
    "        if self.handler:\n",
    "            self.logger.addHandler(self.handler)\n",
    "\n",
    "    def __exit__(self, et, ev, tb):\n",
    "        if self.level is not None:\n",
    "            self.logger.setLevel(self.old_level)\n",
    "        if self.handler:\n",
    "            self.logger.removeHandler(self.handler)\n",
    "        if self.handler and self.close:\n",
    "            self.handler.close()\n",
    "        # implicit return of None => don't swallow exceptions"
   ]
  },
  {
   "cell_type": "code",
   "execution_count": 17,
   "metadata": {},
   "outputs": [],
   "source": [
    "try:\n",
    "    import local\n",
    "except ImportError:\n",
    "    pass"
   ]
  },
  {
   "cell_type": "code",
   "execution_count": 18,
   "metadata": {},
   "outputs": [
    {
     "name": "stderr",
     "output_type": "stream",
     "text": [
      "Setting the PYTHON_VERSION environment variable.\n",
      "Setting the SPARK_MASTER environment variable.\n",
      "Setting the SPARK_ARGS environment variable.\n",
      "Setting the DB_TYPE environment variable.\n",
      "Setting the DB_PORT environment variable.\n"
     ]
    }
   ],
   "source": [
    "try:\n",
    "    fin = open('../.gitlab-ci.yml')\n",
    "except FileNotFoundError:\n",
    "    CONFIG = dict()\n",
    "else:\n",
    "    CONFIG = yaml.load(fin)['variables']\n",
    "    for key, value in CONFIG.items():\n",
    "        logger.info(\"Setting the %s environment variable.\", key)\n",
    "        os.environ[key] = str(value)  # environment variables can't be integers or anything else\n",
    "finally:\n",
    "    fin.close()"
   ]
  },
  {
   "cell_type": "code",
   "execution_count": 19,
   "metadata": {},
   "outputs": [],
   "source": [
    "os.environ['DB_SCHEMA'] = op.basename(op.dirname(os.getcwd()))\n",
    "os.environ['DB_PORT'] = str(CONFIG['DB_PORT'])\n",
    "os.environ['DB_TEMPDIR'] = op.join(tempfile.gettempdir(), op.basename(op.dirname(os.getcwd())))"
   ]
  },
  {
   "cell_type": "code",
   "execution_count": 20,
   "metadata": {},
   "outputs": [],
   "source": [
    "# Display options\n",
    "pd.set_option('display.max_rows', 1000)\n",
    "pd.set_option('display.max_columns', 1000)\n",
    "pd.set_option('display.width', 1000)\n",
    "pd.set_option(\"display.max_colwidth\", 120)\n",
    "pd.set_option('mode.chained_assignment', None)\n",
    "pd.set_option('io.hdf.default_format','table')\n",
    "\n",
    "sns.set_style('whitegrid')\n",
    "sns.set_context('notebook', font_scale=2)"
   ]
  },
  {
   "cell_type": "code",
   "execution_count": 21,
   "metadata": {},
   "outputs": [
    {
     "name": "stdout",
     "output_type": "stream",
     "text": [
      "2017-11-21 18:30:41.795555\n"
     ]
    }
   ],
   "source": [
    "print(datetime.datetime.now())"
   ]
  },
  {
   "cell_type": "code",
   "execution_count": null,
   "metadata": {},
   "outputs": [],
   "source": [
    "_IMPORTS_LOADED = True"
   ]
  }
 ],
 "metadata": {
  "anaconda-cloud": {},
  "hide_input": false,
  "kernelspec": {
   "display_name": "Python 3",
   "language": "python",
   "name": "python3"
  },
  "language_info": {
   "codemirror_mode": {
    "name": "ipython",
    "version": 3
   },
   "file_extension": ".py",
   "mimetype": "text/x-python",
   "name": "python",
   "nbconvert_exporter": "python",
   "pygments_lexer": "ipython3",
   "version": "3.6.3"
  },
  "nav_menu": {},
  "toc": {
   "colors": {
    "hover_highlight": "#DAA520",
    "navigate_num": "#000000",
    "navigate_text": "#333333",
    "running_highlight": "#FF0000",
    "selected_highlight": "#FFD700",
    "sidebar_border": "#EEEEEE",
    "wrapper_background": "#FFFFFF"
   },
   "moveMenuLeft": true,
   "nav_menu": {
    "height": "12px",
    "width": "252px"
   },
   "navigate_menu": true,
   "number_sections": true,
   "sideBar": false,
   "threshold": 4,
   "toc_cell": false,
   "toc_position": {
    "height": "314px",
    "left": "1676.98px",
    "right": "1891.01px",
    "top": "121.979px",
    "width": "357px"
   },
   "toc_section_display": "none",
   "toc_window_display": true,
   "widenNotebook": false
  },
  "toc_position": {
   "height": "328px",
   "left": "110.972px",
   "right": "20px",
   "top": "69.9653px",
   "width": "230px"
  }
 },
 "nbformat": 4,
 "nbformat_minor": 1
}
