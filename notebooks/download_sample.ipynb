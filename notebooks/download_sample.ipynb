{
 "cells": [
  {
   "cell_type": "markdown",
   "metadata": {},
   "source": [
    "# Download sample\n",
    "\n",
    "We download a sample of data from PubMed by running a query\n",
    "\n",
    "- *pubmed_result.csv*\n",
    "```\n",
    "(\"2010\"[Date - Publication] : \"3000\"[Date - Publication]) AND \"Drug Combinations\"[MeSH Terms] \n",
    "```\n",
    "- *amino_acid_substitution.csv*\n",
    "```\n",
    "\"Amino Acid Substitution\"[MAJR] \n",
    "```\n",
    "\n",
    "and saving all results in XML and CSV formats."
   ]
  },
  {
   "cell_type": "markdown",
   "metadata": {},
   "source": [
    "# Imports"
   ]
  },
  {
   "cell_type": "code",
   "execution_count": 14,
   "metadata": {},
   "outputs": [
    {
     "name": "stderr",
     "output_type": "stream",
     "text": [
      "Setting the PYTHON_VERSION environment variable.\n",
      "Setting the SPARK_MASTER environment variable.\n",
      "Setting the DB_TYPE environment variable.\n",
      "Setting the DB_PORT environment variable.\n"
     ]
    },
    {
     "name": "stdout",
     "output_type": "stream",
     "text": [
      "The autoreload extension is already loaded. To reload it, use:\n",
      "  %reload_ext autoreload\n",
      "2017-12-02 16:09:23.843494\n"
     ]
    }
   ],
   "source": [
    "%run _imports.ipynb"
   ]
  },
  {
   "cell_type": "code",
   "execution_count": 16,
   "metadata": {},
   "outputs": [],
   "source": [
    "import requests\n",
    "from bs4 import BeautifulSoup\n",
    "\n",
    "import pmc_tables.xml_parser"
   ]
  },
  {
   "cell_type": "code",
   "execution_count": 17,
   "metadata": {
    "collapsed": true
   },
   "outputs": [],
   "source": [
    "NOTEBOOK_NAME = 'download_sample'\n",
    "os.makedirs(NOTEBOOK_NAME, exist_ok=True)\n",
    "\n",
    "INPUT_FILE_NAME = 'amino_acid_substitution.xml'\n",
    "\n",
    "OUTPUT_DIR = 'downloaded_pdfs'\n",
    "os.makedirs(OUTPUT_DIR, exist_ok=True)"
   ]
  },
  {
   "cell_type": "markdown",
   "metadata": {},
   "source": [
    "# Functions"
   ]
  },
  {
   "cell_type": "code",
   "execution_count": 18,
   "metadata": {
    "collapsed": true
   },
   "outputs": [],
   "source": [
    "def df_to_table(df, integer_columns=None, integer_dtypes=None):\n",
    "    \"\"\"\n",
    "    \"\"\"\n",
    "    extra_columns = {}\n",
    "    for column, dtype in zip(integer_columns, integer_dtypes):\n",
    "        extra_columns[column] = {\n",
    "            'dtype': dtype,\n",
    "            'idx': list(df.columns).index(column),\n",
    "            'data': df[column]\n",
    "        }\n",
    "\n",
    "    table = pa.Table.from_pandas(\n",
    "        df[[c for c in df.columns if c not in integer_columns]],\n",
    "        preserve_index=False)\n",
    "    \n",
    "    for column_name, column_attrib in sorted(extra_columns.items(), key=lambda c: c[1]['idx']):\n",
    "        array = pa.Array.from_pandas(\n",
    "            column_attrib['data'], column_attrib['data'].isnull(), column_attrib['dtype'])\n",
    "        column = pa.Column.from_array(column_name, array)\n",
    "        table = table.add_column(column_attrib['idx'], column)\n",
    "        \n",
    "    return table"
   ]
  },
  {
   "cell_type": "code",
   "execution_count": 19,
   "metadata": {
    "code_folding": [
     0
    ],
    "collapsed": true,
    "run_control": {
     "marked": false
    }
   },
   "outputs": [],
   "source": [
    "# Access data from sci-hub\n",
    "SCIHUB_BASE_URL = 'http://sci-hub.cc/'\n",
    "HEADERS = {'User-Agent': 'Mozilla/5.0 (X11; Linux x86_64; rv:27.0) Gecko/20100101 Firefox/27.0'}\n",
    "\n",
    "\n",
    "def download_article(doi, output_dir):\n",
    "    \"\"\"\n",
    "    Fetches the paper by first retrieving the direct link to the pdf.\n",
    "    If the indentifier is a DOI, PMID, or URL pay-wall, then use Sci-Hub\n",
    "    to access and download paper. Otherwise, just download paper directly.\n",
    "    \"\"\"\n",
    "    url = _get_scihub_url(doi)\n",
    "\n",
    "    try:\n",
    "        # verify=False is dangerous but sci-hub.io \n",
    "        # requires intermediate certificates to verify\n",
    "        # and requests doesn't know how to download them.\n",
    "        # as a hacky fix, you can add them to your store\n",
    "        # and verifying would work. will fix this later.\n",
    "        res = requests.get(url, headers=HEADERS, verify=False)\n",
    "    except requests.exceptions.RequestException as e:\n",
    "        logger.error('Failed to fetch pdf with doi %s from url %s due to request exception!', doi, url)\n",
    "        return None, None, \n",
    "\n",
    "    if res.headers['Content-Type'] != 'application/pdf':\n",
    "        logger.error('Failed to fetch pdf with doi %s from url %s due to a captcha!', doi, url)\n",
    "        return None, None\n",
    "    else:\n",
    "        filename = _slugify(doi) + '.pdf'\n",
    "        if filename not in url:\n",
    "            logger.warning(\"Filename %s not in url %s\", filename, url)\n",
    "        with open(op.join(output_dir, filename), 'wb') as ofh:\n",
    "            ofh.write(res.content)\n",
    "        return url, filename\n",
    "\n",
    "\n",
    "def _slugify(doi):\n",
    "    \"\"\"Generate a name from DOI using the same approach as SciHub.\"\"\"\n",
    "    return doi.replace('/', '@')\n",
    "\n",
    "\n",
    "def _get_soup(html):\n",
    "    \"\"\"Return html soup.\"\"\"\n",
    "    return BeautifulSoup(html, 'html.parser')\n",
    "\n",
    "    \n",
    "def _get_scihub_url(doi):\n",
    "    \"\"\"\n",
    "    Sci-Hub embeds papers in an iframe. This function finds the actual\n",
    "    source url which looks something like https://moscow.sci-hub.io/.../....pdf.\n",
    "    \"\"\"\n",
    "    res = requests.get(SCIHUB_BASE_URL + doi, headers=HEADERS, verify=False)\n",
    "    s = _get_soup(res.content)\n",
    "    iframe = s.find('iframe')\n",
    "    if iframe:\n",
    "        return iframe.get('src') if not iframe.get('src').startswith('//') \\\n",
    "           else 'http:' + iframe.get('src')"
   ]
  },
  {
   "cell_type": "markdown",
   "metadata": {},
   "source": [
    "# Load data"
   ]
  },
  {
   "cell_type": "code",
   "execution_count": 21,
   "metadata": {},
   "outputs": [
    {
     "data": {
      "text/plain": [
       "['pubmed_result_2.csv',\n",
       " 'delete.csv',\n",
       " 'pubmed_result.xml',\n",
       " 'pubmed_result.csv',\n",
       " 'amino_acid_substitution.xml',\n",
       " 'amino_acid_substitution.csv']"
      ]
     },
     "execution_count": 21,
     "metadata": {},
     "output_type": "execute_result"
    }
   ],
   "source": [
    "os.listdir(NOTEBOOK_NAME)"
   ]
  },
  {
   "cell_type": "code",
   "execution_count": 22,
   "metadata": {},
   "outputs": [
    {
     "data": {
      "text/plain": [
       "'amino_acid_substitution.xml'"
      ]
     },
     "execution_count": 22,
     "metadata": {},
     "output_type": "execute_result"
    }
   ],
   "source": [
    "INPUT_FILE_NAME"
   ]
  },
  {
   "cell_type": "code",
   "execution_count": 25,
   "metadata": {},
   "outputs": [],
   "source": [
    "data = pmc_tables.xml_parser.parse_pubmed_xml_file(f\"{NOTEBOOK_NAME}/{INPUT_FILE_NAME}\")\n",
    "df = pd.DataFrame(data)"
   ]
  },
  {
   "cell_type": "code",
   "execution_count": 29,
   "metadata": {},
   "outputs": [
    {
     "data": {
      "text/plain": [
       "(4433, 9)"
      ]
     },
     "execution_count": 29,
     "metadata": {},
     "output_type": "execute_result"
    }
   ],
   "source": [
    "df.shape"
   ]
  },
  {
   "cell_type": "code",
   "execution_count": 31,
   "metadata": {},
   "outputs": [
    {
     "data": {
      "text/plain": [
       "1302"
      ]
     },
     "execution_count": 31,
     "metadata": {},
     "output_type": "execute_result"
    }
   ],
   "source": [
    "df['pmc'].notnull().sum()"
   ]
  },
  {
   "cell_type": "code",
   "execution_count": 32,
   "metadata": {
    "collapsed": true
   },
   "outputs": [],
   "source": [
    "df_pmc = df[df['pmc'].notnull()]"
   ]
  },
  {
   "cell_type": "code",
   "execution_count": 33,
   "metadata": {},
   "outputs": [
    {
     "data": {
      "text/html": [
       "<div>\n",
       "<style>\n",
       "    .dataframe thead tr:only-child th {\n",
       "        text-align: right;\n",
       "    }\n",
       "\n",
       "    .dataframe thead th {\n",
       "        text-align: left;\n",
       "    }\n",
       "\n",
       "    .dataframe tbody tr th {\n",
       "        vertical-align: top;\n",
       "    }\n",
       "</style>\n",
       "<table border=\"1\" class=\"dataframe\">\n",
       "  <thead>\n",
       "    <tr style=\"text-align: right;\">\n",
       "      <th></th>\n",
       "      <th>pmid</th>\n",
       "      <th>title</th>\n",
       "      <th>authors</th>\n",
       "      <th>journal</th>\n",
       "      <th>year_published</th>\n",
       "      <th>abstract</th>\n",
       "      <th>mesh_terms</th>\n",
       "      <th>doi</th>\n",
       "      <th>pmc</th>\n",
       "    </tr>\n",
       "  </thead>\n",
       "  <tbody>\n",
       "    <tr>\n",
       "      <th>4</th>\n",
       "      <td>28700616</td>\n",
       "      <td>Natural variation in a single amino acid substitution underlies physiological responses to topoisomerase II poisons.</td>\n",
       "      <td>[Zdraljevic, Strand, Seidel, Cook, Doench, Andersen]</td>\n",
       "      <td>PLoS Genet</td>\n",
       "      <td>2017.0</td>\n",
       "      <td>Many chemotherapeutic drugs are differentially effective from one patient to the next. Understanding the causes of t...</td>\n",
       "      <td>[Amino Acid Substitution, Animals, Antineoplastic Agents, Caenorhabditis elegans, DNA Damage, DNA Topoisomerases, Ty...</td>\n",
       "      <td>10.1371/journal.pgen.1006891</td>\n",
       "      <td>PMC5529024</td>\n",
       "    </tr>\n",
       "    <tr>\n",
       "      <th>7</th>\n",
       "      <td>28614374</td>\n",
       "      <td>Accurate prediction of functional effects for variants by combining gradient tree boosting with optimal neighborhood...</td>\n",
       "      <td>[Pan, Liu, Deng]</td>\n",
       "      <td>PLoS One</td>\n",
       "      <td>2017.0</td>\n",
       "      <td>Single amino acid variations (SAVs) potentially alter biological functions, including causing diseases or natural di...</td>\n",
       "      <td>[Algorithms, Amino Acid Substitution, Computational Biology, Disease, Genetic Predisposition to Disease, Humans, Mod...</td>\n",
       "      <td>10.1371/journal.pone.0179314</td>\n",
       "      <td>PMC5470696</td>\n",
       "    </tr>\n",
       "    <tr>\n",
       "      <th>9</th>\n",
       "      <td>28531234</td>\n",
       "      <td>Directed evolution to improve the catalytic efficiency of urate oxidase from Bacillus subtilis.</td>\n",
       "      <td>[Li, Xu, Zhang, Zhu, Hua, Kong, Sun, Hong]</td>\n",
       "      <td>PLoS One</td>\n",
       "      <td>2017.0</td>\n",
       "      <td>Urate oxidase is a key enzyme in purine metabolism and catalyzes the oxidation of uric acid to allantoin. It is used...</td>\n",
       "      <td>[Amino Acid Substitution, Bacillus subtilis, Bacterial Proteins, Biocatalysis, Catalytic Domain, Directed Molecular ...</td>\n",
       "      <td>10.1371/journal.pone.0177877</td>\n",
       "      <td>PMC5439685</td>\n",
       "    </tr>\n",
       "    <tr>\n",
       "      <th>10</th>\n",
       "      <td>28514686</td>\n",
       "      <td>Glycine Substitution at Helix-to-Coil Transitions Facilitates the Structural Determination of a Stabilized Subtype C...</td>\n",
       "      <td>[Guenaga, Garces, de Val, Stanfield, Dubrovskaya, Higgins, Carrette, Ward, Wilson, Wyatt]</td>\n",
       "      <td>Immunity</td>\n",
       "      <td>2017.0</td>\n",
       "      <td>Advances in HIV-1 envelope glycoprotein (Env) design generate native-like trimers and high-resolution clade A, B, an...</td>\n",
       "      <td>[Amino Acid Substitution, Antibodies, Neutralizing, Binding Sites, Genotype, Glycine, Glycosylation, HIV Antibodies,...</td>\n",
       "      <td>10.1016/j.immuni.2017.04.014</td>\n",
       "      <td>PMC5439057</td>\n",
       "    </tr>\n",
       "    <tr>\n",
       "      <th>11</th>\n",
       "      <td>28464395</td>\n",
       "      <td>Specificity Effects of Amino Acid Substitutions in Promiscuous Hydrolases: Context-Dependence of Catalytic Residue C...</td>\n",
       "      <td>[Bayer, van Loo, Hollfelder]</td>\n",
       "      <td>Chembiochem</td>\n",
       "      <td>2017.0</td>\n",
       "      <td>Catalytic promiscuity can facilitate evolution of enzyme functions-a multifunctional catalyst may act as a springboa...</td>\n",
       "      <td>[Alkaline Phosphatase, Amino Acid Substitution, Bacteria, Catalysis, Catalytic Domain, Directed Molecular Evolution,...</td>\n",
       "      <td>10.1002/cbic.201600657</td>\n",
       "      <td>PMC5488252</td>\n",
       "    </tr>\n",
       "  </tbody>\n",
       "</table>\n",
       "</div>"
      ],
      "text/plain": [
       "        pmid                                                                                                                    title                                                                                    authors      journal  year_published                                                                                                                 abstract                                                                                                               mesh_terms                           doi         pmc\n",
       "4   28700616     Natural variation in a single amino acid substitution underlies physiological responses to topoisomerase II poisons.                                       [Zdraljevic, Strand, Seidel, Cook, Doench, Andersen]   PLoS Genet          2017.0  Many chemotherapeutic drugs are differentially effective from one patient to the next. Understanding the causes of t...  [Amino Acid Substitution, Animals, Antineoplastic Agents, Caenorhabditis elegans, DNA Damage, DNA Topoisomerases, Ty...  10.1371/journal.pgen.1006891  PMC5529024\n",
       "7   28614374  Accurate prediction of functional effects for variants by combining gradient tree boosting with optimal neighborhood...                                                                           [Pan, Liu, Deng]     PLoS One          2017.0  Single amino acid variations (SAVs) potentially alter biological functions, including causing diseases or natural di...  [Algorithms, Amino Acid Substitution, Computational Biology, Disease, Genetic Predisposition to Disease, Humans, Mod...  10.1371/journal.pone.0179314  PMC5470696\n",
       "9   28531234                          Directed evolution to improve the catalytic efficiency of urate oxidase from Bacillus subtilis.                                                 [Li, Xu, Zhang, Zhu, Hua, Kong, Sun, Hong]     PLoS One          2017.0  Urate oxidase is a key enzyme in purine metabolism and catalyzes the oxidation of uric acid to allantoin. It is used...  [Amino Acid Substitution, Bacillus subtilis, Bacterial Proteins, Biocatalysis, Catalytic Domain, Directed Molecular ...  10.1371/journal.pone.0177877  PMC5439685\n",
       "10  28514686  Glycine Substitution at Helix-to-Coil Transitions Facilitates the Structural Determination of a Stabilized Subtype C...  [Guenaga, Garces, de Val, Stanfield, Dubrovskaya, Higgins, Carrette, Ward, Wilson, Wyatt]     Immunity          2017.0  Advances in HIV-1 envelope glycoprotein (Env) design generate native-like trimers and high-resolution clade A, B, an...  [Amino Acid Substitution, Antibodies, Neutralizing, Binding Sites, Genotype, Glycine, Glycosylation, HIV Antibodies,...  10.1016/j.immuni.2017.04.014  PMC5439057\n",
       "11  28464395  Specificity Effects of Amino Acid Substitutions in Promiscuous Hydrolases: Context-Dependence of Catalytic Residue C...                                                               [Bayer, van Loo, Hollfelder]  Chembiochem          2017.0  Catalytic promiscuity can facilitate evolution of enzyme functions-a multifunctional catalyst may act as a springboa...  [Alkaline Phosphatase, Amino Acid Substitution, Bacteria, Catalysis, Catalytic Domain, Directed Molecular Evolution,...        10.1002/cbic.201600657  PMC5488252"
      ]
     },
     "execution_count": 33,
     "metadata": {},
     "output_type": "execute_result"
    }
   ],
   "source": [
    "df_pmc.head()"
   ]
  },
  {
   "cell_type": "code",
   "execution_count": null,
   "metadata": {
    "collapsed": true
   },
   "outputs": [],
   "source": []
  },
  {
   "cell_type": "code",
   "execution_count": 143,
   "metadata": {
    "collapsed": true
   },
   "outputs": [],
   "source": []
  },
  {
   "cell_type": "code",
   "execution_count": 158,
   "metadata": {
    "collapsed": true
   },
   "outputs": [],
   "source": [
    "folders = []"
   ]
  },
  {
   "cell_type": "code",
   "execution_count": 159,
   "metadata": {},
   "outputs": [
    {
     "data": {
      "application/vnd.jupyter.widget-view+json": {
       "model_id": "c1b1b1dde52c464e8671b5ce99db1224",
       "version_major": 2,
       "version_minor": 0
      },
      "text/html": [
       "<p>Failed to display Jupyter Widget of type <code>HBox</code>.</p>\n",
       "<p>\n",
       "  If you're reading this message in the Jupyter Notebook or JupyterLab Notebook, it may mean\n",
       "  that the widgets JavaScript is still loading. If this message persists, it\n",
       "  likely means that the widgets JavaScript library is either not installed or\n",
       "  not enabled. See the <a href=\"https://ipywidgets.readthedocs.io/en/stable/user_install.html\">Jupyter\n",
       "  Widgets Documentation</a> for setup instructions.\n",
       "</p>\n",
       "<p>\n",
       "  If you're reading this message in another frontend (for example, a static\n",
       "  rendering on GitHub or <a href=\"https://nbviewer.jupyter.org/\">NBViewer</a>),\n",
       "  it may mean that your frontend doesn't currently support widgets.\n",
       "</p>\n"
      ],
      "text/plain": [
       "HBox(children=(IntProgress(value=0, max=1273), HTML(value='')))"
      ]
     },
     "metadata": {},
     "output_type": "display_data"
    },
    {
     "ename": "KeyboardInterrupt",
     "evalue": "",
     "output_type": "error",
     "traceback": [
      "\u001b[0;31m---------------------------------------------------------------------------\u001b[0m",
      "\u001b[0;31mKeyboardInterrupt\u001b[0m                         Traceback (most recent call last)",
      "\u001b[0;32m<ipython-input-159-cbd884c8f15c>\u001b[0m in \u001b[0;36m<module>\u001b[0;34m()\u001b[0m\n\u001b[1;32m      2\u001b[0m     \u001b[0mfolders\u001b[0m \u001b[0;34m=\u001b[0m \u001b[0mftp\u001b[0m\u001b[0;34m.\u001b[0m\u001b[0mnlst\u001b[0m\u001b[0;34m(\u001b[0m\u001b[0;34mf'/pub/databases/pmc/suppl/{subset}/'\u001b[0m\u001b[0;34m)\u001b[0m\u001b[0;34m\u001b[0m\u001b[0m\n\u001b[1;32m      3\u001b[0m     \u001b[0;32mfor\u001b[0m \u001b[0mfolder1\u001b[0m \u001b[0;32min\u001b[0m \u001b[0mtqdm\u001b[0m\u001b[0;34m.\u001b[0m\u001b[0mtqdm_notebook\u001b[0m\u001b[0;34m(\u001b[0m\u001b[0mfolders\u001b[0m\u001b[0;34m,\u001b[0m \u001b[0mtotal\u001b[0m\u001b[0;34m=\u001b[0m\u001b[0mlen\u001b[0m\u001b[0;34m(\u001b[0m\u001b[0mfolders\u001b[0m\u001b[0;34m)\u001b[0m\u001b[0;34m)\u001b[0m\u001b[0;34m:\u001b[0m\u001b[0;34m\u001b[0m\u001b[0m\n\u001b[0;32m----> 4\u001b[0;31m         \u001b[0;32mfor\u001b[0m \u001b[0mfolder2\u001b[0m \u001b[0;32min\u001b[0m \u001b[0mftp\u001b[0m\u001b[0;34m.\u001b[0m\u001b[0mnlst\u001b[0m\u001b[0;34m(\u001b[0m\u001b[0mfolder1\u001b[0m\u001b[0;34m)\u001b[0m\u001b[0;34m:\u001b[0m\u001b[0;34m\u001b[0m\u001b[0m\n\u001b[0m\u001b[1;32m      5\u001b[0m             \u001b[0mfolders\u001b[0m\u001b[0;34m.\u001b[0m\u001b[0mappend\u001b[0m\u001b[0;34m(\u001b[0m\u001b[0mfolder1\u001b[0m\u001b[0;34m)\u001b[0m\u001b[0;34m\u001b[0m\u001b[0m\n",
      "\u001b[0;32m~/anaconda3/lib/python3.6/ftplib.py\u001b[0m in \u001b[0;36mnlst\u001b[0;34m(self, *args)\u001b[0m\n\u001b[1;32m    557\u001b[0m             \u001b[0mcmd\u001b[0m \u001b[0;34m=\u001b[0m \u001b[0mcmd\u001b[0m \u001b[0;34m+\u001b[0m \u001b[0;34m(\u001b[0m\u001b[0;34m' '\u001b[0m \u001b[0;34m+\u001b[0m \u001b[0marg\u001b[0m\u001b[0;34m)\u001b[0m\u001b[0;34m\u001b[0m\u001b[0m\n\u001b[1;32m    558\u001b[0m         \u001b[0mfiles\u001b[0m \u001b[0;34m=\u001b[0m \u001b[0;34m[\u001b[0m\u001b[0;34m]\u001b[0m\u001b[0;34m\u001b[0m\u001b[0m\n\u001b[0;32m--> 559\u001b[0;31m         \u001b[0mself\u001b[0m\u001b[0;34m.\u001b[0m\u001b[0mretrlines\u001b[0m\u001b[0;34m(\u001b[0m\u001b[0mcmd\u001b[0m\u001b[0;34m,\u001b[0m \u001b[0mfiles\u001b[0m\u001b[0;34m.\u001b[0m\u001b[0mappend\u001b[0m\u001b[0;34m)\u001b[0m\u001b[0;34m\u001b[0m\u001b[0m\n\u001b[0m\u001b[1;32m    560\u001b[0m         \u001b[0;32mreturn\u001b[0m \u001b[0mfiles\u001b[0m\u001b[0;34m\u001b[0m\u001b[0m\n\u001b[1;32m    561\u001b[0m \u001b[0;34m\u001b[0m\u001b[0m\n",
      "\u001b[0;32m~/anaconda3/lib/python3.6/ftplib.py\u001b[0m in \u001b[0;36mretrlines\u001b[0;34m(self, cmd, callback)\u001b[0m\n\u001b[1;32m    466\u001b[0m             \u001b[0mcallback\u001b[0m \u001b[0;34m=\u001b[0m \u001b[0mprint_line\u001b[0m\u001b[0;34m\u001b[0m\u001b[0m\n\u001b[1;32m    467\u001b[0m         \u001b[0mresp\u001b[0m \u001b[0;34m=\u001b[0m \u001b[0mself\u001b[0m\u001b[0;34m.\u001b[0m\u001b[0msendcmd\u001b[0m\u001b[0;34m(\u001b[0m\u001b[0;34m'TYPE A'\u001b[0m\u001b[0;34m)\u001b[0m\u001b[0;34m\u001b[0m\u001b[0m\n\u001b[0;32m--> 468\u001b[0;31m         \u001b[0;32mwith\u001b[0m \u001b[0mself\u001b[0m\u001b[0;34m.\u001b[0m\u001b[0mtransfercmd\u001b[0m\u001b[0;34m(\u001b[0m\u001b[0mcmd\u001b[0m\u001b[0;34m)\u001b[0m \u001b[0;32mas\u001b[0m \u001b[0mconn\u001b[0m\u001b[0;34m,\u001b[0m\u001b[0;31m \u001b[0m\u001b[0;31m\\\u001b[0m\u001b[0;34m\u001b[0m\u001b[0m\n\u001b[0m\u001b[1;32m    469\u001b[0m                  \u001b[0mconn\u001b[0m\u001b[0;34m.\u001b[0m\u001b[0mmakefile\u001b[0m\u001b[0;34m(\u001b[0m\u001b[0;34m'r'\u001b[0m\u001b[0;34m,\u001b[0m \u001b[0mencoding\u001b[0m\u001b[0;34m=\u001b[0m\u001b[0mself\u001b[0m\u001b[0;34m.\u001b[0m\u001b[0mencoding\u001b[0m\u001b[0;34m)\u001b[0m \u001b[0;32mas\u001b[0m \u001b[0mfp\u001b[0m\u001b[0;34m:\u001b[0m\u001b[0;34m\u001b[0m\u001b[0m\n\u001b[1;32m    470\u001b[0m             \u001b[0;32mwhile\u001b[0m \u001b[0;36m1\u001b[0m\u001b[0;34m:\u001b[0m\u001b[0;34m\u001b[0m\u001b[0m\n",
      "\u001b[0;32m~/anaconda3/lib/python3.6/ftplib.py\u001b[0m in \u001b[0;36mtransfercmd\u001b[0;34m(self, cmd, rest)\u001b[0m\n\u001b[1;32m    397\u001b[0m     \u001b[0;32mdef\u001b[0m \u001b[0mtransfercmd\u001b[0m\u001b[0;34m(\u001b[0m\u001b[0mself\u001b[0m\u001b[0;34m,\u001b[0m \u001b[0mcmd\u001b[0m\u001b[0;34m,\u001b[0m \u001b[0mrest\u001b[0m\u001b[0;34m=\u001b[0m\u001b[0;32mNone\u001b[0m\u001b[0;34m)\u001b[0m\u001b[0;34m:\u001b[0m\u001b[0;34m\u001b[0m\u001b[0m\n\u001b[1;32m    398\u001b[0m         \u001b[0;34m\"\"\"Like ntransfercmd() but returns only the socket.\"\"\"\u001b[0m\u001b[0;34m\u001b[0m\u001b[0m\n\u001b[0;32m--> 399\u001b[0;31m         \u001b[0;32mreturn\u001b[0m \u001b[0mself\u001b[0m\u001b[0;34m.\u001b[0m\u001b[0mntransfercmd\u001b[0m\u001b[0;34m(\u001b[0m\u001b[0mcmd\u001b[0m\u001b[0;34m,\u001b[0m \u001b[0mrest\u001b[0m\u001b[0;34m)\u001b[0m\u001b[0;34m[\u001b[0m\u001b[0;36m0\u001b[0m\u001b[0;34m]\u001b[0m\u001b[0;34m\u001b[0m\u001b[0m\n\u001b[0m\u001b[1;32m    400\u001b[0m \u001b[0;34m\u001b[0m\u001b[0m\n\u001b[1;32m    401\u001b[0m     \u001b[0;32mdef\u001b[0m \u001b[0mlogin\u001b[0m\u001b[0;34m(\u001b[0m\u001b[0mself\u001b[0m\u001b[0;34m,\u001b[0m \u001b[0muser\u001b[0m \u001b[0;34m=\u001b[0m \u001b[0;34m''\u001b[0m\u001b[0;34m,\u001b[0m \u001b[0mpasswd\u001b[0m \u001b[0;34m=\u001b[0m \u001b[0;34m''\u001b[0m\u001b[0;34m,\u001b[0m \u001b[0macct\u001b[0m \u001b[0;34m=\u001b[0m \u001b[0;34m''\u001b[0m\u001b[0;34m)\u001b[0m\u001b[0;34m:\u001b[0m\u001b[0;34m\u001b[0m\u001b[0m\n",
      "\u001b[0;32m~/anaconda3/lib/python3.6/ftplib.py\u001b[0m in \u001b[0;36mntransfercmd\u001b[0;34m(self, cmd, rest)\u001b[0m\n\u001b[1;32m    363\u001b[0m                 \u001b[0;32mif\u001b[0m \u001b[0mrest\u001b[0m \u001b[0;32mis\u001b[0m \u001b[0;32mnot\u001b[0m \u001b[0;32mNone\u001b[0m\u001b[0;34m:\u001b[0m\u001b[0;34m\u001b[0m\u001b[0m\n\u001b[1;32m    364\u001b[0m                     \u001b[0mself\u001b[0m\u001b[0;34m.\u001b[0m\u001b[0msendcmd\u001b[0m\u001b[0;34m(\u001b[0m\u001b[0;34m\"REST %s\"\u001b[0m \u001b[0;34m%\u001b[0m \u001b[0mrest\u001b[0m\u001b[0;34m)\u001b[0m\u001b[0;34m\u001b[0m\u001b[0m\n\u001b[0;32m--> 365\u001b[0;31m                 \u001b[0mresp\u001b[0m \u001b[0;34m=\u001b[0m \u001b[0mself\u001b[0m\u001b[0;34m.\u001b[0m\u001b[0msendcmd\u001b[0m\u001b[0;34m(\u001b[0m\u001b[0mcmd\u001b[0m\u001b[0;34m)\u001b[0m\u001b[0;34m\u001b[0m\u001b[0m\n\u001b[0m\u001b[1;32m    366\u001b[0m                 \u001b[0;31m# Some servers apparently send a 200 reply to\u001b[0m\u001b[0;34m\u001b[0m\u001b[0;34m\u001b[0m\u001b[0m\n\u001b[1;32m    367\u001b[0m                 \u001b[0;31m# a LIST or STOR command, before the 150 reply\u001b[0m\u001b[0;34m\u001b[0m\u001b[0;34m\u001b[0m\u001b[0m\n",
      "\u001b[0;32m~/anaconda3/lib/python3.6/ftplib.py\u001b[0m in \u001b[0;36msendcmd\u001b[0;34m(self, cmd)\u001b[0m\n\u001b[1;32m    271\u001b[0m         \u001b[0;34m'''Send a command and return the response.'''\u001b[0m\u001b[0;34m\u001b[0m\u001b[0m\n\u001b[1;32m    272\u001b[0m         \u001b[0mself\u001b[0m\u001b[0;34m.\u001b[0m\u001b[0mputcmd\u001b[0m\u001b[0;34m(\u001b[0m\u001b[0mcmd\u001b[0m\u001b[0;34m)\u001b[0m\u001b[0;34m\u001b[0m\u001b[0m\n\u001b[0;32m--> 273\u001b[0;31m         \u001b[0;32mreturn\u001b[0m \u001b[0mself\u001b[0m\u001b[0;34m.\u001b[0m\u001b[0mgetresp\u001b[0m\u001b[0;34m(\u001b[0m\u001b[0;34m)\u001b[0m\u001b[0;34m\u001b[0m\u001b[0m\n\u001b[0m\u001b[1;32m    274\u001b[0m \u001b[0;34m\u001b[0m\u001b[0m\n\u001b[1;32m    275\u001b[0m     \u001b[0;32mdef\u001b[0m \u001b[0mvoidcmd\u001b[0m\u001b[0;34m(\u001b[0m\u001b[0mself\u001b[0m\u001b[0;34m,\u001b[0m \u001b[0mcmd\u001b[0m\u001b[0;34m)\u001b[0m\u001b[0;34m:\u001b[0m\u001b[0;34m\u001b[0m\u001b[0m\n",
      "\u001b[0;32m~/anaconda3/lib/python3.6/ftplib.py\u001b[0m in \u001b[0;36mgetresp\u001b[0;34m(self)\u001b[0m\n\u001b[1;32m    234\u001b[0m     \u001b[0;31m# Raise various errors if the response indicates an error\u001b[0m\u001b[0;34m\u001b[0m\u001b[0;34m\u001b[0m\u001b[0m\n\u001b[1;32m    235\u001b[0m     \u001b[0;32mdef\u001b[0m \u001b[0mgetresp\u001b[0m\u001b[0;34m(\u001b[0m\u001b[0mself\u001b[0m\u001b[0;34m)\u001b[0m\u001b[0;34m:\u001b[0m\u001b[0;34m\u001b[0m\u001b[0m\n\u001b[0;32m--> 236\u001b[0;31m         \u001b[0mresp\u001b[0m \u001b[0;34m=\u001b[0m \u001b[0mself\u001b[0m\u001b[0;34m.\u001b[0m\u001b[0mgetmultiline\u001b[0m\u001b[0;34m(\u001b[0m\u001b[0;34m)\u001b[0m\u001b[0;34m\u001b[0m\u001b[0m\n\u001b[0m\u001b[1;32m    237\u001b[0m         \u001b[0;32mif\u001b[0m \u001b[0mself\u001b[0m\u001b[0;34m.\u001b[0m\u001b[0mdebugging\u001b[0m\u001b[0;34m:\u001b[0m\u001b[0;34m\u001b[0m\u001b[0m\n\u001b[1;32m    238\u001b[0m             \u001b[0mprint\u001b[0m\u001b[0;34m(\u001b[0m\u001b[0;34m'*resp*'\u001b[0m\u001b[0;34m,\u001b[0m \u001b[0mself\u001b[0m\u001b[0;34m.\u001b[0m\u001b[0msanitize\u001b[0m\u001b[0;34m(\u001b[0m\u001b[0mresp\u001b[0m\u001b[0;34m)\u001b[0m\u001b[0;34m)\u001b[0m\u001b[0;34m\u001b[0m\u001b[0m\n",
      "\u001b[0;32m~/anaconda3/lib/python3.6/ftplib.py\u001b[0m in \u001b[0;36mgetmultiline\u001b[0;34m(self)\u001b[0m\n\u001b[1;32m    220\u001b[0m     \u001b[0;31m# these are separated by '\\n' characters in the string\u001b[0m\u001b[0;34m\u001b[0m\u001b[0;34m\u001b[0m\u001b[0m\n\u001b[1;32m    221\u001b[0m     \u001b[0;32mdef\u001b[0m \u001b[0mgetmultiline\u001b[0m\u001b[0;34m(\u001b[0m\u001b[0mself\u001b[0m\u001b[0;34m)\u001b[0m\u001b[0;34m:\u001b[0m\u001b[0;34m\u001b[0m\u001b[0m\n\u001b[0;32m--> 222\u001b[0;31m         \u001b[0mline\u001b[0m \u001b[0;34m=\u001b[0m \u001b[0mself\u001b[0m\u001b[0;34m.\u001b[0m\u001b[0mgetline\u001b[0m\u001b[0;34m(\u001b[0m\u001b[0;34m)\u001b[0m\u001b[0;34m\u001b[0m\u001b[0m\n\u001b[0m\u001b[1;32m    223\u001b[0m         \u001b[0;32mif\u001b[0m \u001b[0mline\u001b[0m\u001b[0;34m[\u001b[0m\u001b[0;36m3\u001b[0m\u001b[0;34m:\u001b[0m\u001b[0;36m4\u001b[0m\u001b[0;34m]\u001b[0m \u001b[0;34m==\u001b[0m \u001b[0;34m'-'\u001b[0m\u001b[0;34m:\u001b[0m\u001b[0;34m\u001b[0m\u001b[0m\n\u001b[1;32m    224\u001b[0m             \u001b[0mcode\u001b[0m \u001b[0;34m=\u001b[0m \u001b[0mline\u001b[0m\u001b[0;34m[\u001b[0m\u001b[0;34m:\u001b[0m\u001b[0;36m3\u001b[0m\u001b[0;34m]\u001b[0m\u001b[0;34m\u001b[0m\u001b[0m\n",
      "\u001b[0;32m~/anaconda3/lib/python3.6/ftplib.py\u001b[0m in \u001b[0;36mgetline\u001b[0;34m(self)\u001b[0m\n\u001b[1;32m    202\u001b[0m     \u001b[0;31m# Raise EOFError if the connection is closed\u001b[0m\u001b[0;34m\u001b[0m\u001b[0;34m\u001b[0m\u001b[0m\n\u001b[1;32m    203\u001b[0m     \u001b[0;32mdef\u001b[0m \u001b[0mgetline\u001b[0m\u001b[0;34m(\u001b[0m\u001b[0mself\u001b[0m\u001b[0;34m)\u001b[0m\u001b[0;34m:\u001b[0m\u001b[0;34m\u001b[0m\u001b[0m\n\u001b[0;32m--> 204\u001b[0;31m         \u001b[0mline\u001b[0m \u001b[0;34m=\u001b[0m \u001b[0mself\u001b[0m\u001b[0;34m.\u001b[0m\u001b[0mfile\u001b[0m\u001b[0;34m.\u001b[0m\u001b[0mreadline\u001b[0m\u001b[0;34m(\u001b[0m\u001b[0mself\u001b[0m\u001b[0;34m.\u001b[0m\u001b[0mmaxline\u001b[0m \u001b[0;34m+\u001b[0m \u001b[0;36m1\u001b[0m\u001b[0;34m)\u001b[0m\u001b[0;34m\u001b[0m\u001b[0m\n\u001b[0m\u001b[1;32m    205\u001b[0m         \u001b[0;32mif\u001b[0m \u001b[0mlen\u001b[0m\u001b[0;34m(\u001b[0m\u001b[0mline\u001b[0m\u001b[0;34m)\u001b[0m \u001b[0;34m>\u001b[0m \u001b[0mself\u001b[0m\u001b[0;34m.\u001b[0m\u001b[0mmaxline\u001b[0m\u001b[0;34m:\u001b[0m\u001b[0;34m\u001b[0m\u001b[0m\n\u001b[1;32m    206\u001b[0m             \u001b[0;32mraise\u001b[0m \u001b[0mError\u001b[0m\u001b[0;34m(\u001b[0m\u001b[0;34m\"got more than %d bytes\"\u001b[0m \u001b[0;34m%\u001b[0m \u001b[0mself\u001b[0m\u001b[0;34m.\u001b[0m\u001b[0mmaxline\u001b[0m\u001b[0;34m)\u001b[0m\u001b[0;34m\u001b[0m\u001b[0m\n",
      "\u001b[0;32m~/anaconda3/lib/python3.6/socket.py\u001b[0m in \u001b[0;36mreadinto\u001b[0;34m(self, b)\u001b[0m\n\u001b[1;32m    584\u001b[0m         \u001b[0;32mwhile\u001b[0m \u001b[0;32mTrue\u001b[0m\u001b[0;34m:\u001b[0m\u001b[0;34m\u001b[0m\u001b[0m\n\u001b[1;32m    585\u001b[0m             \u001b[0;32mtry\u001b[0m\u001b[0;34m:\u001b[0m\u001b[0;34m\u001b[0m\u001b[0m\n\u001b[0;32m--> 586\u001b[0;31m                 \u001b[0;32mreturn\u001b[0m \u001b[0mself\u001b[0m\u001b[0;34m.\u001b[0m\u001b[0m_sock\u001b[0m\u001b[0;34m.\u001b[0m\u001b[0mrecv_into\u001b[0m\u001b[0;34m(\u001b[0m\u001b[0mb\u001b[0m\u001b[0;34m)\u001b[0m\u001b[0;34m\u001b[0m\u001b[0m\n\u001b[0m\u001b[1;32m    587\u001b[0m             \u001b[0;32mexcept\u001b[0m \u001b[0mtimeout\u001b[0m\u001b[0;34m:\u001b[0m\u001b[0;34m\u001b[0m\u001b[0m\n\u001b[1;32m    588\u001b[0m                 \u001b[0mself\u001b[0m\u001b[0;34m.\u001b[0m\u001b[0m_timeout_occurred\u001b[0m \u001b[0;34m=\u001b[0m \u001b[0;32mTrue\u001b[0m\u001b[0;34m\u001b[0m\u001b[0m\n",
      "\u001b[0;31mKeyboardInterrupt\u001b[0m: "
     ]
    }
   ],
   "source": [
    "for subset in ['NON-OA', 'OA']:\n",
    "    folders = ftp.nlst(f'/pub/databases/pmc/suppl/{subset}/')\n",
    "    for folder1 in tqdm.tqdm_notebook(folders, total=len(folders)):\n",
    "        for folder2 in ftp.nlst(folder1):\n",
    "            folders.append(folder1)"
   ]
  },
  {
   "cell_type": "code",
   "execution_count": null,
   "metadata": {
    "collapsed": true
   },
   "outputs": [],
   "source": [
    "len(folders)"
   ]
  },
  {
   "cell_type": "code",
   "execution_count": null,
   "metadata": {
    "collapsed": true
   },
   "outputs": [],
   "source": []
  },
  {
   "cell_type": "code",
   "execution_count": null,
   "metadata": {
    "collapsed": true
   },
   "outputs": [],
   "source": []
  },
  {
   "cell_type": "code",
   "execution_count": null,
   "metadata": {
    "collapsed": true
   },
   "outputs": [],
   "source": []
  },
  {
   "cell_type": "code",
   "execution_count": 157,
   "metadata": {},
   "outputs": [
    {
     "data": {
      "text/plain": [
       "['/pub/databases/pmc/suppl/NON-OA/PMC1193900-PMC1197899/PMC1194899.zip',\n",
       " '/pub/databases/pmc/suppl/NON-OA/PMC1193900-PMC1197899/PMC1194901.zip',\n",
       " '/pub/databases/pmc/suppl/NON-OA/PMC1193900-PMC1197899/PMC1194903.zip',\n",
       " '/pub/databases/pmc/suppl/NON-OA/PMC1193900-PMC1197899/PMC1194904.zip',\n",
       " '/pub/databases/pmc/suppl/NON-OA/PMC1193900-PMC1197899/PMC1194906.zip',\n",
       " '/pub/databases/pmc/suppl/NON-OA/PMC1193900-PMC1197899/PMC1194908.zip',\n",
       " '/pub/databases/pmc/suppl/NON-OA/PMC1193900-PMC1197899/PMC1194909.zip',\n",
       " '/pub/databases/pmc/suppl/NON-OA/PMC1193900-PMC1197899/PMC1194910.zip',\n",
       " '/pub/databases/pmc/suppl/NON-OA/PMC1193900-PMC1197899/PMC1194911.zip',\n",
       " '/pub/databases/pmc/suppl/NON-OA/PMC1193900-PMC1197899/PMC1194917.zip',\n",
       " '/pub/databases/pmc/suppl/NON-OA/PMC1193900-PMC1197899/PMC1194919.zip',\n",
       " '/pub/databases/pmc/suppl/NON-OA/PMC1193900-PMC1197899/PMC1194920.zip',\n",
       " '/pub/databases/pmc/suppl/NON-OA/PMC1193900-PMC1197899/PMC1194921.zip',\n",
       " '/pub/databases/pmc/suppl/NON-OA/PMC1193900-PMC1197899/PMC1194925.zip',\n",
       " '/pub/databases/pmc/suppl/NON-OA/PMC1193900-PMC1197899/PMC1194927.zip',\n",
       " '/pub/databases/pmc/suppl/NON-OA/PMC1193900-PMC1197899/PMC1194928.zip',\n",
       " '/pub/databases/pmc/suppl/NON-OA/PMC1193900-PMC1197899/PMC1194930.zip',\n",
       " '/pub/databases/pmc/suppl/NON-OA/PMC1193900-PMC1197899/PMC1194931.zip',\n",
       " '/pub/databases/pmc/suppl/NON-OA/PMC1193900-PMC1197899/PMC1194932.zip',\n",
       " '/pub/databases/pmc/suppl/NON-OA/PMC1193900-PMC1197899/PMC1194936.zip',\n",
       " '/pub/databases/pmc/suppl/NON-OA/PMC1193900-PMC1197899/PMC1194938.zip',\n",
       " '/pub/databases/pmc/suppl/NON-OA/PMC1193900-PMC1197899/PMC1194940.zip',\n",
       " '/pub/databases/pmc/suppl/NON-OA/PMC1193900-PMC1197899/PMC1194941.zip',\n",
       " '/pub/databases/pmc/suppl/NON-OA/PMC1193900-PMC1197899/PMC1194942.zip',\n",
       " '/pub/databases/pmc/suppl/NON-OA/PMC1193900-PMC1197899/PMC1194945.zip',\n",
       " '/pub/databases/pmc/suppl/NON-OA/PMC1193900-PMC1197899/PMC1194948.zip',\n",
       " '/pub/databases/pmc/suppl/NON-OA/PMC1193900-PMC1197899/PMC1194952.zip',\n",
       " '/pub/databases/pmc/suppl/NON-OA/PMC1193900-PMC1197899/PMC1194954.zip',\n",
       " '/pub/databases/pmc/suppl/NON-OA/PMC1193900-PMC1197899/PMC1194956.zip',\n",
       " '/pub/databases/pmc/suppl/NON-OA/PMC1193900-PMC1197899/PMC1195439.zip',\n",
       " '/pub/databases/pmc/suppl/NON-OA/PMC1193900-PMC1197899/PMC1196006.zip',\n",
       " '/pub/databases/pmc/suppl/NON-OA/PMC1193900-PMC1197899/PMC1196009.zip',\n",
       " '/pub/databases/pmc/suppl/NON-OA/PMC1193900-PMC1197899/PMC1196016.zip',\n",
       " '/pub/databases/pmc/suppl/NON-OA/PMC1193900-PMC1197899/PMC1196025.zip',\n",
       " '/pub/databases/pmc/suppl/NON-OA/PMC1193900-PMC1197899/PMC1196035.zip',\n",
       " '/pub/databases/pmc/suppl/NON-OA/PMC1193900-PMC1197899/PMC1196043.zip',\n",
       " '/pub/databases/pmc/suppl/NON-OA/PMC1193900-PMC1197899/PMC1196056.zip',\n",
       " '/pub/databases/pmc/suppl/NON-OA/PMC1193900-PMC1197899/PMC1196070.zip',\n",
       " '/pub/databases/pmc/suppl/NON-OA/PMC1193900-PMC1197899/PMC1196074.zip',\n",
       " '/pub/databases/pmc/suppl/NON-OA/PMC1193900-PMC1197899/PMC1196077.zip',\n",
       " '/pub/databases/pmc/suppl/NON-OA/PMC1193900-PMC1197899/PMC1196086.zip',\n",
       " '/pub/databases/pmc/suppl/NON-OA/PMC1193900-PMC1197899/PMC1196087.zip',\n",
       " '/pub/databases/pmc/suppl/NON-OA/PMC1193900-PMC1197899/PMC1196131.zip',\n",
       " '/pub/databases/pmc/suppl/NON-OA/PMC1193900-PMC1197899/PMC1196132.zip',\n",
       " '/pub/databases/pmc/suppl/NON-OA/PMC1193900-PMC1197899/PMC1196134.zip',\n",
       " '/pub/databases/pmc/suppl/NON-OA/PMC1193900-PMC1197899/PMC1196136.zip',\n",
       " '/pub/databases/pmc/suppl/NON-OA/PMC1193900-PMC1197899/PMC1196165.zip',\n",
       " '/pub/databases/pmc/suppl/NON-OA/PMC1193900-PMC1197899/PMC1196200.zip',\n",
       " '/pub/databases/pmc/suppl/NON-OA/PMC1193900-PMC1197899/PMC1196232.zip',\n",
       " '/pub/databases/pmc/suppl/NON-OA/PMC1193900-PMC1197899/PMC1196288.zip',\n",
       " '/pub/databases/pmc/suppl/NON-OA/PMC1193900-PMC1197899/PMC1196308.zip',\n",
       " '/pub/databases/pmc/suppl/NON-OA/PMC1193900-PMC1197899/PMC1196311.zip',\n",
       " '/pub/databases/pmc/suppl/NON-OA/PMC1193900-PMC1197899/PMC1196312.zip',\n",
       " '/pub/databases/pmc/suppl/NON-OA/PMC1193900-PMC1197899/PMC1196314.zip',\n",
       " '/pub/databases/pmc/suppl/NON-OA/PMC1193900-PMC1197899/PMC1196316.zip',\n",
       " '/pub/databases/pmc/suppl/NON-OA/PMC1193900-PMC1197899/PMC1196319.zip',\n",
       " '/pub/databases/pmc/suppl/NON-OA/PMC1193900-PMC1197899/PMC1196323.zip',\n",
       " '/pub/databases/pmc/suppl/NON-OA/PMC1193900-PMC1197899/PMC1196329.zip',\n",
       " '/pub/databases/pmc/suppl/NON-OA/PMC1193900-PMC1197899/PMC1196330.zip',\n",
       " '/pub/databases/pmc/suppl/NON-OA/PMC1193900-PMC1197899/PMC1196331.zip',\n",
       " '/pub/databases/pmc/suppl/NON-OA/PMC1193900-PMC1197899/PMC1196332.zip',\n",
       " '/pub/databases/pmc/suppl/NON-OA/PMC1193900-PMC1197899/PMC1196333.zip',\n",
       " '/pub/databases/pmc/suppl/NON-OA/PMC1193900-PMC1197899/PMC1196334.zip',\n",
       " '/pub/databases/pmc/suppl/NON-OA/PMC1193900-PMC1197899/PMC1196338.zip',\n",
       " '/pub/databases/pmc/suppl/NON-OA/PMC1193900-PMC1197899/PMC1196343.zip',\n",
       " '/pub/databases/pmc/suppl/NON-OA/PMC1193900-PMC1197899/PMC1196344.zip',\n",
       " '/pub/databases/pmc/suppl/NON-OA/PMC1193900-PMC1197899/PMC1196347.zip',\n",
       " '/pub/databases/pmc/suppl/NON-OA/PMC1193900-PMC1197899/PMC1196348.zip',\n",
       " '/pub/databases/pmc/suppl/NON-OA/PMC1193900-PMC1197899/PMC1196349.zip',\n",
       " '/pub/databases/pmc/suppl/NON-OA/PMC1193900-PMC1197899/PMC1196351.zip',\n",
       " '/pub/databases/pmc/suppl/NON-OA/PMC1193900-PMC1197899/PMC1196357.zip',\n",
       " '/pub/databases/pmc/suppl/NON-OA/PMC1193900-PMC1197899/PMC1196358.zip',\n",
       " '/pub/databases/pmc/suppl/NON-OA/PMC1193900-PMC1197899/PMC1196374.zip',\n",
       " '/pub/databases/pmc/suppl/NON-OA/PMC1193900-PMC1197899/PMC1196376.zip',\n",
       " '/pub/databases/pmc/suppl/NON-OA/PMC1193900-PMC1197899/PMC1196393.zip',\n",
       " '/pub/databases/pmc/suppl/NON-OA/PMC1193900-PMC1197899/PMC1197154.zip',\n",
       " '/pub/databases/pmc/suppl/NON-OA/PMC1193900-PMC1197899/PMC1197271.zip',\n",
       " '/pub/databases/pmc/suppl/NON-OA/PMC1193900-PMC1197899/PMC1197272.zip',\n",
       " '/pub/databases/pmc/suppl/NON-OA/PMC1193900-PMC1197899/PMC1197273.zip']"
      ]
     },
     "execution_count": 157,
     "metadata": {},
     "output_type": "execute_result"
    }
   ],
   "source": [
    "ftp.nlst('/pub/databases/pmc/suppl/NON-OA/PMC1193900-PMC1197899')"
   ]
  },
  {
   "cell_type": "code",
   "execution_count": 41,
   "metadata": {},
   "outputs": [],
   "source": [
    "import pmc_tables.download"
   ]
  },
  {
   "cell_type": "code",
   "execution_count": 42,
   "metadata": {
    "collapsed": true
   },
   "outputs": [],
   "source": [
    "ftp = pmc_tables.download.get_ftp_client('ebi')"
   ]
  },
  {
   "cell_type": "code",
   "execution_count": 43,
   "metadata": {
    "collapsed": true
   },
   "outputs": [],
   "source": [
    "oa_folders, non_oa_folders = pmc_tables.download.get_ebi_suppl_folder_list(ftp)"
   ]
  },
  {
   "cell_type": "code",
   "execution_count": 44,
   "metadata": {
    "collapsed": true
   },
   "outputs": [],
   "source": [
    "pmc_id = 'PMC5488252'"
   ]
  },
  {
   "cell_type": "code",
   "execution_count": 45,
   "metadata": {},
   "outputs": [
    {
     "data": {
      "text/plain": [
       "'PMC5485900-PMC5489899'"
      ]
     },
     "execution_count": 45,
     "metadata": {},
     "output_type": "execute_result"
    }
   ],
   "source": [
    "pmc_tables.download.get_containing_folder(pmc_id, oa_folders)"
   ]
  },
  {
   "cell_type": "code",
   "execution_count": 46,
   "metadata": {},
   "outputs": [
    {
     "data": {
      "text/plain": [
       "'PMC5485900-PMC5489899'"
      ]
     },
     "execution_count": 46,
     "metadata": {},
     "output_type": "execute_result"
    }
   ],
   "source": [
    "pmc_tables.download.get_containing_folder(pmc_id, non_oa_folders)"
   ]
  },
  {
   "cell_type": "code",
   "execution_count": 130,
   "metadata": {},
   "outputs": [
    {
     "data": {
      "text/plain": [
       "urllib.error.URLError"
      ]
     },
     "execution_count": 130,
     "metadata": {},
     "output_type": "execute_result"
    }
   ],
   "source": [
    "import urllib.request\n",
    "urllib.request.URLError"
   ]
  },
  {
   "cell_type": "code",
   "execution_count": 131,
   "metadata": {
    "run_control": {
     "marked": false
    }
   },
   "outputs": [],
   "source": [
    "importlib.reload(pmc_tables.download)\n",
    "downloader = pmc_tables.download.EbiDownloader()"
   ]
  },
  {
   "cell_type": "code",
   "execution_count": 132,
   "metadata": {},
   "outputs": [
    {
     "data": {
      "text/plain": [
       "['ftp://ftp.ebi.ac.uk/pub/databases/pmc/suppl']"
      ]
     },
     "execution_count": 132,
     "metadata": {},
     "output_type": "execute_result"
    }
   ],
   "source": [
    "downloader.source_urls"
   ]
  },
  {
   "cell_type": "code",
   "execution_count": 133,
   "metadata": {
    "collapsed": true
   },
   "outputs": [],
   "source": [
    "downloader.source_urls.insert(0, op.abspath('../downloads/ebi/pmc/suppl'))"
   ]
  },
  {
   "cell_type": "code",
   "execution_count": 134,
   "metadata": {},
   "outputs": [
    {
     "data": {
      "text/plain": [
       "['/home/kimlab2/database_data/datapkg/pmc_tables/downloads/ebi/pmc/suppl',\n",
       " 'ftp://ftp.ebi.ac.uk/pub/databases/pmc/suppl']"
      ]
     },
     "execution_count": 134,
     "metadata": {},
     "output_type": "execute_result"
    }
   ],
   "source": [
    "downloader.source_urls"
   ]
  },
  {
   "cell_type": "code",
   "execution_count": 135,
   "metadata": {},
   "outputs": [
    {
     "name": "stderr",
     "output_type": "stream",
     "text": [
      "Could not download file /home/kimlab2/database_data/datapkg/pmc_tables/downloads/ebi/pmc/suppl/OA/PMC5445900-PMC5449899/PMC5448120.zip.\n",
      "unknown url type: '/home/kimlab2/database_data/datapkg/pmc_tables/downloads/ebi/pmc/suppl/OA/PMC5445900-PMC5449899/PMC5448120.zip'.\n",
      "Could not download file ftp://ftp.ebi.ac.uk/pub/databases/pmc/suppl/OA/PMC5445900-PMC5449899/PMC5448120.zip.\n",
      "<urlopen error ftp error: URLError(\"ftp error: error_perm('550 Failed to change directory.',)\",)>.\n",
      "Could not download file /home/kimlab2/database_data/datapkg/pmc_tables/downloads/ebi/pmc/suppl/NON-OA/PMC5445900-PMC5449899/PMC5448120.zip.\n",
      "unknown url type: '/home/kimlab2/database_data/datapkg/pmc_tables/downloads/ebi/pmc/suppl/NON-OA/PMC5445900-PMC5449899/PMC5448120.zip'.\n",
      "Could not download file ftp://ftp.ebi.ac.uk/pub/databases/pmc/suppl/NON-OA/PMC5445900-PMC5449899/PMC5448120.zip.\n",
      "<urlopen error ftp error: URLError(\"ftp error: error_perm('550 Failed to change directory.',)\",)>.\n",
      "Could not download suppl file for PMC5448120!\n"
     ]
    }
   ],
   "source": [
    "downloader.download_ebi_suppl(pmc_id)"
   ]
  },
  {
   "cell_type": "code",
   "execution_count": 75,
   "metadata": {},
   "outputs": [],
   "source": [
    "with concurrent.futures.ThreadPoolExecutor() as pool:\n",
    "    futures = pool.map(downloader.download_ebi_suppl, df_pmc['pmc'].values.tolist())"
   ]
  },
  {
   "cell_type": "code",
   "execution_count": 139,
   "metadata": {},
   "outputs": [
    {
     "ename": "TypeError",
     "evalue": "getresp() takes 1 positional argument but 2 were given",
     "output_type": "error",
     "traceback": [
      "\u001b[0;31m---------------------------------------------------------------------------\u001b[0m",
      "\u001b[0;31mTypeError\u001b[0m                                 Traceback (most recent call last)",
      "\u001b[0;32m<ipython-input-139-db8a7ec6fbe1>\u001b[0m in \u001b[0;36m<module>\u001b[0;34m()\u001b[0m\n\u001b[0;32m----> 1\u001b[0;31m \u001b[0mftp\u001b[0m\u001b[0;34m.\u001b[0m\u001b[0mgetresp\u001b[0m\u001b[0;34m(\u001b[0m\u001b[0;34m'find'\u001b[0m\u001b[0;34m)\u001b[0m\u001b[0;34m\u001b[0m\u001b[0m\n\u001b[0m",
      "\u001b[0;31mTypeError\u001b[0m: getresp() takes 1 positional argument but 2 were given"
     ]
    }
   ],
   "source": [
    "ftp.getresp('find')"
   ]
  },
  {
   "cell_type": "code",
   "execution_count": 142,
   "metadata": {},
   "outputs": [
    {
     "ename": "EOFError",
     "evalue": "",
     "output_type": "error",
     "traceback": [
      "\u001b[0;31m---------------------------------------------------------------------------\u001b[0m",
      "\u001b[0;31mEOFError\u001b[0m                                  Traceback (most recent call last)",
      "\u001b[0;32m<ipython-input-142-00dc8443140c>\u001b[0m in \u001b[0;36m<module>\u001b[0;34m()\u001b[0m\n\u001b[0;32m----> 1\u001b[0;31m \u001b[0mftp\u001b[0m\u001b[0;34m.\u001b[0m\u001b[0msendcmd\u001b[0m\u001b[0;34m(\u001b[0m\u001b[0;34m'find'\u001b[0m\u001b[0;34m)\u001b[0m\u001b[0;34m\u001b[0m\u001b[0m\n\u001b[0m",
      "\u001b[0;32m~/anaconda3/lib/python3.6/ftplib.py\u001b[0m in \u001b[0;36msendcmd\u001b[0;34m(self, cmd)\u001b[0m\n\u001b[1;32m    271\u001b[0m         \u001b[0;34m'''Send a command and return the response.'''\u001b[0m\u001b[0;34m\u001b[0m\u001b[0m\n\u001b[1;32m    272\u001b[0m         \u001b[0mself\u001b[0m\u001b[0;34m.\u001b[0m\u001b[0mputcmd\u001b[0m\u001b[0;34m(\u001b[0m\u001b[0mcmd\u001b[0m\u001b[0;34m)\u001b[0m\u001b[0;34m\u001b[0m\u001b[0m\n\u001b[0;32m--> 273\u001b[0;31m         \u001b[0;32mreturn\u001b[0m \u001b[0mself\u001b[0m\u001b[0;34m.\u001b[0m\u001b[0mgetresp\u001b[0m\u001b[0;34m(\u001b[0m\u001b[0;34m)\u001b[0m\u001b[0;34m\u001b[0m\u001b[0m\n\u001b[0m\u001b[1;32m    274\u001b[0m \u001b[0;34m\u001b[0m\u001b[0m\n\u001b[1;32m    275\u001b[0m     \u001b[0;32mdef\u001b[0m \u001b[0mvoidcmd\u001b[0m\u001b[0;34m(\u001b[0m\u001b[0mself\u001b[0m\u001b[0;34m,\u001b[0m \u001b[0mcmd\u001b[0m\u001b[0;34m)\u001b[0m\u001b[0;34m:\u001b[0m\u001b[0;34m\u001b[0m\u001b[0m\n",
      "\u001b[0;32m~/anaconda3/lib/python3.6/ftplib.py\u001b[0m in \u001b[0;36mgetresp\u001b[0;34m(self)\u001b[0m\n\u001b[1;32m    234\u001b[0m     \u001b[0;31m# Raise various errors if the response indicates an error\u001b[0m\u001b[0;34m\u001b[0m\u001b[0;34m\u001b[0m\u001b[0m\n\u001b[1;32m    235\u001b[0m     \u001b[0;32mdef\u001b[0m \u001b[0mgetresp\u001b[0m\u001b[0;34m(\u001b[0m\u001b[0mself\u001b[0m\u001b[0;34m)\u001b[0m\u001b[0;34m:\u001b[0m\u001b[0;34m\u001b[0m\u001b[0m\n\u001b[0;32m--> 236\u001b[0;31m         \u001b[0mresp\u001b[0m \u001b[0;34m=\u001b[0m \u001b[0mself\u001b[0m\u001b[0;34m.\u001b[0m\u001b[0mgetmultiline\u001b[0m\u001b[0;34m(\u001b[0m\u001b[0;34m)\u001b[0m\u001b[0;34m\u001b[0m\u001b[0m\n\u001b[0m\u001b[1;32m    237\u001b[0m         \u001b[0;32mif\u001b[0m \u001b[0mself\u001b[0m\u001b[0;34m.\u001b[0m\u001b[0mdebugging\u001b[0m\u001b[0;34m:\u001b[0m\u001b[0;34m\u001b[0m\u001b[0m\n\u001b[1;32m    238\u001b[0m             \u001b[0mprint\u001b[0m\u001b[0;34m(\u001b[0m\u001b[0;34m'*resp*'\u001b[0m\u001b[0;34m,\u001b[0m \u001b[0mself\u001b[0m\u001b[0;34m.\u001b[0m\u001b[0msanitize\u001b[0m\u001b[0;34m(\u001b[0m\u001b[0mresp\u001b[0m\u001b[0;34m)\u001b[0m\u001b[0;34m)\u001b[0m\u001b[0;34m\u001b[0m\u001b[0m\n",
      "\u001b[0;32m~/anaconda3/lib/python3.6/ftplib.py\u001b[0m in \u001b[0;36mgetmultiline\u001b[0;34m(self)\u001b[0m\n\u001b[1;32m    220\u001b[0m     \u001b[0;31m# these are separated by '\\n' characters in the string\u001b[0m\u001b[0;34m\u001b[0m\u001b[0;34m\u001b[0m\u001b[0m\n\u001b[1;32m    221\u001b[0m     \u001b[0;32mdef\u001b[0m \u001b[0mgetmultiline\u001b[0m\u001b[0;34m(\u001b[0m\u001b[0mself\u001b[0m\u001b[0;34m)\u001b[0m\u001b[0;34m:\u001b[0m\u001b[0;34m\u001b[0m\u001b[0m\n\u001b[0;32m--> 222\u001b[0;31m         \u001b[0mline\u001b[0m \u001b[0;34m=\u001b[0m \u001b[0mself\u001b[0m\u001b[0;34m.\u001b[0m\u001b[0mgetline\u001b[0m\u001b[0;34m(\u001b[0m\u001b[0;34m)\u001b[0m\u001b[0;34m\u001b[0m\u001b[0m\n\u001b[0m\u001b[1;32m    223\u001b[0m         \u001b[0;32mif\u001b[0m \u001b[0mline\u001b[0m\u001b[0;34m[\u001b[0m\u001b[0;36m3\u001b[0m\u001b[0;34m:\u001b[0m\u001b[0;36m4\u001b[0m\u001b[0;34m]\u001b[0m \u001b[0;34m==\u001b[0m \u001b[0;34m'-'\u001b[0m\u001b[0;34m:\u001b[0m\u001b[0;34m\u001b[0m\u001b[0m\n\u001b[1;32m    224\u001b[0m             \u001b[0mcode\u001b[0m \u001b[0;34m=\u001b[0m \u001b[0mline\u001b[0m\u001b[0;34m[\u001b[0m\u001b[0;34m:\u001b[0m\u001b[0;36m3\u001b[0m\u001b[0;34m]\u001b[0m\u001b[0;34m\u001b[0m\u001b[0m\n",
      "\u001b[0;32m~/anaconda3/lib/python3.6/ftplib.py\u001b[0m in \u001b[0;36mgetline\u001b[0;34m(self)\u001b[0m\n\u001b[1;32m    208\u001b[0m             \u001b[0mprint\u001b[0m\u001b[0;34m(\u001b[0m\u001b[0;34m'*get*'\u001b[0m\u001b[0;34m,\u001b[0m \u001b[0mself\u001b[0m\u001b[0;34m.\u001b[0m\u001b[0msanitize\u001b[0m\u001b[0;34m(\u001b[0m\u001b[0mline\u001b[0m\u001b[0;34m)\u001b[0m\u001b[0;34m)\u001b[0m\u001b[0;34m\u001b[0m\u001b[0m\n\u001b[1;32m    209\u001b[0m         \u001b[0;32mif\u001b[0m \u001b[0;32mnot\u001b[0m \u001b[0mline\u001b[0m\u001b[0;34m:\u001b[0m\u001b[0;34m\u001b[0m\u001b[0m\n\u001b[0;32m--> 210\u001b[0;31m             \u001b[0;32mraise\u001b[0m \u001b[0mEOFError\u001b[0m\u001b[0;34m\u001b[0m\u001b[0m\n\u001b[0m\u001b[1;32m    211\u001b[0m         \u001b[0;32mif\u001b[0m \u001b[0mline\u001b[0m\u001b[0;34m[\u001b[0m\u001b[0;34m-\u001b[0m\u001b[0;36m2\u001b[0m\u001b[0;34m:\u001b[0m\u001b[0;34m]\u001b[0m \u001b[0;34m==\u001b[0m \u001b[0mCRLF\u001b[0m\u001b[0;34m:\u001b[0m\u001b[0;34m\u001b[0m\u001b[0m\n\u001b[1;32m    212\u001b[0m             \u001b[0mline\u001b[0m \u001b[0;34m=\u001b[0m \u001b[0mline\u001b[0m\u001b[0;34m[\u001b[0m\u001b[0;34m:\u001b[0m\u001b[0;34m-\u001b[0m\u001b[0;36m2\u001b[0m\u001b[0;34m]\u001b[0m\u001b[0;34m\u001b[0m\u001b[0m\n",
      "\u001b[0;31mEOFError\u001b[0m: "
     ]
    }
   ],
   "source": []
  },
  {
   "cell_type": "code",
   "execution_count": 78,
   "metadata": {
    "collapsed": true
   },
   "outputs": [],
   "source": [
    "logging.getLogger('pmc_tables.download').setLevel(logging.DEBUG)"
   ]
  },
  {
   "cell_type": "code",
   "execution_count": 136,
   "metadata": {},
   "outputs": [
    {
     "name": "stderr",
     "output_type": "stream",
     "text": [
      "File /home/kimlab2/database_data/datapkg/pmc_tables/notebooks/.pmc/suppl/OA/PMC5525900-PMC5529899/PMC5529024.zip already exists.\n",
      "File /home/kimlab2/database_data/datapkg/pmc_tables/notebooks/.pmc/suppl/OA/PMC5469900-PMC5473899/PMC5470696.zip already exists.\n",
      "File /home/kimlab2/database_data/datapkg/pmc_tables/notebooks/.pmc/suppl/OA/PMC5437900-PMC5441899/PMC5439685.zip already exists.\n",
      "File /home/kimlab2/database_data/datapkg/pmc_tables/notebooks/.pmc/suppl/OA/PMC5437900-PMC5441899/PMC5439057.zip already exists.\n",
      "File /home/kimlab2/database_data/datapkg/pmc_tables/notebooks/.pmc/suppl/OA/PMC5485900-PMC5489899/PMC5488252.zip already exists.\n",
      "Could not download file /home/kimlab2/database_data/datapkg/pmc_tables/downloads/ebi/pmc/suppl/OA/PMC5445900-PMC5449899/PMC5448120.zip.\n",
      "unknown url type: '/home/kimlab2/database_data/datapkg/pmc_tables/downloads/ebi/pmc/suppl/OA/PMC5445900-PMC5449899/PMC5448120.zip'.\n",
      "Could not download file ftp://ftp.ebi.ac.uk/pub/databases/pmc/suppl/OA/PMC5445900-PMC5449899/PMC5448120.zip.\n",
      "<urlopen error ftp error: URLError(\"ftp error: error_perm('550 Failed to change directory.',)\",)>.\n",
      "Could not download file /home/kimlab2/database_data/datapkg/pmc_tables/downloads/ebi/pmc/suppl/NON-OA/PMC5445900-PMC5449899/PMC5448120.zip.\n",
      "unknown url type: '/home/kimlab2/database_data/datapkg/pmc_tables/downloads/ebi/pmc/suppl/NON-OA/PMC5445900-PMC5449899/PMC5448120.zip'.\n",
      "Could not download file ftp://ftp.ebi.ac.uk/pub/databases/pmc/suppl/NON-OA/PMC5445900-PMC5449899/PMC5448120.zip.\n",
      "<urlopen error ftp error: URLError(\"ftp error: error_perm('550 Failed to change directory.',)\",)>.\n",
      "Could not download suppl file for PMC5448120!\n",
      "File /home/kimlab2/database_data/datapkg/pmc_tables/notebooks/.pmc/suppl/OA/PMC5389900-PMC5393899/PMC5393151.zip already exists.\n",
      "File /home/kimlab2/database_data/datapkg/pmc_tables/notebooks/.pmc/suppl/OA/PMC5353900-PMC5357899/PMC5357330.zip already exists.\n",
      "Could not download file /home/kimlab2/database_data/datapkg/pmc_tables/downloads/ebi/pmc/suppl/OA/PMC5389900-PMC5393899/PMC5391465.zip.\n",
      "unknown url type: '/home/kimlab2/database_data/datapkg/pmc_tables/downloads/ebi/pmc/suppl/OA/PMC5389900-PMC5393899/PMC5391465.zip'.\n",
      "Could not download file ftp://ftp.ebi.ac.uk/pub/databases/pmc/suppl/OA/PMC5389900-PMC5393899/PMC5391465.zip.\n",
      "<urlopen error ftp error: URLError(\"ftp error: error_perm('550 Failed to change directory.',)\",)>.\n",
      "Could not download file /home/kimlab2/database_data/datapkg/pmc_tables/downloads/ebi/pmc/suppl/NON-OA/PMC5389900-PMC5393899/PMC5391465.zip.\n",
      "unknown url type: '/home/kimlab2/database_data/datapkg/pmc_tables/downloads/ebi/pmc/suppl/NON-OA/PMC5389900-PMC5393899/PMC5391465.zip'.\n",
      "Could not download file ftp://ftp.ebi.ac.uk/pub/databases/pmc/suppl/NON-OA/PMC5389900-PMC5393899/PMC5391465.zip.\n",
      "<urlopen error ftp error: URLError(\"ftp error: error_perm('550 Failed to change directory.',)\",)>.\n",
      "Could not download suppl file for PMC5391465!\n",
      "File /home/kimlab2/database_data/datapkg/pmc_tables/notebooks/.pmc/suppl/OA/PMC5485900-PMC5489899/PMC5487885.zip already exists.\n",
      "Could not download file /home/kimlab2/database_data/datapkg/pmc_tables/downloads/ebi/pmc/suppl/OA/PMC5405900-PMC5409899/PMC5407019.zip.\n",
      "unknown url type: '/home/kimlab2/database_data/datapkg/pmc_tables/downloads/ebi/pmc/suppl/OA/PMC5405900-PMC5409899/PMC5407019.zip'.\n",
      "Could not download file ftp://ftp.ebi.ac.uk/pub/databases/pmc/suppl/OA/PMC5405900-PMC5409899/PMC5407019.zip.\n",
      "<urlopen error ftp error: URLError(\"ftp error: error_perm('550 Failed to change directory.',)\",)>.\n",
      "Could not download file /home/kimlab2/database_data/datapkg/pmc_tables/downloads/ebi/pmc/suppl/NON-OA/PMC5405900-PMC5409899/PMC5407019.zip.\n",
      "unknown url type: '/home/kimlab2/database_data/datapkg/pmc_tables/downloads/ebi/pmc/suppl/NON-OA/PMC5405900-PMC5409899/PMC5407019.zip'.\n",
      "Could not download file ftp://ftp.ebi.ac.uk/pub/databases/pmc/suppl/NON-OA/PMC5405900-PMC5409899/PMC5407019.zip.\n",
      "<urlopen error ftp error: URLError(\"ftp error: error_perm('550 Failed to change directory.',)\",)>.\n",
      "Could not download suppl file for PMC5407019!\n",
      "Could not download file /home/kimlab2/database_data/datapkg/pmc_tables/downloads/ebi/pmc/suppl/OA/PMC5265900-PMC5269899/PMC5266141.zip.\n",
      "unknown url type: '/home/kimlab2/database_data/datapkg/pmc_tables/downloads/ebi/pmc/suppl/OA/PMC5265900-PMC5269899/PMC5266141.zip'.\n",
      "Could not download file ftp://ftp.ebi.ac.uk/pub/databases/pmc/suppl/OA/PMC5265900-PMC5269899/PMC5266141.zip.\n",
      "<urlopen error ftp error: URLError(\"ftp error: error_perm('550 Failed to change directory.',)\",)>.\n",
      "Could not download file /home/kimlab2/database_data/datapkg/pmc_tables/downloads/ebi/pmc/suppl/NON-OA/PMC5265900-PMC5269899/PMC5266141.zip.\n",
      "unknown url type: '/home/kimlab2/database_data/datapkg/pmc_tables/downloads/ebi/pmc/suppl/NON-OA/PMC5265900-PMC5269899/PMC5266141.zip'.\n",
      "Could not download file ftp://ftp.ebi.ac.uk/pub/databases/pmc/suppl/NON-OA/PMC5265900-PMC5269899/PMC5266141.zip.\n",
      "<urlopen error ftp error: URLError(\"ftp error: error_perm('550 Failed to change directory.',)\",)>.\n",
      "Could not download suppl file for PMC5266141!\n",
      "File /home/kimlab2/database_data/datapkg/pmc_tables/notebooks/.pmc/suppl/OA/PMC5241900-PMC5245899/PMC5244738.zip already exists.\n",
      "Could not download file /home/kimlab2/database_data/datapkg/pmc_tables/downloads/ebi/pmc/suppl/OA/PMC5325900-PMC5329899/PMC5328567.zip.\n",
      "unknown url type: '/home/kimlab2/database_data/datapkg/pmc_tables/downloads/ebi/pmc/suppl/OA/PMC5325900-PMC5329899/PMC5328567.zip'.\n",
      "Could not download file ftp://ftp.ebi.ac.uk/pub/databases/pmc/suppl/OA/PMC5325900-PMC5329899/PMC5328567.zip.\n",
      "<urlopen error ftp error: URLError(\"ftp error: error_perm('550 Failed to change directory.',)\",)>.\n",
      "Could not download file /home/kimlab2/database_data/datapkg/pmc_tables/downloads/ebi/pmc/suppl/NON-OA/PMC5325900-PMC5329899/PMC5328567.zip.\n",
      "unknown url type: '/home/kimlab2/database_data/datapkg/pmc_tables/downloads/ebi/pmc/suppl/NON-OA/PMC5325900-PMC5329899/PMC5328567.zip'.\n",
      "Could not download file ftp://ftp.ebi.ac.uk/pub/databases/pmc/suppl/NON-OA/PMC5325900-PMC5329899/PMC5328567.zip.\n",
      "<urlopen error ftp error: URLError(\"ftp error: error_perm('550 Failed to change directory.',)\",)>.\n",
      "Could not download suppl file for PMC5328567!\n",
      "Could not download file /home/kimlab2/database_data/datapkg/pmc_tables/downloads/ebi/pmc/suppl/OA/PMC5341900-PMC5345899/PMC5343340.zip.\n",
      "unknown url type: '/home/kimlab2/database_data/datapkg/pmc_tables/downloads/ebi/pmc/suppl/OA/PMC5341900-PMC5345899/PMC5343340.zip'.\n",
      "Could not download file ftp://ftp.ebi.ac.uk/pub/databases/pmc/suppl/OA/PMC5341900-PMC5345899/PMC5343340.zip.\n",
      "<urlopen error ftp error: URLError(\"ftp error: error_perm('550 Failed to change directory.',)\",)>.\n",
      "Could not download file /home/kimlab2/database_data/datapkg/pmc_tables/downloads/ebi/pmc/suppl/NON-OA/PMC5341900-PMC5345899/PMC5343340.zip.\n",
      "unknown url type: '/home/kimlab2/database_data/datapkg/pmc_tables/downloads/ebi/pmc/suppl/NON-OA/PMC5341900-PMC5345899/PMC5343340.zip'.\n",
      "Could not download file ftp://ftp.ebi.ac.uk/pub/databases/pmc/suppl/NON-OA/PMC5341900-PMC5345899/PMC5343340.zip.\n",
      "<urlopen error ftp error: URLError(\"ftp error: error_perm('550 Failed to change directory.',)\",)>.\n",
      "Could not download suppl file for PMC5343340!\n",
      "Could not download file /home/kimlab2/database_data/datapkg/pmc_tables/downloads/ebi/pmc/suppl/OA/PMC5325900-PMC5329899/PMC5328513.zip.\n",
      "unknown url type: '/home/kimlab2/database_data/datapkg/pmc_tables/downloads/ebi/pmc/suppl/OA/PMC5325900-PMC5329899/PMC5328513.zip'.\n",
      "Could not download file ftp://ftp.ebi.ac.uk/pub/databases/pmc/suppl/OA/PMC5325900-PMC5329899/PMC5328513.zip.\n",
      "<urlopen error ftp error: URLError(\"ftp error: error_perm('550 Failed to change directory.',)\",)>.\n",
      "Could not download file /home/kimlab2/database_data/datapkg/pmc_tables/downloads/ebi/pmc/suppl/NON-OA/PMC5325900-PMC5329899/PMC5328513.zip.\n",
      "unknown url type: '/home/kimlab2/database_data/datapkg/pmc_tables/downloads/ebi/pmc/suppl/NON-OA/PMC5325900-PMC5329899/PMC5328513.zip'.\n",
      "Could not download file ftp://ftp.ebi.ac.uk/pub/databases/pmc/suppl/NON-OA/PMC5325900-PMC5329899/PMC5328513.zip.\n",
      "<urlopen error ftp error: URLError(\"ftp error: error_perm('550 Failed to change directory.',)\",)>.\n",
      "Could not download suppl file for PMC5328513!\n"
     ]
    },
    {
     "name": "stderr",
     "output_type": "stream",
     "text": [
      "Could not download file /home/kimlab2/database_data/datapkg/pmc_tables/downloads/ebi/pmc/suppl/OA/PMC5325900-PMC5329899/PMC5326559.zip.\n",
      "unknown url type: '/home/kimlab2/database_data/datapkg/pmc_tables/downloads/ebi/pmc/suppl/OA/PMC5325900-PMC5329899/PMC5326559.zip'.\n",
      "Could not download file ftp://ftp.ebi.ac.uk/pub/databases/pmc/suppl/OA/PMC5325900-PMC5329899/PMC5326559.zip.\n",
      "<urlopen error ftp error: URLError(\"ftp error: error_perm('550 Failed to change directory.',)\",)>.\n",
      "Could not download file /home/kimlab2/database_data/datapkg/pmc_tables/downloads/ebi/pmc/suppl/NON-OA/PMC5325900-PMC5329899/PMC5326559.zip.\n",
      "unknown url type: '/home/kimlab2/database_data/datapkg/pmc_tables/downloads/ebi/pmc/suppl/NON-OA/PMC5325900-PMC5329899/PMC5326559.zip'.\n",
      "Could not download file ftp://ftp.ebi.ac.uk/pub/databases/pmc/suppl/NON-OA/PMC5325900-PMC5329899/PMC5326559.zip.\n",
      "<urlopen error ftp error: URLError(\"ftp error: error_perm('550 Failed to change directory.',)\",)>.\n",
      "Could not download suppl file for PMC5326559!\n",
      "Could not download file /home/kimlab2/database_data/datapkg/pmc_tables/downloads/ebi/pmc/suppl/OA/PMC5309900-PMC5313899/PMC5313113.zip.\n",
      "unknown url type: '/home/kimlab2/database_data/datapkg/pmc_tables/downloads/ebi/pmc/suppl/OA/PMC5309900-PMC5313899/PMC5313113.zip'.\n",
      "Could not download file ftp://ftp.ebi.ac.uk/pub/databases/pmc/suppl/OA/PMC5309900-PMC5313899/PMC5313113.zip.\n",
      "<urlopen error ftp error: URLError(\"ftp error: error_perm('550 Failed to change directory.',)\",)>.\n",
      "Could not download file /home/kimlab2/database_data/datapkg/pmc_tables/downloads/ebi/pmc/suppl/NON-OA/PMC5309900-PMC5313899/PMC5313113.zip.\n",
      "unknown url type: '/home/kimlab2/database_data/datapkg/pmc_tables/downloads/ebi/pmc/suppl/NON-OA/PMC5309900-PMC5313899/PMC5313113.zip'.\n",
      "Could not download file ftp://ftp.ebi.ac.uk/pub/databases/pmc/suppl/NON-OA/PMC5309900-PMC5313899/PMC5313113.zip.\n",
      "<urlopen error ftp error: URLError(\"ftp error: error_perm('550 Failed to change directory.',)\",)>.\n",
      "Could not download suppl file for PMC5313113!\n",
      "File /home/kimlab2/database_data/datapkg/pmc_tables/notebooks/.pmc/suppl/OA/PMC5177900-PMC5181899/PMC5180369.zip already exists.\n",
      "Could not download file /home/kimlab2/database_data/datapkg/pmc_tables/downloads/ebi/pmc/suppl/OA/PMC5289900-PMC5293899/PMC5290958.zip.\n",
      "unknown url type: '/home/kimlab2/database_data/datapkg/pmc_tables/downloads/ebi/pmc/suppl/OA/PMC5289900-PMC5293899/PMC5290958.zip'.\n",
      "Could not download file ftp://ftp.ebi.ac.uk/pub/databases/pmc/suppl/OA/PMC5289900-PMC5293899/PMC5290958.zip.\n",
      "<urlopen error ftp error: URLError(\"ftp error: error_perm('550 Failed to change directory.',)\",)>.\n",
      "Could not download file /home/kimlab2/database_data/datapkg/pmc_tables/downloads/ebi/pmc/suppl/NON-OA/PMC5289900-PMC5293899/PMC5290958.zip.\n",
      "unknown url type: '/home/kimlab2/database_data/datapkg/pmc_tables/downloads/ebi/pmc/suppl/NON-OA/PMC5289900-PMC5293899/PMC5290958.zip'.\n",
      "Could not download file ftp://ftp.ebi.ac.uk/pub/databases/pmc/suppl/NON-OA/PMC5289900-PMC5293899/PMC5290958.zip.\n",
      "<urlopen error ftp error: URLError(\"ftp error: error_perm('550 Failed to change directory.',)\",)>.\n",
      "Could not download suppl file for PMC5290958!\n",
      "Could not download file /home/kimlab2/database_data/datapkg/pmc_tables/downloads/ebi/pmc/suppl/OA/PMC5153900-PMC5157899/PMC5154626.zip.\n",
      "unknown url type: '/home/kimlab2/database_data/datapkg/pmc_tables/downloads/ebi/pmc/suppl/OA/PMC5153900-PMC5157899/PMC5154626.zip'.\n",
      "Could not download file ftp://ftp.ebi.ac.uk/pub/databases/pmc/suppl/OA/PMC5153900-PMC5157899/PMC5154626.zip.\n",
      "<urlopen error ftp error: URLError(\"ftp error: error_perm('550 Failed to change directory.',)\",)>.\n",
      "Could not download file /home/kimlab2/database_data/datapkg/pmc_tables/downloads/ebi/pmc/suppl/NON-OA/PMC5153900-PMC5157899/PMC5154626.zip.\n",
      "unknown url type: '/home/kimlab2/database_data/datapkg/pmc_tables/downloads/ebi/pmc/suppl/NON-OA/PMC5153900-PMC5157899/PMC5154626.zip'.\n",
      "Could not download file ftp://ftp.ebi.ac.uk/pub/databases/pmc/suppl/NON-OA/PMC5153900-PMC5157899/PMC5154626.zip.\n",
      "<urlopen error ftp error: URLError(\"ftp error: error_perm('550 Failed to change directory.',)\",)>.\n",
      "Could not download suppl file for PMC5154626!\n",
      "Could not download file /home/kimlab2/database_data/datapkg/pmc_tables/downloads/ebi/pmc/suppl/OA/PMC5157900-PMC5161899/PMC5161102.zip.\n",
      "unknown url type: '/home/kimlab2/database_data/datapkg/pmc_tables/downloads/ebi/pmc/suppl/OA/PMC5157900-PMC5161899/PMC5161102.zip'.\n",
      "Could not download file ftp://ftp.ebi.ac.uk/pub/databases/pmc/suppl/OA/PMC5157900-PMC5161899/PMC5161102.zip.\n",
      "<urlopen error ftp error: URLError(\"ftp error: error_perm('550 Failed to change directory.',)\",)>.\n",
      "Could not download file /home/kimlab2/database_data/datapkg/pmc_tables/downloads/ebi/pmc/suppl/NON-OA/PMC5157900-PMC5161899/PMC5161102.zip.\n",
      "unknown url type: '/home/kimlab2/database_data/datapkg/pmc_tables/downloads/ebi/pmc/suppl/NON-OA/PMC5157900-PMC5161899/PMC5161102.zip'.\n",
      "Could not download file ftp://ftp.ebi.ac.uk/pub/databases/pmc/suppl/NON-OA/PMC5157900-PMC5161899/PMC5161102.zip.\n",
      "<urlopen error ftp error: URLError(\"ftp error: error_perm('550 Failed to change directory.',)\",)>.\n",
      "Could not download suppl file for PMC5161102!\n",
      "File /home/kimlab2/database_data/datapkg/pmc_tables/notebooks/.pmc/suppl/OA/PMC5409900-PMC5413899/PMC5411300.zip already exists.\n",
      "File /home/kimlab2/database_data/datapkg/pmc_tables/notebooks/.pmc/suppl/OA/PMC5209900-PMC5213899/PMC5210569.zip already exists.\n",
      "File /home/kimlab2/database_data/datapkg/pmc_tables/notebooks/.pmc/suppl/OA/PMC5385900-PMC5389899/PMC5389508.zip already exists.\n",
      "File /home/kimlab2/database_data/datapkg/pmc_tables/notebooks/.pmc/suppl/OA/PMC5097900-PMC5101899/PMC5098047.zip already exists.\n",
      "File /home/kimlab2/database_data/datapkg/pmc_tables/notebooks/.pmc/suppl/OA/PMC5077900-PMC5081899/PMC5078591.zip already exists.\n",
      "Could not download file /home/kimlab2/database_data/datapkg/pmc_tables/downloads/ebi/pmc/suppl/OA/PMC5069900-PMC5073899/PMC5071553.zip.\n",
      "unknown url type: '/home/kimlab2/database_data/datapkg/pmc_tables/downloads/ebi/pmc/suppl/OA/PMC5069900-PMC5073899/PMC5071553.zip'.\n",
      "Could not download file ftp://ftp.ebi.ac.uk/pub/databases/pmc/suppl/OA/PMC5069900-PMC5073899/PMC5071553.zip.\n",
      "<urlopen error ftp error: URLError(\"ftp error: error_perm('550 Failed to change directory.',)\",)>.\n",
      "Could not download file /home/kimlab2/database_data/datapkg/pmc_tables/downloads/ebi/pmc/suppl/NON-OA/PMC5069900-PMC5073899/PMC5071553.zip.\n",
      "unknown url type: '/home/kimlab2/database_data/datapkg/pmc_tables/downloads/ebi/pmc/suppl/NON-OA/PMC5069900-PMC5073899/PMC5071553.zip'.\n",
      "Could not download file ftp://ftp.ebi.ac.uk/pub/databases/pmc/suppl/NON-OA/PMC5069900-PMC5073899/PMC5071553.zip.\n",
      "<urlopen error ftp error: URLError(\"ftp error: error_perm('550 Failed to change directory.',)\",)>.\n",
      "Could not download suppl file for PMC5071553!\n",
      "Could not download file /home/kimlab2/database_data/datapkg/pmc_tables/downloads/ebi/pmc/suppl/OA/PMC5157900-PMC5161899/PMC5159764.zip.\n",
      "unknown url type: '/home/kimlab2/database_data/datapkg/pmc_tables/downloads/ebi/pmc/suppl/OA/PMC5157900-PMC5161899/PMC5159764.zip'.\n",
      "Could not download file ftp://ftp.ebi.ac.uk/pub/databases/pmc/suppl/OA/PMC5157900-PMC5161899/PMC5159764.zip.\n",
      "<urlopen error ftp error: URLError(\"ftp error: error_perm('550 Failed to change directory.',)\",)>.\n",
      "Could not download file /home/kimlab2/database_data/datapkg/pmc_tables/downloads/ebi/pmc/suppl/NON-OA/PMC5157900-PMC5161899/PMC5159764.zip.\n",
      "unknown url type: '/home/kimlab2/database_data/datapkg/pmc_tables/downloads/ebi/pmc/suppl/NON-OA/PMC5157900-PMC5161899/PMC5159764.zip'.\n",
      "Could not download file ftp://ftp.ebi.ac.uk/pub/databases/pmc/suppl/NON-OA/PMC5157900-PMC5161899/PMC5159764.zip.\n",
      "<urlopen error ftp error: error_perm('550 Failed to change directory.',)>.\n",
      "Could not download suppl file for PMC5159764!\n",
      "File /home/kimlab2/database_data/datapkg/pmc_tables/notebooks/.pmc/suppl/OA/PMC5173900-PMC5177899/PMC5175367.zip already exists.\n",
      "Could not download file /home/kimlab2/database_data/datapkg/pmc_tables/downloads/ebi/pmc/suppl/OA/PMC5125900-PMC5129899/PMC5126365.zip.\n",
      "unknown url type: '/home/kimlab2/database_data/datapkg/pmc_tables/downloads/ebi/pmc/suppl/OA/PMC5125900-PMC5129899/PMC5126365.zip'.\n"
     ]
    },
    {
     "name": "stderr",
     "output_type": "stream",
     "text": [
      "Could not download file ftp://ftp.ebi.ac.uk/pub/databases/pmc/suppl/OA/PMC5125900-PMC5129899/PMC5126365.zip.\n",
      "<urlopen error ftp error: URLError(\"ftp error: error_perm('550 Failed to change directory.',)\",)>.\n",
      "Could not download file /home/kimlab2/database_data/datapkg/pmc_tables/downloads/ebi/pmc/suppl/NON-OA/PMC5125900-PMC5129899/PMC5126365.zip.\n",
      "unknown url type: '/home/kimlab2/database_data/datapkg/pmc_tables/downloads/ebi/pmc/suppl/NON-OA/PMC5125900-PMC5129899/PMC5126365.zip'.\n",
      "Could not download file ftp://ftp.ebi.ac.uk/pub/databases/pmc/suppl/NON-OA/PMC5125900-PMC5129899/PMC5126365.zip.\n",
      "<urlopen error ftp error: URLError(\"ftp error: error_perm('550 Failed to change directory.',)\",)>.\n",
      "Could not download suppl file for PMC5126365!\n"
     ]
    },
    {
     "ename": "ValueError",
     "evalue": "invalid literal for int() with base 10: 'print'",
     "output_type": "error",
     "traceback": [
      "\u001b[0;31m---------------------------------------------------------------------------\u001b[0m",
      "\u001b[0;31mValueError\u001b[0m                                Traceback (most recent call last)",
      "\u001b[0;32m<ipython-input-136-2385805f32fb>\u001b[0m in \u001b[0;36m<module>\u001b[0;34m()\u001b[0m\n\u001b[1;32m      1\u001b[0m \u001b[0;32mfor\u001b[0m \u001b[0mpmc_id\u001b[0m \u001b[0;32min\u001b[0m \u001b[0mdf_pmc\u001b[0m\u001b[0;34m[\u001b[0m\u001b[0;34m'pmc'\u001b[0m\u001b[0;34m]\u001b[0m\u001b[0;34m.\u001b[0m\u001b[0mvalues\u001b[0m\u001b[0;34m:\u001b[0m\u001b[0;34m\u001b[0m\u001b[0m\n\u001b[0;32m----> 2\u001b[0;31m     \u001b[0mdownloader\u001b[0m\u001b[0;34m.\u001b[0m\u001b[0mdownload_ebi_suppl\u001b[0m\u001b[0;34m(\u001b[0m\u001b[0mpmc_id\u001b[0m\u001b[0;34m)\u001b[0m\u001b[0;34m\u001b[0m\u001b[0m\n\u001b[0m",
      "\u001b[0;32m~/working/pmc_tables/pmc_tables/download.py\u001b[0m in \u001b[0;36mdownload_ebi_suppl\u001b[0;34m(self, pmc_id)\u001b[0m\n\u001b[1;32m     59\u001b[0m         \u001b[0;32mfor\u001b[0m \u001b[0msubset\u001b[0m \u001b[0;32min\u001b[0m \u001b[0;34m[\u001b[0m\u001b[0;34m'OA'\u001b[0m\u001b[0;34m,\u001b[0m \u001b[0;34m'NON-OA'\u001b[0m\u001b[0;34m]\u001b[0m\u001b[0;34m:\u001b[0m\u001b[0;34m\u001b[0m\u001b[0m\n\u001b[1;32m     60\u001b[0m             containing_folder = get_containing_folder(pmc_id, self.oa_folders\n\u001b[0;32m---> 61\u001b[0;31m                                                       if subset == 'OA' else self.non_oa_folders)\n\u001b[0m\u001b[1;32m     62\u001b[0m \u001b[0;34m\u001b[0m\u001b[0m\n\u001b[1;32m     63\u001b[0m             \u001b[0moutput\u001b[0m \u001b[0;34m=\u001b[0m \u001b[0mop\u001b[0m\u001b[0;34m.\u001b[0m\u001b[0mjoin\u001b[0m\u001b[0;34m(\u001b[0m\u001b[0mself\u001b[0m\u001b[0;34m.\u001b[0m\u001b[0marchive_dir\u001b[0m\u001b[0;34m,\u001b[0m \u001b[0;34m'suppl'\u001b[0m\u001b[0;34m,\u001b[0m \u001b[0msubset\u001b[0m\u001b[0;34m,\u001b[0m \u001b[0mcontaining_folder\u001b[0m\u001b[0;34m,\u001b[0m \u001b[0;34mf\"{pmc_id}.zip\"\u001b[0m\u001b[0;34m)\u001b[0m\u001b[0;34m\u001b[0m\u001b[0m\n",
      "\u001b[0;32m~/working/pmc_tables/pmc_tables/download.py\u001b[0m in \u001b[0;36mget_containing_folder\u001b[0;34m(pmc_id, folders)\u001b[0m\n\u001b[1;32m     36\u001b[0m     \u001b[0;32mfor\u001b[0m \u001b[0mfolder\u001b[0m \u001b[0;32min\u001b[0m \u001b[0mfolders\u001b[0m\u001b[0;34m:\u001b[0m\u001b[0;34m\u001b[0m\u001b[0m\n\u001b[1;32m     37\u001b[0m         \u001b[0midx\u001b[0m \u001b[0;34m=\u001b[0m \u001b[0mint\u001b[0m\u001b[0;34m(\u001b[0m\u001b[0mpmc_id\u001b[0m\u001b[0;34m[\u001b[0m\u001b[0;36m3\u001b[0m\u001b[0;34m:\u001b[0m\u001b[0;34m]\u001b[0m\u001b[0;34m)\u001b[0m\u001b[0;34m\u001b[0m\u001b[0m\n\u001b[0;32m---> 38\u001b[0;31m         \u001b[0mstart\u001b[0m\u001b[0;34m,\u001b[0m \u001b[0mend\u001b[0m \u001b[0;34m=\u001b[0m \u001b[0;34m(\u001b[0m\u001b[0mint\u001b[0m\u001b[0;34m(\u001b[0m\u001b[0mf\u001b[0m\u001b[0;34m[\u001b[0m\u001b[0;36m3\u001b[0m\u001b[0;34m:\u001b[0m\u001b[0;34m]\u001b[0m\u001b[0;34m)\u001b[0m \u001b[0;32mfor\u001b[0m \u001b[0mf\u001b[0m \u001b[0;32min\u001b[0m \u001b[0mfolder\u001b[0m\u001b[0;34m.\u001b[0m\u001b[0msplit\u001b[0m\u001b[0;34m(\u001b[0m\u001b[0;34m'-'\u001b[0m\u001b[0;34m)\u001b[0m\u001b[0;34m)\u001b[0m\u001b[0;34m\u001b[0m\u001b[0m\n\u001b[0m\u001b[1;32m     39\u001b[0m         \u001b[0;32mif\u001b[0m \u001b[0mstart\u001b[0m \u001b[0;34m<=\u001b[0m \u001b[0midx\u001b[0m \u001b[0;34m<=\u001b[0m \u001b[0mend\u001b[0m\u001b[0;34m:\u001b[0m\u001b[0;34m\u001b[0m\u001b[0m\n\u001b[1;32m     40\u001b[0m             \u001b[0;32mreturn\u001b[0m \u001b[0mfolder\u001b[0m\u001b[0;34m\u001b[0m\u001b[0m\n",
      "\u001b[0;32m~/working/pmc_tables/pmc_tables/download.py\u001b[0m in \u001b[0;36m<genexpr>\u001b[0;34m(.0)\u001b[0m\n\u001b[1;32m     36\u001b[0m     \u001b[0;32mfor\u001b[0m \u001b[0mfolder\u001b[0m \u001b[0;32min\u001b[0m \u001b[0mfolders\u001b[0m\u001b[0;34m:\u001b[0m\u001b[0;34m\u001b[0m\u001b[0m\n\u001b[1;32m     37\u001b[0m         \u001b[0midx\u001b[0m \u001b[0;34m=\u001b[0m \u001b[0mint\u001b[0m\u001b[0;34m(\u001b[0m\u001b[0mpmc_id\u001b[0m\u001b[0;34m[\u001b[0m\u001b[0;36m3\u001b[0m\u001b[0;34m:\u001b[0m\u001b[0;34m]\u001b[0m\u001b[0;34m)\u001b[0m\u001b[0;34m\u001b[0m\u001b[0m\n\u001b[0;32m---> 38\u001b[0;31m         \u001b[0mstart\u001b[0m\u001b[0;34m,\u001b[0m \u001b[0mend\u001b[0m \u001b[0;34m=\u001b[0m \u001b[0;34m(\u001b[0m\u001b[0mint\u001b[0m\u001b[0;34m(\u001b[0m\u001b[0mf\u001b[0m\u001b[0;34m[\u001b[0m\u001b[0;36m3\u001b[0m\u001b[0;34m:\u001b[0m\u001b[0;34m]\u001b[0m\u001b[0;34m)\u001b[0m \u001b[0;32mfor\u001b[0m \u001b[0mf\u001b[0m \u001b[0;32min\u001b[0m \u001b[0mfolder\u001b[0m\u001b[0;34m.\u001b[0m\u001b[0msplit\u001b[0m\u001b[0;34m(\u001b[0m\u001b[0;34m'-'\u001b[0m\u001b[0;34m)\u001b[0m\u001b[0;34m)\u001b[0m\u001b[0;34m\u001b[0m\u001b[0m\n\u001b[0m\u001b[1;32m     39\u001b[0m         \u001b[0;32mif\u001b[0m \u001b[0mstart\u001b[0m \u001b[0;34m<=\u001b[0m \u001b[0midx\u001b[0m \u001b[0;34m<=\u001b[0m \u001b[0mend\u001b[0m\u001b[0;34m:\u001b[0m\u001b[0;34m\u001b[0m\u001b[0m\n\u001b[1;32m     40\u001b[0m             \u001b[0;32mreturn\u001b[0m \u001b[0mfolder\u001b[0m\u001b[0;34m\u001b[0m\u001b[0m\n",
      "\u001b[0;31mValueError\u001b[0m: invalid literal for int() with base 10: 'print'"
     ]
    }
   ],
   "source": [
    "for pmc_id in df_pmc['pmc'].values:\n",
    "    downloader.download_ebi_suppl(pmc_id)"
   ]
  },
  {
   "cell_type": "code",
   "execution_count": 76,
   "metadata": {},
   "outputs": [
    {
     "ename": "Exception",
     "evalue": "Could not download suppl file for PMC5448120!",
     "output_type": "error",
     "traceback": [
      "\u001b[0;31m---------------------------------------------------------------------------\u001b[0m",
      "\u001b[0;31mException\u001b[0m                                 Traceback (most recent call last)",
      "\u001b[0;32m<ipython-input-76-c73ec0d2e634>\u001b[0m in \u001b[0;36m<module>\u001b[0;34m()\u001b[0m\n\u001b[0;32m----> 1\u001b[0;31m \u001b[0mresults\u001b[0m \u001b[0;34m=\u001b[0m \u001b[0mlist\u001b[0m\u001b[0;34m(\u001b[0m\u001b[0mfutures\u001b[0m\u001b[0;34m)\u001b[0m\u001b[0;34m\u001b[0m\u001b[0m\n\u001b[0m",
      "\u001b[0;32m~/anaconda3/lib/python3.6/concurrent/futures/_base.py\u001b[0m in \u001b[0;36mresult_iterator\u001b[0;34m()\u001b[0m\n\u001b[1;32m    584\u001b[0m                     \u001b[0;31m# Careful not to keep a reference to the popped future\u001b[0m\u001b[0;34m\u001b[0m\u001b[0;34m\u001b[0m\u001b[0m\n\u001b[1;32m    585\u001b[0m                     \u001b[0;32mif\u001b[0m \u001b[0mtimeout\u001b[0m \u001b[0;32mis\u001b[0m \u001b[0;32mNone\u001b[0m\u001b[0;34m:\u001b[0m\u001b[0;34m\u001b[0m\u001b[0m\n\u001b[0;32m--> 586\u001b[0;31m                         \u001b[0;32myield\u001b[0m \u001b[0mfs\u001b[0m\u001b[0;34m.\u001b[0m\u001b[0mpop\u001b[0m\u001b[0;34m(\u001b[0m\u001b[0;34m)\u001b[0m\u001b[0;34m.\u001b[0m\u001b[0mresult\u001b[0m\u001b[0;34m(\u001b[0m\u001b[0;34m)\u001b[0m\u001b[0;34m\u001b[0m\u001b[0m\n\u001b[0m\u001b[1;32m    587\u001b[0m                     \u001b[0;32melse\u001b[0m\u001b[0;34m:\u001b[0m\u001b[0;34m\u001b[0m\u001b[0m\n\u001b[1;32m    588\u001b[0m                         \u001b[0;32myield\u001b[0m \u001b[0mfs\u001b[0m\u001b[0;34m.\u001b[0m\u001b[0mpop\u001b[0m\u001b[0;34m(\u001b[0m\u001b[0;34m)\u001b[0m\u001b[0;34m.\u001b[0m\u001b[0mresult\u001b[0m\u001b[0;34m(\u001b[0m\u001b[0mend_time\u001b[0m \u001b[0;34m-\u001b[0m \u001b[0mtime\u001b[0m\u001b[0;34m.\u001b[0m\u001b[0mtime\u001b[0m\u001b[0;34m(\u001b[0m\u001b[0;34m)\u001b[0m\u001b[0;34m)\u001b[0m\u001b[0;34m\u001b[0m\u001b[0m\n",
      "\u001b[0;32m~/anaconda3/lib/python3.6/concurrent/futures/_base.py\u001b[0m in \u001b[0;36mresult\u001b[0;34m(self, timeout)\u001b[0m\n\u001b[1;32m    423\u001b[0m                 \u001b[0;32mraise\u001b[0m \u001b[0mCancelledError\u001b[0m\u001b[0;34m(\u001b[0m\u001b[0;34m)\u001b[0m\u001b[0;34m\u001b[0m\u001b[0m\n\u001b[1;32m    424\u001b[0m             \u001b[0;32melif\u001b[0m \u001b[0mself\u001b[0m\u001b[0;34m.\u001b[0m\u001b[0m_state\u001b[0m \u001b[0;34m==\u001b[0m \u001b[0mFINISHED\u001b[0m\u001b[0;34m:\u001b[0m\u001b[0;34m\u001b[0m\u001b[0m\n\u001b[0;32m--> 425\u001b[0;31m                 \u001b[0;32mreturn\u001b[0m \u001b[0mself\u001b[0m\u001b[0;34m.\u001b[0m\u001b[0m__get_result\u001b[0m\u001b[0;34m(\u001b[0m\u001b[0;34m)\u001b[0m\u001b[0;34m\u001b[0m\u001b[0m\n\u001b[0m\u001b[1;32m    426\u001b[0m \u001b[0;34m\u001b[0m\u001b[0m\n\u001b[1;32m    427\u001b[0m             \u001b[0mself\u001b[0m\u001b[0;34m.\u001b[0m\u001b[0m_condition\u001b[0m\u001b[0;34m.\u001b[0m\u001b[0mwait\u001b[0m\u001b[0;34m(\u001b[0m\u001b[0mtimeout\u001b[0m\u001b[0;34m)\u001b[0m\u001b[0;34m\u001b[0m\u001b[0m\n",
      "\u001b[0;32m~/anaconda3/lib/python3.6/concurrent/futures/_base.py\u001b[0m in \u001b[0;36m__get_result\u001b[0;34m(self)\u001b[0m\n\u001b[1;32m    382\u001b[0m     \u001b[0;32mdef\u001b[0m \u001b[0m__get_result\u001b[0m\u001b[0;34m(\u001b[0m\u001b[0mself\u001b[0m\u001b[0;34m)\u001b[0m\u001b[0;34m:\u001b[0m\u001b[0;34m\u001b[0m\u001b[0m\n\u001b[1;32m    383\u001b[0m         \u001b[0;32mif\u001b[0m \u001b[0mself\u001b[0m\u001b[0;34m.\u001b[0m\u001b[0m_exception\u001b[0m\u001b[0;34m:\u001b[0m\u001b[0;34m\u001b[0m\u001b[0m\n\u001b[0;32m--> 384\u001b[0;31m             \u001b[0;32mraise\u001b[0m \u001b[0mself\u001b[0m\u001b[0;34m.\u001b[0m\u001b[0m_exception\u001b[0m\u001b[0;34m\u001b[0m\u001b[0m\n\u001b[0m\u001b[1;32m    385\u001b[0m         \u001b[0;32melse\u001b[0m\u001b[0;34m:\u001b[0m\u001b[0;34m\u001b[0m\u001b[0m\n\u001b[1;32m    386\u001b[0m             \u001b[0;32mreturn\u001b[0m \u001b[0mself\u001b[0m\u001b[0;34m.\u001b[0m\u001b[0m_result\u001b[0m\u001b[0;34m\u001b[0m\u001b[0m\n",
      "\u001b[0;32m~/anaconda3/lib/python3.6/concurrent/futures/thread.py\u001b[0m in \u001b[0;36mrun\u001b[0;34m(self)\u001b[0m\n\u001b[1;32m     54\u001b[0m \u001b[0;34m\u001b[0m\u001b[0m\n\u001b[1;32m     55\u001b[0m         \u001b[0;32mtry\u001b[0m\u001b[0;34m:\u001b[0m\u001b[0;34m\u001b[0m\u001b[0m\n\u001b[0;32m---> 56\u001b[0;31m             \u001b[0mresult\u001b[0m \u001b[0;34m=\u001b[0m \u001b[0mself\u001b[0m\u001b[0;34m.\u001b[0m\u001b[0mfn\u001b[0m\u001b[0;34m(\u001b[0m\u001b[0;34m*\u001b[0m\u001b[0mself\u001b[0m\u001b[0;34m.\u001b[0m\u001b[0margs\u001b[0m\u001b[0;34m,\u001b[0m \u001b[0;34m**\u001b[0m\u001b[0mself\u001b[0m\u001b[0;34m.\u001b[0m\u001b[0mkwargs\u001b[0m\u001b[0;34m)\u001b[0m\u001b[0;34m\u001b[0m\u001b[0m\n\u001b[0m\u001b[1;32m     57\u001b[0m         \u001b[0;32mexcept\u001b[0m \u001b[0mBaseException\u001b[0m \u001b[0;32mas\u001b[0m \u001b[0mexc\u001b[0m\u001b[0;34m:\u001b[0m\u001b[0;34m\u001b[0m\u001b[0m\n\u001b[1;32m     58\u001b[0m             \u001b[0mself\u001b[0m\u001b[0;34m.\u001b[0m\u001b[0mfuture\u001b[0m\u001b[0;34m.\u001b[0m\u001b[0mset_exception\u001b[0m\u001b[0;34m(\u001b[0m\u001b[0mexc\u001b[0m\u001b[0;34m)\u001b[0m\u001b[0;34m\u001b[0m\u001b[0m\n",
      "\u001b[0;32m~/working/pmc_tables/pmc_tables/download.py\u001b[0m in \u001b[0;36mdownload_ebi_suppl\u001b[0;34m(self, pmc_id)\u001b[0m\n\u001b[1;32m     76\u001b[0m                 \u001b[0;32mreturn\u001b[0m \u001b[0mfilename\u001b[0m\u001b[0;34m\u001b[0m\u001b[0m\n\u001b[1;32m     77\u001b[0m \u001b[0;34m\u001b[0m\u001b[0m\n\u001b[0;32m---> 78\u001b[0;31m         \u001b[0;32mraise\u001b[0m \u001b[0mException\u001b[0m\u001b[0;34m(\u001b[0m\u001b[0;34mf\"Could not download suppl file for {pmc_id}!\"\u001b[0m\u001b[0;34m)\u001b[0m\u001b[0;34m\u001b[0m\u001b[0m\n\u001b[0m",
      "\u001b[0;31mException\u001b[0m: Could not download suppl file for PMC5448120!"
     ]
    }
   ],
   "source": [
    "results = list(futures)"
   ]
  },
  {
   "cell_type": "code",
   "execution_count": 77,
   "metadata": {},
   "outputs": [
    {
     "data": {
      "text/plain": [
       "<generator object Executor.map.<locals>.result_iterator at 0x7f96083bc6d0>"
      ]
     },
     "execution_count": 77,
     "metadata": {},
     "output_type": "execute_result"
    }
   ],
   "source": []
  },
  {
   "cell_type": "code",
   "execution_count": null,
   "metadata": {
    "collapsed": true
   },
   "outputs": [],
   "source": []
  },
  {
   "cell_type": "code",
   "execution_count": null,
   "metadata": {
    "collapsed": true
   },
   "outputs": [],
   "source": []
  },
  {
   "cell_type": "code",
   "execution_count": 47,
   "metadata": {},
   "outputs": [
    {
     "data": {
      "text/plain": [
       "1208"
      ]
     },
     "execution_count": 47,
     "metadata": {},
     "output_type": "execute_result"
    }
   ],
   "source": [
    "len(oa_folders)"
   ]
  },
  {
   "cell_type": "code",
   "execution_count": 48,
   "metadata": {},
   "outputs": [
    {
     "data": {
      "text/plain": [
       "1273"
      ]
     },
     "execution_count": 48,
     "metadata": {},
     "output_type": "execute_result"
    }
   ],
   "source": [
    "len(non_oa_folders)"
   ]
  },
  {
   "cell_type": "code",
   "execution_count": null,
   "metadata": {
    "collapsed": true
   },
   "outputs": [],
   "source": []
  },
  {
   "cell_type": "code",
   "execution_count": null,
   "metadata": {
    "collapsed": true
   },
   "outputs": [],
   "source": []
  },
  {
   "cell_type": "code",
   "execution_count": 26,
   "metadata": {},
   "outputs": [
    {
     "data": {
      "text/html": [
       "<div>\n",
       "<style>\n",
       "    .dataframe thead tr:only-child th {\n",
       "        text-align: right;\n",
       "    }\n",
       "\n",
       "    .dataframe thead th {\n",
       "        text-align: left;\n",
       "    }\n",
       "\n",
       "    .dataframe tbody tr th {\n",
       "        vertical-align: top;\n",
       "    }\n",
       "</style>\n",
       "<table border=\"1\" class=\"dataframe\">\n",
       "  <thead>\n",
       "    <tr style=\"text-align: right;\">\n",
       "      <th></th>\n",
       "      <th>pmid</th>\n",
       "      <th>title</th>\n",
       "      <th>authors</th>\n",
       "      <th>journal</th>\n",
       "      <th>year_published</th>\n",
       "      <th>abstract</th>\n",
       "      <th>mesh_terms</th>\n",
       "      <th>doi</th>\n",
       "      <th>pmc</th>\n",
       "    </tr>\n",
       "  </thead>\n",
       "  <tbody>\n",
       "    <tr>\n",
       "      <th>0</th>\n",
       "      <td>28846085</td>\n",
       "      <td>A two-amino-acid substitution in the transcription factor RORγt disrupts its function in TH17 differentiation but no...</td>\n",
       "      <td>[He, Ma, Wang, Zhang, Huang, Wang, Sen, Rothenberg, Sun]</td>\n",
       "      <td>Nat Immunol</td>\n",
       "      <td>2017.0</td>\n",
       "      <td>The transcription factor RORγt regulates differentiation of the TH17 subset of helper T cells, thymic T cell develop...</td>\n",
       "      <td>[Amino Acid Substitution, Animals, Biomarkers, Cell Differentiation, Cluster Analysis, Encephalomyelitis, Autoimmune...</td>\n",
       "      <td>10.1038/ni.3832</td>\n",
       "      <td>None</td>\n",
       "    </tr>\n",
       "    <tr>\n",
       "      <th>1</th>\n",
       "      <td>28738245</td>\n",
       "      <td>Two-amino acids change in the nsp4 of SARS coronavirus abolishes viral replication.</td>\n",
       "      <td>[Sakai, Kawachi, Terada, Omori, Matsuura, Kamitani]</td>\n",
       "      <td>Virology</td>\n",
       "      <td>2017.0</td>\n",
       "      <td>Infection with coronavirus rearranges the host cell membrane to assemble a replication/transcription complex in whic...</td>\n",
       "      <td>[Amino Acid Substitution, DNA Mutational Analysis, Protein Interaction Mapping, SARS Virus, Viral Nonstructural Prot...</td>\n",
       "      <td>10.1016/j.virol.2017.07.019</td>\n",
       "      <td>None</td>\n",
       "    </tr>\n",
       "  </tbody>\n",
       "</table>\n",
       "</div>"
      ],
      "text/plain": [
       "       pmid                                                                                                                    title                                                   authors      journal  year_published                                                                                                                 abstract                                                                                                               mesh_terms                          doi   pmc\n",
       "0  28846085  A two-amino-acid substitution in the transcription factor RORγt disrupts its function in TH17 differentiation but no...  [He, Ma, Wang, Zhang, Huang, Wang, Sen, Rothenberg, Sun]  Nat Immunol          2017.0  The transcription factor RORγt regulates differentiation of the TH17 subset of helper T cells, thymic T cell develop...  [Amino Acid Substitution, Animals, Biomarkers, Cell Differentiation, Cluster Analysis, Encephalomyelitis, Autoimmune...              10.1038/ni.3832  None\n",
       "1  28738245                                      Two-amino acids change in the nsp4 of SARS coronavirus abolishes viral replication.       [Sakai, Kawachi, Terada, Omori, Matsuura, Kamitani]     Virology          2017.0  Infection with coronavirus rearranges the host cell membrane to assemble a replication/transcription complex in whic...  [Amino Acid Substitution, DNA Mutational Analysis, Protein Interaction Mapping, SARS Virus, Viral Nonstructural Prot...  10.1016/j.virol.2017.07.019  None"
      ]
     },
     "execution_count": 26,
     "metadata": {},
     "output_type": "execute_result"
    }
   ],
   "source": [
    "df.head(2)"
   ]
  },
  {
   "cell_type": "code",
   "execution_count": 27,
   "metadata": {},
   "outputs": [
    {
     "data": {
      "text/plain": [
       "1082"
      ]
     },
     "execution_count": 27,
     "metadata": {},
     "output_type": "execute_result"
    }
   ],
   "source": [
    "# Number of papers with missing DOIs\n",
    "df['doi'].isnull().sum()"
   ]
  },
  {
   "cell_type": "code",
   "execution_count": 28,
   "metadata": {},
   "outputs": [
    {
     "data": {
      "text/html": [
       "<div>\n",
       "<style>\n",
       "    .dataframe thead tr:only-child th {\n",
       "        text-align: right;\n",
       "    }\n",
       "\n",
       "    .dataframe thead th {\n",
       "        text-align: left;\n",
       "    }\n",
       "\n",
       "    .dataframe tbody tr th {\n",
       "        vertical-align: top;\n",
       "    }\n",
       "</style>\n",
       "<table border=\"1\" class=\"dataframe\">\n",
       "  <thead>\n",
       "    <tr style=\"text-align: right;\">\n",
       "      <th></th>\n",
       "      <th>pmid</th>\n",
       "      <th>title</th>\n",
       "      <th>authors</th>\n",
       "      <th>journal</th>\n",
       "      <th>year_published</th>\n",
       "      <th>abstract</th>\n",
       "      <th>mesh_terms</th>\n",
       "      <th>doi</th>\n",
       "      <th>pmc</th>\n",
       "    </tr>\n",
       "  </thead>\n",
       "  <tbody>\n",
       "    <tr>\n",
       "      <th>107</th>\n",
       "      <td>27312559</td>\n",
       "      <td>A Novel Hemoglobin Variant Associated with Congenital Erythrocytosis: Hb Seoul [β86(F2)Ala→Thr] (HBB:c.259G&gt;A).</td>\n",
       "      <td>[Shin, Bang, Kim]</td>\n",
       "      <td>Ann Clin Lab Sci</td>\n",
       "      <td>2016.0</td>\n",
       "      <td>We report the identification of a novel hemoglobin (Hb) variant [β86(F2)Ala→Thr; HBB: c.259G&gt;A], Hb Seoul, causing c...</td>\n",
       "      <td>[Adult, Amino Acid Sequence, Amino Acid Substitution, Base Sequence, Hemoglobins, Abnormal, Humans, Male, Polycythem...</td>\n",
       "      <td>None</td>\n",
       "      <td>None</td>\n",
       "    </tr>\n",
       "    <tr>\n",
       "      <th>108</th>\n",
       "      <td>27305778</td>\n",
       "      <td>[Genetic evolution and substitution frequency of avian influenza virus HA gene in chicken H9N2 subtype in China in t...</td>\n",
       "      <td>[Meng, Xu, Zhang, Huang, Zhang, Liu, Chang, Qin]</td>\n",
       "      <td>Wei Sheng Wu Xue Bao</td>\n",
       "      <td>2016.0</td>\n",
       "      <td>Low pathogenic avian influenza (LPAI) H9N2 subtype virus has been prevalent in domestic poultry in China over two de...</td>\n",
       "      <td>[Amino Acid Sequence, Amino Acid Substitution, Animals, Chickens, China, Evolution, Molecular, Genotype, Hemagglutin...</td>\n",
       "      <td>None</td>\n",
       "      <td>None</td>\n",
       "    </tr>\n",
       "  </tbody>\n",
       "</table>\n",
       "</div>"
      ],
      "text/plain": [
       "         pmid                                                                                                                    title                                           authors               journal  year_published                                                                                                                 abstract                                                                                                               mesh_terms   doi   pmc\n",
       "107  27312559          A Novel Hemoglobin Variant Associated with Congenital Erythrocytosis: Hb Seoul [β86(F2)Ala→Thr] (HBB:c.259G>A).                                 [Shin, Bang, Kim]      Ann Clin Lab Sci          2016.0  We report the identification of a novel hemoglobin (Hb) variant [β86(F2)Ala→Thr; HBB: c.259G>A], Hb Seoul, causing c...  [Adult, Amino Acid Sequence, Amino Acid Substitution, Base Sequence, Hemoglobins, Abnormal, Humans, Male, Polycythem...  None  None\n",
       "108  27305778  [Genetic evolution and substitution frequency of avian influenza virus HA gene in chicken H9N2 subtype in China in t...  [Meng, Xu, Zhang, Huang, Zhang, Liu, Chang, Qin]  Wei Sheng Wu Xue Bao          2016.0  Low pathogenic avian influenza (LPAI) H9N2 subtype virus has been prevalent in domestic poultry in China over two de...  [Amino Acid Sequence, Amino Acid Substitution, Animals, Chickens, China, Evolution, Molecular, Genotype, Hemagglutin...  None  None"
      ]
     },
     "execution_count": 28,
     "metadata": {},
     "output_type": "execute_result"
    }
   ],
   "source": [
    "df[df['doi'].isnull()].head(2)"
   ]
  },
  {
   "cell_type": "markdown",
   "metadata": {},
   "source": [
    "# Output\n",
    "\n",
    "**Note**:\n",
    "- `pubmed_url` can be converted to an actual URL by prepending <https://www.ncbi.nlm.nih.gov>.\n",
    "- `doi` can be converted to a URL by prepending <https://doi.org/>"
   ]
  },
  {
   "cell_type": "code",
   "execution_count": 12,
   "metadata": {
    "collapsed": true
   },
   "outputs": [],
   "source": [
    "os.makedirs('output', exist_ok=True)"
   ]
  },
  {
   "cell_type": "code",
   "execution_count": 13,
   "metadata": {
    "run_control": {
     "marked": false
    }
   },
   "outputs": [
    {
     "data": {
      "text/html": [
       "<div>\n",
       "<style>\n",
       "    .dataframe thead tr:only-child th {\n",
       "        text-align: right;\n",
       "    }\n",
       "\n",
       "    .dataframe thead th {\n",
       "        text-align: left;\n",
       "    }\n",
       "\n",
       "    .dataframe tbody tr th {\n",
       "        vertical-align: top;\n",
       "    }\n",
       "</style>\n",
       "<table border=\"1\" class=\"dataframe\">\n",
       "  <thead>\n",
       "    <tr style=\"text-align: right;\">\n",
       "      <th></th>\n",
       "      <th>pmid</th>\n",
       "      <th>title</th>\n",
       "      <th>authors</th>\n",
       "      <th>journal</th>\n",
       "      <th>year_published</th>\n",
       "      <th>abstract</th>\n",
       "      <th>mesh_terms</th>\n",
       "      <th>doi</th>\n",
       "      <th>pmc</th>\n",
       "    </tr>\n",
       "  </thead>\n",
       "  <tbody>\n",
       "    <tr>\n",
       "      <th>0</th>\n",
       "      <td>28846085</td>\n",
       "      <td>A two-amino-acid substitution in the transcription factor RORγt disrupts its function in TH17 differentiation but no...</td>\n",
       "      <td>[He, Ma, Wang, Zhang, Huang, Wang, Sen, Rothenberg, Sun]</td>\n",
       "      <td>Nat Immunol</td>\n",
       "      <td>2017.0</td>\n",
       "      <td>The transcription factor RORγt regulates differentiation of the TH17 subset of helper T cells, thymic T cell develop...</td>\n",
       "      <td>[Amino Acid Substitution, Animals, Biomarkers, Cell Differentiation, Cluster Analysis, Encephalomyelitis, Autoimmune...</td>\n",
       "      <td>10.1038/ni.3832</td>\n",
       "      <td>None</td>\n",
       "    </tr>\n",
       "    <tr>\n",
       "      <th>1</th>\n",
       "      <td>28738245</td>\n",
       "      <td>Two-amino acids change in the nsp4 of SARS coronavirus abolishes viral replication.</td>\n",
       "      <td>[Sakai, Kawachi, Terada, Omori, Matsuura, Kamitani]</td>\n",
       "      <td>Virology</td>\n",
       "      <td>2017.0</td>\n",
       "      <td>Infection with coronavirus rearranges the host cell membrane to assemble a replication/transcription complex in whic...</td>\n",
       "      <td>[Amino Acid Substitution, DNA Mutational Analysis, Protein Interaction Mapping, SARS Virus, Viral Nonstructural Prot...</td>\n",
       "      <td>10.1016/j.virol.2017.07.019</td>\n",
       "      <td>None</td>\n",
       "    </tr>\n",
       "  </tbody>\n",
       "</table>\n",
       "</div>"
      ],
      "text/plain": [
       "       pmid                                                                                                                    title                                                   authors      journal  year_published                                                                                                                 abstract                                                                                                               mesh_terms                          doi   pmc\n",
       "0  28846085  A two-amino-acid substitution in the transcription factor RORγt disrupts its function in TH17 differentiation but no...  [He, Ma, Wang, Zhang, Huang, Wang, Sen, Rothenberg, Sun]  Nat Immunol          2017.0  The transcription factor RORγt regulates differentiation of the TH17 subset of helper T cells, thymic T cell develop...  [Amino Acid Substitution, Animals, Biomarkers, Cell Differentiation, Cluster Analysis, Encephalomyelitis, Autoimmune...              10.1038/ni.3832  None\n",
       "1  28738245                                      Two-amino acids change in the nsp4 of SARS coronavirus abolishes viral replication.       [Sakai, Kawachi, Terada, Omori, Matsuura, Kamitani]     Virology          2017.0  Infection with coronavirus rearranges the host cell membrane to assemble a replication/transcription complex in whic...  [Amino Acid Substitution, DNA Mutational Analysis, Protein Interaction Mapping, SARS Virus, Viral Nonstructural Prot...  10.1016/j.virol.2017.07.019  None"
      ]
     },
     "execution_count": 13,
     "metadata": {},
     "output_type": "execute_result"
    }
   ],
   "source": [
    "output_df = (\n",
    "    df\n",
    "    .loc[df['doi'].notnull(), :]\n",
    ")\n",
    "output_df.head(2)"
   ]
  },
  {
   "cell_type": "code",
   "execution_count": 14,
   "metadata": {
    "collapsed": true,
    "scrolled": false
   },
   "outputs": [],
   "source": [
    "output_df.to_csv(f'output/{op.splitext(INPUT_FILE_NAME)[0]}.tsv', sep='\\t', index=False)"
   ]
  },
  {
   "cell_type": "code",
   "execution_count": 15,
   "metadata": {},
   "outputs": [
    {
     "name": "stdout",
     "output_type": "stream",
     "text": [
      "pmid\ttitle\tauthors\tjournal\tyear_published\tabstract\tmesh_terms\tdoi\tpmc\r\n",
      "28846085\tA two-amino-acid substitution in the transcription factor RORγt disrupts its function in TH17 differentiation but not in thymocyte development.\t['He', 'Ma', 'Wang', 'Zhang', 'Huang', 'Wang', 'Sen', 'Rothenberg', 'Sun']\tNat Immunol\t2017.0\tThe transcription factor RORγt regulates differentiation of the TH17 subset of helper T cells, thymic T cell development and lymph-node genesis. Although elimination of RORγt prevents TH17 cell-mediated experimental autoimmune encephalomyelitis (EAE), it also disrupts thymocyte development, which could lead to lethal thymic lymphoma. Here we identified a two-amino-acid substitution in RORγt (RORγt(M)) that 'preferentially' disrupted TH17 differentiation but not thymocyte development. Mice expressing RORγt(M) were resistant to EAE associated with defective TH17 differentiation but maintained normal thymocyte development and normal lymph-node genesis, except for Peyer's patches. RORγt(M) showed less ubiquitination at Lys69 that was selectively required for TH17 differentiation but not T cell development. This study will inform the development of treatments that selectively target TH17 cell-mediated autoimmunity but do not affect thymocyte development or induce lymphoma.\t\"['Amino Acid Substitution', 'Animals', 'Biomarkers', 'Cell Differentiation', 'Cluster Analysis', 'Encephalomyelitis, Autoimmune, Experimental', 'Gene Expression Profiling', 'Gene Expression Regulation', 'Immunophenotyping', 'Lymph Nodes', 'Mice', 'Mice, Knockout', 'Mutation', 'Nuclear Receptor Subfamily 1, Group F, Member 3', \"\"Peyer's Patches\"\", 'T-Lymphocyte Subsets', 'Th17 Cells', 'Thymocytes', 'Ubiquitination']\"\t10.1038/ni.3832\t\r\n"
     ]
    }
   ],
   "source": [
    "!head output/{op.splitext(INPUT_FILE_NAME)[0]}.tsv -n 2"
   ]
  },
  {
   "cell_type": "markdown",
   "metadata": {},
   "source": [
    "# Download articles"
   ]
  },
  {
   "cell_type": "code",
   "execution_count": 45,
   "metadata": {
    "collapsed": true
   },
   "outputs": [],
   "source": [
    "from selenium import webdriver\n",
    "\n",
    "\n",
    "def download_pdf(doi, download_folder):\n",
    "    url = _get_scihub_url(doi)\n",
    "    options = webdriver.ChromeOptions()\n",
    "    profile = {\n",
    "        \"plugins.plugins_list\": [{\"enabled\": False, \"name\": \"Chrome PDF Viewer\"}],\n",
    "        \"download.default_directory\": download_folder,\n",
    "        \"download.extensions_to_open\": \"\"\n",
    "    }\n",
    "    options.add_experimental_option(\"prefs\", profile)\n",
    "    driver = webdriver.Chrome(chrome_options=options)\n",
    "#     driver = webdriver.Firefox()\n",
    "    driver.get(url)\n",
    "    try:\n",
    "        filename = url.split(\"/\")[4].split(\".cfm\")[0]\n",
    "    except IndexError as e:\n",
    "        print(e)\n",
    "        filename = url\n",
    "    print(filename)\n",
    "    time.sleep(10)\n",
    "    driver.close()"
   ]
  },
  {
   "cell_type": "code",
   "execution_count": 46,
   "metadata": {},
   "outputs": [
    {
     "name": "stdout",
     "output_type": "stream",
     "text": [
      "kim2016.pdf\n"
     ]
    },
    {
     "name": "stderr",
     "output_type": "stream",
     "text": [
      "/home/kimlab1/strokach/anaconda3/lib/python3.6/site-packages/requests/packages/urllib3/connectionpool.py:852: InsecureRequestWarning: Unverified HTTPS request is being made. Adding certificate verification is strongly advised. See: https://urllib3.readthedocs.io/en/latest/advanced-usage.html#ssl-warnings\n",
      "  InsecureRequestWarning)\n"
     ]
    },
    {
     "name": "stdout",
     "output_type": "stream",
     "text": [
      "list index out of range\n",
      "http://www.googletagmanager.com/ns.html?id=GTM-TP26BH\n"
     ]
    },
    {
     "name": "stderr",
     "output_type": "stream",
     "text": [
      "/home/kimlab1/strokach/anaconda3/lib/python3.6/site-packages/requests/packages/urllib3/connectionpool.py:852: InsecureRequestWarning: Unverified HTTPS request is being made. Adding certificate verification is strongly advised. See: https://urllib3.readthedocs.io/en/latest/advanced-usage.html#ssl-warnings\n",
      "  InsecureRequestWarning)\n"
     ]
    },
    {
     "name": "stdout",
     "output_type": "stream",
     "text": [
      "list index out of range\n",
      "http://www.googletagmanager.com/ns.html?id=GTM-TP26BH\n",
      "renaud2016.pdf\n",
      "schaefer2016.pdf\n",
      "sujjitjoon2016.pdf\n",
      "claisse2016.pdf\n",
      "kono2016.pdf\n",
      "abe2016.pdf\n",
      "hamasy2016.pdf\n",
      "fajardo2016.pdf\n",
      "wang2016.pdf\n",
      "choi2016.pdf\n",
      "murayama2015.pdf\n"
     ]
    },
    {
     "name": "stderr",
     "output_type": "stream",
     "text": [
      "/home/kimlab1/strokach/anaconda3/lib/python3.6/site-packages/requests/packages/urllib3/connectionpool.py:852: InsecureRequestWarning: Unverified HTTPS request is being made. Adding certificate verification is strongly advised. See: https://urllib3.readthedocs.io/en/latest/advanced-usage.html#ssl-warnings\n",
      "  InsecureRequestWarning)\n"
     ]
    },
    {
     "ename": "WebDriverException",
     "evalue": "Message: unknown error: 'url' must be a string\n  (Session info: chrome=61.0.3163.100)\n  (Driver info: chromedriver=2.33.506092 (733a02544d189eeb751fe0d7ddca79a0ee28cce4),platform=Linux 4.4.0-96-generic x86_64)\n",
     "output_type": "error",
     "traceback": [
      "\u001b[0;31m---------------------------------------------------------------------------\u001b[0m",
      "\u001b[0;31mWebDriverException\u001b[0m                        Traceback (most recent call last)",
      "\u001b[0;32m<ipython-input-46-4a8117df96e0>\u001b[0m in \u001b[0;36m<module>\u001b[0;34m()\u001b[0m\n\u001b[1;32m      1\u001b[0m \u001b[0mdownload_results\u001b[0m \u001b[0;34m=\u001b[0m \u001b[0;34m[\u001b[0m\u001b[0;34m]\u001b[0m\u001b[0;34m\u001b[0m\u001b[0m\n\u001b[1;32m      2\u001b[0m \u001b[0;32mfor\u001b[0m \u001b[0mdoi\u001b[0m \u001b[0;32min\u001b[0m \u001b[0moutput_df\u001b[0m\u001b[0;34m[\u001b[0m\u001b[0;34m'doi'\u001b[0m\u001b[0;34m]\u001b[0m\u001b[0;34m.\u001b[0m\u001b[0mvalues\u001b[0m\u001b[0;34m[\u001b[0m\u001b[0;36m100\u001b[0m\u001b[0;34m:\u001b[0m\u001b[0;36m120\u001b[0m\u001b[0;34m]\u001b[0m\u001b[0;34m:\u001b[0m\u001b[0;34m\u001b[0m\u001b[0m\n\u001b[0;32m----> 3\u001b[0;31m     \u001b[0mdownload_results\u001b[0m\u001b[0;34m.\u001b[0m\u001b[0mappend\u001b[0m\u001b[0;34m(\u001b[0m\u001b[0mdownload_pdf\u001b[0m\u001b[0;34m(\u001b[0m\u001b[0mdoi\u001b[0m\u001b[0;34m,\u001b[0m \u001b[0mOUTPUT_DIR\u001b[0m\u001b[0;34m)\u001b[0m\u001b[0;34m)\u001b[0m\u001b[0;34m\u001b[0m\u001b[0m\n\u001b[0m\u001b[1;32m      4\u001b[0m     \u001b[0mtime\u001b[0m\u001b[0;34m.\u001b[0m\u001b[0msleep\u001b[0m\u001b[0;34m(\u001b[0m\u001b[0;36m0.1\u001b[0m\u001b[0;34m)\u001b[0m\u001b[0;34m\u001b[0m\u001b[0m\n",
      "\u001b[0;32m<ipython-input-45-ed4eef3dfe8c>\u001b[0m in \u001b[0;36mdownload_pdf\u001b[0;34m(doi, download_folder)\u001b[0m\n\u001b[1;32m     13\u001b[0m     \u001b[0mdriver\u001b[0m \u001b[0;34m=\u001b[0m \u001b[0mwebdriver\u001b[0m\u001b[0;34m.\u001b[0m\u001b[0mChrome\u001b[0m\u001b[0;34m(\u001b[0m\u001b[0mchrome_options\u001b[0m\u001b[0;34m=\u001b[0m\u001b[0moptions\u001b[0m\u001b[0;34m)\u001b[0m\u001b[0;34m\u001b[0m\u001b[0m\n\u001b[1;32m     14\u001b[0m \u001b[0;31m#     driver = webdriver.Firefox()\u001b[0m\u001b[0;34m\u001b[0m\u001b[0;34m\u001b[0m\u001b[0m\n\u001b[0;32m---> 15\u001b[0;31m     \u001b[0mdriver\u001b[0m\u001b[0;34m.\u001b[0m\u001b[0mget\u001b[0m\u001b[0;34m(\u001b[0m\u001b[0murl\u001b[0m\u001b[0;34m)\u001b[0m\u001b[0;34m\u001b[0m\u001b[0m\n\u001b[0m\u001b[1;32m     16\u001b[0m     \u001b[0;32mtry\u001b[0m\u001b[0;34m:\u001b[0m\u001b[0;34m\u001b[0m\u001b[0m\n\u001b[1;32m     17\u001b[0m         \u001b[0mfilename\u001b[0m \u001b[0;34m=\u001b[0m \u001b[0murl\u001b[0m\u001b[0;34m.\u001b[0m\u001b[0msplit\u001b[0m\u001b[0;34m(\u001b[0m\u001b[0;34m\"/\"\u001b[0m\u001b[0;34m)\u001b[0m\u001b[0;34m[\u001b[0m\u001b[0;36m4\u001b[0m\u001b[0;34m]\u001b[0m\u001b[0;34m.\u001b[0m\u001b[0msplit\u001b[0m\u001b[0;34m(\u001b[0m\u001b[0;34m\".cfm\"\u001b[0m\u001b[0;34m)\u001b[0m\u001b[0;34m[\u001b[0m\u001b[0;36m0\u001b[0m\u001b[0;34m]\u001b[0m\u001b[0;34m\u001b[0m\u001b[0m\n",
      "\u001b[0;32m~/anaconda3/lib/python3.6/site-packages/selenium/webdriver/remote/webdriver.py\u001b[0m in \u001b[0;36mget\u001b[0;34m(self, url)\u001b[0m\n\u001b[1;32m    318\u001b[0m         \u001b[0mLoads\u001b[0m \u001b[0ma\u001b[0m \u001b[0mweb\u001b[0m \u001b[0mpage\u001b[0m \u001b[0;32min\u001b[0m \u001b[0mthe\u001b[0m \u001b[0mcurrent\u001b[0m \u001b[0mbrowser\u001b[0m \u001b[0msession\u001b[0m\u001b[0;34m.\u001b[0m\u001b[0;34m\u001b[0m\u001b[0m\n\u001b[1;32m    319\u001b[0m         \"\"\"\n\u001b[0;32m--> 320\u001b[0;31m         \u001b[0mself\u001b[0m\u001b[0;34m.\u001b[0m\u001b[0mexecute\u001b[0m\u001b[0;34m(\u001b[0m\u001b[0mCommand\u001b[0m\u001b[0;34m.\u001b[0m\u001b[0mGET\u001b[0m\u001b[0;34m,\u001b[0m \u001b[0;34m{\u001b[0m\u001b[0;34m'url'\u001b[0m\u001b[0;34m:\u001b[0m \u001b[0murl\u001b[0m\u001b[0;34m}\u001b[0m\u001b[0;34m)\u001b[0m\u001b[0;34m\u001b[0m\u001b[0m\n\u001b[0m\u001b[1;32m    321\u001b[0m \u001b[0;34m\u001b[0m\u001b[0m\n\u001b[1;32m    322\u001b[0m     \u001b[0;34m@\u001b[0m\u001b[0mproperty\u001b[0m\u001b[0;34m\u001b[0m\u001b[0m\n",
      "\u001b[0;32m~/anaconda3/lib/python3.6/site-packages/selenium/webdriver/remote/webdriver.py\u001b[0m in \u001b[0;36mexecute\u001b[0;34m(self, driver_command, params)\u001b[0m\n\u001b[1;32m    306\u001b[0m         \u001b[0mresponse\u001b[0m \u001b[0;34m=\u001b[0m \u001b[0mself\u001b[0m\u001b[0;34m.\u001b[0m\u001b[0mcommand_executor\u001b[0m\u001b[0;34m.\u001b[0m\u001b[0mexecute\u001b[0m\u001b[0;34m(\u001b[0m\u001b[0mdriver_command\u001b[0m\u001b[0;34m,\u001b[0m \u001b[0mparams\u001b[0m\u001b[0;34m)\u001b[0m\u001b[0;34m\u001b[0m\u001b[0m\n\u001b[1;32m    307\u001b[0m         \u001b[0;32mif\u001b[0m \u001b[0mresponse\u001b[0m\u001b[0;34m:\u001b[0m\u001b[0;34m\u001b[0m\u001b[0m\n\u001b[0;32m--> 308\u001b[0;31m             \u001b[0mself\u001b[0m\u001b[0;34m.\u001b[0m\u001b[0merror_handler\u001b[0m\u001b[0;34m.\u001b[0m\u001b[0mcheck_response\u001b[0m\u001b[0;34m(\u001b[0m\u001b[0mresponse\u001b[0m\u001b[0;34m)\u001b[0m\u001b[0;34m\u001b[0m\u001b[0m\n\u001b[0m\u001b[1;32m    309\u001b[0m             response['value'] = self._unwrap_value(\n\u001b[1;32m    310\u001b[0m                 response.get('value', None))\n",
      "\u001b[0;32m~/anaconda3/lib/python3.6/site-packages/selenium/webdriver/remote/errorhandler.py\u001b[0m in \u001b[0;36mcheck_response\u001b[0;34m(self, response)\u001b[0m\n\u001b[1;32m    192\u001b[0m         \u001b[0;32melif\u001b[0m \u001b[0mexception_class\u001b[0m \u001b[0;34m==\u001b[0m \u001b[0mUnexpectedAlertPresentException\u001b[0m \u001b[0;32mand\u001b[0m \u001b[0;34m'alert'\u001b[0m \u001b[0;32min\u001b[0m \u001b[0mvalue\u001b[0m\u001b[0;34m:\u001b[0m\u001b[0;34m\u001b[0m\u001b[0m\n\u001b[1;32m    193\u001b[0m             \u001b[0;32mraise\u001b[0m \u001b[0mexception_class\u001b[0m\u001b[0;34m(\u001b[0m\u001b[0mmessage\u001b[0m\u001b[0;34m,\u001b[0m \u001b[0mscreen\u001b[0m\u001b[0;34m,\u001b[0m \u001b[0mstacktrace\u001b[0m\u001b[0;34m,\u001b[0m \u001b[0mvalue\u001b[0m\u001b[0;34m[\u001b[0m\u001b[0;34m'alert'\u001b[0m\u001b[0;34m]\u001b[0m\u001b[0;34m.\u001b[0m\u001b[0mget\u001b[0m\u001b[0;34m(\u001b[0m\u001b[0;34m'text'\u001b[0m\u001b[0;34m)\u001b[0m\u001b[0;34m)\u001b[0m\u001b[0;34m\u001b[0m\u001b[0m\n\u001b[0;32m--> 194\u001b[0;31m         \u001b[0;32mraise\u001b[0m \u001b[0mexception_class\u001b[0m\u001b[0;34m(\u001b[0m\u001b[0mmessage\u001b[0m\u001b[0;34m,\u001b[0m \u001b[0mscreen\u001b[0m\u001b[0;34m,\u001b[0m \u001b[0mstacktrace\u001b[0m\u001b[0;34m)\u001b[0m\u001b[0;34m\u001b[0m\u001b[0m\n\u001b[0m\u001b[1;32m    195\u001b[0m \u001b[0;34m\u001b[0m\u001b[0m\n\u001b[1;32m    196\u001b[0m     \u001b[0;32mdef\u001b[0m \u001b[0m_value_or_default\u001b[0m\u001b[0;34m(\u001b[0m\u001b[0mself\u001b[0m\u001b[0;34m,\u001b[0m \u001b[0mobj\u001b[0m\u001b[0;34m,\u001b[0m \u001b[0mkey\u001b[0m\u001b[0;34m,\u001b[0m \u001b[0mdefault\u001b[0m\u001b[0;34m)\u001b[0m\u001b[0;34m:\u001b[0m\u001b[0;34m\u001b[0m\u001b[0m\n",
      "\u001b[0;31mWebDriverException\u001b[0m: Message: unknown error: 'url' must be a string\n  (Session info: chrome=61.0.3163.100)\n  (Driver info: chromedriver=2.33.506092 (733a02544d189eeb751fe0d7ddca79a0ee28cce4),platform=Linux 4.4.0-96-generic x86_64)\n"
     ]
    }
   ],
   "source": [
    "download_results = []\n",
    "for doi in output_df['doi'].values[100:120]:\n",
    "    download_results.append(download_pdf(doi, OUTPUT_DIR))\n",
    "    time.sleep(0.1)"
   ]
  },
  {
   "cell_type": "code",
   "execution_count": 47,
   "metadata": {},
   "outputs": [
    {
     "data": {
      "text/plain": [
       "array(['10.1016/j.ijbiomac.2016.06.091', '10.1371/journal.pone.0158579',\n",
       "       '10.1371/journal.pcbi.1004771', '10.1038/bjc.2016.182',\n",
       "       '10.1002/pro.2888', '10.1038/jhg.2016.80',\n",
       "       '10.1016/j.ibmb.2016.06.003', '10.1093/molbev/msw102',\n",
       "       '10.1002/pro.2966', '10.1038/leu.2016.153'], dtype=object)"
      ]
     },
     "execution_count": 47,
     "metadata": {},
     "output_type": "execute_result"
    }
   ],
   "source": [
    "output_df['doi'].values[100:110]"
   ]
  }
 ],
 "metadata": {
  "kernelspec": {
   "display_name": "Python 3",
   "language": "python",
   "name": "python3"
  },
  "language_info": {
   "codemirror_mode": {
    "name": "ipython",
    "version": 3
   },
   "file_extension": ".py",
   "mimetype": "text/x-python",
   "name": "python",
   "nbconvert_exporter": "python",
   "pygments_lexer": "ipython3",
   "version": "3.6.3"
  },
  "toc": {
   "nav_menu": {},
   "number_sections": false,
   "sideBar": false,
   "skip_h1_title": false,
   "toc_cell": false,
   "toc_position": {
    "height": "187px",
    "left": "1694.6px",
    "right": "20px",
    "top": "117.986px",
    "width": "354px"
   },
   "toc_section_display": "block",
   "toc_window_display": true
  }
 },
 "nbformat": 4,
 "nbformat_minor": 2
}
