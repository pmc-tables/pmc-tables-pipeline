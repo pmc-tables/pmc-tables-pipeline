{
 "cells": [
  {
   "cell_type": "markdown",
   "metadata": {},
   "source": [
    "# Download sample\n",
    "\n",
    "We download a sample of data from PubMed by running a query\n",
    "\n",
    "- *pubmed_result.csv*\n",
    "```\n",
    "(\"2010\"[Date - Publication] : \"3000\"[Date - Publication]) AND \"Drug Combinations\"[MeSH Terms] \n",
    "```\n",
    "- *amino_acid_substitution.csv*\n",
    "```\n",
    "\"Amino Acid Substitution\"[MAJR] \n",
    "```\n",
    "\n",
    "and saving all results in XML and CSV formats."
   ]
  },
  {
   "cell_type": "markdown",
   "metadata": {},
   "source": [
    "# Imports"
   ]
  },
  {
   "cell_type": "code",
   "execution_count": 1,
   "metadata": {},
   "outputs": [
    {
     "name": "stdout",
     "output_type": "stream",
     "text": [
      "2017-10-11 11:32:01.028350\n"
     ]
    }
   ],
   "source": [
    "%run _imports.ipynb"
   ]
  },
  {
   "cell_type": "code",
   "execution_count": 2,
   "metadata": {
    "collapsed": true
   },
   "outputs": [],
   "source": [
    "import requests\n",
    "from bs4 import BeautifulSoup\n",
    "\n",
    "import kmtools.xml_parsers"
   ]
  },
  {
   "cell_type": "code",
   "execution_count": 3,
   "metadata": {
    "collapsed": true
   },
   "outputs": [],
   "source": [
    "NOTEBOOK_NAME = 'download_sample'\n",
    "os.makedirs(NOTEBOOK_NAME, exist_ok=True)\n",
    "\n",
    "INPUT_FILE_NAME = 'amino_acid_substitution.xml'\n",
    "\n",
    "OUTPUT_DIR = 'downloaded_pdfs'\n",
    "os.makedirs(OUTPUT_DIR, exist_ok=True)"
   ]
  },
  {
   "cell_type": "markdown",
   "metadata": {},
   "source": [
    "# Functions"
   ]
  },
  {
   "cell_type": "code",
   "execution_count": 4,
   "metadata": {
    "collapsed": true
   },
   "outputs": [],
   "source": [
    "def df_to_table(df, integer_columns=None, integer_dtypes=None):\n",
    "    \"\"\"\n",
    "    \"\"\"\n",
    "    extra_columns = {}\n",
    "    for column, dtype in zip(integer_columns, integer_dtypes):\n",
    "        extra_columns[column] = {\n",
    "            'dtype': dtype,\n",
    "            'idx': list(df.columns).index(column),\n",
    "            'data': df[column]\n",
    "        }\n",
    "\n",
    "    table = pa.Table.from_pandas(\n",
    "        df[[c for c in df.columns if c not in integer_columns]],\n",
    "        preserve_index=False)\n",
    "    \n",
    "    for column_name, column_attrib in sorted(extra_columns.items(), key=lambda c: c[1]['idx']):\n",
    "        array = pa.Array.from_pandas(\n",
    "            column_attrib['data'], column_attrib['data'].isnull(), column_attrib['dtype'])\n",
    "        column = pa.Column.from_array(column_name, array)\n",
    "        table = table.add_column(column_attrib['idx'], column)\n",
    "        \n",
    "    return table"
   ]
  },
  {
   "cell_type": "code",
   "execution_count": 5,
   "metadata": {
    "collapsed": true
   },
   "outputs": [],
   "source": [
    "SCIHUB_BASE_URL = 'http://sci-hub.cc/'\n",
    "HEADERS = {'User-Agent': 'Mozilla/5.0 (X11; Linux x86_64; rv:27.0) Gecko/20100101 Firefox/27.0'}\n",
    "\n",
    "\n",
    "def download_article(doi, output_dir):\n",
    "    \"\"\"\n",
    "    Fetches the paper by first retrieving the direct link to the pdf.\n",
    "    If the indentifier is a DOI, PMID, or URL pay-wall, then use Sci-Hub\n",
    "    to access and download paper. Otherwise, just download paper directly.\n",
    "    \"\"\"\n",
    "    url = _get_scihub_url(doi)\n",
    "\n",
    "    try:\n",
    "        # verify=False is dangerous but sci-hub.io \n",
    "        # requires intermediate certificates to verify\n",
    "        # and requests doesn't know how to download them.\n",
    "        # as a hacky fix, you can add them to your store\n",
    "        # and verifying would work. will fix this later.\n",
    "        res = requests.get(url, headers=HEADERS, verify=False)\n",
    "    except requests.exceptions.RequestException as e:\n",
    "        logger.error('Failed to fetch pdf with doi %s from url %s due to request exception!', doi, url)\n",
    "        return None, None, \n",
    "\n",
    "    if res.headers['Content-Type'] != 'application/pdf':\n",
    "        logger.error('Failed to fetch pdf with doi %s from url %s due to a captcha!', doi, url)\n",
    "        return None, None\n",
    "    else:\n",
    "        filename = _slugify(doi) + '.pdf'\n",
    "        if filename not in url:\n",
    "            logger.warning(\"Filename %s not in url %s\", filename, url)\n",
    "        with open(op.join(output_dir, filename), 'wb') as ofh:\n",
    "            ofh.write(res.content)\n",
    "        return url, filename\n",
    "\n",
    "\n",
    "def _slugify(doi):\n",
    "    \"\"\"Generate a name from DOI using the same approach as SciHub.\"\"\"\n",
    "    return doi.replace('/', '@')\n",
    "\n",
    "\n",
    "def _get_soup(html):\n",
    "    \"\"\"Return html soup.\"\"\"\n",
    "    return BeautifulSoup(html, 'html.parser')\n",
    "\n",
    "    \n",
    "    \n",
    "def _get_scihub_url(doi):\n",
    "    \"\"\"\n",
    "    Sci-Hub embeds papers in an iframe. This function finds the actual\n",
    "    source url which looks something like https://moscow.sci-hub.io/.../....pdf.\n",
    "    \"\"\"\n",
    "    res = requests.get(SCIHUB_BASE_URL + doi, headers=HEADERS, verify=False)\n",
    "    s = _get_soup(res.content)\n",
    "    iframe = s.find('iframe')\n",
    "    if iframe:\n",
    "        return iframe.get('src') if not iframe.get('src').startswith('//') \\\n",
    "           else 'http:' + iframe.get('src')"
   ]
  },
  {
   "cell_type": "code",
   "execution_count": 6,
   "metadata": {},
   "outputs": [
    {
     "data": {
      "text/plain": [
       "('http://sci-hub.cc/downloads/c08a/10.1038@ni.3832.pdf', '10.1038@ni.3832.pdf')"
      ]
     },
     "execution_count": 6,
     "metadata": {},
     "output_type": "execute_result"
    }
   ],
   "source": [
    "download_article('10.1038/ni.3832', OUTPUT_DIR)"
   ]
  },
  {
   "cell_type": "markdown",
   "metadata": {},
   "source": [
    "# Load data"
   ]
  },
  {
   "cell_type": "code",
   "execution_count": 7,
   "metadata": {},
   "outputs": [
    {
     "data": {
      "text/plain": [
       "['delete.csv',\n",
       " 'pubmed_result.xml',\n",
       " 'pubmed_result.csv',\n",
       " 'amino_acid_substitution.xml',\n",
       " 'amino_acid_substitution.csv']"
      ]
     },
     "execution_count": 7,
     "metadata": {},
     "output_type": "execute_result"
    }
   ],
   "source": [
    "os.listdir(NOTEBOOK_NAME)"
   ]
  },
  {
   "cell_type": "code",
   "execution_count": null,
   "metadata": {
    "collapsed": true
   },
   "outputs": [],
   "source": []
  },
  {
   "cell_type": "code",
   "execution_count": 8,
   "metadata": {
    "collapsed": true
   },
   "outputs": [],
   "source": [
    "data = kmtools.xml_parsers.pubmed_xml_parser.parse_pubmed_xml_file(f\"{NOTEBOOK_NAME}/{INPUT_FILE_NAME}\")\n",
    "df = pd.DataFrame(data)"
   ]
  },
  {
   "cell_type": "code",
   "execution_count": 9,
   "metadata": {},
   "outputs": [
    {
     "data": {
      "text/html": [
       "<div>\n",
       "<style>\n",
       "    .dataframe thead tr:only-child th {\n",
       "        text-align: right;\n",
       "    }\n",
       "\n",
       "    .dataframe thead th {\n",
       "        text-align: left;\n",
       "    }\n",
       "\n",
       "    .dataframe tbody tr th {\n",
       "        vertical-align: top;\n",
       "    }\n",
       "</style>\n",
       "<table border=\"1\" class=\"dataframe\">\n",
       "  <thead>\n",
       "    <tr style=\"text-align: right;\">\n",
       "      <th></th>\n",
       "      <th>pmid</th>\n",
       "      <th>title</th>\n",
       "      <th>authors</th>\n",
       "      <th>journal</th>\n",
       "      <th>year_published</th>\n",
       "      <th>abstract</th>\n",
       "      <th>mesh_terms</th>\n",
       "      <th>doi</th>\n",
       "      <th>pmc</th>\n",
       "    </tr>\n",
       "  </thead>\n",
       "  <tbody>\n",
       "    <tr>\n",
       "      <th>0</th>\n",
       "      <td>28846085</td>\n",
       "      <td>A two-amino-acid substitution in the transcription factor RORγt disrupts its function in TH17 differentiation but no...</td>\n",
       "      <td>[He, Ma, Wang, Zhang, Huang, Wang, Sen, Rothenberg, Sun]</td>\n",
       "      <td>Nat Immunol</td>\n",
       "      <td>2017.0</td>\n",
       "      <td>The transcription factor RORγt regulates differentiation of the TH17 subset of helper T cells, thymic T cell develop...</td>\n",
       "      <td>[Amino Acid Substitution, Animals, Biomarkers, Cell Differentiation, Cluster Analysis, Encephalomyelitis, Autoimmune...</td>\n",
       "      <td>10.1038/ni.3832</td>\n",
       "      <td>None</td>\n",
       "    </tr>\n",
       "    <tr>\n",
       "      <th>1</th>\n",
       "      <td>28738245</td>\n",
       "      <td>Two-amino acids change in the nsp4 of SARS coronavirus abolishes viral replication.</td>\n",
       "      <td>[Sakai, Kawachi, Terada, Omori, Matsuura, Kamitani]</td>\n",
       "      <td>Virology</td>\n",
       "      <td>2017.0</td>\n",
       "      <td>Infection with coronavirus rearranges the host cell membrane to assemble a replication/transcription complex in whic...</td>\n",
       "      <td>[Amino Acid Substitution, DNA Mutational Analysis, Protein Interaction Mapping, SARS Virus, Viral Nonstructural Prot...</td>\n",
       "      <td>10.1016/j.virol.2017.07.019</td>\n",
       "      <td>None</td>\n",
       "    </tr>\n",
       "  </tbody>\n",
       "</table>\n",
       "</div>"
      ],
      "text/plain": [
       "       pmid                                                                                                                    title                                                   authors      journal  year_published                                                                                                                 abstract                                                                                                               mesh_terms                          doi   pmc\n",
       "0  28846085  A two-amino-acid substitution in the transcription factor RORγt disrupts its function in TH17 differentiation but no...  [He, Ma, Wang, Zhang, Huang, Wang, Sen, Rothenberg, Sun]  Nat Immunol          2017.0  The transcription factor RORγt regulates differentiation of the TH17 subset of helper T cells, thymic T cell develop...  [Amino Acid Substitution, Animals, Biomarkers, Cell Differentiation, Cluster Analysis, Encephalomyelitis, Autoimmune...              10.1038/ni.3832  None\n",
       "1  28738245                                      Two-amino acids change in the nsp4 of SARS coronavirus abolishes viral replication.       [Sakai, Kawachi, Terada, Omori, Matsuura, Kamitani]     Virology          2017.0  Infection with coronavirus rearranges the host cell membrane to assemble a replication/transcription complex in whic...  [Amino Acid Substitution, DNA Mutational Analysis, Protein Interaction Mapping, SARS Virus, Viral Nonstructural Prot...  10.1016/j.virol.2017.07.019  None"
      ]
     },
     "execution_count": 9,
     "metadata": {},
     "output_type": "execute_result"
    }
   ],
   "source": [
    "df.head(2)"
   ]
  },
  {
   "cell_type": "code",
   "execution_count": 10,
   "metadata": {},
   "outputs": [
    {
     "data": {
      "text/plain": [
       "1082"
      ]
     },
     "execution_count": 10,
     "metadata": {},
     "output_type": "execute_result"
    }
   ],
   "source": [
    "# Number of papers with missing DOIs\n",
    "df['doi'].isnull().sum()"
   ]
  },
  {
   "cell_type": "code",
   "execution_count": 11,
   "metadata": {},
   "outputs": [
    {
     "data": {
      "text/html": [
       "<div>\n",
       "<style>\n",
       "    .dataframe thead tr:only-child th {\n",
       "        text-align: right;\n",
       "    }\n",
       "\n",
       "    .dataframe thead th {\n",
       "        text-align: left;\n",
       "    }\n",
       "\n",
       "    .dataframe tbody tr th {\n",
       "        vertical-align: top;\n",
       "    }\n",
       "</style>\n",
       "<table border=\"1\" class=\"dataframe\">\n",
       "  <thead>\n",
       "    <tr style=\"text-align: right;\">\n",
       "      <th></th>\n",
       "      <th>pmid</th>\n",
       "      <th>title</th>\n",
       "      <th>authors</th>\n",
       "      <th>journal</th>\n",
       "      <th>year_published</th>\n",
       "      <th>abstract</th>\n",
       "      <th>mesh_terms</th>\n",
       "      <th>doi</th>\n",
       "      <th>pmc</th>\n",
       "    </tr>\n",
       "  </thead>\n",
       "  <tbody>\n",
       "    <tr>\n",
       "      <th>107</th>\n",
       "      <td>27312559</td>\n",
       "      <td>A Novel Hemoglobin Variant Associated with Congenital Erythrocytosis: Hb Seoul [β86(F2)Ala→Thr] (HBB:c.259G&gt;A).</td>\n",
       "      <td>[Shin, Bang, Kim]</td>\n",
       "      <td>Ann Clin Lab Sci</td>\n",
       "      <td>2016.0</td>\n",
       "      <td>We report the identification of a novel hemoglobin (Hb) variant [β86(F2)Ala→Thr; HBB: c.259G&gt;A], Hb Seoul, causing c...</td>\n",
       "      <td>[Adult, Amino Acid Sequence, Amino Acid Substitution, Base Sequence, Hemoglobins, Abnormal, Humans, Male, Polycythem...</td>\n",
       "      <td>None</td>\n",
       "      <td>None</td>\n",
       "    </tr>\n",
       "    <tr>\n",
       "      <th>108</th>\n",
       "      <td>27305778</td>\n",
       "      <td>[Genetic evolution and substitution frequency of avian influenza virus HA gene in chicken H9N2 subtype in China in t...</td>\n",
       "      <td>[Meng, Xu, Zhang, Huang, Zhang, Liu, Chang, Qin]</td>\n",
       "      <td>Wei Sheng Wu Xue Bao</td>\n",
       "      <td>2016.0</td>\n",
       "      <td>Low pathogenic avian influenza (LPAI) H9N2 subtype virus has been prevalent in domestic poultry in China over two de...</td>\n",
       "      <td>[Amino Acid Sequence, Amino Acid Substitution, Animals, Chickens, China, Evolution, Molecular, Genotype, Hemagglutin...</td>\n",
       "      <td>None</td>\n",
       "      <td>None</td>\n",
       "    </tr>\n",
       "  </tbody>\n",
       "</table>\n",
       "</div>"
      ],
      "text/plain": [
       "         pmid                                                                                                                    title                                           authors               journal  year_published                                                                                                                 abstract                                                                                                               mesh_terms   doi   pmc\n",
       "107  27312559          A Novel Hemoglobin Variant Associated with Congenital Erythrocytosis: Hb Seoul [β86(F2)Ala→Thr] (HBB:c.259G>A).                                 [Shin, Bang, Kim]      Ann Clin Lab Sci          2016.0  We report the identification of a novel hemoglobin (Hb) variant [β86(F2)Ala→Thr; HBB: c.259G>A], Hb Seoul, causing c...  [Adult, Amino Acid Sequence, Amino Acid Substitution, Base Sequence, Hemoglobins, Abnormal, Humans, Male, Polycythem...  None  None\n",
       "108  27305778  [Genetic evolution and substitution frequency of avian influenza virus HA gene in chicken H9N2 subtype in China in t...  [Meng, Xu, Zhang, Huang, Zhang, Liu, Chang, Qin]  Wei Sheng Wu Xue Bao          2016.0  Low pathogenic avian influenza (LPAI) H9N2 subtype virus has been prevalent in domestic poultry in China over two de...  [Amino Acid Sequence, Amino Acid Substitution, Animals, Chickens, China, Evolution, Molecular, Genotype, Hemagglutin...  None  None"
      ]
     },
     "execution_count": 11,
     "metadata": {},
     "output_type": "execute_result"
    }
   ],
   "source": [
    "df[df['doi'].isnull()].head(2)"
   ]
  },
  {
   "cell_type": "markdown",
   "metadata": {},
   "source": [
    "# Output\n",
    "\n",
    "**Note**:\n",
    "- `pubmed_url` can be converted to an actual URL by prepending <https://www.ncbi.nlm.nih.gov>.\n",
    "- `doi` can be converted to a URL by prepending <https://doi.org/>"
   ]
  },
  {
   "cell_type": "code",
   "execution_count": 12,
   "metadata": {
    "collapsed": true
   },
   "outputs": [],
   "source": [
    "os.makedirs('output', exist_ok=True)"
   ]
  },
  {
   "cell_type": "code",
   "execution_count": 13,
   "metadata": {
    "run_control": {
     "marked": false
    }
   },
   "outputs": [
    {
     "data": {
      "text/html": [
       "<div>\n",
       "<style>\n",
       "    .dataframe thead tr:only-child th {\n",
       "        text-align: right;\n",
       "    }\n",
       "\n",
       "    .dataframe thead th {\n",
       "        text-align: left;\n",
       "    }\n",
       "\n",
       "    .dataframe tbody tr th {\n",
       "        vertical-align: top;\n",
       "    }\n",
       "</style>\n",
       "<table border=\"1\" class=\"dataframe\">\n",
       "  <thead>\n",
       "    <tr style=\"text-align: right;\">\n",
       "      <th></th>\n",
       "      <th>pmid</th>\n",
       "      <th>title</th>\n",
       "      <th>authors</th>\n",
       "      <th>journal</th>\n",
       "      <th>year_published</th>\n",
       "      <th>abstract</th>\n",
       "      <th>mesh_terms</th>\n",
       "      <th>doi</th>\n",
       "      <th>pmc</th>\n",
       "    </tr>\n",
       "  </thead>\n",
       "  <tbody>\n",
       "    <tr>\n",
       "      <th>0</th>\n",
       "      <td>28846085</td>\n",
       "      <td>A two-amino-acid substitution in the transcription factor RORγt disrupts its function in TH17 differentiation but no...</td>\n",
       "      <td>[He, Ma, Wang, Zhang, Huang, Wang, Sen, Rothenberg, Sun]</td>\n",
       "      <td>Nat Immunol</td>\n",
       "      <td>2017.0</td>\n",
       "      <td>The transcription factor RORγt regulates differentiation of the TH17 subset of helper T cells, thymic T cell develop...</td>\n",
       "      <td>[Amino Acid Substitution, Animals, Biomarkers, Cell Differentiation, Cluster Analysis, Encephalomyelitis, Autoimmune...</td>\n",
       "      <td>10.1038/ni.3832</td>\n",
       "      <td>None</td>\n",
       "    </tr>\n",
       "    <tr>\n",
       "      <th>1</th>\n",
       "      <td>28738245</td>\n",
       "      <td>Two-amino acids change in the nsp4 of SARS coronavirus abolishes viral replication.</td>\n",
       "      <td>[Sakai, Kawachi, Terada, Omori, Matsuura, Kamitani]</td>\n",
       "      <td>Virology</td>\n",
       "      <td>2017.0</td>\n",
       "      <td>Infection with coronavirus rearranges the host cell membrane to assemble a replication/transcription complex in whic...</td>\n",
       "      <td>[Amino Acid Substitution, DNA Mutational Analysis, Protein Interaction Mapping, SARS Virus, Viral Nonstructural Prot...</td>\n",
       "      <td>10.1016/j.virol.2017.07.019</td>\n",
       "      <td>None</td>\n",
       "    </tr>\n",
       "  </tbody>\n",
       "</table>\n",
       "</div>"
      ],
      "text/plain": [
       "       pmid                                                                                                                    title                                                   authors      journal  year_published                                                                                                                 abstract                                                                                                               mesh_terms                          doi   pmc\n",
       "0  28846085  A two-amino-acid substitution in the transcription factor RORγt disrupts its function in TH17 differentiation but no...  [He, Ma, Wang, Zhang, Huang, Wang, Sen, Rothenberg, Sun]  Nat Immunol          2017.0  The transcription factor RORγt regulates differentiation of the TH17 subset of helper T cells, thymic T cell develop...  [Amino Acid Substitution, Animals, Biomarkers, Cell Differentiation, Cluster Analysis, Encephalomyelitis, Autoimmune...              10.1038/ni.3832  None\n",
       "1  28738245                                      Two-amino acids change in the nsp4 of SARS coronavirus abolishes viral replication.       [Sakai, Kawachi, Terada, Omori, Matsuura, Kamitani]     Virology          2017.0  Infection with coronavirus rearranges the host cell membrane to assemble a replication/transcription complex in whic...  [Amino Acid Substitution, DNA Mutational Analysis, Protein Interaction Mapping, SARS Virus, Viral Nonstructural Prot...  10.1016/j.virol.2017.07.019  None"
      ]
     },
     "execution_count": 13,
     "metadata": {},
     "output_type": "execute_result"
    }
   ],
   "source": [
    "output_df = (\n",
    "    df\n",
    "    .loc[df['doi'].notnull(), :]\n",
    ")\n",
    "output_df.head(2)"
   ]
  },
  {
   "cell_type": "code",
   "execution_count": 14,
   "metadata": {
    "collapsed": true,
    "scrolled": false
   },
   "outputs": [],
   "source": [
    "output_df.to_csv(f'output/{op.splitext(INPUT_FILE_NAME)[0]}.tsv', sep='\\t', index=False)"
   ]
  },
  {
   "cell_type": "code",
   "execution_count": 15,
   "metadata": {},
   "outputs": [
    {
     "name": "stdout",
     "output_type": "stream",
     "text": [
      "pmid\ttitle\tauthors\tjournal\tyear_published\tabstract\tmesh_terms\tdoi\tpmc\r\n",
      "28846085\tA two-amino-acid substitution in the transcription factor RORγt disrupts its function in TH17 differentiation but not in thymocyte development.\t['He', 'Ma', 'Wang', 'Zhang', 'Huang', 'Wang', 'Sen', 'Rothenberg', 'Sun']\tNat Immunol\t2017.0\tThe transcription factor RORγt regulates differentiation of the TH17 subset of helper T cells, thymic T cell development and lymph-node genesis. Although elimination of RORγt prevents TH17 cell-mediated experimental autoimmune encephalomyelitis (EAE), it also disrupts thymocyte development, which could lead to lethal thymic lymphoma. Here we identified a two-amino-acid substitution in RORγt (RORγt(M)) that 'preferentially' disrupted TH17 differentiation but not thymocyte development. Mice expressing RORγt(M) were resistant to EAE associated with defective TH17 differentiation but maintained normal thymocyte development and normal lymph-node genesis, except for Peyer's patches. RORγt(M) showed less ubiquitination at Lys69 that was selectively required for TH17 differentiation but not T cell development. This study will inform the development of treatments that selectively target TH17 cell-mediated autoimmunity but do not affect thymocyte development or induce lymphoma.\t\"['Amino Acid Substitution', 'Animals', 'Biomarkers', 'Cell Differentiation', 'Cluster Analysis', 'Encephalomyelitis, Autoimmune, Experimental', 'Gene Expression Profiling', 'Gene Expression Regulation', 'Immunophenotyping', 'Lymph Nodes', 'Mice', 'Mice, Knockout', 'Mutation', 'Nuclear Receptor Subfamily 1, Group F, Member 3', \"\"Peyer's Patches\"\", 'T-Lymphocyte Subsets', 'Th17 Cells', 'Thymocytes', 'Ubiquitination']\"\t10.1038/ni.3832\t\r\n"
     ]
    }
   ],
   "source": [
    "!head output/{op.splitext(INPUT_FILE_NAME)[0]}.tsv -n 2"
   ]
  },
  {
   "cell_type": "markdown",
   "metadata": {},
   "source": [
    "# Download articles"
   ]
  },
  {
   "cell_type": "code",
   "execution_count": 45,
   "metadata": {
    "collapsed": true
   },
   "outputs": [],
   "source": [
    "from selenium import webdriver\n",
    "\n",
    "\n",
    "def download_pdf(doi, download_folder):\n",
    "    url = _get_scihub_url(doi)\n",
    "    options = webdriver.ChromeOptions()\n",
    "    profile = {\n",
    "        \"plugins.plugins_list\": [{\"enabled\": False, \"name\": \"Chrome PDF Viewer\"}],\n",
    "        \"download.default_directory\": download_folder,\n",
    "        \"download.extensions_to_open\": \"\"\n",
    "    }\n",
    "    options.add_experimental_option(\"prefs\", profile)\n",
    "    driver = webdriver.Chrome(chrome_options=options)\n",
    "#     driver = webdriver.Firefox()\n",
    "    driver.get(url)\n",
    "    try:\n",
    "        filename = url.split(\"/\")[4].split(\".cfm\")[0]\n",
    "    except IndexError as e:\n",
    "        print(e)\n",
    "        filename = url\n",
    "    print(filename)\n",
    "    time.sleep(10)\n",
    "    driver.close()"
   ]
  },
  {
   "cell_type": "code",
   "execution_count": 46,
   "metadata": {},
   "outputs": [
    {
     "name": "stdout",
     "output_type": "stream",
     "text": [
      "kim2016.pdf\n"
     ]
    },
    {
     "name": "stderr",
     "output_type": "stream",
     "text": [
      "/home/kimlab1/strokach/anaconda3/lib/python3.6/site-packages/requests/packages/urllib3/connectionpool.py:852: InsecureRequestWarning: Unverified HTTPS request is being made. Adding certificate verification is strongly advised. See: https://urllib3.readthedocs.io/en/latest/advanced-usage.html#ssl-warnings\n",
      "  InsecureRequestWarning)\n"
     ]
    },
    {
     "name": "stdout",
     "output_type": "stream",
     "text": [
      "list index out of range\n",
      "http://www.googletagmanager.com/ns.html?id=GTM-TP26BH\n"
     ]
    },
    {
     "name": "stderr",
     "output_type": "stream",
     "text": [
      "/home/kimlab1/strokach/anaconda3/lib/python3.6/site-packages/requests/packages/urllib3/connectionpool.py:852: InsecureRequestWarning: Unverified HTTPS request is being made. Adding certificate verification is strongly advised. See: https://urllib3.readthedocs.io/en/latest/advanced-usage.html#ssl-warnings\n",
      "  InsecureRequestWarning)\n"
     ]
    },
    {
     "name": "stdout",
     "output_type": "stream",
     "text": [
      "list index out of range\n",
      "http://www.googletagmanager.com/ns.html?id=GTM-TP26BH\n",
      "renaud2016.pdf\n",
      "schaefer2016.pdf\n",
      "sujjitjoon2016.pdf\n",
      "claisse2016.pdf\n",
      "kono2016.pdf\n",
      "abe2016.pdf\n",
      "hamasy2016.pdf\n",
      "fajardo2016.pdf\n",
      "wang2016.pdf\n",
      "choi2016.pdf\n",
      "murayama2015.pdf\n"
     ]
    },
    {
     "name": "stderr",
     "output_type": "stream",
     "text": [
      "/home/kimlab1/strokach/anaconda3/lib/python3.6/site-packages/requests/packages/urllib3/connectionpool.py:852: InsecureRequestWarning: Unverified HTTPS request is being made. Adding certificate verification is strongly advised. See: https://urllib3.readthedocs.io/en/latest/advanced-usage.html#ssl-warnings\n",
      "  InsecureRequestWarning)\n"
     ]
    },
    {
     "ename": "WebDriverException",
     "evalue": "Message: unknown error: 'url' must be a string\n  (Session info: chrome=61.0.3163.100)\n  (Driver info: chromedriver=2.33.506092 (733a02544d189eeb751fe0d7ddca79a0ee28cce4),platform=Linux 4.4.0-96-generic x86_64)\n",
     "output_type": "error",
     "traceback": [
      "\u001b[0;31m---------------------------------------------------------------------------\u001b[0m",
      "\u001b[0;31mWebDriverException\u001b[0m                        Traceback (most recent call last)",
      "\u001b[0;32m<ipython-input-46-4a8117df96e0>\u001b[0m in \u001b[0;36m<module>\u001b[0;34m()\u001b[0m\n\u001b[1;32m      1\u001b[0m \u001b[0mdownload_results\u001b[0m \u001b[0;34m=\u001b[0m \u001b[0;34m[\u001b[0m\u001b[0;34m]\u001b[0m\u001b[0;34m\u001b[0m\u001b[0m\n\u001b[1;32m      2\u001b[0m \u001b[0;32mfor\u001b[0m \u001b[0mdoi\u001b[0m \u001b[0;32min\u001b[0m \u001b[0moutput_df\u001b[0m\u001b[0;34m[\u001b[0m\u001b[0;34m'doi'\u001b[0m\u001b[0;34m]\u001b[0m\u001b[0;34m.\u001b[0m\u001b[0mvalues\u001b[0m\u001b[0;34m[\u001b[0m\u001b[0;36m100\u001b[0m\u001b[0;34m:\u001b[0m\u001b[0;36m120\u001b[0m\u001b[0;34m]\u001b[0m\u001b[0;34m:\u001b[0m\u001b[0;34m\u001b[0m\u001b[0m\n\u001b[0;32m----> 3\u001b[0;31m     \u001b[0mdownload_results\u001b[0m\u001b[0;34m.\u001b[0m\u001b[0mappend\u001b[0m\u001b[0;34m(\u001b[0m\u001b[0mdownload_pdf\u001b[0m\u001b[0;34m(\u001b[0m\u001b[0mdoi\u001b[0m\u001b[0;34m,\u001b[0m \u001b[0mOUTPUT_DIR\u001b[0m\u001b[0;34m)\u001b[0m\u001b[0;34m)\u001b[0m\u001b[0;34m\u001b[0m\u001b[0m\n\u001b[0m\u001b[1;32m      4\u001b[0m     \u001b[0mtime\u001b[0m\u001b[0;34m.\u001b[0m\u001b[0msleep\u001b[0m\u001b[0;34m(\u001b[0m\u001b[0;36m0.1\u001b[0m\u001b[0;34m)\u001b[0m\u001b[0;34m\u001b[0m\u001b[0m\n",
      "\u001b[0;32m<ipython-input-45-ed4eef3dfe8c>\u001b[0m in \u001b[0;36mdownload_pdf\u001b[0;34m(doi, download_folder)\u001b[0m\n\u001b[1;32m     13\u001b[0m     \u001b[0mdriver\u001b[0m \u001b[0;34m=\u001b[0m \u001b[0mwebdriver\u001b[0m\u001b[0;34m.\u001b[0m\u001b[0mChrome\u001b[0m\u001b[0;34m(\u001b[0m\u001b[0mchrome_options\u001b[0m\u001b[0;34m=\u001b[0m\u001b[0moptions\u001b[0m\u001b[0;34m)\u001b[0m\u001b[0;34m\u001b[0m\u001b[0m\n\u001b[1;32m     14\u001b[0m \u001b[0;31m#     driver = webdriver.Firefox()\u001b[0m\u001b[0;34m\u001b[0m\u001b[0;34m\u001b[0m\u001b[0m\n\u001b[0;32m---> 15\u001b[0;31m     \u001b[0mdriver\u001b[0m\u001b[0;34m.\u001b[0m\u001b[0mget\u001b[0m\u001b[0;34m(\u001b[0m\u001b[0murl\u001b[0m\u001b[0;34m)\u001b[0m\u001b[0;34m\u001b[0m\u001b[0m\n\u001b[0m\u001b[1;32m     16\u001b[0m     \u001b[0;32mtry\u001b[0m\u001b[0;34m:\u001b[0m\u001b[0;34m\u001b[0m\u001b[0m\n\u001b[1;32m     17\u001b[0m         \u001b[0mfilename\u001b[0m \u001b[0;34m=\u001b[0m \u001b[0murl\u001b[0m\u001b[0;34m.\u001b[0m\u001b[0msplit\u001b[0m\u001b[0;34m(\u001b[0m\u001b[0;34m\"/\"\u001b[0m\u001b[0;34m)\u001b[0m\u001b[0;34m[\u001b[0m\u001b[0;36m4\u001b[0m\u001b[0;34m]\u001b[0m\u001b[0;34m.\u001b[0m\u001b[0msplit\u001b[0m\u001b[0;34m(\u001b[0m\u001b[0;34m\".cfm\"\u001b[0m\u001b[0;34m)\u001b[0m\u001b[0;34m[\u001b[0m\u001b[0;36m0\u001b[0m\u001b[0;34m]\u001b[0m\u001b[0;34m\u001b[0m\u001b[0m\n",
      "\u001b[0;32m~/anaconda3/lib/python3.6/site-packages/selenium/webdriver/remote/webdriver.py\u001b[0m in \u001b[0;36mget\u001b[0;34m(self, url)\u001b[0m\n\u001b[1;32m    318\u001b[0m         \u001b[0mLoads\u001b[0m \u001b[0ma\u001b[0m \u001b[0mweb\u001b[0m \u001b[0mpage\u001b[0m \u001b[0;32min\u001b[0m \u001b[0mthe\u001b[0m \u001b[0mcurrent\u001b[0m \u001b[0mbrowser\u001b[0m \u001b[0msession\u001b[0m\u001b[0;34m.\u001b[0m\u001b[0;34m\u001b[0m\u001b[0m\n\u001b[1;32m    319\u001b[0m         \"\"\"\n\u001b[0;32m--> 320\u001b[0;31m         \u001b[0mself\u001b[0m\u001b[0;34m.\u001b[0m\u001b[0mexecute\u001b[0m\u001b[0;34m(\u001b[0m\u001b[0mCommand\u001b[0m\u001b[0;34m.\u001b[0m\u001b[0mGET\u001b[0m\u001b[0;34m,\u001b[0m \u001b[0;34m{\u001b[0m\u001b[0;34m'url'\u001b[0m\u001b[0;34m:\u001b[0m \u001b[0murl\u001b[0m\u001b[0;34m}\u001b[0m\u001b[0;34m)\u001b[0m\u001b[0;34m\u001b[0m\u001b[0m\n\u001b[0m\u001b[1;32m    321\u001b[0m \u001b[0;34m\u001b[0m\u001b[0m\n\u001b[1;32m    322\u001b[0m     \u001b[0;34m@\u001b[0m\u001b[0mproperty\u001b[0m\u001b[0;34m\u001b[0m\u001b[0m\n",
      "\u001b[0;32m~/anaconda3/lib/python3.6/site-packages/selenium/webdriver/remote/webdriver.py\u001b[0m in \u001b[0;36mexecute\u001b[0;34m(self, driver_command, params)\u001b[0m\n\u001b[1;32m    306\u001b[0m         \u001b[0mresponse\u001b[0m \u001b[0;34m=\u001b[0m \u001b[0mself\u001b[0m\u001b[0;34m.\u001b[0m\u001b[0mcommand_executor\u001b[0m\u001b[0;34m.\u001b[0m\u001b[0mexecute\u001b[0m\u001b[0;34m(\u001b[0m\u001b[0mdriver_command\u001b[0m\u001b[0;34m,\u001b[0m \u001b[0mparams\u001b[0m\u001b[0;34m)\u001b[0m\u001b[0;34m\u001b[0m\u001b[0m\n\u001b[1;32m    307\u001b[0m         \u001b[0;32mif\u001b[0m \u001b[0mresponse\u001b[0m\u001b[0;34m:\u001b[0m\u001b[0;34m\u001b[0m\u001b[0m\n\u001b[0;32m--> 308\u001b[0;31m             \u001b[0mself\u001b[0m\u001b[0;34m.\u001b[0m\u001b[0merror_handler\u001b[0m\u001b[0;34m.\u001b[0m\u001b[0mcheck_response\u001b[0m\u001b[0;34m(\u001b[0m\u001b[0mresponse\u001b[0m\u001b[0;34m)\u001b[0m\u001b[0;34m\u001b[0m\u001b[0m\n\u001b[0m\u001b[1;32m    309\u001b[0m             response['value'] = self._unwrap_value(\n\u001b[1;32m    310\u001b[0m                 response.get('value', None))\n",
      "\u001b[0;32m~/anaconda3/lib/python3.6/site-packages/selenium/webdriver/remote/errorhandler.py\u001b[0m in \u001b[0;36mcheck_response\u001b[0;34m(self, response)\u001b[0m\n\u001b[1;32m    192\u001b[0m         \u001b[0;32melif\u001b[0m \u001b[0mexception_class\u001b[0m \u001b[0;34m==\u001b[0m \u001b[0mUnexpectedAlertPresentException\u001b[0m \u001b[0;32mand\u001b[0m \u001b[0;34m'alert'\u001b[0m \u001b[0;32min\u001b[0m \u001b[0mvalue\u001b[0m\u001b[0;34m:\u001b[0m\u001b[0;34m\u001b[0m\u001b[0m\n\u001b[1;32m    193\u001b[0m             \u001b[0;32mraise\u001b[0m \u001b[0mexception_class\u001b[0m\u001b[0;34m(\u001b[0m\u001b[0mmessage\u001b[0m\u001b[0;34m,\u001b[0m \u001b[0mscreen\u001b[0m\u001b[0;34m,\u001b[0m \u001b[0mstacktrace\u001b[0m\u001b[0;34m,\u001b[0m \u001b[0mvalue\u001b[0m\u001b[0;34m[\u001b[0m\u001b[0;34m'alert'\u001b[0m\u001b[0;34m]\u001b[0m\u001b[0;34m.\u001b[0m\u001b[0mget\u001b[0m\u001b[0;34m(\u001b[0m\u001b[0;34m'text'\u001b[0m\u001b[0;34m)\u001b[0m\u001b[0;34m)\u001b[0m\u001b[0;34m\u001b[0m\u001b[0m\n\u001b[0;32m--> 194\u001b[0;31m         \u001b[0;32mraise\u001b[0m \u001b[0mexception_class\u001b[0m\u001b[0;34m(\u001b[0m\u001b[0mmessage\u001b[0m\u001b[0;34m,\u001b[0m \u001b[0mscreen\u001b[0m\u001b[0;34m,\u001b[0m \u001b[0mstacktrace\u001b[0m\u001b[0;34m)\u001b[0m\u001b[0;34m\u001b[0m\u001b[0m\n\u001b[0m\u001b[1;32m    195\u001b[0m \u001b[0;34m\u001b[0m\u001b[0m\n\u001b[1;32m    196\u001b[0m     \u001b[0;32mdef\u001b[0m \u001b[0m_value_or_default\u001b[0m\u001b[0;34m(\u001b[0m\u001b[0mself\u001b[0m\u001b[0;34m,\u001b[0m \u001b[0mobj\u001b[0m\u001b[0;34m,\u001b[0m \u001b[0mkey\u001b[0m\u001b[0;34m,\u001b[0m \u001b[0mdefault\u001b[0m\u001b[0;34m)\u001b[0m\u001b[0;34m:\u001b[0m\u001b[0;34m\u001b[0m\u001b[0m\n",
      "\u001b[0;31mWebDriverException\u001b[0m: Message: unknown error: 'url' must be a string\n  (Session info: chrome=61.0.3163.100)\n  (Driver info: chromedriver=2.33.506092 (733a02544d189eeb751fe0d7ddca79a0ee28cce4),platform=Linux 4.4.0-96-generic x86_64)\n"
     ]
    }
   ],
   "source": [
    "download_results = []\n",
    "for doi in output_df['doi'].values[100:120]:\n",
    "    download_results.append(download_pdf(doi, OUTPUT_DIR))\n",
    "    time.sleep(0.1)"
   ]
  },
  {
   "cell_type": "code",
   "execution_count": 47,
   "metadata": {},
   "outputs": [
    {
     "data": {
      "text/plain": [
       "array(['10.1016/j.ijbiomac.2016.06.091', '10.1371/journal.pone.0158579',\n",
       "       '10.1371/journal.pcbi.1004771', '10.1038/bjc.2016.182',\n",
       "       '10.1002/pro.2888', '10.1038/jhg.2016.80',\n",
       "       '10.1016/j.ibmb.2016.06.003', '10.1093/molbev/msw102',\n",
       "       '10.1002/pro.2966', '10.1038/leu.2016.153'], dtype=object)"
      ]
     },
     "execution_count": 47,
     "metadata": {},
     "output_type": "execute_result"
    }
   ],
   "source": [
    "output_df['doi'].values[100:110]"
   ]
  }
 ],
 "metadata": {
  "kernelspec": {
   "display_name": "Python 3",
   "language": "python",
   "name": "python3"
  },
  "language_info": {
   "codemirror_mode": {
    "name": "ipython",
    "version": 3
   },
   "file_extension": ".py",
   "mimetype": "text/x-python",
   "name": "python",
   "nbconvert_exporter": "python",
   "pygments_lexer": "ipython3",
   "version": "3.6.2"
  },
  "toc": {
   "colors": {
    "hover_highlight": "#DAA520",
    "navigate_num": "#000000",
    "navigate_text": "#333333",
    "running_highlight": "#FF0000",
    "selected_highlight": "#FFD700",
    "sidebar_border": "#EEEEEE",
    "wrapper_background": "#FFFFFF"
   },
   "moveMenuLeft": true,
   "navigate_menu": false,
   "number_sections": false,
   "sideBar": false,
   "threshold": 4,
   "toc_cell": false,
   "toc_position": {
    "height": "187px",
    "left": "1694.6px",
    "right": "20px",
    "top": "117.986px",
    "width": "354px"
   },
   "toc_section_display": "block",
   "toc_window_display": true,
   "widenNotebook": false
  }
 },
 "nbformat": 4,
 "nbformat_minor": 2
}
